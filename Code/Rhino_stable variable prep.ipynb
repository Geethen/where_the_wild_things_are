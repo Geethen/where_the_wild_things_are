{
 "cells": [
  {
   "cell_type": "markdown",
   "source": "## Steps for processing",
   "metadata": {
    "cell_id": "00000-2c1cc650-4869-40f8-aca5-56694f37c0bd",
    "deepnote_cell_type": "markdown"
   }
  },
  {
   "cell_type": "markdown",
   "source": "### Import packages used in analysis",
   "metadata": {
    "cell_id": "00001-eb1cbfda-ad2f-414b-a7fa-ef832b2c576d",
    "deepnote_cell_type": "markdown"
   }
  },
  {
   "cell_type": "code",
   "metadata": {
    "tags": [],
    "cell_id": "00002-1148fc3d-9956-45e3-af8e-e92301e56d64",
    "deepnote_to_be_reexecuted": false,
    "source_hash": "e867825b",
    "execution_start": 1624465685392,
    "execution_millis": 8754,
    "deepnote_cell_type": "code"
   },
   "source": "!pip install geopandas\n!pip install geemap",
   "outputs": [
    {
     "name": "stdout",
     "text": "Requirement already satisfied: geopandas in /root/venv/lib/python3.7/site-packages (0.9.0)\nRequirement already satisfied: shapely>=1.6 in /root/venv/lib/python3.7/site-packages (from geopandas) (1.7.1)\nRequirement already satisfied: pyproj>=2.2.0 in /root/venv/lib/python3.7/site-packages (from geopandas) (3.1.0)\nRequirement already satisfied: fiona>=1.8 in /shared-libs/python3.7/py/lib/python3.7/site-packages (from geopandas) (1.8.20)\nRequirement already satisfied: pandas>=0.24.0 in /shared-libs/python3.7/py/lib/python3.7/site-packages (from geopandas) (1.2.4)\nRequirement already satisfied: attrs>=17 in /shared-libs/python3.7/py-core/lib/python3.7/site-packages (from fiona>=1.8->geopandas) (21.2.0)\nRequirement already satisfied: click-plugins>=1.0 in /shared-libs/python3.7/py/lib/python3.7/site-packages (from fiona>=1.8->geopandas) (1.1.1)\nRequirement already satisfied: munch in /shared-libs/python3.7/py/lib/python3.7/site-packages (from fiona>=1.8->geopandas) (2.5.0)\nRequirement already satisfied: setuptools in /root/venv/lib/python3.7/site-packages (from fiona>=1.8->geopandas) (57.0.0)\nRequirement already satisfied: six>=1.7 in /shared-libs/python3.7/py-core/lib/python3.7/site-packages (from fiona>=1.8->geopandas) (1.16.0)\nRequirement already satisfied: certifi in /shared-libs/python3.7/py/lib/python3.7/site-packages (from fiona>=1.8->geopandas) (2020.12.5)\nRequirement already satisfied: click>=4.0 in /shared-libs/python3.7/py/lib/python3.7/site-packages (from fiona>=1.8->geopandas) (7.1.2)\nRequirement already satisfied: cligj>=0.5 in /shared-libs/python3.7/py/lib/python3.7/site-packages (from fiona>=1.8->geopandas) (0.7.2)\nRequirement already satisfied: pytz>=2017.3 in /shared-libs/python3.7/py/lib/python3.7/site-packages (from pandas>=0.24.0->geopandas) (2021.1)\nRequirement already satisfied: python-dateutil>=2.7.3 in /shared-libs/python3.7/py-core/lib/python3.7/site-packages (from pandas>=0.24.0->geopandas) (2.8.1)\nRequirement already satisfied: numpy>=1.16.5 in /shared-libs/python3.7/py/lib/python3.7/site-packages (from pandas>=0.24.0->geopandas) (1.19.5)\nRequirement already satisfied: geemap in /root/venv/lib/python3.7/site-packages (0.8.17)\nRequirement already satisfied: matplotlib in /shared-libs/python3.7/py/lib/python3.7/site-packages (from geemap) (3.4.2)\nRequirement already satisfied: geocoder in /root/venv/lib/python3.7/site-packages (from geemap) (1.38.1)\nRequirement already satisfied: whiteboxgui in /root/venv/lib/python3.7/site-packages (from geemap) (0.3.0)\nRequirement already satisfied: googledrivedownloader in /root/venv/lib/python3.7/site-packages (from geemap) (0.4)\nRequirement already satisfied: sankee in /root/venv/lib/python3.7/site-packages (from geemap) (0.0.5)\nRequirement already satisfied: ipyevents in /root/venv/lib/python3.7/site-packages (from geemap) (0.8.2)\nRequirement already satisfied: ipytree in /root/venv/lib/python3.7/site-packages (from geemap) (0.2.1)\nRequirement already satisfied: click in /shared-libs/python3.7/py/lib/python3.7/site-packages (from geemap) (7.1.2)\nRequirement already satisfied: colour in /root/venv/lib/python3.7/site-packages (from geemap) (0.1.5)\nRequirement already satisfied: ipynb-py-convert in /root/venv/lib/python3.7/site-packages (from geemap) (0.4.6)\nRequirement already satisfied: geeadd>=0.5.1 in /root/venv/lib/python3.7/site-packages (from geemap) (0.5.5)\nRequirement already satisfied: ffmpeg-python in /root/venv/lib/python3.7/site-packages (from geemap) (0.2.0)\nRequirement already satisfied: earthengine-api>=0.1.230 in /root/venv/lib/python3.7/site-packages (from geemap) (0.1.270)\nRequirement already satisfied: pandas in /shared-libs/python3.7/py/lib/python3.7/site-packages (from geemap) (1.2.4)\nRequirement already satisfied: folium>=0.11.0 in /shared-libs/python3.7/py/lib/python3.7/site-packages (from geemap) (0.12.1)\nRequirement already satisfied: pillow in /shared-libs/python3.7/py/lib/python3.7/site-packages (from geemap) (8.2.0)\nRequirement already satisfied: pycrs in /root/venv/lib/python3.7/site-packages (from geemap) (1.0.2)\nRequirement already satisfied: bqplot in /root/venv/lib/python3.7/site-packages (from geemap) (0.12.29)\nRequirement already satisfied: pyshp>=2.1.3 in /root/venv/lib/python3.7/site-packages (from geemap) (2.1.3)\nRequirement already satisfied: ipyfilechooser in /root/venv/lib/python3.7/site-packages (from geemap) (0.4.4)\nRequirement already satisfied: python-box in /root/venv/lib/python3.7/site-packages (from geemap) (5.3.0)\nRequirement already satisfied: voila in /root/venv/lib/python3.7/site-packages (from geemap) (0.2.10)\nRequirement already satisfied: mss in /root/venv/lib/python3.7/site-packages (from geemap) (6.1.0)\nRequirement already satisfied: numpy in /shared-libs/python3.7/py/lib/python3.7/site-packages (from geemap) (1.19.5)\nRequirement already satisfied: ipyleaflet>=0.14.0 in /root/venv/lib/python3.7/site-packages (from geemap) (0.14.0)\nRequirement already satisfied: google-auth-httplib2>=0.0.3 in /root/venv/lib/python3.7/site-packages (from earthengine-api>=0.1.230->geemap) (0.1.0)\nRequirement already satisfied: httplib2<1dev,>=0.9.2 in /root/venv/lib/python3.7/site-packages (from earthengine-api>=0.1.230->geemap) (0.19.1)\nRequirement already satisfied: six in /shared-libs/python3.7/py-core/lib/python3.7/site-packages (from earthengine-api>=0.1.230->geemap) (1.16.0)\nRequirement already satisfied: google-api-python-client<2,>=1.12.1 in /root/venv/lib/python3.7/site-packages (from earthengine-api>=0.1.230->geemap) (1.12.8)\nRequirement already satisfied: google-auth>=1.4.1 in /shared-libs/python3.7/py/lib/python3.7/site-packages (from earthengine-api>=0.1.230->geemap) (1.31.0)\nRequirement already satisfied: httplib2shim in /root/venv/lib/python3.7/site-packages (from earthengine-api>=0.1.230->geemap) (0.0.3)\nRequirement already satisfied: future in /shared-libs/python3.7/py/lib/python3.7/site-packages (from earthengine-api>=0.1.230->geemap) (0.18.2)\nRequirement already satisfied: google-cloud-storage in /root/venv/lib/python3.7/site-packages (from earthengine-api>=0.1.230->geemap) (1.39.0)\nRequirement already satisfied: requests in /shared-libs/python3.7/py/lib/python3.7/site-packages (from folium>=0.11.0->geemap) (2.25.1)\nRequirement already satisfied: branca>=0.3.0 in /shared-libs/python3.7/py/lib/python3.7/site-packages (from folium>=0.11.0->geemap) (0.4.2)\nRequirement already satisfied: jinja2>=2.9 in /shared-libs/python3.7/py-core/lib/python3.7/site-packages (from folium>=0.11.0->geemap) (3.0.1)\nRequirement already satisfied: logzero>=1.5.0 in /root/venv/lib/python3.7/site-packages (from geeadd>=0.5.1->geemap) (1.7.0)\nRequirement already satisfied: beautifulsoup4>=4.9.0 in /root/venv/lib/python3.7/site-packages (from geeadd>=0.5.1->geemap) (4.9.3)\nRequirement already satisfied: soupsieve>1.2 in /root/venv/lib/python3.7/site-packages (from beautifulsoup4>=4.9.0->geeadd>=0.5.1->geemap) (2.2.1)\nRequirement already satisfied: uritemplate<4dev,>=3.0.0 in /root/venv/lib/python3.7/site-packages (from google-api-python-client<2,>=1.12.1->earthengine-api>=0.1.230->geemap) (3.0.1)\nRequirement already satisfied: google-api-core<2dev,>=1.21.0 in /shared-libs/python3.7/py/lib/python3.7/site-packages (from google-api-python-client<2,>=1.12.1->earthengine-api>=0.1.230->geemap) (1.30.0)\nRequirement already satisfied: googleapis-common-protos<2.0dev,>=1.6.0 in /shared-libs/python3.7/py/lib/python3.7/site-packages (from google-api-core<2dev,>=1.21.0->google-api-python-client<2,>=1.12.1->earthengine-api>=0.1.230->geemap) (1.53.0)\nRequirement already satisfied: protobuf>=3.12.0 in /shared-libs/python3.7/py/lib/python3.7/site-packages (from google-api-core<2dev,>=1.21.0->google-api-python-client<2,>=1.12.1->earthengine-api>=0.1.230->geemap) (3.17.3)\nRequirement already satisfied: packaging>=14.3 in /shared-libs/python3.7/py-core/lib/python3.7/site-packages (from google-api-core<2dev,>=1.21.0->google-api-python-client<2,>=1.12.1->earthengine-api>=0.1.230->geemap) (20.9)\nRequirement already satisfied: setuptools>=40.3.0 in /root/venv/lib/python3.7/site-packages (from google-api-core<2dev,>=1.21.0->google-api-python-client<2,>=1.12.1->earthengine-api>=0.1.230->geemap) (57.0.0)\nRequirement already satisfied: pytz in /shared-libs/python3.7/py/lib/python3.7/site-packages (from google-api-core<2dev,>=1.21.0->google-api-python-client<2,>=1.12.1->earthengine-api>=0.1.230->geemap) (2021.1)\nRequirement already satisfied: cachetools<5.0,>=2.0.0 in /shared-libs/python3.7/py/lib/python3.7/site-packages (from google-auth>=1.4.1->earthengine-api>=0.1.230->geemap) (4.2.2)\nRequirement already satisfied: rsa<5,>=3.1.4 in /shared-libs/python3.7/py/lib/python3.7/site-packages (from google-auth>=1.4.1->earthengine-api>=0.1.230->geemap) (4.7.2)\nRequirement already satisfied: pyasn1-modules>=0.2.1 in /shared-libs/python3.7/py/lib/python3.7/site-packages (from google-auth>=1.4.1->earthengine-api>=0.1.230->geemap) (0.2.8)\nRequirement already satisfied: pyparsing<3,>=2.4.2 in /shared-libs/python3.7/py-core/lib/python3.7/site-packages (from httplib2<1dev,>=0.9.2->earthengine-api>=0.1.230->geemap) (2.4.7)\nRequirement already satisfied: ipywidgets<8,>=7.6.0 in /root/venv/lib/python3.7/site-packages (from ipyleaflet>=0.14.0->geemap) (7.6.3)\nRequirement already satisfied: traittypes<3,>=0.2.1 in /root/venv/lib/python3.7/site-packages (from ipyleaflet>=0.14.0->geemap) (0.2.1)\nRequirement already satisfied: jupyterlab-widgets>=1.0.0 in /root/venv/lib/python3.7/site-packages (from ipywidgets<8,>=7.6.0->ipyleaflet>=0.14.0->geemap) (1.0.0)\nRequirement already satisfied: traitlets>=4.3.1 in /shared-libs/python3.7/py-core/lib/python3.7/site-packages (from ipywidgets<8,>=7.6.0->ipyleaflet>=0.14.0->geemap) (5.0.5)\nRequirement already satisfied: widgetsnbextension~=3.5.0 in /root/venv/lib/python3.7/site-packages (from ipywidgets<8,>=7.6.0->ipyleaflet>=0.14.0->geemap) (3.5.1)\nRequirement already satisfied: ipykernel>=4.5.1 in /shared-libs/python3.7/py-core/lib/python3.7/site-packages (from ipywidgets<8,>=7.6.0->ipyleaflet>=0.14.0->geemap) (5.5.5)\nRequirement already satisfied: ipython>=4.0.0 in /shared-libs/python3.7/py-core/lib/python3.7/site-packages (from ipywidgets<8,>=7.6.0->ipyleaflet>=0.14.0->geemap) (7.24.1)\nRequirement already satisfied: nbformat>=4.2.0 in /shared-libs/python3.7/py-core/lib/python3.7/site-packages (from ipywidgets<8,>=7.6.0->ipyleaflet>=0.14.0->geemap) (5.1.3)\nRequirement already satisfied: jupyter-client in /shared-libs/python3.7/py-core/lib/python3.7/site-packages (from ipykernel>=4.5.1->ipywidgets<8,>=7.6.0->ipyleaflet>=0.14.0->geemap) (6.1.12)\nRequirement already satisfied: tornado>=4.2 in /shared-libs/python3.7/py-core/lib/python3.7/site-packages (from ipykernel>=4.5.1->ipywidgets<8,>=7.6.0->ipyleaflet>=0.14.0->geemap) (6.1)\nRequirement already satisfied: prompt-toolkit!=3.0.0,!=3.0.1,<3.1.0,>=2.0.0 in /shared-libs/python3.7/py-core/lib/python3.7/site-packages (from ipython>=4.0.0->ipywidgets<8,>=7.6.0->ipyleaflet>=0.14.0->geemap) (3.0.18)\nRequirement already satisfied: matplotlib-inline in /shared-libs/python3.7/py-core/lib/python3.7/site-packages (from ipython>=4.0.0->ipywidgets<8,>=7.6.0->ipyleaflet>=0.14.0->geemap) (0.1.2)\nRequirement already satisfied: jedi>=0.16 in /shared-libs/python3.7/py-core/lib/python3.7/site-packages (from ipython>=4.0.0->ipywidgets<8,>=7.6.0->ipyleaflet>=0.14.0->geemap) (0.17.2)\nRequirement already satisfied: pickleshare in /shared-libs/python3.7/py-core/lib/python3.7/site-packages (from ipython>=4.0.0->ipywidgets<8,>=7.6.0->ipyleaflet>=0.14.0->geemap) (0.7.5)\nRequirement already satisfied: pygments in /shared-libs/python3.7/py-core/lib/python3.7/site-packages (from ipython>=4.0.0->ipywidgets<8,>=7.6.0->ipyleaflet>=0.14.0->geemap) (2.9.0)\nRequirement already satisfied: pexpect>4.3 in /shared-libs/python3.7/py-core/lib/python3.7/site-packages (from ipython>=4.0.0->ipywidgets<8,>=7.6.0->ipyleaflet>=0.14.0->geemap) (4.8.0)\nRequirement already satisfied: backcall in /shared-libs/python3.7/py-core/lib/python3.7/site-packages (from ipython>=4.0.0->ipywidgets<8,>=7.6.0->ipyleaflet>=0.14.0->geemap) (0.2.0)\nRequirement already satisfied: decorator in /shared-libs/python3.7/py-core/lib/python3.7/site-packages (from ipython>=4.0.0->ipywidgets<8,>=7.6.0->ipyleaflet>=0.14.0->geemap) (5.0.9)\nRequirement already satisfied: parso<0.8.0,>=0.7.0 in /shared-libs/python3.7/py-core/lib/python3.7/site-packages (from jedi>=0.16->ipython>=4.0.0->ipywidgets<8,>=7.6.0->ipyleaflet>=0.14.0->geemap) (0.7.1)\nRequirement already satisfied: MarkupSafe>=2.0 in /shared-libs/python3.7/py-core/lib/python3.7/site-packages (from jinja2>=2.9->folium>=0.11.0->geemap) (2.0.1)\nRequirement already satisfied: ipython-genutils in /shared-libs/python3.7/py-core/lib/python3.7/site-packages (from nbformat>=4.2.0->ipywidgets<8,>=7.6.0->ipyleaflet>=0.14.0->geemap) (0.2.0)\nRequirement already satisfied: jupyter-core in /shared-libs/python3.7/py-core/lib/python3.7/site-packages (from nbformat>=4.2.0->ipywidgets<8,>=7.6.0->ipyleaflet>=0.14.0->geemap) (4.7.1)\nRequirement already satisfied: jsonschema!=2.5.0,>=2.4 in /shared-libs/python3.7/py-core/lib/python3.7/site-packages (from nbformat>=4.2.0->ipywidgets<8,>=7.6.0->ipyleaflet>=0.14.0->geemap) (3.2.0)\nRequirement already satisfied: attrs>=17.4.0 in /shared-libs/python3.7/py-core/lib/python3.7/site-packages (from jsonschema!=2.5.0,>=2.4->nbformat>=4.2.0->ipywidgets<8,>=7.6.0->ipyleaflet>=0.14.0->geemap) (21.2.0)\nRequirement already satisfied: pyrsistent>=0.14.0 in /shared-libs/python3.7/py-core/lib/python3.7/site-packages (from jsonschema!=2.5.0,>=2.4->nbformat>=4.2.0->ipywidgets<8,>=7.6.0->ipyleaflet>=0.14.0->geemap) (0.17.3)\nRequirement already satisfied: importlib-metadata in /shared-libs/python3.7/py-core/lib/python3.7/site-packages (from jsonschema!=2.5.0,>=2.4->nbformat>=4.2.0->ipywidgets<8,>=7.6.0->ipyleaflet>=0.14.0->geemap) (4.5.0)\nRequirement already satisfied: ptyprocess>=0.5 in /shared-libs/python3.7/py-core/lib/python3.7/site-packages (from pexpect>4.3->ipython>=4.0.0->ipywidgets<8,>=7.6.0->ipyleaflet>=0.14.0->geemap) (0.7.0)\nRequirement already satisfied: wcwidth in /shared-libs/python3.7/py-core/lib/python3.7/site-packages (from prompt-toolkit!=3.0.0,!=3.0.1,<3.1.0,>=2.0.0->ipython>=4.0.0->ipywidgets<8,>=7.6.0->ipyleaflet>=0.14.0->geemap) (0.2.5)\nRequirement already satisfied: pyasn1<0.5.0,>=0.4.6 in /shared-libs/python3.7/py/lib/python3.7/site-packages (from pyasn1-modules>=0.2.1->google-auth>=1.4.1->earthengine-api>=0.1.230->geemap) (0.4.8)\nRequirement already satisfied: idna<3,>=2.5 in /shared-libs/python3.7/py/lib/python3.7/site-packages (from requests->folium>=0.11.0->geemap) (2.10)\nRequirement already satisfied: urllib3<1.27,>=1.21.1 in /shared-libs/python3.7/py/lib/python3.7/site-packages (from requests->folium>=0.11.0->geemap) (1.26.5)\nRequirement already satisfied: chardet<5,>=3.0.2 in /shared-libs/python3.7/py/lib/python3.7/site-packages (from requests->folium>=0.11.0->geemap) (3.0.4)\nRequirement already satisfied: certifi>=2017.4.17 in /shared-libs/python3.7/py/lib/python3.7/site-packages (from requests->folium>=0.11.0->geemap) (2020.12.5)\nRequirement already satisfied: notebook>=4.4.1 in /shared-libs/python3.7/py-core/lib/python3.7/site-packages (from widgetsnbextension~=3.5.0->ipywidgets<8,>=7.6.0->ipyleaflet>=0.14.0->geemap) (7.0.0.dev0)\nRequirement already satisfied: prometheus-client in /shared-libs/python3.7/py-core/lib/python3.7/site-packages (from notebook>=4.4.1->widgetsnbextension~=3.5.0->ipywidgets<8,>=7.6.0->ipyleaflet>=0.14.0->geemap) (0.11.0)\nRequirement already satisfied: Send2Trash>=1.5.0 in /shared-libs/python3.7/py-core/lib/python3.7/site-packages (from notebook>=4.4.1->widgetsnbextension~=3.5.0->ipywidgets<8,>=7.6.0->ipyleaflet>=0.14.0->geemap) (1.5.0)\nRequirement already satisfied: terminado>=0.8.3 in /shared-libs/python3.7/py-core/lib/python3.7/site-packages (from notebook>=4.4.1->widgetsnbextension~=3.5.0->ipywidgets<8,>=7.6.0->ipyleaflet>=0.14.0->geemap) (0.10.1)\nRequirement already satisfied: argon2-cffi in /shared-libs/python3.7/py-core/lib/python3.7/site-packages (from notebook>=4.4.1->widgetsnbextension~=3.5.0->ipywidgets<8,>=7.6.0->ipyleaflet>=0.14.0->geemap) (20.1.0)\nRequirement already satisfied: nbconvert in /shared-libs/python3.7/py-core/lib/python3.7/site-packages (from notebook>=4.4.1->widgetsnbextension~=3.5.0->ipywidgets<8,>=7.6.0->ipyleaflet>=0.14.0->geemap) (6.0.7)\nRequirement already satisfied: pyzmq>=17 in /shared-libs/python3.7/py-core/lib/python3.7/site-packages (from notebook>=4.4.1->widgetsnbextension~=3.5.0->ipywidgets<8,>=7.6.0->ipyleaflet>=0.14.0->geemap) (22.1.0)\nRequirement already satisfied: python-dateutil>=2.1 in /shared-libs/python3.7/py-core/lib/python3.7/site-packages (from jupyter-client->ipykernel>=4.5.1->ipywidgets<8,>=7.6.0->ipyleaflet>=0.14.0->geemap) (2.8.1)\nRequirement already satisfied: cffi>=1.0.0 in /shared-libs/python3.7/py-core/lib/python3.7/site-packages (from argon2-cffi->notebook>=4.4.1->widgetsnbextension~=3.5.0->ipywidgets<8,>=7.6.0->ipyleaflet>=0.14.0->geemap) (1.14.5)\nRequirement already satisfied: pycparser in /shared-libs/python3.7/py-core/lib/python3.7/site-packages (from cffi>=1.0.0->argon2-cffi->notebook>=4.4.1->widgetsnbextension~=3.5.0->ipywidgets<8,>=7.6.0->ipyleaflet>=0.14.0->geemap) (2.20)\nRequirement already satisfied: ratelim in /root/venv/lib/python3.7/site-packages (from geocoder->geemap) (0.1.6)\nRequirement already satisfied: google-cloud-core<2.0dev,>=1.4.1 in /shared-libs/python3.7/py/lib/python3.7/site-packages (from google-cloud-storage->earthengine-api>=0.1.230->geemap) (1.7.0)\nRequirement already satisfied: google-resumable-media<2.0dev,>=1.3.0 in /shared-libs/python3.7/py/lib/python3.7/site-packages (from google-cloud-storage->earthengine-api>=0.1.230->geemap) (1.3.0)\nRequirement already satisfied: google-crc32c<2.0dev,>=1.0 in /shared-libs/python3.7/py/lib/python3.7/site-packages (from google-resumable-media<2.0dev,>=1.3.0->google-cloud-storage->earthengine-api>=0.1.230->geemap) (1.1.2)\nRequirement already satisfied: typing-extensions>=3.6.4 in /shared-libs/python3.7/py-core/lib/python3.7/site-packages (from importlib-metadata->jsonschema!=2.5.0,>=2.4->nbformat>=4.2.0->ipywidgets<8,>=7.6.0->ipyleaflet>=0.14.0->geemap) (3.10.0.0)\nRequirement already satisfied: zipp>=0.5 in /shared-libs/python3.7/py-core/lib/python3.7/site-packages (from importlib-metadata->jsonschema!=2.5.0,>=2.4->nbformat>=4.2.0->ipywidgets<8,>=7.6.0->ipyleaflet>=0.14.0->geemap) (3.4.1)\nRequirement already satisfied: kiwisolver>=1.0.1 in /shared-libs/python3.7/py/lib/python3.7/site-packages (from matplotlib->geemap) (1.3.1)\nRequirement already satisfied: cycler>=0.10 in /shared-libs/python3.7/py/lib/python3.7/site-packages (from matplotlib->geemap) (0.10.0)\nRequirement already satisfied: pandocfilters>=1.4.1 in /shared-libs/python3.7/py-core/lib/python3.7/site-packages (from nbconvert->notebook>=4.4.1->widgetsnbextension~=3.5.0->ipywidgets<8,>=7.6.0->ipyleaflet>=0.14.0->geemap) (1.4.3)\nRequirement already satisfied: bleach in /shared-libs/python3.7/py-core/lib/python3.7/site-packages (from nbconvert->notebook>=4.4.1->widgetsnbextension~=3.5.0->ipywidgets<8,>=7.6.0->ipyleaflet>=0.14.0->geemap) (3.3.0)\nRequirement already satisfied: entrypoints>=0.2.2 in /shared-libs/python3.7/py-core/lib/python3.7/site-packages (from nbconvert->notebook>=4.4.1->widgetsnbextension~=3.5.0->ipywidgets<8,>=7.6.0->ipyleaflet>=0.14.0->geemap) (0.3)\nRequirement already satisfied: nbclient<0.6.0,>=0.5.0 in /shared-libs/python3.7/py-core/lib/python3.7/site-packages (from nbconvert->notebook>=4.4.1->widgetsnbextension~=3.5.0->ipywidgets<8,>=7.6.0->ipyleaflet>=0.14.0->geemap) (0.5.3)\nRequirement already satisfied: defusedxml in /shared-libs/python3.7/py-core/lib/python3.7/site-packages (from nbconvert->notebook>=4.4.1->widgetsnbextension~=3.5.0->ipywidgets<8,>=7.6.0->ipyleaflet>=0.14.0->geemap) (0.7.1)\nRequirement already satisfied: jupyterlab-pygments in /shared-libs/python3.7/py-core/lib/python3.7/site-packages (from nbconvert->notebook>=4.4.1->widgetsnbextension~=3.5.0->ipywidgets<8,>=7.6.0->ipyleaflet>=0.14.0->geemap) (0.1.2)\nRequirement already satisfied: testpath in /shared-libs/python3.7/py-core/lib/python3.7/site-packages (from nbconvert->notebook>=4.4.1->widgetsnbextension~=3.5.0->ipywidgets<8,>=7.6.0->ipyleaflet>=0.14.0->geemap) (0.5.0)\nRequirement already satisfied: mistune<2,>=0.8.1 in /shared-libs/python3.7/py-core/lib/python3.7/site-packages (from nbconvert->notebook>=4.4.1->widgetsnbextension~=3.5.0->ipywidgets<8,>=7.6.0->ipyleaflet>=0.14.0->geemap) (0.8.4)\nRequirement already satisfied: nest-asyncio in /shared-libs/python3.7/py-core/lib/python3.7/site-packages (from nbclient<0.6.0,>=0.5.0->nbconvert->notebook>=4.4.1->widgetsnbextension~=3.5.0->ipywidgets<8,>=7.6.0->ipyleaflet>=0.14.0->geemap) (1.5.1)\nRequirement already satisfied: async-generator in /shared-libs/python3.7/py-core/lib/python3.7/site-packages (from nbclient<0.6.0,>=0.5.0->nbconvert->notebook>=4.4.1->widgetsnbextension~=3.5.0->ipywidgets<8,>=7.6.0->ipyleaflet>=0.14.0->geemap) (1.10)\nRequirement already satisfied: webencodings in /shared-libs/python3.7/py-core/lib/python3.7/site-packages (from bleach->nbconvert->notebook>=4.4.1->widgetsnbextension~=3.5.0->ipywidgets<8,>=7.6.0->ipyleaflet>=0.14.0->geemap) (0.5.1)\nRequirement already satisfied: plotly in /shared-libs/python3.7/py/lib/python3.7/site-packages (from sankee->geemap) (4.14.3)\nRequirement already satisfied: retrying>=1.3.3 in /shared-libs/python3.7/py/lib/python3.7/site-packages (from plotly->sankee->geemap) (1.3.3)\nRequirement already satisfied: jupyter-server<2.0.0,>=0.3.0 in /root/venv/lib/python3.7/site-packages (from voila->geemap) (1.8.0)\nRequirement already satisfied: anyio<4,>=3.1.0 in /root/venv/lib/python3.7/site-packages (from jupyter-server<2.0.0,>=0.3.0->voila->geemap) (3.2.0)\nRequirement already satisfied: websocket-client in /root/venv/lib/python3.7/site-packages (from jupyter-server<2.0.0,>=0.3.0->voila->geemap) (1.1.0)\nRequirement already satisfied: sniffio>=1.1 in /root/venv/lib/python3.7/site-packages (from anyio<4,>=3.1.0->jupyter-server<2.0.0,>=0.3.0->voila->geemap) (1.2.0)\nRequirement already satisfied: whitebox in /root/venv/lib/python3.7/site-packages (from whiteboxgui->geemap) (1.5.1)\n",
     "output_type": "stream"
    }
   ],
   "execution_count": null
  },
  {
   "cell_type": "code",
   "metadata": {
    "cell_id": "00002-440eaedb-ff71-4944-bbca-cacf6e56ad1a",
    "deepnote_to_be_reexecuted": false,
    "source_hash": "83f0f12e",
    "execution_start": 1624465694155,
    "execution_millis": 1589,
    "deepnote_cell_type": "code"
   },
   "source": "import geopandas as gpd\nimport numpy as np\nimport pandas as pd\nimport geemap\n# geemap.update_package()\nimport ee",
   "outputs": [],
   "execution_count": null
  },
  {
   "cell_type": "code",
   "metadata": {
    "tags": [],
    "cell_id": "00004-dfaa684d-93b1-4e60-ac35-b7ac10819159",
    "deepnote_to_be_reexecuted": false,
    "source_hash": "28583446",
    "execution_start": 1624465695870,
    "execution_millis": 79445,
    "deepnote_cell_type": "code"
   },
   "source": "ee.Authenticate()\nee.Initialize()",
   "outputs": [
    {
     "data": {
      "text/plain": "<IPython.core.display.HTML object>",
      "text/html": "<p>To authorize access needed by Earth Engine, open the following\n        URL in a web browser and follow the instructions:</p>\n        <p><a href=https://accounts.google.com/o/oauth2/auth?client_id=517222506229-vsmmajv00ul0bs7p89v5m89qs8eb9359.apps.googleusercontent.com&scope=https%3A%2F%2Fwww.googleapis.com%2Fauth%2Fearthengine+https%3A%2F%2Fwww.googleapis.com%2Fauth%2Fdevstorage.full_control&redirect_uri=urn%3Aietf%3Awg%3Aoauth%3A2.0%3Aoob&response_type=code&code_challenge=XVN8QYa_5aEXnqaJueSDgCD-5l4kWBbd66WapUO-W8E&code_challenge_method=S256>https://accounts.google.com/o/oauth2/auth?client_id=517222506229-vsmmajv00ul0bs7p89v5m89qs8eb9359.apps.googleusercontent.com&scope=https%3A%2F%2Fwww.googleapis.com%2Fauth%2Fearthengine+https%3A%2F%2Fwww.googleapis.com%2Fauth%2Fdevstorage.full_control&redirect_uri=urn%3Aietf%3Awg%3Aoauth%3A2.0%3Aoob&response_type=code&code_challenge=XVN8QYa_5aEXnqaJueSDgCD-5l4kWBbd66WapUO-W8E&code_challenge_method=S256</a></p>\n        <p>The authorization workflow will generate a code, which you\n        should paste in the box below</p>\n        "
     },
     "metadata": {},
     "output_type": "display_data"
    },
    {
     "name": "stdout",
     "text": "\nSuccessfully saved authorization token.\n",
     "output_type": "stream"
    }
   ],
   "execution_count": null
  },
  {
   "cell_type": "code",
   "metadata": {
    "cell_id": "00003-6736a037-78ec-4a29-a85c-5723f5712ed3",
    "deepnote_to_be_reexecuted": true,
    "source_hash": "b294b83d",
    "execution_start": 1624465775328,
    "execution_millis": 0,
    "deepnote_cell_type": "code"
   },
   "source": "#function to plot dictionaries in python with dropdowns\nimport uuid\nfrom IPython.display import display_javascript, display_html, display\nimport json\n\nclass RenderJSON(object):\n    def __init__(self, json_data):\n        if isinstance(json_data, dict):\n            self.json_str = json.dumps(json_data)\n        else:\n            self.json_str = json\n        self.uuid = str(uuid.uuid4())\n        \n    def _ipython_display_(self):\n        display_html('<div id=\"{}\" style=\"height: 600px; width:100%;\"></div>'.format(self.uuid),\n            raw=True\n        )\n        display_javascript(\"\"\"\n        require([\"https://rawgit.com/caldwell/renderjson/master/renderjson.js\"], function() {\n          document.getElementById('%s').appendChild(renderjson(%s))\n        });\n        \"\"\" % (self.uuid, self.json_str), raw=True)",
   "outputs": [],
   "execution_count": null
  },
  {
   "cell_type": "markdown",
   "source": "### Create a map Object to visualise spatial rasters and vectors",
   "metadata": {
    "cell_id": "00004-c93e64ea-db9e-4c54-99d7-7977017cee8b",
    "deepnote_cell_type": "markdown"
   }
  },
  {
   "cell_type": "code",
   "metadata": {
    "cell_id": "00005-891cda24-0b7a-4c25-97e6-2fdc8e0e03ab",
    "deepnote_to_be_reexecuted": true,
    "source_hash": "29ffc28f",
    "execution_start": 1624465775334,
    "execution_millis": 649,
    "deepnote_cell_type": "code"
   },
   "source": "Map = geemap.Map()\nMap",
   "outputs": [],
   "execution_count": null
  },
  {
   "cell_type": "code",
   "metadata": {
    "tags": [],
    "cell_id": "00008-8e31a8ac-666c-4728-9cc9-51ff8d2a77aa",
    "deepnote_to_be_reexecuted": false,
    "source_hash": "5fd4ac4c",
    "execution_start": 1624465776083,
    "execution_millis": 408,
    "deepnote_cell_type": "code"
   },
   "source": "# Add Earth Engine dataset\nimage = ee.Image('USGS/SRTMGL1_003')\n\n# Set visualization parameters.\nvis_params = {\n  'min': 0,\n  'max': 4000,\n  'palette': ['006633', 'E5FFCC', '662A00', 'D8D8D8', 'F5F5F5']}\n\n# Print the elevation of Mount Everest.\nxy = ee.Geometry.Point([86.9250, 27.9881])\nelev = image.sample(xy, 30).first().get('elevation').getInfo()\nprint('Mount Everest elevation (m):', elev)\n\n# Add Earth Engine layers to Map\nMap.addLayer(image, vis_params, 'DEM')\nMap.addLayer(xy, {'color': 'red'}, 'Mount Everest')\n\n# Center the map based on an Earth Engine object or coordinates (longitude, latitude)\n# Map.centerObject(xy, 4)\nMap.setCenter(86.9250, 27.9881, 4)",
   "outputs": [
    {
     "name": "stdout",
     "text": "Mount Everest elevation (m): 8729\n",
     "output_type": "stream"
    }
   ],
   "execution_count": null
  },
  {
   "cell_type": "code",
   "metadata": {
    "tags": [],
    "cell_id": "00009-9b487fa1-40a5-4dd3-849e-37d5d73ccc40",
    "deepnote_to_be_reexecuted": false,
    "source_hash": "455dafa1",
    "execution_start": 1624465776476,
    "execution_millis": 37,
    "deepnote_cell_type": "code"
   },
   "source": "Map.addLayerControl() \nMap",
   "outputs": [
    {
     "data": {
      "text/plain": "Map(center=[27.9881, 86.925], controls=(WidgetControl(options=['position', 'transparent_bg'], widget=HBox(chil…",
      "application/vnd.jupyter.widget-view+json": {
       "version_major": 2,
       "version_minor": 0,
       "model_id": "50a34aa2c16b444798332ab1cf50ae42"
      }
     },
     "metadata": {},
     "output_type": "display_data"
    }
   ],
   "execution_count": null
  },
  {
   "cell_type": "code",
   "metadata": {
    "tags": [],
    "cell_id": "00010-8bcced4c-10c5-4c8f-b7f4-1b09ceb10652",
    "deepnote_to_be_reexecuted": false,
    "source_hash": "d40d5426",
    "execution_start": 1624465776481,
    "execution_millis": 32,
    "deepnote_cell_type": "code"
   },
   "source": "Map",
   "outputs": [
    {
     "data": {
      "text/plain": "Map(center=[27.9881, 86.925], controls=(WidgetControl(options=['position', 'transparent_bg'], widget=HBox(chil…",
      "application/vnd.jupyter.widget-view+json": {
       "version_major": 2,
       "version_minor": 0,
       "model_id": "50a34aa2c16b444798332ab1cf50ae42"
      }
     },
     "metadata": {},
     "output_type": "display_data"
    }
   ],
   "execution_count": null
  },
  {
   "cell_type": "code",
   "metadata": {
    "cell_id": "00006-7b1b0f57-8391-49b8-b849-22372fe3d431",
    "deepnote_to_be_reexecuted": false,
    "source_hash": "990f10f",
    "execution_start": 1624465847417,
    "execution_millis": 701,
    "deepnote_cell_type": "code"
   },
   "source": "countries = ee.FeatureCollection(\"USDOS/LSIB/2017\")\ngeometry = ee.Geometry.Point([27.7,-25.5])\nSA = countries.filterBounds(geometry).geometry()\n# SA = ee.Feature(countries.filterBounds(geometry).geometry()).buffer(100000).geometry()\nMap.addLayer(SA)",
   "outputs": [],
   "execution_count": null
  },
  {
   "cell_type": "markdown",
   "source": "### 1. Prepare WH Presence localities",
   "metadata": {
    "cell_id": "00007-a3760949-a0e8-47d8-8fd5-7e482ccec231",
    "deepnote_cell_type": "markdown"
   }
  },
  {
   "cell_type": "markdown",
   "source": "### 2. Prepare WH Absence localities",
   "metadata": {
    "cell_id": "00008-8be7cc02-8e89-4d6d-9bba-4e5a8df5ce8f",
    "deepnote_cell_type": "markdown"
   }
  },
  {
   "cell_type": "markdown",
   "source": "### 3. Define GEE covariates to extract",
   "metadata": {
    "cell_id": "00009-6a05c1d8-4068-4cfe-9d9b-ad6153202cc5",
    "deepnote_cell_type": "markdown"
   }
  },
  {
   "cell_type": "markdown",
   "source": "#### List of Covariates that will be used:\n1. Minimum temperature/ night temperature\n2. Water seasonality\n3. Precipitation\n4. Distance to the coast\n5. Elevation\n6. CHILI (a surrogate for effects of insolation and topographic shading)\n7. Global Human Modification\n8. Topographic Diversity (a surrogate variable that represents the variety of temperature and moisture conditions available to species as local habitats)\n9. Area of different landcover within 1km buffer\n10. EVI ( a proxy of vegetation health)\n11. water Nutrient levels\n12. Competition (IAAP/Site Area)\n13. Recuitment Suitability (area of shallow water)\n14. Connectivity (Zoochory)\n15. Connectivity (Hydrochory)\n16. Connectivity (human aided dispersal)- distance from roads\n\n\n",
   "metadata": {
    "cell_id": "00010-b5421c0c-af31-44db-8cc2-b9b1df4c9c74",
    "deepnote_cell_type": "markdown"
   }
  },
  {
   "cell_type": "markdown",
   "source": "#### 1. Minimum Temperature (Celsius)",
   "metadata": {
    "cell_id": "00011-71c51374-c0b7-41ac-a8fd-4d687abeb381",
    "deepnote_cell_type": "markdown"
   }
  },
  {
   "cell_type": "code",
   "metadata": {
    "cell_id": "00012-78e309a4-037e-43c5-9818-33757bf435c2",
    "deepnote_to_be_reexecuted": false,
    "source_hash": "768d2272",
    "execution_start": 1624465776508,
    "execution_millis": 703,
    "deepnote_cell_type": "code"
   },
   "source": "# minT = ee.ImageCollection(\"MODIS/006/MOD11A1\").filterBounds(SA).select('LST_Night_1km')\nminT = ee.Image(\"WORLDCLIM/V1/BIO\").select([\"bio06\"]).multiply(0.1).rename('minT').clip(SA)\nMap.addLayer(minT,{'min':-15,'max':20, 'palette':['440154', '481567', '482677', '453781', '404788', '39568C', '33638D', '2D708E', '287D8E', '238A8D', '1F968B', '20A387', '29AF7F', '3CBB75', '55C667', '73D055', '95D840', 'B8DE29', 'DCE319', 'FDE725']},'minT')",
   "outputs": [],
   "execution_count": null
  },
  {
   "cell_type": "markdown",
   "source": "#### 2. Water Seasonality",
   "metadata": {
    "cell_id": "00013-fdfbc26e-7e53-411a-9ee8-672705153dbd",
    "deepnote_cell_type": "markdown"
   }
  },
  {
   "cell_type": "code",
   "metadata": {
    "cell_id": "00014-0d424ff9-2a2f-4de3-b328-e8aa65eac41e",
    "deepnote_to_be_reexecuted": false,
    "source_hash": "590fcc0b",
    "execution_start": 1624465777217,
    "execution_millis": 230,
    "deepnote_cell_type": "code"
   },
   "source": "#Water- seasonality\nstartDate = ee.Date('2013-01-01')\nendDate = ee.Date('2013-12-31')\nwater = ee.Image('JRC/GSW1_2/GlobalSurfaceWater')\nwSeasonality = water.select(['seasonality']).rename('wSeasonality')\nMap.addLayer(wSeasonality,{},'seasonality')\n# print(seasonality.getInfo())",
   "outputs": [],
   "execution_count": null
  },
  {
   "cell_type": "markdown",
   "source": "#### 3. Precipitation",
   "metadata": {
    "cell_id": "00015-26c4e31b-0be2-4a57-9dcc-2fe1dac73d85",
    "deepnote_cell_type": "markdown"
   }
  },
  {
   "cell_type": "code",
   "metadata": {
    "cell_id": "00016-f8815c25-5d2e-4e20-89ad-c686e2ca650b",
    "deepnote_to_be_reexecuted": false,
    "source_hash": "dc13eca0",
    "execution_start": 1624465777453,
    "execution_millis": 803,
    "deepnote_cell_type": "code"
   },
   "source": "#Precipitation (~5km)\n\nrain = ee.ImageCollection(\"IDAHO_EPSCOR/TERRACLIMATE\").select(['pr'])\n\ntotalPrecipitation = rain.filterDate(startDate,endDate).sum().rename('precipitation').clip(SA)\nMap.addLayer(totalPrecipitation,{},'Precipitation')",
   "outputs": [],
   "execution_count": null
  },
  {
   "cell_type": "markdown",
   "source": "#### 4. Distance to Coast",
   "metadata": {
    "cell_id": "00017-95dd5de2-1015-4364-bb59-27854cfe57a5",
    "deepnote_cell_type": "markdown"
   }
  },
  {
   "cell_type": "code",
   "metadata": {
    "cell_id": "00018-e0a95dbf-3209-440e-b67d-d5200f42c70f",
    "deepnote_to_be_reexecuted": false,
    "source_hash": "e5596c71",
    "execution_start": 1624465778256,
    "execution_millis": 1003,
    "deepnote_cell_type": "code"
   },
   "source": "#distance from the coast\nD2Coast = ee.Image('users/zandersamuel/Global_misc/GMT_intermediate_coast_distance_01d').rename('distance_to_coast').clip(SA)\nMap.addLayer(D2Coast,{},'distance from coast')",
   "outputs": [],
   "execution_count": null
  },
  {
   "cell_type": "markdown",
   "source": "#### 5. Elevation",
   "metadata": {
    "cell_id": "00019-d6bf2f20-8b99-4cbb-9bb7-fedebc360395",
    "deepnote_cell_type": "markdown"
   }
  },
  {
   "cell_type": "code",
   "metadata": {
    "cell_id": "00020-8c5a34df-55ee-4f40-b65b-4aa056ddcf92",
    "deepnote_to_be_reexecuted": false,
    "source_hash": "f6b4f2d4",
    "execution_start": 1624465779262,
    "execution_millis": 5679,
    "deepnote_cell_type": "code"
   },
   "source": "#elevation\nelevation = ee.Image(\"NASA/NASADEM_HGT/001\").select('elevation').clip(SA)\nMap.addLayer(elevation,{},'elevation')\n# ee.Image(\"MERIT/DEM/v1_0_3\")",
   "outputs": [],
   "execution_count": null
  },
  {
   "cell_type": "markdown",
   "source": "#### 6. CHILI",
   "metadata": {
    "cell_id": "00021-289cded1-7678-46be-9fb8-c4e99e30292d",
    "deepnote_cell_type": "markdown"
   }
  },
  {
   "cell_type": "code",
   "metadata": {
    "cell_id": "00022-af34c9da-2ba8-41d8-97a6-ae10ecfbb9ee",
    "deepnote_to_be_reexecuted": false,
    "source_hash": "318f710c",
    "execution_start": 1624465784945,
    "execution_millis": 2023,
    "deepnote_cell_type": "code"
   },
   "source": "chili = ee.Image('CSP/ERGo/1_0/Global/SRTM_CHILI').rename('CHILI').clip(SA)\nMap.addLayer(chili,{},'CHILI')",
   "outputs": [],
   "execution_count": null
  },
  {
   "cell_type": "markdown",
   "source": "#### 7. Global Human Modififcation",
   "metadata": {
    "cell_id": "00023-1585efad-600f-4f25-92fd-08ce867f6ab1",
    "deepnote_cell_type": "markdown"
   }
  },
  {
   "cell_type": "code",
   "metadata": {
    "cell_id": "00024-3f63ad3a-52cb-430b-84a9-529482e478ab",
    "deepnote_to_be_reexecuted": false,
    "source_hash": "84d25a5e",
    "execution_start": 1624465786968,
    "execution_millis": 665,
    "deepnote_cell_type": "code"
   },
   "source": "ghm = ee.ImageCollection('CSP/HM/GlobalHumanModification')\nGHM = ghm.mosaic().rename('Global_Human_Modification').clip(SA)\nMap.addLayer(GHM,{},'Global Human Modification')",
   "outputs": [],
   "execution_count": null
  },
  {
   "cell_type": "markdown",
   "source": "#### 8. Topographic Diversity",
   "metadata": {
    "cell_id": "00025-1fa94cd1-13ec-4c54-8194-5e5e3289adce",
    "deepnote_cell_type": "markdown"
   }
  },
  {
   "cell_type": "code",
   "metadata": {
    "cell_id": "00026-248f669a-efc5-42ab-83ae-e22371bc8bb8",
    "deepnote_to_be_reexecuted": false,
    "source_hash": "50707ca",
    "execution_start": 1624465787636,
    "execution_millis": 1097,
    "deepnote_cell_type": "code"
   },
   "source": "topD = ee.Image('CSP/ERGo/1_0/Global/SRTM_topoDiversity').rename('topD').clip(SA)\nMap.addLayer(topD,{},'topographic diversity')",
   "outputs": [],
   "execution_count": null
  },
  {
   "cell_type": "markdown",
   "source": "#### 9. Frost duration and Frost degree days",
   "metadata": {
    "cell_id": "00027-8e5d75b0-1930-469b-ae47-7f9bacfb34c9",
    "deepnote_cell_type": "markdown"
   }
  },
  {
   "cell_type": "code",
   "metadata": {
    "cell_id": "00028-a1cc514e-e5d0-4371-a53e-dc1f95c37a8a",
    "deepnote_to_be_reexecuted": false,
    "source_hash": "4c66bbc0",
    "execution_start": 1624465788738,
    "execution_millis": 4410,
    "deepnote_cell_type": "code"
   },
   "source": "frost = ee.Image('users/geethensingh/frostdur').unmask().clip(SA).rename('frost')\nMap.addLayer(frost,{},'frost')",
   "outputs": [],
   "execution_count": null
  },
  {
   "cell_type": "code",
   "metadata": {
    "cell_id": "00029-39afe07b-2051-4105-bad4-d910989b8fd9",
    "deepnote_to_be_reexecuted": false,
    "source_hash": "9d2d06c6",
    "execution_start": 1624465793154,
    "execution_millis": 621,
    "deepnote_cell_type": "code"
   },
   "source": "#number of days with a temperature less than 0 degrees celsius in 2013\n\nmodis = ee.ImageCollection(\"MODIS/006/MOD11A1\").filter(ee.Filter.calendarRange(2013,2013,'year')).select('LST_Night_1km').filterBounds(SA)    \n# print(modis.sort('system:time_start',false).first())\n\ndef islt0 (img):\n  lt0 = img.multiply(0.02).subtract(273.15).lt(0)\n  return lt0\n\nFDs = modis.map(islt0).reduce(ee.Reducer.count()).clip(SA).rename('Tlt0')\nMap.addLayer(FDs,{},'FDs');",
   "outputs": [],
   "execution_count": null
  },
  {
   "cell_type": "code",
   "metadata": {
    "cell_id": "00030-1a39c4ae-7d98-43c4-821f-5c5bb148faaa",
    "deepnote_to_be_reexecuted": false,
    "source_hash": "6f23fad0",
    "execution_start": 1624465793776,
    "execution_millis": 3,
    "deepnote_cell_type": "code"
   },
   "source": "# test_s = ee.ImageCollection(\"COPERNICUS/Landcover/100m/Proba-V-C3/Global\").select('.*coverfraction').getRegion(EG_CR_sample.first().geometry(),100).getInfo()\n# print(test_s[:5])",
   "outputs": [],
   "execution_count": null
  },
  {
   "cell_type": "markdown",
   "source": "#### 10. Number of days with temperature less than 10 dgrees",
   "metadata": {
    "cell_id": "00031-b7523f21-a5b2-46c3-9e73-aa6697c4adef",
    "deepnote_cell_type": "markdown"
   }
  },
  {
   "cell_type": "code",
   "metadata": {
    "cell_id": "00032-1658bb98-1722-4e41-88a2-19add69c806c",
    "deepnote_to_be_reexecuted": false,
    "source_hash": "2b08487d",
    "execution_start": 1624465793788,
    "execution_millis": 3,
    "deepnote_cell_type": "code"
   },
   "source": "#number of days with a temperature less than 10 degrees celsius in 2013\n\nmodis = ee.ImageCollection(\"MODIS/006/MOD11A1\").filter(ee.Filter.calendarRange(2013,2013,'year')).select('LST_Night_1km').filterBounds(SA)    \n# print(modis.sort('system:time_start',false).first())\n\ndef islt10 (img):\n  lt10 = img.multiply(0.02).subtract(273.15).lt(10)\n  return lt10\n\nFDs10 = modis.map(islt10).reduce(ee.Reducer.count()).rename('Tlt10')\n# Map.addLayer(FDs10,{},'FDs');",
   "outputs": [],
   "execution_count": null
  },
  {
   "cell_type": "markdown",
   "source": "## 4. Merge (non-Buffer) covariates as stack/multiband image",
   "metadata": {
    "cell_id": "00033-0913c21c-2ac6-43d8-9aa4-7b42553128cc",
    "deepnote_cell_type": "markdown"
   }
  },
  {
   "cell_type": "code",
   "metadata": {
    "cell_id": "00034-9b4f07b0-a38c-43c1-99c3-470133611124",
    "deepnote_to_be_reexecuted": false,
    "source_hash": "31ae4a4d",
    "execution_start": 1624465793794,
    "execution_millis": 5686,
    "deepnote_cell_type": "code"
   },
   "source": "months = (['Jan','Feb','Mar','Apr','May','Jun','Jul','Aug','Sep','Oct','Nov','Dec'])#\ncovariates = minT.addBands([wSeasonality, totalPrecipitation ,D2Coast,elevation,chili,GHM,topD, frost, FDs, FDs10])\nprint(covariates.bandNames().getInfo())\n# Map.addLayer(covariates,{},'covariates')",
   "outputs": [
    {
     "name": "stdout",
     "text": "['minT', 'wSeasonality', 'precipitation', 'distance_to_coast', 'elevation', 'CHILI', 'Global_Human_Modification', 'topD', 'frost', 'Tlt0', 'Tlt10']\n",
     "output_type": "stream"
    }
   ],
   "execution_count": null
  },
  {
   "cell_type": "markdown",
   "source": "## 5. Export stacked covariates to GEE Asset",
   "metadata": {
    "cell_id": "00035-6ffc6414-e419-4d6d-a0d3-7301f35d3965",
    "deepnote_cell_type": "markdown"
   }
  },
  {
   "cell_type": "code",
   "metadata": {
    "cell_id": "00036-6be4b51d-c637-4b8d-8d98-e6b6419ccb72",
    "deepnote_to_be_reexecuted": false,
    "source_hash": "cd794bf5",
    "execution_start": 1624465799474,
    "execution_millis": 683,
    "deepnote_cell_type": "code"
   },
   "source": "task = ee.batch.Export.image.toAsset(**{'image':covariates,'description':'covs', 'assetId':'users/geethensingh/WH_covariates','region':SA.geometry(), 'scale':100, 'maxPixels':1e13})\ntask.start()",
   "outputs": [
    {
     "output_type": "error",
     "ename": "AttributeError",
     "evalue": "'Geometry' object has no attribute 'geometry'",
     "traceback": [
      "\u001b[0;31m---------------------------------------------------------------------------\u001b[0m",
      "\u001b[0;31mAttributeError\u001b[0m                            Traceback (most recent call last)",
      "\u001b[0;32m<ipython-input-23-cdf6a48ccabd>\u001b[0m in \u001b[0;36m<module>\u001b[0;34m\u001b[0m\n\u001b[0;32m----> 1\u001b[0;31m \u001b[0mtask\u001b[0m \u001b[0;34m=\u001b[0m \u001b[0mee\u001b[0m\u001b[0;34m.\u001b[0m\u001b[0mbatch\u001b[0m\u001b[0;34m.\u001b[0m\u001b[0mExport\u001b[0m\u001b[0;34m.\u001b[0m\u001b[0mimage\u001b[0m\u001b[0;34m.\u001b[0m\u001b[0mtoAsset\u001b[0m\u001b[0;34m(\u001b[0m\u001b[0;34m**\u001b[0m\u001b[0;34m{\u001b[0m\u001b[0;34m'image'\u001b[0m\u001b[0;34m:\u001b[0m\u001b[0mcovariates\u001b[0m\u001b[0;34m,\u001b[0m\u001b[0;34m'description'\u001b[0m\u001b[0;34m:\u001b[0m\u001b[0;34m'covs'\u001b[0m\u001b[0;34m,\u001b[0m \u001b[0;34m'assetId'\u001b[0m\u001b[0;34m:\u001b[0m\u001b[0;34m'users/geethensingh/WH_covariates'\u001b[0m\u001b[0;34m,\u001b[0m\u001b[0;34m'region'\u001b[0m\u001b[0;34m:\u001b[0m\u001b[0mSA\u001b[0m\u001b[0;34m.\u001b[0m\u001b[0mgeometry\u001b[0m\u001b[0;34m(\u001b[0m\u001b[0;34m)\u001b[0m\u001b[0;34m,\u001b[0m \u001b[0;34m'scale'\u001b[0m\u001b[0;34m:\u001b[0m\u001b[0;36m100\u001b[0m\u001b[0;34m,\u001b[0m \u001b[0;34m'maxPixels'\u001b[0m\u001b[0;34m:\u001b[0m\u001b[0;36m1e13\u001b[0m\u001b[0;34m}\u001b[0m\u001b[0;34m)\u001b[0m\u001b[0;34m\u001b[0m\u001b[0;34m\u001b[0m\u001b[0m\n\u001b[0m\u001b[1;32m      2\u001b[0m \u001b[0mtask\u001b[0m\u001b[0;34m.\u001b[0m\u001b[0mstart\u001b[0m\u001b[0;34m(\u001b[0m\u001b[0;34m)\u001b[0m\u001b[0;34m\u001b[0m\u001b[0;34m\u001b[0m\u001b[0m\n",
      "\u001b[0;31mAttributeError\u001b[0m: 'Geometry' object has no attribute 'geometry'"
     ]
    }
   ],
   "execution_count": null
  },
  {
   "cell_type": "code",
   "metadata": {
    "cell_id": "00037-4a206981-88d3-4496-9777-2e7f5fc17f7d",
    "deepnote_to_be_reexecuted": true,
    "source_hash": "474baba6",
    "deepnote_cell_type": "code"
   },
   "source": "task.status()",
   "execution_count": null,
   "outputs": [
    {
     "data": {
      "text/plain": "{'state': 'COMPLETED',\n 'description': 'covs',\n 'creation_timestamp_ms': 1614327981177,\n 'update_timestamp_ms': 1614330190564,\n 'start_timestamp_ms': 1614327989642,\n 'task_type': 'EXPORT_IMAGE',\n 'destination_uris': ['https://code.earthengine.google.com/?asset=projects/earthengine-legacy/assets/users/geethensingh/WH_covariates'],\n 'attempt': 1,\n 'id': 'J65RAHPIKDE4TW3OTE2FLKRP',\n 'name': 'projects/earthengine-legacy/operations/J65RAHPIKDE4TW3OTE2FLKRP'}"
     },
     "execution_count": 53,
     "metadata": {},
     "output_type": "execute_result"
    }
   ]
  },
  {
   "cell_type": "markdown",
   "source": "## 6. Read extracted covariates",
   "metadata": {
    "cell_id": "00038-b8be1621-8bea-4aae-b31d-bcde9bb0b17b",
    "deepnote_cell_type": "markdown"
   }
  },
  {
   "cell_type": "markdown",
   "source": "#### 15. max duration of period less than 10",
   "metadata": {
    "cell_id": "00039-227c6806-0367-4542-88d5-e817dc683b06",
    "deepnote_cell_type": "markdown"
   }
  },
  {
   "cell_type": "code",
   "metadata": {
    "cell_id": "00040-9e259876-715a-477e-a79c-8a53bd34740b",
    "deepnote_to_be_reexecuted": true,
    "source_hash": "cdc0cb9e",
    "deepnote_cell_type": "code"
   },
   "source": "modis = ee.ImageCollection(\"MODIS/006/MOD11A1\").filter(ee.Filter.calendarRange(2013,2013,'year')).select('LST_Night_1km').filterBounds(SA)    \n\ndef islt10 (img):\n  lt10 = img.multiply(0.02).subtract(273.15).lt(10)\n  return lt10\n\nFDs10 = modis.map(islt10)#.reduce(ee.Reducer.count()).rename('Tlt10')\n\ndef consecutiveDays(this_img, cum_prev_max):\n  cum_img = ee.Image(cum_prev_max).select(0) #//load cumulative # days\n  prev_img = ee.Image(cum_prev_max).select(1) #//load prev day's image\n  max_run = ee.Image(cum_prev_max).select(2) #//load maximum # consecutive data\n  this_img = this_img.unmask() #//set masked pixels to 0\n  cum_img = cum_img.where(this_img.eq(1).And(prev_img.eq(1)), cum_img.add(1)) #// if this and previous day were > 50, record this consecutive day \n  cum_img = cum_img.where(this_img.neq(1), 0) #//if < 50 deg, reset counter\n  max_run = max_run.where(cum_img.gt(max_run),cum_img)\n  return cum_img.addBands(this_img).addBands(max_run) #//this return value becomes cum_prev input\n\nmax_value = 40\nT50plus = ee.ImageCollection(FDs10.toList(max_value))\n\nmax = ee.Image(T50plus.iterate(consecutiveDays, ee.Image([0,0,0]))).select(2).add(1).clip(SA) #// need to add 1 day to get # days rather than # two-date periods > 50 deg \n# print('max # consecutive days > 50 image',max.getInfo())\n# Map.addLayer(max,{min: 0, max: max_value}, \"max # consecutive days > 50\")\n\n# cum = ee.Image(T50plus.iterate(consecutiveDays, ee.Image([0,0,0]))).select(0).add(1).clip(SA)\n# Map.addLayer(cum,{min: 0, max: max_value}, \"cumulative # consecutive days > 50\",False)",
   "execution_count": null,
   "outputs": []
  },
  {
   "cell_type": "markdown",
   "source": "#### 12. Competition",
   "metadata": {
    "cell_id": "00041-182c37eb-7f1f-428f-ab45-a437cd10d849",
    "deepnote_cell_type": "markdown"
   }
  },
  {
   "cell_type": "code",
   "metadata": {
    "cell_id": "00042-50bca28a-cbc3-4d61-98e7-0511609757e2",
    "deepnote_to_be_reexecuted": true,
    "source_hash": "71bf656",
    "deepnote_cell_type": "code"
   },
   "source": "WH13 = ee.Image(\"users/geethensingh/SA_hyacinth2013\")\naq_veg = WH13.eq(0).selfMask().multiply(ee.Image.pixelArea()).rename('aq_veg_area') \nmacro_veg = ee.Image.cat([aq_veg])\n# print(macro_veg.bandNames().getInfo())",
   "execution_count": null,
   "outputs": []
  },
  {
   "cell_type": "markdown",
   "source": "## 6. Read extracted covariates",
   "metadata": {
    "cell_id": "00043-d8da90f2-edb0-4f2f-aed3-d28845d636ea",
    "deepnote_cell_type": "markdown"
   }
  },
  {
   "cell_type": "code",
   "metadata": {
    "cell_id": "00044-c2367488-6d81-4efa-9de9-c701ae3b6acb",
    "deepnote_to_be_reexecuted": true,
    "source_hash": "2c88c06c",
    "deepnote_cell_type": "code"
   },
   "source": "covariates = ee.Image('users/geethensingh/WH_covariates').addBands([max.rename('maxDslt10'),macro_veg])",
   "execution_count": null,
   "outputs": []
  },
  {
   "cell_type": "markdown",
   "source": "## 7. covs: part 2- feature vars",
   "metadata": {
    "cell_id": "00045-6df8f9ab-9972-476d-93bd-1848986cf266",
    "deepnote_cell_type": "markdown"
   }
  },
  {
   "cell_type": "markdown",
   "source": "#### 13. Connectivity (hydrochory)",
   "metadata": {
    "cell_id": "00046-e52fd783-0a5e-492b-8de7-a01945e56501",
    "deepnote_cell_type": "markdown"
   }
  },
  {
   "cell_type": "code",
   "metadata": {
    "cell_id": "00047-fca4b1dc-3d0e-4768-ba5b-57d5e0160aee",
    "deepnote_to_be_reexecuted": true,
    "source_hash": "931474ef",
    "deepnote_cell_type": "code"
   },
   "source": "rvs = ee.FeatureCollection(\"WWF/HydroSHEDS/v1/FreeFlowingRivers\")\ndef connectivity(ft):\n    reaches = rvs.filterBounds(ft.geometry())\n    ft = ft.set('dsrcnt',reaches.filter(ee.Filter.gt('NDOID',0)).size())\n    ft = ft.set('usrcnt',reaches.filter(ee.Filter.gt('NUOID',0)).size()) \n    return ft",
   "execution_count": null,
   "outputs": []
  },
  {
   "cell_type": "markdown",
   "source": "###  Covariates (5km buffer): part 3",
   "metadata": {
    "cell_id": "00048-ce8d2600-9f5a-4683-ba97-e0a2c4a08c5a",
    "deepnote_cell_type": "markdown"
   }
  },
  {
   "cell_type": "markdown",
   "source": "## 7. Split shapefile into portions, buffer and extract remaining variables",
   "metadata": {
    "cell_id": "00049-65c7a699-a682-4c0c-96c4-c62d5cc44b26",
    "deepnote_cell_type": "markdown"
   }
  },
  {
   "cell_type": "markdown",
   "source": "#### 11. Area of Landcover within buffer",
   "metadata": {
    "cell_id": "00050-83522137-208e-4a82-ba44-d26162e3ca8f",
    "deepnote_cell_type": "markdown"
   }
  },
  {
   "cell_type": "code",
   "metadata": {
    "cell_id": "00051-62cb8130-3336-4da4-9164-eacbf294247e",
    "deepnote_to_be_reexecuted": true,
    "source_hash": "50a5fc21",
    "deepnote_cell_type": "code"
   },
   "source": "bufferSize = 5000 #in metres\n\ndef buffer (feature):\n    feature = feature.set('ft_area',feature.area(2))\n    buffer_ft = feature.buffer(bufferSize)\n    return buffer_ft",
   "execution_count": null,
   "outputs": []
  },
  {
   "cell_type": "code",
   "metadata": {
    "cell_id": "00052-cc01e105-84ab-4e49-b0ed-188a31e1c3be",
    "deepnote_to_be_reexecuted": true,
    "source_hash": "29613d7f",
    "deepnote_cell_type": "code"
   },
   "source": "cats = ['contiguous (indigenous) forest',\n 'contiguous low forest & thicket',\n 'dense forest & woodland',\n 'open woodland',\n 'contiguous & dense plantation forest',\n 'open & sparse plantation forest',\n 'temporary unplanted (clear-felled) plantation forest',\n 'low shrubland (other)',\n 'low shrubland (fynbos)',\n 'low shrubland (succulent karoo)',\n 'low shrubland (nama karoo)',\n 'sparsely wooded grassland',\n 'natural grassland',\n 'natural rivers',\n 'natural estuaries & lagoons',\n 'natural ocean & coastal',\n 'natural lakes',\n 'natural pans (flooded @ observation times)',\n 'artificial dams (including canals)',\n 'artificial sewage ponds',\n 'artificial flooded mine pits',\n 'herbaceous wetlands (currently mapped)',\n 'herbaceous wetlands (previously mapped)',\n 'mangrove wetlands',\n 'natural rock surfaces',\n 'dry pans',\n 'eroded lands',\n 'sand dunes (terrestrial)',\n 'coastal sand & dunes',\n 'bare riverbed material',\n 'other bare',\n 'cultivated commercial permanent orchards',\n 'cultivated commercial permanent vines',\n 'cultivated commercial sugarcane pivot irrigated',\n 'cultivated commercial permanent pineapples',\n 'cultivated commercial sugarcane non-pivot',\n 'cultivated emerging farmer sugarcane non-pivot',\n 'commercial annual crops pivot irrigated',\n 'commercial annual crops non-pivot irrigated',\n 'commercial annual crops rain-fed / dryland',\n 'subsistence / small-scale annual crops',\n 'fallow land & old fields (trees)',\n 'fallow land & old fields (bush)',\n 'fallow land & old fields (grass)',\n 'fallow land & old fields (bare)',\n 'fallow land & old fields (low shrub)',\n 'residential formal (tree)',\n 'residential formal (bush)',\n 'residential formal (low veg / grass)',\n 'residential formal (bare)',\n 'residential informal (tree)',\n 'residential informal (bush)',\n 'residential informal (low veg / grass)',\n 'residential informal (bare)',\n 'village scattered (bare & low veg/ grss combo)',\n 'village dense (bare & low veg / grss combo)',\n 'smallholdings (tree)',\n 'smallholdings (bush)',\n 'smallholdings (low veg / grass)',\n 'smallholdings (bare)',\n 'urban recreational fields (tree)',\n 'urban recreational fields (bush)',\n 'urban recreational fields (grass)',\n 'urban recreational fields (bare)',\n 'commercial',\n 'industrial',\n 'roads & rails (major linear)',\n 'mines: surface infrastructure',\n 'mines: extraction pits, quarries',\n 'mines: salt mines',\n 'mine: tailings and resource dumps',\n 'land-fills',\n 'fallow land & old fields (wetlands)']\n\ncats = ee.List(cats)",
   "execution_count": null,
   "outputs": []
  },
  {
   "cell_type": "code",
   "metadata": {
    "cell_id": "00053-c06dff01-1fcc-4d5d-9f94-7f61b88e8107",
    "deepnote_to_be_reexecuted": true,
    "source_hash": "d0e98a69",
    "deepnote_cell_type": "code"
   },
   "source": "#functions to format dictionary from SANLC\ndef unpack(list_item):\n    areaDict = ee.Dictionary(list_item)\n    cat = cats.get(ee.Number(areaDict.get('b1')).subtract(1))\n    area = ee.Number(areaDict.get('sum')).divide(1e6)\n    return ee.List([cat, area])\n\ndef classAreas (ft):\n    opt = ee.List(ft.get('groups')).map(unpack)\n    return ee.Feature(ft.geometry(),ee.Dictionary(opt.flatten()));",
   "execution_count": null,
   "outputs": []
  },
  {
   "cell_type": "markdown",
   "source": "#### Detailed LC (SANLC)",
   "metadata": {
    "cell_id": "00054-a77047c5-0db5-4e31-b0cb-4ab4afd5eb0a",
    "deepnote_cell_type": "markdown"
   }
  },
  {
   "cell_type": "code",
   "metadata": {
    "cell_id": "00055-65b22af3-fead-406c-b61e-1b13b84b915e",
    "deepnote_to_be_reexecuted": true,
    "source_hash": "9b8a4e15",
    "deepnote_cell_type": "code"
   },
   "source": "SANLC = ee.Image(\"users/geethensingh/SANLC__2013_14\").rename('SANLC')",
   "execution_count": null,
   "outputs": []
  },
  {
   "cell_type": "markdown",
   "source": "#### 14. Water Nutrients proxy (riparian N, SOC and phh20)",
   "metadata": {
    "cell_id": "00056-cdef3261-ca19-4d4c-9892-6c06720b4ddd",
    "deepnote_cell_type": "markdown"
   }
  },
  {
   "cell_type": "markdown",
   "source": "#### 16. Flooding (refer to 13 connectivity)",
   "metadata": {
    "cell_id": "00057-f8f6790e-1d8b-4e9e-9825-b75abe96486a",
    "deepnote_cell_type": "markdown"
   }
  },
  {
   "cell_type": "code",
   "metadata": {
    "cell_id": "00058-b4cc171a-67e5-49f3-ab3d-e624cf7aabfc",
    "deepnote_to_be_reexecuted": true,
    "source_hash": "65496aad",
    "deepnote_cell_type": "code"
   },
   "source": "LC = ee.Image(ee.ImageCollection(\"COPERNICUS/Landcover/100m/Proba-V-C3/Global\").first().clip(SA)).select('.*coverfraction')\nN = ee.Image('projects/soilgrids-isric/nitrogen_mean')\nSOC = ee.Image(\"projects/soilgrids-isric/soc_mean\")\nphh20 = ee.Image(\"projects/soilgrids-isric/phh2o_mean\")\nflood = ee.Image(\"users/geethensingh/floodMapGL_rp10y\").rename('flood').clip(SA)\nmnnlrnff = ee.Image(\"users/geethensingh/SA_MAR\").rename('runoff')\nbuffer_cov = ee.Image.cat([LC, N,SOC,phh20,flood, mnnlrnff])\n# print(buffer_cov.bandNames().getInfo())",
   "execution_count": null,
   "outputs": []
  },
  {
   "cell_type": "code",
   "metadata": {
    "cell_id": "00059-0549a1cd-6aaa-4354-8dd2-6c90b0652b35",
    "deepnote_to_be_reexecuted": true,
    "source_hash": "35d4c3f6",
    "deepnote_cell_type": "code"
   },
   "source": "spatialFilter = ee.Filter.intersects(**{\n  'leftField': '.geo',\n  'rightField': '.geo',\n  'maxError': 5\n});\n\nsimpleJoin = ee.Join.saveFirst(**{'matchKey':'matches'});\n\ndef formatter (f):\n    f1 = ee.Feature(f)\n    f2 = ee.Feature(f.get('matches')).toDictionary()\n    return ee.Feature(f1).set(f2).set('matches', None)\n\n# RenderJSON(result.getInfo())\n",
   "execution_count": null,
   "outputs": []
  },
  {
   "cell_type": "code",
   "metadata": {
    "cell_id": "00060-23f8b035-c6d0-4727-900a-3b557f6588ff",
    "deepnote_to_be_reexecuted": true,
    "source_hash": "8cfad66",
    "deepnote_cell_type": "code"
   },
   "source": "grid = ee.FeatureCollection('users/geethensingh/SA_Grid_1dgr')\n# // Define a save all join.\nsaveFirstJoin = ee.Join.saveFirst(**{'matchKey': 'matches',});",
   "execution_count": null,
   "outputs": []
  },
  {
   "cell_type": "markdown",
   "source": "### Sanity check",
   "metadata": {
    "cell_id": "00061-37d81264-7522-40ba-9be9-7794675b48f5",
    "deepnote_cell_type": "markdown"
   }
  },
  {
   "cell_type": "code",
   "metadata": {
    "cell_id": "00062-79b94307-4801-4fe8-b6de-334e063a1a75",
    "deepnote_to_be_reexecuted": true,
    "source_hash": "ac708f91",
    "deepnote_cell_type": "code"
   },
   "source": "#Sanity Check\nshp_dir = r\"D:\\phd\\Chapter_3\\nat_drivers\\1inputs\\WH_wbs.shp\"\nshp = gpd.read_file(shp_dir, rows = 5)\nee_shp = geemap.geopandas_to_ee(shp)\nvars1 = covariates.reduceRegions(**{'collection': ee_shp,'reducer': ee.Reducer.mean(),'scale': 30, 'tileScale': 8})\n# RenderJSON(buffer_covs2.getInfo())\n                #extracts part 2 vars: feature\nft_cov = vars1.map(connectivity)\n# Get grid ID.\nft_cov = saveFirstJoin.apply(ft_cov, grid, spatialFilter).map(formatter)\n# RenderJSON(vars1.getInfo())\n                #extract part 3 vars: ft with buffer SANLC\nbuffer_poly = ft_cov.map(buffer)\nbuffer_covs1 = (ee.Image.pixelArea().addBands(SANLC).reduceRegions(**{'collection': buffer_poly,\n                              'reducer': ee.Reducer.sum().group(**{'groupField': 1, 'groupName': 'b1'}),\n                                       'scale': 30, 'tileScale': 8}).map(classAreas))\n              #extract part 3 vars: ft with buffer\nbuffer_covs2 = (buffer_cov.reduceRegions(**{'collection' : buffer_covs1, 'reducer':ee.Reducer.mean()\n                                                     ,'scale':30, 'tileScale' : 8}))\n# RenderJSON(buffer_cov.getInfo())\nfc_joined = simpleJoin.apply(ft_cov, buffer_covs2, spatialFilter);\nresult = (fc_joined.map(formatter))\nRenderJSON(result.getInfo())",
   "execution_count": null,
   "outputs": [
    {
     "data": {
      "text/html": "<div id=\"495ef1f9-4a9c-4c73-8711-f5a56e5dce1f\" style=\"height: 600px; width:100%;\"></div>"
     },
     "metadata": {},
     "output_type": "display_data"
    },
    {
     "data": {
      "application/javascript": "\n        require([\"https://rawgit.com/caldwell/renderjson/master/renderjson.js\"], function() {\n          document.getElementById('495ef1f9-4a9c-4c73-8711-f5a56e5dce1f').appendChild(renderjson({\"type\": \"FeatureCollection\", \"columns\": {\"matches\": \"Object\"}, \"features\": [{\"type\": \"Feature\", \"geometry\": {\"type\": \"Polygon\", \"coordinates\": [[[20.04, -34.789], [20.03925, -34.789], [20.03925, -34.78975], [20.04025, -34.78975], [20.04025, -34.78925], [20.04, -34.78925], [20.04, -34.789]]]}, \"id\": \"0\", \"properties\": {\"CHILI\": 206.38651591289772, \"Global_Human_Modification\": 0.5495930910110474, \"ORIG_FID\": 0, \"Tlt0\": 223, \"Tlt10\": 223, \"bare-coverfraction\": 4.814356491248395, \"contiguous & dense plantation forest\": 6.795442233915202, \"contiguous (indigenous) forest\": 0.3667011704726275, \"contiguous low forest & thicket\": 32.90079361621501, \"crops-coverfraction\": 2.5625351517211095, \"dense forest & woodland\": 0.0958754487915039, \"distance_to_coast\": -2, \"dsrcnt\": 0, \"elevation\": 4.415410385259629, \"fallow land & old fields (trees)\": 0.02285592687988281, \"fid\": 17, \"frost\": 0, \"grass-coverfraction\": 44.73340330885059, \"gridcode\": 1, \"label\": 1, \"land-fills\": 0.034652861389160156, \"low shrubland (nama karoo)\": 0.34146219518827553, \"low shrubland (other)\": 29.592758329738487, \"low shrubland (succulent karoo)\": 1.7501942218130075, \"maxDslt10\": 1, \"minT\": 10, \"moss-coverfraction\": 0, \"nitrogen_0-5cm_mean\": 3181.88182043295, \"nitrogen_100-200cm_mean\": 759.1479578885592, \"nitrogen_15-30cm_mean\": 1088.6367362433402, \"nitrogen_30-60cm_mean\": 854.2961527112434, \"nitrogen_5-15cm_mean\": 1778.5820360408225, \"nitrogen_60-100cm_mean\": 750.3983229711016, \"nx\": \"3\", \"ny\": \"12\", \"open & sparse plantation forest\": 1.772245779032868, \"phh2o_0-5cm_mean\": 66.48194719052528, \"phh2o_100-200cm_mean\": 70.17093733517835, \"phh2o_15-30cm_mean\": 67.18056087499818, \"phh2o_30-60cm_mean\": 68.00253716958626, \"phh2o_5-15cm_mean\": 66.84837115970639, \"phh2o_60-100cm_mean\": 69.62281663622268, \"precipitation\": 461, \"residential formal (bare)\": 1.6333126713776234, \"residential formal (bush)\": 0.36122741422789334, \"residential formal (low veg / grass)\": 1.471282442163804, \"residential informal (bush)\": 0.06929531201171875, \"residential informal (tree)\": 0.46299710601806643, \"runoff\": 15.310817422950977, \"shrub-coverfraction\": 28.614450063716372, \"snow-coverfraction\": 0, \"soc_0-5cm_mean\": 586.6101111172776, \"soc_100-200cm_mean\": 134.26157136308734, \"soc_15-30cm_mean\": 300.7667453183322, \"soc_30-60cm_mean\": 179.70851244260075, \"soc_5-15cm_mean\": 370.4721227792145, \"soc_60-100cm_mean\": 140.32399471496748, \"sparsely wooded grassland\": 0.06563583093261718, \"subsistence / small-scale annual crops\": 1.8823947312260647, \"temporary unplanted (clear-felled) plantation forest\": 0.5914929490112305, \"topD\": 0.052806973457336426, \"tree-coverfraction\": 13.285315841364424, \"urban-coverfraction\": 5.184721702758966, \"usrcnt\": 0, \"water-permanent-coverfraction\": 0.8052174403401317, \"water-seasonal-coverfraction\": 0.4464985367724293}}, {\"type\": \"Feature\", \"geometry\": {\"type\": \"Polygon\", \"coordinates\": [[[19.8975, -34.7625], [19.8975, -34.763], [19.897, -34.763], [19.897, -34.7635], [19.89775, -34.7635], [19.89775, -34.76325], [19.89825, -34.76325], [19.89825, -34.763], [19.89775, -34.763], [19.89775, -34.76275], [19.89825, -34.76275], [19.89825, -34.7625], [19.8975, -34.7625]]]}, \"id\": \"1\", \"properties\": {\"CHILI\": 211, \"Global_Human_Modification\": 0.0929735079407692, \"ORIG_FID\": 0, \"Tlt0\": 229, \"Tlt10\": 229, \"bare-coverfraction\": 7.553913592801951, \"contiguous & dense plantation forest\": 6.51727670435456, \"contiguous (indigenous) forest\": 0.7447853180565928, \"contiguous low forest & thicket\": 20.87085584007329, \"crops-coverfraction\": 0.8420176194507786, \"dense forest & woodland\": 0.20407630069508273, \"distance_to_coast\": -1, \"dsrcnt\": 0, \"elevation\": 18, \"fid\": 17, \"frost\": 0, \"grass-coverfraction\": 49.795963878952925, \"gridcode\": 1, \"label\": 1, \"low shrubland (nama karoo)\": 0.10361813437523934, \"low shrubland (other)\": 42.76395401310939, \"maxDslt10\": 1, \"minT\": 9.700000000000001, \"moss-coverfraction\": 0.5523961498606162, \"nitrogen_0-5cm_mean\": 2755.9472475573293, \"nitrogen_100-200cm_mean\": 571.2086354655912, \"nitrogen_15-30cm_mean\": 980.4350752316419, \"nitrogen_30-60cm_mean\": 704.2044123968365, \"nitrogen_5-15cm_mean\": 1639.8065800108764, \"nitrogen_60-100cm_mean\": 771.8838024187883, \"nx\": \"3\", \"ny\": \"12\", \"open & sparse plantation forest\": 3.975901437882967, \"phh2o_0-5cm_mean\": 67.47402701529646, \"phh2o_100-200cm_mean\": 72.29432693115776, \"phh2o_15-30cm_mean\": 68.42482595735035, \"phh2o_30-60cm_mean\": 70.23920167725954, \"phh2o_5-15cm_mean\": 67.95650170464846, \"phh2o_60-100cm_mean\": 71.64408971192366, \"precipitation\": 529, \"runoff\": 15.716277836631992, \"shrub-coverfraction\": 30.292832423041645, \"snow-coverfraction\": 0, \"soc_0-5cm_mean\": 505.8892199279022, \"soc_100-200cm_mean\": 110.66429807676002, \"soc_15-30cm_mean\": 220.20362718175303, \"soc_30-60cm_mean\": 147.4258518672963, \"soc_5-15cm_mean\": 285.80345940823656, \"soc_60-100cm_mean\": 120.54542484191994, \"sparsely wooded grassland\": 0.2772584819821825, \"subsistence / small-scale annual crops\": 5.019276154472321, \"temporary unplanted (clear-felled) plantation forest\": 0.07058734495777802, \"topD\": 0.19392795860767365, \"tree-coverfraction\": 9.861093735111787, \"urban-coverfraction\": 0, \"usrcnt\": 0, \"water-permanent-coverfraction\": 1.101782600780305, \"water-seasonal-coverfraction\": 2.60469910401974}}, {\"type\": \"Feature\", \"geometry\": {\"type\": \"Polygon\", \"coordinates\": [[[19.90225, -34.76275], [19.9025, -34.76275], [19.9025, -34.76175], [19.90125, -34.76175], [19.90125, -34.762], [19.901, -34.762], [19.901, -34.76275], [19.90075, -34.76275], [19.90075, -34.763], [19.901, -34.763], [19.901, -34.76325], [19.90225, -34.76325], [19.90225, -34.76275]]]}, \"id\": \"2\", \"properties\": {\"CHILI\": 210.5167839740119, \"Global_Human_Modification\": 0.0888239329284471, \"ORIG_FID\": 0, \"Tlt0\": 229.57742284786138, \"Tlt10\": 229.57742284786138, \"bare-coverfraction\": 7.553913592801951, \"contiguous & dense plantation forest\": 6.51727670435456, \"contiguous (indigenous) forest\": 0.7447853180565928, \"contiguous low forest & thicket\": 20.87085584007329, \"crops-coverfraction\": 0.8420176194507786, \"dense forest & woodland\": 0.20407630069508273, \"distance_to_coast\": -2, \"dsrcnt\": 0, \"elevation\": 18.8551705468327, \"fid\": 17, \"frost\": 0, \"grass-coverfraction\": 49.795963878952925, \"gridcode\": 1, \"label\": 1, \"low shrubland (nama karoo)\": 0.10361813437523934, \"low shrubland (other)\": 42.76395401310939, \"maxDslt10\": 1, \"minT\": 9.700000000000001, \"moss-coverfraction\": 0.5523961498606162, \"nitrogen_0-5cm_mean\": 2755.9472475573293, \"nitrogen_100-200cm_mean\": 571.2086354655912, \"nitrogen_15-30cm_mean\": 980.4350752316419, \"nitrogen_30-60cm_mean\": 704.2044123968365, \"nitrogen_5-15cm_mean\": 1639.8065800108764, \"nitrogen_60-100cm_mean\": 771.8838024187883, \"nx\": \"3\", \"ny\": \"12\", \"open & sparse plantation forest\": 3.975901437882967, \"phh2o_0-5cm_mean\": 67.47402701529646, \"phh2o_100-200cm_mean\": 72.29432693115776, \"phh2o_15-30cm_mean\": 68.42482595735035, \"phh2o_30-60cm_mean\": 70.23920167725954, \"phh2o_5-15cm_mean\": 67.95650170464846, \"phh2o_60-100cm_mean\": 71.64408971192366, \"precipitation\": 529, \"runoff\": 15.716277836631992, \"shrub-coverfraction\": 30.292832423041645, \"snow-coverfraction\": 0, \"soc_0-5cm_mean\": 505.8892199279022, \"soc_100-200cm_mean\": 110.66429807676002, \"soc_15-30cm_mean\": 220.20362718175303, \"soc_30-60cm_mean\": 147.4258518672963, \"soc_5-15cm_mean\": 285.80345940823656, \"soc_60-100cm_mean\": 120.54542484191994, \"sparsely wooded grassland\": 0.2772584819821825, \"subsistence / small-scale annual crops\": 5.019276154472321, \"temporary unplanted (clear-felled) plantation forest\": 0.07058734495777802, \"topD\": 0.18086343365315496, \"tree-coverfraction\": 9.861093735111787, \"urban-coverfraction\": 0, \"usrcnt\": 0, \"water-permanent-coverfraction\": 1.101782600780305, \"water-seasonal-coverfraction\": 2.60469910401974}}, {\"type\": \"Feature\", \"geometry\": {\"type\": \"Polygon\", \"coordinates\": [[[19.90575, -34.763], [19.9065, -34.763], [19.9065, -34.76275], [19.907, -34.76275], [19.907, -34.7615], [19.90575, -34.7615], [19.90575, -34.76175], [19.9055, -34.76175], [19.9055, -34.7625], [19.90525, -34.7625], [19.90525, -34.763], [19.9055, -34.763], [19.9055, -34.76325], [19.90575, -34.76325], [19.90575, -34.763]]]}, \"id\": \"3\", \"properties\": {\"CHILI\": 208.60062656641605, \"Global_Human_Modification\": 0.08810653537511826, \"ORIG_FID\": 0, \"Tlt0\": 231, \"Tlt10\": 231, \"bare-coverfraction\": 7.553913592801951, \"contiguous & dense plantation forest\": 6.51727670435456, \"contiguous (indigenous) forest\": 0.7447853180565928, \"contiguous low forest & thicket\": 20.87085584007329, \"crops-coverfraction\": 0.8420176194507786, \"dense forest & woodland\": 0.20407630069508273, \"distance_to_coast\": -2, \"dsrcnt\": 0, \"elevation\": 18.60112781954887, \"fid\": 17, \"frost\": 0, \"grass-coverfraction\": 49.795963878952925, \"gridcode\": 1, \"label\": 1, \"low shrubland (nama karoo)\": 0.10361813437523934, \"low shrubland (other)\": 42.76395401310939, \"maxDslt10\": 1, \"minT\": 9.700000000000001, \"moss-coverfraction\": 0.5523961498606162, \"nitrogen_0-5cm_mean\": 2755.9472475573293, \"nitrogen_100-200cm_mean\": 571.2086354655912, \"nitrogen_15-30cm_mean\": 980.4350752316419, \"nitrogen_30-60cm_mean\": 704.2044123968365, \"nitrogen_5-15cm_mean\": 1639.8065800108764, \"nitrogen_60-100cm_mean\": 771.8838024187883, \"nx\": \"3\", \"ny\": \"12\", \"open & sparse plantation forest\": 3.975901437882967, \"phh2o_0-5cm_mean\": 67.47402701529646, \"phh2o_100-200cm_mean\": 72.29432693115776, \"phh2o_15-30cm_mean\": 68.42482595735035, \"phh2o_30-60cm_mean\": 70.23920167725954, \"phh2o_5-15cm_mean\": 67.95650170464846, \"phh2o_60-100cm_mean\": 71.64408971192366, \"precipitation\": 529, \"runoff\": 15.716277836631992, \"shrub-coverfraction\": 30.292832423041645, \"snow-coverfraction\": 0, \"soc_0-5cm_mean\": 505.8892199279022, \"soc_100-200cm_mean\": 110.66429807676002, \"soc_15-30cm_mean\": 220.20362718175303, \"soc_30-60cm_mean\": 147.4258518672963, \"soc_5-15cm_mean\": 285.80345940823656, \"soc_60-100cm_mean\": 120.54542484191994, \"sparsely wooded grassland\": 0.2772584819821825, \"subsistence / small-scale annual crops\": 5.019276154472321, \"temporary unplanted (clear-felled) plantation forest\": 0.07058734495777802, \"topD\": 0.16201367386637772, \"tree-coverfraction\": 9.861093735111787, \"urban-coverfraction\": 0, \"usrcnt\": 0, \"wSeasonality\": 1, \"water-permanent-coverfraction\": 1.101782600780305, \"water-seasonal-coverfraction\": 2.60469910401974}}, {\"type\": \"Feature\", \"geometry\": {\"type\": \"Polygon\", \"coordinates\": [[[19.91325, -34.76175], [19.9135, -34.76175], [19.9135, -34.76125], [19.91325, -34.76125], [19.91325, -34.76175]]]}, \"id\": \"4\", \"properties\": {\"CHILI\": 209.2209567198178, \"Global_Human_Modification\": 0.07245052605867386, \"ORIG_FID\": 0, \"Tlt0\": 227, \"Tlt10\": 227, \"bare-coverfraction\": 7.553913592801951, \"contiguous & dense plantation forest\": 6.51727670435456, \"contiguous (indigenous) forest\": 0.7447853180565928, \"contiguous low forest & thicket\": 20.87085584007329, \"crops-coverfraction\": 0.8420176194507786, \"dense forest & woodland\": 0.20407630069508273, \"distance_to_coast\": -2, \"dsrcnt\": 0, \"elevation\": 19.740318906605925, \"fid\": 17, \"frost\": 0, \"grass-coverfraction\": 49.795963878952925, \"gridcode\": 1, \"label\": 1, \"low shrubland (nama karoo)\": 0.10361813437523934, \"low shrubland (other)\": 42.76395401310939, \"maxDslt10\": 1, \"minT\": 9.700000000000001, \"moss-coverfraction\": 0.5523961498606162, \"nitrogen_0-5cm_mean\": 2755.9472475573293, \"nitrogen_100-200cm_mean\": 571.2086354655912, \"nitrogen_15-30cm_mean\": 980.4350752316419, \"nitrogen_30-60cm_mean\": 704.2044123968365, \"nitrogen_5-15cm_mean\": 1639.8065800108764, \"nitrogen_60-100cm_mean\": 771.8838024187883, \"nx\": \"3\", \"ny\": \"12\", \"open & sparse plantation forest\": 3.975901437882967, \"phh2o_0-5cm_mean\": 67.47402701529646, \"phh2o_100-200cm_mean\": 72.29432693115776, \"phh2o_15-30cm_mean\": 68.42482595735035, \"phh2o_30-60cm_mean\": 70.23920167725954, \"phh2o_5-15cm_mean\": 67.95650170464846, \"phh2o_60-100cm_mean\": 71.64408971192366, \"precipitation\": 529, \"runoff\": 15.716277836631992, \"shrub-coverfraction\": 30.292832423041645, \"snow-coverfraction\": 0, \"soc_0-5cm_mean\": 505.8892199279022, \"soc_100-200cm_mean\": 110.66429807676002, \"soc_15-30cm_mean\": 220.20362718175303, \"soc_30-60cm_mean\": 147.4258518672963, \"soc_5-15cm_mean\": 285.80345940823656, \"soc_60-100cm_mean\": 120.54542484191994, \"sparsely wooded grassland\": 0.2772584819821825, \"subsistence / small-scale annual crops\": 5.019276154472321, \"temporary unplanted (clear-felled) plantation forest\": 0.07058734495777802, \"topD\": 0.10273543066410921, \"tree-coverfraction\": 9.861093735111787, \"urban-coverfraction\": 0, \"usrcnt\": 0, \"water-permanent-coverfraction\": 1.101782600780305, \"water-seasonal-coverfraction\": 2.60469910401974}}]}))\n        });\n        "
     },
     "metadata": {},
     "output_type": "display_data"
    }
   ]
  },
  {
   "cell_type": "code",
   "metadata": {
    "cell_id": "00063-d8a27536-a9ba-447c-8f50-26c19bf72e5d",
    "deepnote_to_be_reexecuted": true,
    "source_hash": "3d21685f",
    "deepnote_cell_type": "code"
   },
   "source": "shp_dir = r\"D:\\phd\\Chapter_3\\nat_drivers\\1inputs\\WH_wbs.shp\"\nshp = gpd.read_file(shp_dir)",
   "execution_count": null,
   "outputs": []
  },
  {
   "cell_type": "code",
   "metadata": {
    "cell_id": "00064-8834d30c-cc90-45fe-addf-70cedcd50ae7",
    "deepnote_to_be_reexecuted": true,
    "source_hash": "649dec7b",
    "deepnote_cell_type": "code"
   },
   "source": "int(len(shp))",
   "execution_count": null,
   "outputs": [
    {
     "data": {
      "text/plain": "248370"
     },
     "execution_count": 94,
     "metadata": {},
     "output_type": "execute_result"
    }
   ]
  },
  {
   "cell_type": "code",
   "metadata": {
    "cell_id": "00065-7da23bab-48da-4fd4-903a-a5d601956208",
    "deepnote_to_be_reexecuted": true,
    "source_hash": "13c1651b",
    "deepnote_cell_type": "code"
   },
   "source": "def shp_job_splitter(shp, features_per_split, GD_folder_name):\n    shp=shp\n    tsks=1\n    for i in range(0,len(shp), features_per_split):\n        if tsks >3000-features_per_split:\n            input('click enter')\n            tsks = 1\n        if i+features_per_split > len(shp):\n            data = np.split(shp, range(i, len(shp) , features_per_split))#list of lists\n            print(i)\n            tsks += features_per_split\n        else:\n            data = shp.iloc[i:i+features_per_split,:]\n            print(len(data))\n           #gpddf = gpd.GeoDataFrame(data)\n            ee_shp = geemap.geopandas_to_ee(data)\n            task_name = 'Export_batch'+ str(int(round(i/features_per_split+1)))\n            print('Executing...'+ task_name)\n            tsks += features_per_split",
   "execution_count": null,
   "outputs": []
  },
  {
   "cell_type": "code",
   "metadata": {
    "cell_id": "00066-a9cd6c47-a964-415a-9640-21b432ac16ed",
    "deepnote_to_be_reexecuted": true,
    "source_hash": "ea0f9e6",
    "deepnote_cell_type": "code"
   },
   "source": "shp_job_splitter(shp, 30, 'Earth_Engine')",
   "execution_count": null,
   "outputs": [
    {
     "name": "stdout",
     "output_type": "stream",
     "text": "30\nExecuting...Export_batch1\n30\nExecuting...Export_batch2\n30\nExecuting...Export_batch3\n30\nExecuting...Export_batch4\n30\nExecuting...Export_batch5\n30\nExecuting...Export_batch6\n30\nExecuting...Export_batch7\n30\nExecuting...Export_batch8\n30\nExecuting...Export_batch9\n30\nExecuting...Export_batch10\n30\nExecuting...Export_batch11\n30\nExecuting...Export_batch12\n30\nExecuting...Export_batch13\n30\nExecuting...Export_batch14\n30\nExecuting...Export_batch15\n30\nExecuting...Export_batch16\n30\nExecuting...Export_batch17\n30\nExecuting...Export_batch18\n30\nExecuting...Export_batch19\n30\nExecuting...Export_batch20\n30\nExecuting...Export_batch21\n30\nExecuting...Export_batch22\n30\nExecuting...Export_batch23\n30\nExecuting...Export_batch24\n30\nExecuting...Export_batch25\n30\nExecuting...Export_batch26\n30\nExecuting...Export_batch27\n30\nExecuting...Export_batch28\n30\nExecuting...Export_batch29\n30\nExecuting...Export_batch30\n30\nExecuting...Export_batch31\n30\nExecuting...Export_batch32\n30\nExecuting...Export_batch33\n30\nExecuting...Export_batch34\n30\nExecuting...Export_batch35\n30\nExecuting...Export_batch36\n30\nExecuting...Export_batch37\n30\nExecuting...Export_batch38\n30\nExecuting...Export_batch39\n30\nExecuting...Export_batch40\n30\nExecuting...Export_batch41\n30\nExecuting...Export_batch42\n30\nExecuting...Export_batch43\n30\nExecuting...Export_batch44\n30\nExecuting...Export_batch45\n30\nExecuting...Export_batch46\n30\nExecuting...Export_batch47\n30\nExecuting...Export_batch48\n30\nExecuting...Export_batch49\n30\nExecuting...Export_batch50\n30\nExecuting...Export_batch51\n30\nExecuting...Export_batch52\n30\nExecuting...Export_batch53\n30\n"
    },
    {
     "ename": "KeyboardInterrupt",
     "evalue": "",
     "output_type": "error",
     "traceback": [
      "\u001b[1;31m---------------------------------------------------------------------------\u001b[0m",
      "\u001b[1;31mFileNotFoundError\u001b[0m                         Traceback (most recent call last)",
      "\u001b[1;32mC:\\ProgramData\\Anaconda3\\envs\\tfgpu\\lib\\genericpath.py\u001b[0m in \u001b[0;36mexists\u001b[1;34m(path)\u001b[0m\n\u001b[0;32m     18\u001b[0m     \u001b[1;32mtry\u001b[0m\u001b[1;33m:\u001b[0m\u001b[1;33m\u001b[0m\u001b[1;33m\u001b[0m\u001b[0m\n\u001b[1;32m---> 19\u001b[1;33m         \u001b[0mos\u001b[0m\u001b[1;33m.\u001b[0m\u001b[0mstat\u001b[0m\u001b[1;33m(\u001b[0m\u001b[0mpath\u001b[0m\u001b[1;33m)\u001b[0m\u001b[1;33m\u001b[0m\u001b[1;33m\u001b[0m\u001b[0m\n\u001b[0m\u001b[0;32m     20\u001b[0m     \u001b[1;32mexcept\u001b[0m \u001b[0mOSError\u001b[0m\u001b[1;33m:\u001b[0m\u001b[1;33m\u001b[0m\u001b[1;33m\u001b[0m\u001b[0m\n",
      "\u001b[1;31mFileNotFoundError\u001b[0m: [WinError 2] The system cannot find the file specified: 'C:\\\\Users\\\\G10\\\\kondvm.geojson'",
      "\nDuring handling of the above exception, another exception occurred:\n",
      "\u001b[1;31mKeyboardInterrupt\u001b[0m                         Traceback (most recent call last)",
      "\u001b[1;32m<ipython-input-114-b9ec50751b92>\u001b[0m in \u001b[0;36m<module>\u001b[1;34m\u001b[0m\n\u001b[1;32m----> 1\u001b[1;33m \u001b[0mshp_job_splitter\u001b[0m\u001b[1;33m(\u001b[0m\u001b[0mshp\u001b[0m\u001b[1;33m,\u001b[0m \u001b[1;36m30\u001b[0m\u001b[1;33m,\u001b[0m \u001b[1;34m'Earth_Engine'\u001b[0m\u001b[1;33m)\u001b[0m\u001b[1;33m\u001b[0m\u001b[1;33m\u001b[0m\u001b[0m\n\u001b[0m",
      "\u001b[1;32m<ipython-input-113-e17c42caa352>\u001b[0m in \u001b[0;36mshp_job_splitter\u001b[1;34m(shp, features_per_split, GD_folder_name)\u001b[0m\n\u001b[0;32m     14\u001b[0m             \u001b[0mprint\u001b[0m\u001b[1;33m(\u001b[0m\u001b[0mlen\u001b[0m\u001b[1;33m(\u001b[0m\u001b[0mdata\u001b[0m\u001b[1;33m)\u001b[0m\u001b[1;33m)\u001b[0m\u001b[1;33m\u001b[0m\u001b[1;33m\u001b[0m\u001b[0m\n\u001b[0;32m     15\u001b[0m            \u001b[1;31m#gpddf = gpd.GeoDataFrame(data)\u001b[0m\u001b[1;33m\u001b[0m\u001b[1;33m\u001b[0m\u001b[1;33m\u001b[0m\u001b[0m\n\u001b[1;32m---> 16\u001b[1;33m             \u001b[0mee_shp\u001b[0m \u001b[1;33m=\u001b[0m \u001b[0mgeemap\u001b[0m\u001b[1;33m.\u001b[0m\u001b[0mgeopandas_to_ee\u001b[0m\u001b[1;33m(\u001b[0m\u001b[0mdata\u001b[0m\u001b[1;33m)\u001b[0m\u001b[1;33m\u001b[0m\u001b[1;33m\u001b[0m\u001b[0m\n\u001b[0m\u001b[0;32m     17\u001b[0m             \u001b[0mtask_name\u001b[0m \u001b[1;33m=\u001b[0m \u001b[1;34m'Export_batch'\u001b[0m\u001b[1;33m+\u001b[0m \u001b[0mstr\u001b[0m\u001b[1;33m(\u001b[0m\u001b[0mint\u001b[0m\u001b[1;33m(\u001b[0m\u001b[0mround\u001b[0m\u001b[1;33m(\u001b[0m\u001b[0mi\u001b[0m\u001b[1;33m/\u001b[0m\u001b[0mfeatures_per_split\u001b[0m\u001b[1;33m+\u001b[0m\u001b[1;36m1\u001b[0m\u001b[1;33m)\u001b[0m\u001b[1;33m)\u001b[0m\u001b[1;33m)\u001b[0m\u001b[1;33m\u001b[0m\u001b[1;33m\u001b[0m\u001b[0m\n\u001b[0;32m     18\u001b[0m             \u001b[0mprint\u001b[0m\u001b[1;33m(\u001b[0m\u001b[1;34m'Executing...'\u001b[0m\u001b[1;33m+\u001b[0m \u001b[0mtask_name\u001b[0m\u001b[1;33m)\u001b[0m\u001b[1;33m\u001b[0m\u001b[1;33m\u001b[0m\u001b[0m\n",
      "\u001b[1;32mC:\\ProgramData\\Anaconda3\\envs\\tfgpu\\lib\\site-packages\\geemap\\common.py\u001b[0m in \u001b[0;36mgeopandas_to_ee\u001b[1;34m(gdf, geodesic)\u001b[0m\n\u001b[0;32m   6995\u001b[0m \u001b[1;33m\u001b[0m\u001b[0m\n\u001b[0;32m   6996\u001b[0m     \u001b[0mout_json\u001b[0m \u001b[1;33m=\u001b[0m \u001b[0mos\u001b[0m\u001b[1;33m.\u001b[0m\u001b[0mpath\u001b[0m\u001b[1;33m.\u001b[0m\u001b[0mjoin\u001b[0m\u001b[1;33m(\u001b[0m\u001b[0mos\u001b[0m\u001b[1;33m.\u001b[0m\u001b[0mgetcwd\u001b[0m\u001b[1;33m(\u001b[0m\u001b[1;33m)\u001b[0m\u001b[1;33m,\u001b[0m \u001b[0mrandom_string\u001b[0m\u001b[1;33m(\u001b[0m\u001b[1;36m6\u001b[0m\u001b[1;33m)\u001b[0m \u001b[1;33m+\u001b[0m \u001b[1;34m\".geojson\"\u001b[0m\u001b[1;33m)\u001b[0m\u001b[1;33m\u001b[0m\u001b[1;33m\u001b[0m\u001b[0m\n\u001b[1;32m-> 6997\u001b[1;33m     \u001b[0mgdf\u001b[0m\u001b[1;33m.\u001b[0m\u001b[0mto_file\u001b[0m\u001b[1;33m(\u001b[0m\u001b[0mout_json\u001b[0m\u001b[1;33m,\u001b[0m \u001b[0mdriver\u001b[0m\u001b[1;33m=\u001b[0m\u001b[1;34m\"GeoJSON\"\u001b[0m\u001b[1;33m)\u001b[0m\u001b[1;33m\u001b[0m\u001b[1;33m\u001b[0m\u001b[0m\n\u001b[0m\u001b[0;32m   6998\u001b[0m \u001b[1;33m\u001b[0m\u001b[0m\n\u001b[0;32m   6999\u001b[0m     \u001b[0mfc\u001b[0m \u001b[1;33m=\u001b[0m \u001b[0mgeojson_to_ee\u001b[0m\u001b[1;33m(\u001b[0m\u001b[0mout_json\u001b[0m\u001b[1;33m,\u001b[0m \u001b[0mgeodesic\u001b[0m\u001b[1;33m=\u001b[0m\u001b[0mgeodesic\u001b[0m\u001b[1;33m)\u001b[0m\u001b[1;33m\u001b[0m\u001b[1;33m\u001b[0m\u001b[0m\n",
      "\u001b[1;32mC:\\ProgramData\\Anaconda3\\envs\\tfgpu\\lib\\site-packages\\geopandas\\geodataframe.py\u001b[0m in \u001b[0;36mto_file\u001b[1;34m(self, filename, driver, schema, index, **kwargs)\u001b[0m\n\u001b[0;32m    531\u001b[0m         \u001b[1;32mfrom\u001b[0m \u001b[0mgeopandas\u001b[0m\u001b[1;33m.\u001b[0m\u001b[0mio\u001b[0m\u001b[1;33m.\u001b[0m\u001b[0mfile\u001b[0m \u001b[1;32mimport\u001b[0m \u001b[0mto_file\u001b[0m\u001b[1;33m\u001b[0m\u001b[1;33m\u001b[0m\u001b[0m\n\u001b[0;32m    532\u001b[0m \u001b[1;33m\u001b[0m\u001b[0m\n\u001b[1;32m--> 533\u001b[1;33m         \u001b[0mto_file\u001b[0m\u001b[1;33m(\u001b[0m\u001b[0mself\u001b[0m\u001b[1;33m,\u001b[0m \u001b[0mfilename\u001b[0m\u001b[1;33m,\u001b[0m \u001b[0mdriver\u001b[0m\u001b[1;33m,\u001b[0m \u001b[0mschema\u001b[0m\u001b[1;33m,\u001b[0m \u001b[0mindex\u001b[0m\u001b[1;33m,\u001b[0m \u001b[1;33m**\u001b[0m\u001b[0mkwargs\u001b[0m\u001b[1;33m)\u001b[0m\u001b[1;33m\u001b[0m\u001b[1;33m\u001b[0m\u001b[0m\n\u001b[0m\u001b[0;32m    534\u001b[0m \u001b[1;33m\u001b[0m\u001b[0m\n\u001b[0;32m    535\u001b[0m     \u001b[1;32mdef\u001b[0m \u001b[0mto_crs\u001b[0m\u001b[1;33m(\u001b[0m\u001b[0mself\u001b[0m\u001b[1;33m,\u001b[0m \u001b[0mcrs\u001b[0m\u001b[1;33m=\u001b[0m\u001b[1;32mNone\u001b[0m\u001b[1;33m,\u001b[0m \u001b[0mepsg\u001b[0m\u001b[1;33m=\u001b[0m\u001b[1;32mNone\u001b[0m\u001b[1;33m,\u001b[0m \u001b[0minplace\u001b[0m\u001b[1;33m=\u001b[0m\u001b[1;32mFalse\u001b[0m\u001b[1;33m)\u001b[0m\u001b[1;33m:\u001b[0m\u001b[1;33m\u001b[0m\u001b[1;33m\u001b[0m\u001b[0m\n",
      "\u001b[1;32mC:\\ProgramData\\Anaconda3\\envs\\tfgpu\\lib\\site-packages\\geopandas\\io\\file.py\u001b[0m in \u001b[0;36mto_file\u001b[1;34m(df, filename, driver, schema, index, **kwargs)\u001b[0m\n\u001b[0;32m    189\u001b[0m             \u001b[0mcrs_wkt\u001b[0m \u001b[1;33m=\u001b[0m \u001b[0mdf\u001b[0m\u001b[1;33m.\u001b[0m\u001b[0mcrs\u001b[0m\u001b[1;33m.\u001b[0m\u001b[0mto_wkt\u001b[0m\u001b[1;33m(\u001b[0m\u001b[1;34m\"WKT1_GDAL\"\u001b[0m\u001b[1;33m)\u001b[0m\u001b[1;33m\u001b[0m\u001b[1;33m\u001b[0m\u001b[0m\n\u001b[0;32m    190\u001b[0m         with fiona.open(\n\u001b[1;32m--> 191\u001b[1;33m             \u001b[0mfilename\u001b[0m\u001b[1;33m,\u001b[0m \u001b[1;34m\"w\"\u001b[0m\u001b[1;33m,\u001b[0m \u001b[0mdriver\u001b[0m\u001b[1;33m=\u001b[0m\u001b[0mdriver\u001b[0m\u001b[1;33m,\u001b[0m \u001b[0mcrs_wkt\u001b[0m\u001b[1;33m=\u001b[0m\u001b[0mcrs_wkt\u001b[0m\u001b[1;33m,\u001b[0m \u001b[0mschema\u001b[0m\u001b[1;33m=\u001b[0m\u001b[0mschema\u001b[0m\u001b[1;33m,\u001b[0m \u001b[1;33m**\u001b[0m\u001b[0mkwargs\u001b[0m\u001b[1;33m\u001b[0m\u001b[1;33m\u001b[0m\u001b[0m\n\u001b[0m\u001b[0;32m    192\u001b[0m         ) as colxn:\n\u001b[0;32m    193\u001b[0m             \u001b[0mcolxn\u001b[0m\u001b[1;33m.\u001b[0m\u001b[0mwriterecords\u001b[0m\u001b[1;33m(\u001b[0m\u001b[0mdf\u001b[0m\u001b[1;33m.\u001b[0m\u001b[0miterfeatures\u001b[0m\u001b[1;33m(\u001b[0m\u001b[1;33m)\u001b[0m\u001b[1;33m)\u001b[0m\u001b[1;33m\u001b[0m\u001b[1;33m\u001b[0m\u001b[0m\n",
      "\u001b[1;32mC:\\ProgramData\\Anaconda3\\envs\\tfgpu\\lib\\site-packages\\fiona\\env.py\u001b[0m in \u001b[0;36mwrapper\u001b[1;34m(*args, **kwargs)\u001b[0m\n\u001b[0;32m    395\u001b[0m     \u001b[1;32mdef\u001b[0m \u001b[0mwrapper\u001b[0m\u001b[1;33m(\u001b[0m\u001b[1;33m*\u001b[0m\u001b[0margs\u001b[0m\u001b[1;33m,\u001b[0m \u001b[1;33m**\u001b[0m\u001b[0mkwargs\u001b[0m\u001b[1;33m)\u001b[0m\u001b[1;33m:\u001b[0m\u001b[1;33m\u001b[0m\u001b[1;33m\u001b[0m\u001b[0m\n\u001b[0;32m    396\u001b[0m         \u001b[1;32mif\u001b[0m \u001b[0mlocal\u001b[0m\u001b[1;33m.\u001b[0m\u001b[0m_env\u001b[0m\u001b[1;33m:\u001b[0m\u001b[1;33m\u001b[0m\u001b[1;33m\u001b[0m\u001b[0m\n\u001b[1;32m--> 397\u001b[1;33m             \u001b[1;32mreturn\u001b[0m \u001b[0mf\u001b[0m\u001b[1;33m(\u001b[0m\u001b[1;33m*\u001b[0m\u001b[0margs\u001b[0m\u001b[1;33m,\u001b[0m \u001b[1;33m**\u001b[0m\u001b[0mkwargs\u001b[0m\u001b[1;33m)\u001b[0m\u001b[1;33m\u001b[0m\u001b[1;33m\u001b[0m\u001b[0m\n\u001b[0m\u001b[0;32m    398\u001b[0m         \u001b[1;32melse\u001b[0m\u001b[1;33m:\u001b[0m\u001b[1;33m\u001b[0m\u001b[1;33m\u001b[0m\u001b[0m\n\u001b[0;32m    399\u001b[0m             \u001b[1;32mif\u001b[0m \u001b[0misinstance\u001b[0m\u001b[1;33m(\u001b[0m\u001b[0margs\u001b[0m\u001b[1;33m[\u001b[0m\u001b[1;36m0\u001b[0m\u001b[1;33m]\u001b[0m\u001b[1;33m,\u001b[0m \u001b[0mstr\u001b[0m\u001b[1;33m)\u001b[0m\u001b[1;33m:\u001b[0m\u001b[1;33m\u001b[0m\u001b[1;33m\u001b[0m\u001b[0m\n",
      "\u001b[1;32mC:\\ProgramData\\Anaconda3\\envs\\tfgpu\\lib\\site-packages\\fiona\\__init__.py\u001b[0m in \u001b[0;36mopen\u001b[1;34m(fp, mode, driver, schema, crs, encoding, layer, vfs, enabled_drivers, crs_wkt, **kwargs)\u001b[0m\n\u001b[0;32m    261\u001b[0m             c = Collection(path, mode, crs=crs, driver=driver, schema=this_schema,\n\u001b[0;32m    262\u001b[0m                            \u001b[0mencoding\u001b[0m\u001b[1;33m=\u001b[0m\u001b[0mencoding\u001b[0m\u001b[1;33m,\u001b[0m \u001b[0mlayer\u001b[0m\u001b[1;33m=\u001b[0m\u001b[0mlayer\u001b[0m\u001b[1;33m,\u001b[0m \u001b[0menabled_drivers\u001b[0m\u001b[1;33m=\u001b[0m\u001b[0menabled_drivers\u001b[0m\u001b[1;33m,\u001b[0m \u001b[0mcrs_wkt\u001b[0m\u001b[1;33m=\u001b[0m\u001b[0mcrs_wkt\u001b[0m\u001b[1;33m,\u001b[0m\u001b[1;33m\u001b[0m\u001b[1;33m\u001b[0m\u001b[0m\n\u001b[1;32m--> 263\u001b[1;33m                            **kwargs)\n\u001b[0m\u001b[0;32m    264\u001b[0m         \u001b[1;32melse\u001b[0m\u001b[1;33m:\u001b[0m\u001b[1;33m\u001b[0m\u001b[1;33m\u001b[0m\u001b[0m\n\u001b[0;32m    265\u001b[0m             raise ValueError(\n",
      "\u001b[1;32mC:\\ProgramData\\Anaconda3\\envs\\tfgpu\\lib\\site-packages\\fiona\\collection.py\u001b[0m in \u001b[0;36m__init__\u001b[1;34m(self, path, mode, driver, schema, crs, encoding, layer, vsi, archive, enabled_drivers, crs_wkt, ignore_fields, ignore_geometry, **kwargs)\u001b[0m\n\u001b[0;32m    160\u001b[0m             \u001b[1;32melif\u001b[0m \u001b[0mself\u001b[0m\u001b[1;33m.\u001b[0m\u001b[0mmode\u001b[0m \u001b[1;32min\u001b[0m \u001b[1;33m(\u001b[0m\u001b[1;34m'a'\u001b[0m\u001b[1;33m,\u001b[0m \u001b[1;34m'w'\u001b[0m\u001b[1;33m)\u001b[0m\u001b[1;33m:\u001b[0m\u001b[1;33m\u001b[0m\u001b[1;33m\u001b[0m\u001b[0m\n\u001b[0;32m    161\u001b[0m                 \u001b[0mself\u001b[0m\u001b[1;33m.\u001b[0m\u001b[0msession\u001b[0m \u001b[1;33m=\u001b[0m \u001b[0mWritingSession\u001b[0m\u001b[1;33m(\u001b[0m\u001b[1;33m)\u001b[0m\u001b[1;33m\u001b[0m\u001b[1;33m\u001b[0m\u001b[0m\n\u001b[1;32m--> 162\u001b[1;33m                 \u001b[0mself\u001b[0m\u001b[1;33m.\u001b[0m\u001b[0msession\u001b[0m\u001b[1;33m.\u001b[0m\u001b[0mstart\u001b[0m\u001b[1;33m(\u001b[0m\u001b[0mself\u001b[0m\u001b[1;33m,\u001b[0m \u001b[1;33m**\u001b[0m\u001b[0mkwargs\u001b[0m\u001b[1;33m)\u001b[0m\u001b[1;33m\u001b[0m\u001b[1;33m\u001b[0m\u001b[0m\n\u001b[0m\u001b[0;32m    163\u001b[0m         \u001b[1;32mexcept\u001b[0m \u001b[0mIOError\u001b[0m\u001b[1;33m:\u001b[0m\u001b[1;33m\u001b[0m\u001b[1;33m\u001b[0m\u001b[0m\n\u001b[0;32m    164\u001b[0m             \u001b[0mself\u001b[0m\u001b[1;33m.\u001b[0m\u001b[0msession\u001b[0m \u001b[1;33m=\u001b[0m \u001b[1;32mNone\u001b[0m\u001b[1;33m\u001b[0m\u001b[1;33m\u001b[0m\u001b[0m\n",
      "\u001b[1;32mfiona/ogrext.pyx\u001b[0m in \u001b[0;36mfiona.ogrext.WritingSession.start\u001b[1;34m()\u001b[0m\n",
      "\u001b[1;32mC:\\ProgramData\\Anaconda3\\envs\\tfgpu\\lib\\genericpath.py\u001b[0m in \u001b[0;36mexists\u001b[1;34m(path)\u001b[0m\n\u001b[0;32m     17\u001b[0m     \u001b[1;34m\"\"\"Test whether a path exists.  Returns False for broken symbolic links\"\"\"\u001b[0m\u001b[1;33m\u001b[0m\u001b[1;33m\u001b[0m\u001b[0m\n\u001b[0;32m     18\u001b[0m     \u001b[1;32mtry\u001b[0m\u001b[1;33m:\u001b[0m\u001b[1;33m\u001b[0m\u001b[1;33m\u001b[0m\u001b[0m\n\u001b[1;32m---> 19\u001b[1;33m         \u001b[0mos\u001b[0m\u001b[1;33m.\u001b[0m\u001b[0mstat\u001b[0m\u001b[1;33m(\u001b[0m\u001b[0mpath\u001b[0m\u001b[1;33m)\u001b[0m\u001b[1;33m\u001b[0m\u001b[1;33m\u001b[0m\u001b[0m\n\u001b[0m\u001b[0;32m     20\u001b[0m     \u001b[1;32mexcept\u001b[0m \u001b[0mOSError\u001b[0m\u001b[1;33m:\u001b[0m\u001b[1;33m\u001b[0m\u001b[1;33m\u001b[0m\u001b[0m\n\u001b[0;32m     21\u001b[0m         \u001b[1;32mreturn\u001b[0m \u001b[1;32mFalse\u001b[0m\u001b[1;33m\u001b[0m\u001b[1;33m\u001b[0m\u001b[0m\n",
      "\u001b[1;31mKeyboardInterrupt\u001b[0m: "
     ]
    }
   ]
  },
  {
   "cell_type": "markdown",
   "source": "## Step 3. Extract Covariates",
   "metadata": {
    "cell_id": "00067-c6ee876c-45a9-43b5-8e7b-2a802a9967de",
    "deepnote_cell_type": "markdown"
   }
  },
  {
   "cell_type": "code",
   "metadata": {
    "cell_id": "00068-0527f877-1493-4a77-8050-fa17a582b441",
    "deepnote_to_be_reexecuted": true,
    "source_hash": "7c24da01",
    "deepnote_cell_type": "code"
   },
   "source": "def shp_job_splitter(shp_dir, features_per_split, GD_folder_name):\n    shp = gpd.read_file(shp_dir)\n    tsks=1\n    for i in range(5996*35,len(shp), features_per_split):\n        if tsks >3000-2:\n            input(\"Click here once previous 2k(x) tasks have completed\")\n            tsks = 1\n        if i+features_per_split > len(shp):\n            data = shp.iloc[i:len(shp),:]\n            ee_shp = geemap.geopandas_to_ee(data)\n            #extracts part 1 vars\n            vars1 = covariates.reduceRegions(**{'collection': ee_shp,'reducer': ee.Reducer.mean(),'scale': 30, 'tileScale': 8})\n            #extracts part 2 vars: feature\n            ft_cov = vars1.map(connectivity)\n            # Get grid ID.\n            ft_cov = saveFirstJoin.apply(ft_cov, grid, spatialFilter).map(formatter)\n            #extract part 3 vars: ft with buffer SANLC\n            buffer_poly = ft_cov.map(buffer)\n            buffer_covs1 = (ee.Image.pixelArea().addBands(SANLC).reduceRegions(**{'collection': buffer_poly,\n                                              'reducer': ee.Reducer.sum().group(**{'groupField': 1, 'groupName': 'b1'}),\n                                                       'scale': 30, 'tileScale': 8}).map(classAreas))\n            #extract part 3 vars: ft with buffer\n            buffer_covs2 = (buffer_cov.reduceRegions(**{'collection' : buffer_covs1, 'reducer':ee.Reducer.mean()\n                                                                     ,'scale':30, 'tileScale' : 8}))\n            # RenderJSON(buffer_cov.getInfo())\n            fc_joined = simpleJoin.apply(ft_cov, buffer_covs2, spatialFilter);\n            result = (fc_joined.map(formatter))\n            task_name = 'Export_batch' + str(int(round(i/features_per_split+1)))\n            print('Executing...'+ task_name)\n            task = ee.batch.Export.table.toDrive(result, task_name, GD_folder_name)\n            task.start()\n            tsks += 1\n        else:\n            data = shp.iloc[i:i+features_per_split,:]\n            ee_shp = geemap.geopandas_to_ee(data)\n            #extracts part 1 vars\n            vars1 = covariates.reduceRegions(**{'collection': ee_shp,'reducer': ee.Reducer.mean(),'scale': 30, 'tileScale': 8})\n            #extracts part 2 vars: feature\n            ft_cov = vars1.map(connectivity)\n            # Get grid ID.\n            ft_cov = saveFirstJoin.apply(ft_cov, grid, spatialFilter).map(formatter)\n            #extract part 3 vars: ft with buffer SANLC\n            buffer_poly = ft_cov.map(buffer)\n            buffer_covs1 = (ee.Image.pixelArea().addBands(SANLC).reduceRegions(**{'collection': buffer_poly,\n                                              'reducer': ee.Reducer.sum().group(**{'groupField': 1, 'groupName': 'b1'}),\n                                                       'scale': 30, 'tileScale': 8}).map(classAreas))\n            #extract part 3 vars: ft with buffer\n            buffer_covs2 = (buffer_cov.reduceRegions(**{'collection' : buffer_covs1, 'reducer':ee.Reducer.mean()\n                                                                     ,'scale':30, 'tileScale' : 8}))\n            # RenderJSON(buffer_cov.getInfo())\n            fc_joined = simpleJoin.apply(ft_cov, buffer_covs2, spatialFilter);\n            result = (fc_joined.map(formatter))\n            task_name = 'Export_batch_' + str(int(round(i/features_per_split+1)))\n            print('Executing...'+ task_name)\n            task = ee.batch.Export.table.toDrive(result, task_name, GD_folder_name)\n            task.start()\n            tsks += 1",
   "execution_count": null,
   "outputs": []
  },
  {
   "cell_type": "code",
   "metadata": {
    "cell_id": "00069-619f61b7-c986-4352-9237-1d7a75e28842",
    "deepnote_to_be_reexecuted": true,
    "source_hash": "e5264868",
    "deepnote_cell_type": "code"
   },
   "source": "shp_dir = r\"D:\\phd\\Chapter_3\\nat_drivers\\1inputs\\WH_wbs.shp\"\nshp_job_splitter(shp_dir, 35, 'Earth_Engine')",
   "execution_count": null,
   "outputs": [
    {
     "name": "stdout",
     "output_type": "stream",
     "text": "Executing...Export_batch_5997\nExecuting...Export_batch_5998\nExecuting...Export_batch_5999\nExecuting...Export_batch_6000\nExecuting...Export_batch_6001\nExecuting...Export_batch_6002\nExecuting...Export_batch_6003\nExecuting...Export_batch_6004\nExecuting...Export_batch_6005\nExecuting...Export_batch_6006\nExecuting...Export_batch_6007\nExecuting...Export_batch_6008\nExecuting...Export_batch_6009\nExecuting...Export_batch_6010\nExecuting...Export_batch_6011\nExecuting...Export_batch_6012\nExecuting...Export_batch_6013\nExecuting...Export_batch_6014\nExecuting...Export_batch_6015\nExecuting...Export_batch_6016\nExecuting...Export_batch_6017\nExecuting...Export_batch_6018\nExecuting...Export_batch_6019\nExecuting...Export_batch_6020\nExecuting...Export_batch_6021\nExecuting...Export_batch_6022\nExecuting...Export_batch_6023\nExecuting...Export_batch_6024\nExecuting...Export_batch_6025\nExecuting...Export_batch_6026\nExecuting...Export_batch_6027\nExecuting...Export_batch_6028\nExecuting...Export_batch_6029\nExecuting...Export_batch_6030\nExecuting...Export_batch_6031\nExecuting...Export_batch_6032\nExecuting...Export_batch_6033\nExecuting...Export_batch_6034\nExecuting...Export_batch_6035\nExecuting...Export_batch_6036\nExecuting...Export_batch_6037\nExecuting...Export_batch_6038\nExecuting...Export_batch_6039\nExecuting...Export_batch_6040\nExecuting...Export_batch_6041\nExecuting...Export_batch_6042\nExecuting...Export_batch_6043\nExecuting...Export_batch_6044\nExecuting...Export_batch_6045\nExecuting...Export_batch_6046\nExecuting...Export_batch_6047\nExecuting...Export_batch_6048\nExecuting...Export_batch_6049\nExecuting...Export_batch_6050\nExecuting...Export_batch_6051\nExecuting...Export_batch_6052\nExecuting...Export_batch_6053\nExecuting...Export_batch_6054\nExecuting...Export_batch_6055\nExecuting...Export_batch_6056\nExecuting...Export_batch_6057\nExecuting...Export_batch_6058\nExecuting...Export_batch_6059\nExecuting...Export_batch_6060\nExecuting...Export_batch_6061\nExecuting...Export_batch_6062\nExecuting...Export_batch_6063\nExecuting...Export_batch_6064\nExecuting...Export_batch_6065\nExecuting...Export_batch_6066\nExecuting...Export_batch_6067\nExecuting...Export_batch_6068\nExecuting...Export_batch_6069\nExecuting...Export_batch_6070\nExecuting...Export_batch_6071\nExecuting...Export_batch_6072\nExecuting...Export_batch_6073\nExecuting...Export_batch_6074\nExecuting...Export_batch_6075\nExecuting...Export_batch_6076\nExecuting...Export_batch_6077\nExecuting...Export_batch_6078\nExecuting...Export_batch_6079\nExecuting...Export_batch_6080\nExecuting...Export_batch_6081\nExecuting...Export_batch_6082\nExecuting...Export_batch_6083\nExecuting...Export_batch_6084\nExecuting...Export_batch_6085\nExecuting...Export_batch_6086\nExecuting...Export_batch_6087\nExecuting...Export_batch_6088\nExecuting...Export_batch_6089\nExecuting...Export_batch_6090\nExecuting...Export_batch_6091\nExecuting...Export_batch_6092\nExecuting...Export_batch_6093\nExecuting...Export_batch_6094\nExecuting...Export_batch_6095\nExecuting...Export_batch_6096\nExecuting...Export_batch_6097\nExecuting...Export_batch_6098\nExecuting...Export_batch_6099\nExecuting...Export_batch_6100\nExecuting...Export_batch_6101\nExecuting...Export_batch_6102\nExecuting...Export_batch_6103\nExecuting...Export_batch_6104\nExecuting...Export_batch_6105\nExecuting...Export_batch_6106\nExecuting...Export_batch_6107\nExecuting...Export_batch_6108\nExecuting...Export_batch_6109\nExecuting...Export_batch_6110\nExecuting...Export_batch_6111\nExecuting...Export_batch_6112\nExecuting...Export_batch_6113\nExecuting...Export_batch_6114\nExecuting...Export_batch_6115\nExecuting...Export_batch_6116\nExecuting...Export_batch_6117\nExecuting...Export_batch_6118\nExecuting...Export_batch_6119\nExecuting...Export_batch_6120\nExecuting...Export_batch_6121\nExecuting...Export_batch_6122\nExecuting...Export_batch_6123\nExecuting...Export_batch_6124\nExecuting...Export_batch_6125\nExecuting...Export_batch_6126\nExecuting...Export_batch_6127\nExecuting...Export_batch_6128\nExecuting...Export_batch_6129\nExecuting...Export_batch_6130\nExecuting...Export_batch_6131\nExecuting...Export_batch_6132\nExecuting...Export_batch_6133\nExecuting...Export_batch_6134\nExecuting...Export_batch_6135\nExecuting...Export_batch_6136\nExecuting...Export_batch_6137\nExecuting...Export_batch_6138\nExecuting...Export_batch_6139\nExecuting...Export_batch_6140\nExecuting...Export_batch_6141\nExecuting...Export_batch_6142\nExecuting...Export_batch_6143\nExecuting...Export_batch_6144\nExecuting...Export_batch_6145\nExecuting...Export_batch_6146\nExecuting...Export_batch_6147\nExecuting...Export_batch_6148\nExecuting...Export_batch_6149\nExecuting...Export_batch_6150\nExecuting...Export_batch_6151\nExecuting...Export_batch_6152\nExecuting...Export_batch_6153\nExecuting...Export_batch_6154\nExecuting...Export_batch_6155\nExecuting...Export_batch_6156\nExecuting...Export_batch_6157\nExecuting...Export_batch_6158\nExecuting...Export_batch_6159\nExecuting...Export_batch_6160\nExecuting...Export_batch_6161\nExecuting...Export_batch_6162\nExecuting...Export_batch_6163\nExecuting...Export_batch_6164\nExecuting...Export_batch_6165\nExecuting...Export_batch_6166\nExecuting...Export_batch_6167\nExecuting...Export_batch_6168\nExecuting...Export_batch_6169\nExecuting...Export_batch_6170\nExecuting...Export_batch_6171\nExecuting...Export_batch_6172\nExecuting...Export_batch_6173\nExecuting...Export_batch_6174\nExecuting...Export_batch_6175\nExecuting...Export_batch_6176\nExecuting...Export_batch_6177\nExecuting...Export_batch_6178\nExecuting...Export_batch_6179\nExecuting...Export_batch_6180\nExecuting...Export_batch_6181\nExecuting...Export_batch_6182\nExecuting...Export_batch_6183\nExecuting...Export_batch_6184\nExecuting...Export_batch_6185\nExecuting...Export_batch_6186\nExecuting...Export_batch_6187\nExecuting...Export_batch_6188\nExecuting...Export_batch_6189\nExecuting...Export_batch_6190\nExecuting...Export_batch_6191\nExecuting...Export_batch_6192\nExecuting...Export_batch_6193\nExecuting...Export_batch_6194\nExecuting...Export_batch_6195\nExecuting...Export_batch_6196\nExecuting...Export_batch_6197\nExecuting...Export_batch_6198\nExecuting...Export_batch_6199\nExecuting...Export_batch_6200\nExecuting...Export_batch_6201\nExecuting...Export_batch_6202\nExecuting...Export_batch_6203\nExecuting...Export_batch_6204\nExecuting...Export_batch_6205\nExecuting...Export_batch_6206\nExecuting...Export_batch_6207\nExecuting...Export_batch_6208\nExecuting...Export_batch_6209\nExecuting...Export_batch_6210\nExecuting...Export_batch_6211\nExecuting...Export_batch_6212\nExecuting...Export_batch_6213\nExecuting...Export_batch_6214\nExecuting...Export_batch_6215\nExecuting...Export_batch_6216\nExecuting...Export_batch_6217\nExecuting...Export_batch_6218\nExecuting...Export_batch_6219\nExecuting...Export_batch_6220\nExecuting...Export_batch_6221\nExecuting...Export_batch_6222\nExecuting...Export_batch_6223\nExecuting...Export_batch_6224\nExecuting...Export_batch_6225\nExecuting...Export_batch_6226\nExecuting...Export_batch_6227\nExecuting...Export_batch_6228\nExecuting...Export_batch_6229\nExecuting...Export_batch_6230\nExecuting...Export_batch_6231\nExecuting...Export_batch_6232\nExecuting...Export_batch_6233\nExecuting...Export_batch_6234\nExecuting...Export_batch_6235\nExecuting...Export_batch_6236\nExecuting...Export_batch_6237\nExecuting...Export_batch_6238\nExecuting...Export_batch_6239\nExecuting...Export_batch_6240\nExecuting...Export_batch_6241\nExecuting...Export_batch_6242\nExecuting...Export_batch_6243\nExecuting...Export_batch_6244\nExecuting...Export_batch_6245\nExecuting...Export_batch_6246\nExecuting...Export_batch_6247\nExecuting...Export_batch_6248\nExecuting...Export_batch_6249\nExecuting...Export_batch_6250\nExecuting...Export_batch_6251\nExecuting...Export_batch_6252\nExecuting...Export_batch_6253\nExecuting...Export_batch_6254\nExecuting...Export_batch_6255\nExecuting...Export_batch_6256\nExecuting...Export_batch_6257\nExecuting...Export_batch_6258\nExecuting...Export_batch_6259\nExecuting...Export_batch_6260\nExecuting...Export_batch_6261\nExecuting...Export_batch_6262\nExecuting...Export_batch_6263\nExecuting...Export_batch_6264\nExecuting...Export_batch_6265\nExecuting...Export_batch_6266\nExecuting...Export_batch_6267\nExecuting...Export_batch_6268\nExecuting...Export_batch_6269\nExecuting...Export_batch_6270\n"
    },
    {
     "name": "stdout",
     "output_type": "stream",
     "text": "Executing...Export_batch_6271\nExecuting...Export_batch_6272\nExecuting...Export_batch_6273\nExecuting...Export_batch_6274\nExecuting...Export_batch_6275\nExecuting...Export_batch_6276\nExecuting...Export_batch_6277\nExecuting...Export_batch_6278\nExecuting...Export_batch_6279\nExecuting...Export_batch_6280\nExecuting...Export_batch_6281\nExecuting...Export_batch_6282\nExecuting...Export_batch_6283\nExecuting...Export_batch_6284\nExecuting...Export_batch_6285\nExecuting...Export_batch_6286\nExecuting...Export_batch_6287\nExecuting...Export_batch_6288\nExecuting...Export_batch_6289\nExecuting...Export_batch_6290\nExecuting...Export_batch_6291\nExecuting...Export_batch_6292\nExecuting...Export_batch_6293\nExecuting...Export_batch_6294\nExecuting...Export_batch_6295\nExecuting...Export_batch_6296\nExecuting...Export_batch_6297\nExecuting...Export_batch_6298\nExecuting...Export_batch_6299\nExecuting...Export_batch_6300\nExecuting...Export_batch_6301\nExecuting...Export_batch_6302\nExecuting...Export_batch_6303\nExecuting...Export_batch_6304\nExecuting...Export_batch_6305\nExecuting...Export_batch_6306\nExecuting...Export_batch_6307\nExecuting...Export_batch_6308\nExecuting...Export_batch_6309\nExecuting...Export_batch_6310\nExecuting...Export_batch_6311\nExecuting...Export_batch_6312\nExecuting...Export_batch_6313\nExecuting...Export_batch_6314\nExecuting...Export_batch_6315\nExecuting...Export_batch_6316\nExecuting...Export_batch_6317\nExecuting...Export_batch_6318\nExecuting...Export_batch_6319\nExecuting...Export_batch_6320\nExecuting...Export_batch_6321\nExecuting...Export_batch_6322\nExecuting...Export_batch_6323\nExecuting...Export_batch_6324\nExecuting...Export_batch_6325\nExecuting...Export_batch_6326\nExecuting...Export_batch_6327\nExecuting...Export_batch_6328\nExecuting...Export_batch_6329\nExecuting...Export_batch_6330\nExecuting...Export_batch_6331\nExecuting...Export_batch_6332\nExecuting...Export_batch_6333\nExecuting...Export_batch_6334\nExecuting...Export_batch_6335\nExecuting...Export_batch_6336\nExecuting...Export_batch_6337\nExecuting...Export_batch_6338\nExecuting...Export_batch_6339\nExecuting...Export_batch_6340\nExecuting...Export_batch_6341\nExecuting...Export_batch_6342\nExecuting...Export_batch_6343\nExecuting...Export_batch_6344\nExecuting...Export_batch_6345\nExecuting...Export_batch_6346\nExecuting...Export_batch_6347\nExecuting...Export_batch_6348\nExecuting...Export_batch_6349\nExecuting...Export_batch_6350\nExecuting...Export_batch_6351\nExecuting...Export_batch_6352\nExecuting...Export_batch_6353\nExecuting...Export_batch_6354\nExecuting...Export_batch_6355\nExecuting...Export_batch_6356\nExecuting...Export_batch_6357\nExecuting...Export_batch_6358\nExecuting...Export_batch_6359\nExecuting...Export_batch_6360\nExecuting...Export_batch_6361\nExecuting...Export_batch_6362\nExecuting...Export_batch_6363\nExecuting...Export_batch_6364\nExecuting...Export_batch_6365\nExecuting...Export_batch_6366\nExecuting...Export_batch_6367\nExecuting...Export_batch_6368\nExecuting...Export_batch_6369\nExecuting...Export_batch_6370\nExecuting...Export_batch_6371\nExecuting...Export_batch_6372\nExecuting...Export_batch_6373\nExecuting...Export_batch_6374\nExecuting...Export_batch_6375\nExecuting...Export_batch_6376\nExecuting...Export_batch_6377\nExecuting...Export_batch_6378\nExecuting...Export_batch_6379\nExecuting...Export_batch_6380\nExecuting...Export_batch_6381\nExecuting...Export_batch_6382\nExecuting...Export_batch_6383\nExecuting...Export_batch_6384\nExecuting...Export_batch_6385\nExecuting...Export_batch_6386\nExecuting...Export_batch_6387\nExecuting...Export_batch_6388\nExecuting...Export_batch_6389\nExecuting...Export_batch_6390\nExecuting...Export_batch_6391\nExecuting...Export_batch_6392\nExecuting...Export_batch_6393\nExecuting...Export_batch_6394\nExecuting...Export_batch_6395\nExecuting...Export_batch_6396\nExecuting...Export_batch_6397\nExecuting...Export_batch_6398\nExecuting...Export_batch_6399\nExecuting...Export_batch_6400\nExecuting...Export_batch_6401\nExecuting...Export_batch_6402\nExecuting...Export_batch_6403\nExecuting...Export_batch_6404\nExecuting...Export_batch_6405\nExecuting...Export_batch_6406\nExecuting...Export_batch_6407\nExecuting...Export_batch_6408\nExecuting...Export_batch_6409\nExecuting...Export_batch_6410\nExecuting...Export_batch_6411\nExecuting...Export_batch_6412\nExecuting...Export_batch_6413\nExecuting...Export_batch_6414\nExecuting...Export_batch_6415\nExecuting...Export_batch_6416\nExecuting...Export_batch_6417\nExecuting...Export_batch_6418\nExecuting...Export_batch_6419\nExecuting...Export_batch_6420\nExecuting...Export_batch_6421\nExecuting...Export_batch_6422\nExecuting...Export_batch_6423\nExecuting...Export_batch_6424\nExecuting...Export_batch_6425\nExecuting...Export_batch_6426\nExecuting...Export_batch_6427\nExecuting...Export_batch_6428\nExecuting...Export_batch_6429\nExecuting...Export_batch_6430\nExecuting...Export_batch_6431\nExecuting...Export_batch_6432\nExecuting...Export_batch_6433\nExecuting...Export_batch_6434\nExecuting...Export_batch_6435\nExecuting...Export_batch_6436\nExecuting...Export_batch_6437\nExecuting...Export_batch_6438\nExecuting...Export_batch_6439\nExecuting...Export_batch_6440\nExecuting...Export_batch_6441\nExecuting...Export_batch_6442\nExecuting...Export_batch_6443\nExecuting...Export_batch_6444\nExecuting...Export_batch_6445\nExecuting...Export_batch_6446\nExecuting...Export_batch_6447\nExecuting...Export_batch_6448\nExecuting...Export_batch_6449\nExecuting...Export_batch_6450\nExecuting...Export_batch_6451\nExecuting...Export_batch_6452\nExecuting...Export_batch_6453\nExecuting...Export_batch_6454\nExecuting...Export_batch_6455\nExecuting...Export_batch_6456\nExecuting...Export_batch_6457\nExecuting...Export_batch_6458\nExecuting...Export_batch_6459\nExecuting...Export_batch_6460\nExecuting...Export_batch_6461\nExecuting...Export_batch_6462\nExecuting...Export_batch_6463\nExecuting...Export_batch_6464\nExecuting...Export_batch_6465\nExecuting...Export_batch_6466\nExecuting...Export_batch_6467\nExecuting...Export_batch_6468\nExecuting...Export_batch_6469\nExecuting...Export_batch_6470\nExecuting...Export_batch_6471\nExecuting...Export_batch_6472\nExecuting...Export_batch_6473\nExecuting...Export_batch_6474\nExecuting...Export_batch_6475\nExecuting...Export_batch_6476\nExecuting...Export_batch_6477\nExecuting...Export_batch_6478\nExecuting...Export_batch_6479\nExecuting...Export_batch_6480\nExecuting...Export_batch_6481\nExecuting...Export_batch_6482\nExecuting...Export_batch_6483\nExecuting...Export_batch_6484\nExecuting...Export_batch_6485\nExecuting...Export_batch_6486\nExecuting...Export_batch_6487\nExecuting...Export_batch_6488\nExecuting...Export_batch_6489\nExecuting...Export_batch_6490\nExecuting...Export_batch_6491\nExecuting...Export_batch_6492\nExecuting...Export_batch_6493\nExecuting...Export_batch_6494\nExecuting...Export_batch_6495\nExecuting...Export_batch_6496\nExecuting...Export_batch_6497\nExecuting...Export_batch_6498\nExecuting...Export_batch_6499\nExecuting...Export_batch_6500\nExecuting...Export_batch_6501\nExecuting...Export_batch_6502\nExecuting...Export_batch_6503\nExecuting...Export_batch_6504\nExecuting...Export_batch_6505\nExecuting...Export_batch_6506\nExecuting...Export_batch_6507\nExecuting...Export_batch_6508\nExecuting...Export_batch_6509\nExecuting...Export_batch_6510\nExecuting...Export_batch_6511\nExecuting...Export_batch_6512\nExecuting...Export_batch_6513\nExecuting...Export_batch_6514\nExecuting...Export_batch_6515\nExecuting...Export_batch_6516\nExecuting...Export_batch_6517\nExecuting...Export_batch_6518\nExecuting...Export_batch_6519\nExecuting...Export_batch_6520\nExecuting...Export_batch_6521\nExecuting...Export_batch_6522\nExecuting...Export_batch_6523\nExecuting...Export_batch_6524\nExecuting...Export_batch_6525\nExecuting...Export_batch_6526\nExecuting...Export_batch_6527\nExecuting...Export_batch_6528\nExecuting...Export_batch_6529\nExecuting...Export_batch_6530\nExecuting...Export_batch_6531\nExecuting...Export_batch_6532\nExecuting...Export_batch_6533\nExecuting...Export_batch_6534\nExecuting...Export_batch_6535\nExecuting...Export_batch_6536\nExecuting...Export_batch_6537\nExecuting...Export_batch_6538\nExecuting...Export_batch_6539\nExecuting...Export_batch_6540\nExecuting...Export_batch_6541\nExecuting...Export_batch_6542\nExecuting...Export_batch_6543\nExecuting...Export_batch_6544\n"
    },
    {
     "name": "stdout",
     "output_type": "stream",
     "text": "Executing...Export_batch_6545\nExecuting...Export_batch_6546\nExecuting...Export_batch_6547\nExecuting...Export_batch_6548\nExecuting...Export_batch_6549\nExecuting...Export_batch_6550\nExecuting...Export_batch_6551\nExecuting...Export_batch_6552\nExecuting...Export_batch_6553\nExecuting...Export_batch_6554\nExecuting...Export_batch_6555\nExecuting...Export_batch_6556\nExecuting...Export_batch_6557\nExecuting...Export_batch_6558\nExecuting...Export_batch_6559\nExecuting...Export_batch_6560\nExecuting...Export_batch_6561\nExecuting...Export_batch_6562\nExecuting...Export_batch_6563\nExecuting...Export_batch_6564\nExecuting...Export_batch_6565\nExecuting...Export_batch_6566\nExecuting...Export_batch_6567\nExecuting...Export_batch_6568\nExecuting...Export_batch_6569\nExecuting...Export_batch_6570\nExecuting...Export_batch_6571\nExecuting...Export_batch_6572\nExecuting...Export_batch_6573\nExecuting...Export_batch_6574\nExecuting...Export_batch_6575\nExecuting...Export_batch_6576\nExecuting...Export_batch_6577\nExecuting...Export_batch_6578\nExecuting...Export_batch_6579\nExecuting...Export_batch_6580\nExecuting...Export_batch_6581\nExecuting...Export_batch_6582\nExecuting...Export_batch_6583\nExecuting...Export_batch_6584\nExecuting...Export_batch_6585\nExecuting...Export_batch_6586\nExecuting...Export_batch_6587\nExecuting...Export_batch_6588\nExecuting...Export_batch_6589\nExecuting...Export_batch_6590\nExecuting...Export_batch_6591\nExecuting...Export_batch_6592\nExecuting...Export_batch_6593\nExecuting...Export_batch_6594\nExecuting...Export_batch_6595\nExecuting...Export_batch_6596\nExecuting...Export_batch_6597\nExecuting...Export_batch_6598\nExecuting...Export_batch_6599\nExecuting...Export_batch_6600\nExecuting...Export_batch_6601\nExecuting...Export_batch_6602\nExecuting...Export_batch_6603\nExecuting...Export_batch_6604\nExecuting...Export_batch_6605\nExecuting...Export_batch_6606\nExecuting...Export_batch_6607\nExecuting...Export_batch_6608\nExecuting...Export_batch_6609\nExecuting...Export_batch_6610\nExecuting...Export_batch_6611\nExecuting...Export_batch_6612\nExecuting...Export_batch_6613\nExecuting...Export_batch_6614\nExecuting...Export_batch_6615\nExecuting...Export_batch_6616\nExecuting...Export_batch_6617\nExecuting...Export_batch_6618\nExecuting...Export_batch_6619\nExecuting...Export_batch_6620\nExecuting...Export_batch_6621\nExecuting...Export_batch_6622\nExecuting...Export_batch_6623\nExecuting...Export_batch_6624\nExecuting...Export_batch_6625\nExecuting...Export_batch_6626\nExecuting...Export_batch_6627\nExecuting...Export_batch_6628\nExecuting...Export_batch_6629\nExecuting...Export_batch_6630\nExecuting...Export_batch_6631\nExecuting...Export_batch_6632\nExecuting...Export_batch_6633\nExecuting...Export_batch_6634\nExecuting...Export_batch_6635\nExecuting...Export_batch_6636\nExecuting...Export_batch_6637\nExecuting...Export_batch_6638\nExecuting...Export_batch_6639\nExecuting...Export_batch_6640\nExecuting...Export_batch_6641\nExecuting...Export_batch_6642\nExecuting...Export_batch_6643\nExecuting...Export_batch_6644\nExecuting...Export_batch_6645\nExecuting...Export_batch_6646\nExecuting...Export_batch_6647\nExecuting...Export_batch_6648\nExecuting...Export_batch_6649\nExecuting...Export_batch_6650\nExecuting...Export_batch_6651\nExecuting...Export_batch_6652\nExecuting...Export_batch_6653\nExecuting...Export_batch_6654\nExecuting...Export_batch_6655\nExecuting...Export_batch_6656\nExecuting...Export_batch_6657\nExecuting...Export_batch_6658\nExecuting...Export_batch_6659\nExecuting...Export_batch_6660\nExecuting...Export_batch_6661\nExecuting...Export_batch_6662\nExecuting...Export_batch_6663\nExecuting...Export_batch_6664\nExecuting...Export_batch_6665\nExecuting...Export_batch_6666\nExecuting...Export_batch_6667\nExecuting...Export_batch_6668\nExecuting...Export_batch_6669\nExecuting...Export_batch_6670\nExecuting...Export_batch_6671\nExecuting...Export_batch_6672\nExecuting...Export_batch_6673\nExecuting...Export_batch_6674\nExecuting...Export_batch_6675\nExecuting...Export_batch_6676\nExecuting...Export_batch_6677\nExecuting...Export_batch_6678\nExecuting...Export_batch_6679\nExecuting...Export_batch_6680\nExecuting...Export_batch_6681\nExecuting...Export_batch_6682\nExecuting...Export_batch_6683\nExecuting...Export_batch_6684\nExecuting...Export_batch_6685\nExecuting...Export_batch_6686\nExecuting...Export_batch_6687\nExecuting...Export_batch_6688\nExecuting...Export_batch_6689\nExecuting...Export_batch_6690\nExecuting...Export_batch_6691\nExecuting...Export_batch_6692\nExecuting...Export_batch_6693\nExecuting...Export_batch_6694\nExecuting...Export_batch_6695\nExecuting...Export_batch_6696\nExecuting...Export_batch_6697\nExecuting...Export_batch_6698\nExecuting...Export_batch_6699\nExecuting...Export_batch_6700\nExecuting...Export_batch_6701\nExecuting...Export_batch_6702\nExecuting...Export_batch_6703\nExecuting...Export_batch_6704\nExecuting...Export_batch_6705\nExecuting...Export_batch_6706\nExecuting...Export_batch_6707\nExecuting...Export_batch_6708\nExecuting...Export_batch_6709\nExecuting...Export_batch_6710\nExecuting...Export_batch_6711\nExecuting...Export_batch_6712\nExecuting...Export_batch_6713\nExecuting...Export_batch_6714\nExecuting...Export_batch_6715\nExecuting...Export_batch_6716\nExecuting...Export_batch_6717\nExecuting...Export_batch_6718\nExecuting...Export_batch_6719\nExecuting...Export_batch_6720\nExecuting...Export_batch_6721\nExecuting...Export_batch_6722\nExecuting...Export_batch_6723\nExecuting...Export_batch_6724\nExecuting...Export_batch_6725\nExecuting...Export_batch_6726\nExecuting...Export_batch_6727\nExecuting...Export_batch_6728\nExecuting...Export_batch_6729\nExecuting...Export_batch_6730\nExecuting...Export_batch_6731\nExecuting...Export_batch_6732\nExecuting...Export_batch_6733\nExecuting...Export_batch_6734\nExecuting...Export_batch_6735\nExecuting...Export_batch_6736\nExecuting...Export_batch_6737\nExecuting...Export_batch_6738\nExecuting...Export_batch_6739\nExecuting...Export_batch_6740\nExecuting...Export_batch_6741\nExecuting...Export_batch_6742\nExecuting...Export_batch_6743\nExecuting...Export_batch_6744\nExecuting...Export_batch_6745\nExecuting...Export_batch_6746\nExecuting...Export_batch_6747\nExecuting...Export_batch_6748\nExecuting...Export_batch_6749\nExecuting...Export_batch_6750\nExecuting...Export_batch_6751\nExecuting...Export_batch_6752\nExecuting...Export_batch_6753\nExecuting...Export_batch_6754\nExecuting...Export_batch_6755\nExecuting...Export_batch_6756\nExecuting...Export_batch_6757\nExecuting...Export_batch_6758\nExecuting...Export_batch_6759\nExecuting...Export_batch_6760\nExecuting...Export_batch_6761\nExecuting...Export_batch_6762\nExecuting...Export_batch_6763\nExecuting...Export_batch_6764\nExecuting...Export_batch_6765\nExecuting...Export_batch_6766\nExecuting...Export_batch_6767\nExecuting...Export_batch_6768\nExecuting...Export_batch_6769\nExecuting...Export_batch_6770\nExecuting...Export_batch_6771\nExecuting...Export_batch_6772\nExecuting...Export_batch_6773\nExecuting...Export_batch_6774\nExecuting...Export_batch_6775\nExecuting...Export_batch_6776\nExecuting...Export_batch_6777\nExecuting...Export_batch_6778\nExecuting...Export_batch_6779\nExecuting...Export_batch_6780\nExecuting...Export_batch_6781\nExecuting...Export_batch_6782\nExecuting...Export_batch_6783\nExecuting...Export_batch_6784\nExecuting...Export_batch_6785\nExecuting...Export_batch_6786\nExecuting...Export_batch_6787\nExecuting...Export_batch_6788\nExecuting...Export_batch_6789\nExecuting...Export_batch_6790\nExecuting...Export_batch_6791\nExecuting...Export_batch_6792\nExecuting...Export_batch_6793\nExecuting...Export_batch_6794\nExecuting...Export_batch_6795\nExecuting...Export_batch_6796\nExecuting...Export_batch_6797\nExecuting...Export_batch_6798\nExecuting...Export_batch_6799\nExecuting...Export_batch_6800\nExecuting...Export_batch_6801\nExecuting...Export_batch_6802\nExecuting...Export_batch_6803\nExecuting...Export_batch_6804\nExecuting...Export_batch_6805\nExecuting...Export_batch_6806\nExecuting...Export_batch_6807\nExecuting...Export_batch_6808\nExecuting...Export_batch_6809\nExecuting...Export_batch_6810\nExecuting...Export_batch_6811\nExecuting...Export_batch_6812\nExecuting...Export_batch_6813\nExecuting...Export_batch_6814\nExecuting...Export_batch_6815\nExecuting...Export_batch_6816\nExecuting...Export_batch_6817\nExecuting...Export_batch_6818\n"
    },
    {
     "name": "stdout",
     "output_type": "stream",
     "text": "Executing...Export_batch_6819\nExecuting...Export_batch_6820\nExecuting...Export_batch_6821\nExecuting...Export_batch_6822\nExecuting...Export_batch_6823\nExecuting...Export_batch_6824\nExecuting...Export_batch_6825\nExecuting...Export_batch_6826\nExecuting...Export_batch_6827\nExecuting...Export_batch_6828\nExecuting...Export_batch_6829\nExecuting...Export_batch_6830\nExecuting...Export_batch_6831\nExecuting...Export_batch_6832\nExecuting...Export_batch_6833\nExecuting...Export_batch_6834\nExecuting...Export_batch_6835\nExecuting...Export_batch_6836\nExecuting...Export_batch_6837\nExecuting...Export_batch_6838\nExecuting...Export_batch_6839\nExecuting...Export_batch_6840\nExecuting...Export_batch_6841\nExecuting...Export_batch_6842\nExecuting...Export_batch_6843\nExecuting...Export_batch_6844\nExecuting...Export_batch_6845\nExecuting...Export_batch_6846\nExecuting...Export_batch_6847\nExecuting...Export_batch_6848\nExecuting...Export_batch_6849\nExecuting...Export_batch_6850\nExecuting...Export_batch_6851\nExecuting...Export_batch_6852\nExecuting...Export_batch_6853\nExecuting...Export_batch_6854\nExecuting...Export_batch_6855\nExecuting...Export_batch_6856\nExecuting...Export_batch_6857\nExecuting...Export_batch_6858\nExecuting...Export_batch_6859\nExecuting...Export_batch_6860\nExecuting...Export_batch_6861\nExecuting...Export_batch_6862\nExecuting...Export_batch_6863\nExecuting...Export_batch_6864\nExecuting...Export_batch_6865\nExecuting...Export_batch_6866\nExecuting...Export_batch_6867\nExecuting...Export_batch_6868\nExecuting...Export_batch_6869\nExecuting...Export_batch_6870\nExecuting...Export_batch_6871\nExecuting...Export_batch_6872\nExecuting...Export_batch_6873\nExecuting...Export_batch_6874\nExecuting...Export_batch_6875\nExecuting...Export_batch_6876\nExecuting...Export_batch_6877\nExecuting...Export_batch_6878\nExecuting...Export_batch_6879\nExecuting...Export_batch_6880\nExecuting...Export_batch_6881\nExecuting...Export_batch_6882\nExecuting...Export_batch_6883\nExecuting...Export_batch_6884\nExecuting...Export_batch_6885\nExecuting...Export_batch_6886\nExecuting...Export_batch_6887\nExecuting...Export_batch_6888\nExecuting...Export_batch_6889\nExecuting...Export_batch_6890\nExecuting...Export_batch_6891\nExecuting...Export_batch_6892\nExecuting...Export_batch_6893\nExecuting...Export_batch_6894\nExecuting...Export_batch_6895\nExecuting...Export_batch_6896\nExecuting...Export_batch_6897\nExecuting...Export_batch_6898\nExecuting...Export_batch_6899\nExecuting...Export_batch_6900\nExecuting...Export_batch_6901\nExecuting...Export_batch_6902\nExecuting...Export_batch_6903\nExecuting...Export_batch_6904\nExecuting...Export_batch_6905\nExecuting...Export_batch_6906\nExecuting...Export_batch_6907\nExecuting...Export_batch_6908\nExecuting...Export_batch_6909\nExecuting...Export_batch_6910\nExecuting...Export_batch_6911\nExecuting...Export_batch_6912\nExecuting...Export_batch_6913\nExecuting...Export_batch_6914\nExecuting...Export_batch_6915\nExecuting...Export_batch_6916\nExecuting...Export_batch_6917\nExecuting...Export_batch_6918\nExecuting...Export_batch_6919\nExecuting...Export_batch_6920\nExecuting...Export_batch_6921\nExecuting...Export_batch_6922\nExecuting...Export_batch_6923\nExecuting...Export_batch_6924\nExecuting...Export_batch_6925\nExecuting...Export_batch_6926\nExecuting...Export_batch_6927\nExecuting...Export_batch_6928\nExecuting...Export_batch_6929\nExecuting...Export_batch_6930\nExecuting...Export_batch_6931\nExecuting...Export_batch_6932\nExecuting...Export_batch_6933\nExecuting...Export_batch_6934\nExecuting...Export_batch_6935\nExecuting...Export_batch_6936\nExecuting...Export_batch_6937\nExecuting...Export_batch_6938\nExecuting...Export_batch_6939\nExecuting...Export_batch_6940\nExecuting...Export_batch_6941\nExecuting...Export_batch_6942\nExecuting...Export_batch_6943\nExecuting...Export_batch_6944\nExecuting...Export_batch_6945\nExecuting...Export_batch_6946\nExecuting...Export_batch_6947\nExecuting...Export_batch_6948\nExecuting...Export_batch_6949\nExecuting...Export_batch_6950\nExecuting...Export_batch_6951\nExecuting...Export_batch_6952\nExecuting...Export_batch_6953\nExecuting...Export_batch_6954\nExecuting...Export_batch_6955\nExecuting...Export_batch_6956\nExecuting...Export_batch_6957\nExecuting...Export_batch_6958\nExecuting...Export_batch_6959\nExecuting...Export_batch_6960\nExecuting...Export_batch_6961\nExecuting...Export_batch_6962\nExecuting...Export_batch_6963\nExecuting...Export_batch_6964\nExecuting...Export_batch_6965\nExecuting...Export_batch_6966\nExecuting...Export_batch_6967\nExecuting...Export_batch_6968\nExecuting...Export_batch_6969\nExecuting...Export_batch_6970\nExecuting...Export_batch_6971\nExecuting...Export_batch_6972\nExecuting...Export_batch_6973\nExecuting...Export_batch_6974\nExecuting...Export_batch_6975\nExecuting...Export_batch_6976\nExecuting...Export_batch_6977\nExecuting...Export_batch_6978\nExecuting...Export_batch_6979\nExecuting...Export_batch_6980\nExecuting...Export_batch_6981\nExecuting...Export_batch_6982\nExecuting...Export_batch_6983\nExecuting...Export_batch_6984\nExecuting...Export_batch_6985\nExecuting...Export_batch_6986\nExecuting...Export_batch_6987\nExecuting...Export_batch_6988\nExecuting...Export_batch_6989\nExecuting...Export_batch_6990\nExecuting...Export_batch_6991\nExecuting...Export_batch_6992\nExecuting...Export_batch_6993\nExecuting...Export_batch_6994\nExecuting...Export_batch_6995\nExecuting...Export_batch_6996\nExecuting...Export_batch_6997\nExecuting...Export_batch_6998\nExecuting...Export_batch_6999\nExecuting...Export_batch_7000\nExecuting...Export_batch_7001\nExecuting...Export_batch_7002\nExecuting...Export_batch_7003\nExecuting...Export_batch_7004\nExecuting...Export_batch_7005\nExecuting...Export_batch_7006\nExecuting...Export_batch_7007\nExecuting...Export_batch_7008\nExecuting...Export_batch_7009\nExecuting...Export_batch_7010\nExecuting...Export_batch_7011\nExecuting...Export_batch_7012\nExecuting...Export_batch_7013\nExecuting...Export_batch_7014\nExecuting...Export_batch_7015\nExecuting...Export_batch_7016\nExecuting...Export_batch_7017\nExecuting...Export_batch_7018\nExecuting...Export_batch_7019\nExecuting...Export_batch_7020\nExecuting...Export_batch_7021\nExecuting...Export_batch_7022\nExecuting...Export_batch_7023\nExecuting...Export_batch_7024\nExecuting...Export_batch_7025\nExecuting...Export_batch_7026\nExecuting...Export_batch_7027\nExecuting...Export_batch_7028\nExecuting...Export_batch_7029\nExecuting...Export_batch_7030\nExecuting...Export_batch_7031\nExecuting...Export_batch_7032\nExecuting...Export_batch_7033\nExecuting...Export_batch_7034\nExecuting...Export_batch_7035\nExecuting...Export_batch_7036\nExecuting...Export_batch_7037\nExecuting...Export_batch_7038\nExecuting...Export_batch_7039\nExecuting...Export_batch_7040\nExecuting...Export_batch_7041\nExecuting...Export_batch_7042\nExecuting...Export_batch_7043\nExecuting...Export_batch_7044\nExecuting...Export_batch_7045\nExecuting...Export_batch_7046\nExecuting...Export_batch_7047\nExecuting...Export_batch_7048\nExecuting...Export_batch_7049\nExecuting...Export_batch_7050\nExecuting...Export_batch_7051\nExecuting...Export_batch_7052\nExecuting...Export_batch_7053\nExecuting...Export_batch_7054\nExecuting...Export_batch_7055\nExecuting...Export_batch_7056\nExecuting...Export_batch_7057\nExecuting...Export_batch_7058\nExecuting...Export_batch_7059\nExecuting...Export_batch_7060\nExecuting...Export_batch_7061\nExecuting...Export_batch_7062\nExecuting...Export_batch_7063\nExecuting...Export_batch_7064\nExecuting...Export_batch_7065\nExecuting...Export_batch_7066\nExecuting...Export_batch_7067\nExecuting...Export_batch_7068\nExecuting...Export_batch_7069\nExecuting...Export_batch_7070\nExecuting...Export_batch_7071\nExecuting...Export_batch_7072\nExecuting...Export_batch_7073\nExecuting...Export_batch_7074\nExecuting...Export_batch_7075\nExecuting...Export_batch_7076\nExecuting...Export_batch_7077\nExecuting...Export_batch_7078\nExecuting...Export_batch_7079\nExecuting...Export_batch_7080\nExecuting...Export_batch_7081\nExecuting...Export_batch_7082\nExecuting...Export_batch_7083\nExecuting...Export_batch_7084\nExecuting...Export_batch_7085\nExecuting...Export_batch_7086\nExecuting...Export_batch_7087\nExecuting...Export_batch_7088\nExecuting...Export_batch_7089\nExecuting...Export_batch_7090\nExecuting...Export_batch_7091\nExecuting...Export_batch_7092\n"
    },
    {
     "name": "stdout",
     "output_type": "stream",
     "text": "Executing...Export_batch_7093\nExecuting...Export_batch_7094\nExecuting...Export_batch_7095\nExecuting...Export_batch_7096\nExecuting...Export_batch7097\n"
    }
   ]
  },
  {
   "cell_type": "markdown",
   "source": "<a style='text-decoration:none;line-height:16px;display:flex;color:#5B5B62;padding:10px;justify-content:end;' href='https://deepnote.com?utm_source=created-in-deepnote-cell&projectId=35d01260-f96c-43fd-ad32-af4e4f71b35c' target=\"_blank\">\n<img alt='Created in deepnote.com' style='display:inline;max-height:16px;margin:0px;margin-right:7.5px;' src='data:image/svg+xml;base64,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' > </img>\nCreated in <span style='font-weight:600;margin-left:4px;'>Deepnote</span></a>",
   "metadata": {
    "tags": [],
    "created_in_deepnote_cell": true,
    "deepnote_cell_type": "markdown"
   }
  }
 ],
 "nbformat": 4,
 "nbformat_minor": 2,
 "metadata": {
  "kernelspec": {
   "display_name": "tfgpu",
   "language": "python",
   "name": "tfgpu"
  },
  "language_info": {
   "codemirror_mode": {
    "name": "ipython",
    "version": 3
   },
   "file_extension": ".py",
   "mimetype": "text/x-python",
   "name": "python",
   "nbconvert_exporter": "python",
   "pygments_lexer": "ipython3",
   "version": "3.6.7"
  },
  "deepnote_notebook_id": "b12977bf-bd98-44b3-be65-2dddf8b3ac46",
  "deepnote": {},
  "deepnote_execution_queue": []
 }
}