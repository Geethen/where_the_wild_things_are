{
 "cells": [
  {
   "cell_type": "markdown",
   "source": "## Set-up workspace",
   "metadata": {
    "tags": [],
    "cell_id": "00001-271397dc-fa0a-4581-853d-9203c47b067a",
    "is_collapsed": false,
    "deepnote_cell_type": "text-cell-h2"
   }
  },
  {
   "cell_type": "code",
   "metadata": {
    "tags": [],
    "cell_id": "00001-cf7da92e-c238-41e6-b83a-f2b438c50029",
    "deepnote_to_be_reexecuted": false,
    "source_hash": "e867825b",
    "execution_start": 1625686572595,
    "execution_millis": 8667,
    "deepnote_cell_type": "code"
   },
   "source": "!pip install geopandas\n!pip install geemap",
   "execution_count": null,
   "outputs": [
    {
     "name": "stdout",
     "text": "Requirement already satisfied: geopandas in /root/venv/lib/python3.7/site-packages (0.9.0)\nRequirement already satisfied: fiona>=1.8 in /shared-libs/python3.7/py/lib/python3.7/site-packages (from geopandas) (1.8.20)\nRequirement already satisfied: shapely>=1.6 in /root/venv/lib/python3.7/site-packages (from geopandas) (1.7.1)\nRequirement already satisfied: pyproj>=2.2.0 in /root/venv/lib/python3.7/site-packages (from geopandas) (3.1.0)\nRequirement already satisfied: pandas>=0.24.0 in /shared-libs/python3.7/py/lib/python3.7/site-packages (from geopandas) (1.2.4)\nRequirement already satisfied: click>=4.0 in /shared-libs/python3.7/py/lib/python3.7/site-packages (from fiona>=1.8->geopandas) (7.1.2)\nRequirement already satisfied: certifi in /shared-libs/python3.7/py/lib/python3.7/site-packages (from fiona>=1.8->geopandas) (2020.12.5)\nRequirement already satisfied: munch in /shared-libs/python3.7/py/lib/python3.7/site-packages (from fiona>=1.8->geopandas) (2.5.0)\nRequirement already satisfied: click-plugins>=1.0 in /shared-libs/python3.7/py/lib/python3.7/site-packages (from fiona>=1.8->geopandas) (1.1.1)\nRequirement already satisfied: setuptools in /root/venv/lib/python3.7/site-packages (from fiona>=1.8->geopandas) (57.0.0)\nRequirement already satisfied: six>=1.7 in /shared-libs/python3.7/py-core/lib/python3.7/site-packages (from fiona>=1.8->geopandas) (1.16.0)\nRequirement already satisfied: attrs>=17 in /shared-libs/python3.7/py-core/lib/python3.7/site-packages (from fiona>=1.8->geopandas) (21.2.0)\nRequirement already satisfied: cligj>=0.5 in /shared-libs/python3.7/py/lib/python3.7/site-packages (from fiona>=1.8->geopandas) (0.7.2)\nRequirement already satisfied: numpy>=1.16.5 in /shared-libs/python3.7/py/lib/python3.7/site-packages (from pandas>=0.24.0->geopandas) (1.19.5)\nRequirement already satisfied: pytz>=2017.3 in /shared-libs/python3.7/py/lib/python3.7/site-packages (from pandas>=0.24.0->geopandas) (2021.1)\nRequirement already satisfied: python-dateutil>=2.7.3 in /shared-libs/python3.7/py-core/lib/python3.7/site-packages (from pandas>=0.24.0->geopandas) (2.8.1)\n\u001b[33mWARNING: You are using pip version 21.1.2; however, version 21.1.3 is available.\nYou should consider upgrading via the '/root/venv/bin/python -m pip install --upgrade pip' command.\u001b[0m\nRequirement already satisfied: geemap in /root/venv/lib/python3.7/site-packages (0.8.17)\nRequirement already satisfied: geeadd>=0.5.1 in /root/venv/lib/python3.7/site-packages (from geemap) (0.5.5)\nRequirement already satisfied: ipyleaflet>=0.14.0 in /root/venv/lib/python3.7/site-packages (from geemap) (0.14.0)\nRequirement already satisfied: pycrs in /root/venv/lib/python3.7/site-packages (from geemap) (1.0.2)\nRequirement already satisfied: pillow in /shared-libs/python3.7/py/lib/python3.7/site-packages (from geemap) (8.2.0)\nRequirement already satisfied: earthengine-api>=0.1.230 in /root/venv/lib/python3.7/site-packages (from geemap) (0.1.272)\nRequirement already satisfied: ffmpeg-python in /root/venv/lib/python3.7/site-packages (from geemap) (0.2.0)\nRequirement already satisfied: matplotlib in /shared-libs/python3.7/py/lib/python3.7/site-packages (from geemap) (3.4.2)\nRequirement already satisfied: numpy in /shared-libs/python3.7/py/lib/python3.7/site-packages (from geemap) (1.19.5)\nRequirement already satisfied: bqplot in /root/venv/lib/python3.7/site-packages (from geemap) (0.12.29)\nRequirement already satisfied: click in /shared-libs/python3.7/py/lib/python3.7/site-packages (from geemap) (7.1.2)\nRequirement already satisfied: mss in /root/venv/lib/python3.7/site-packages (from geemap) (6.1.0)\nRequirement already satisfied: folium>=0.11.0 in /shared-libs/python3.7/py/lib/python3.7/site-packages (from geemap) (0.12.1)\nRequirement already satisfied: ipytree in /root/venv/lib/python3.7/site-packages (from geemap) (0.2.1)\nRequirement already satisfied: whiteboxgui in /root/venv/lib/python3.7/site-packages (from geemap) (0.3.0)\nRequirement already satisfied: ipyfilechooser in /root/venv/lib/python3.7/site-packages (from geemap) (0.4.4)\nRequirement already satisfied: ipynb-py-convert in /root/venv/lib/python3.7/site-packages (from geemap) (0.4.6)\nRequirement already satisfied: python-box in /root/venv/lib/python3.7/site-packages (from geemap) (5.3.0)\nRequirement already satisfied: voila in /root/venv/lib/python3.7/site-packages (from geemap) (0.2.10)\nRequirement already satisfied: colour in /root/venv/lib/python3.7/site-packages (from geemap) (0.1.5)\nRequirement already satisfied: pyshp>=2.1.3 in /root/venv/lib/python3.7/site-packages (from geemap) (2.1.3)\nRequirement already satisfied: geocoder in /root/venv/lib/python3.7/site-packages (from geemap) (1.38.1)\nRequirement already satisfied: pandas in /shared-libs/python3.7/py/lib/python3.7/site-packages (from geemap) (1.2.4)\nRequirement already satisfied: sankee in /root/venv/lib/python3.7/site-packages (from geemap) (0.0.5)\nRequirement already satisfied: ipyevents in /root/venv/lib/python3.7/site-packages (from geemap) (0.8.2)\nRequirement already satisfied: googledrivedownloader in /root/venv/lib/python3.7/site-packages (from geemap) (0.4)\nRequirement already satisfied: future in /shared-libs/python3.7/py/lib/python3.7/site-packages (from earthengine-api>=0.1.230->geemap) (0.18.2)\nRequirement already satisfied: google-auth>=1.4.1 in /shared-libs/python3.7/py/lib/python3.7/site-packages (from earthengine-api>=0.1.230->geemap) (1.31.0)\nRequirement already satisfied: six in /shared-libs/python3.7/py-core/lib/python3.7/site-packages (from earthengine-api>=0.1.230->geemap) (1.16.0)\nRequirement already satisfied: google-cloud-storage in /root/venv/lib/python3.7/site-packages (from earthengine-api>=0.1.230->geemap) (1.40.0)\nRequirement already satisfied: google-auth-httplib2>=0.0.3 in /root/venv/lib/python3.7/site-packages (from earthengine-api>=0.1.230->geemap) (0.1.0)\nRequirement already satisfied: httplib2<1dev,>=0.9.2 in /root/venv/lib/python3.7/site-packages (from earthengine-api>=0.1.230->geemap) (0.19.1)\nRequirement already satisfied: google-api-python-client<2,>=1.12.1 in /root/venv/lib/python3.7/site-packages (from earthengine-api>=0.1.230->geemap) (1.12.8)\nRequirement already satisfied: httplib2shim in /root/venv/lib/python3.7/site-packages (from earthengine-api>=0.1.230->geemap) (0.0.3)\nRequirement already satisfied: requests in /shared-libs/python3.7/py/lib/python3.7/site-packages (from folium>=0.11.0->geemap) (2.25.1)\nRequirement already satisfied: branca>=0.3.0 in /shared-libs/python3.7/py/lib/python3.7/site-packages (from folium>=0.11.0->geemap) (0.4.2)\nRequirement already satisfied: jinja2>=2.9 in /shared-libs/python3.7/py-core/lib/python3.7/site-packages (from folium>=0.11.0->geemap) (3.0.1)\nRequirement already satisfied: beautifulsoup4>=4.9.0 in /root/venv/lib/python3.7/site-packages (from geeadd>=0.5.1->geemap) (4.9.3)\nRequirement already satisfied: logzero>=1.5.0 in /root/venv/lib/python3.7/site-packages (from geeadd>=0.5.1->geemap) (1.7.0)\nRequirement already satisfied: soupsieve>1.2 in /root/venv/lib/python3.7/site-packages (from beautifulsoup4>=4.9.0->geeadd>=0.5.1->geemap) (2.2.1)\nRequirement already satisfied: google-api-core<2dev,>=1.21.0 in /shared-libs/python3.7/py/lib/python3.7/site-packages (from google-api-python-client<2,>=1.12.1->earthengine-api>=0.1.230->geemap) (1.30.0)\nRequirement already satisfied: uritemplate<4dev,>=3.0.0 in /root/venv/lib/python3.7/site-packages (from google-api-python-client<2,>=1.12.1->earthengine-api>=0.1.230->geemap) (3.0.1)\nRequirement already satisfied: packaging>=14.3 in /shared-libs/python3.7/py-core/lib/python3.7/site-packages (from google-api-core<2dev,>=1.21.0->google-api-python-client<2,>=1.12.1->earthengine-api>=0.1.230->geemap) (20.9)\nRequirement already satisfied: protobuf>=3.12.0 in /shared-libs/python3.7/py/lib/python3.7/site-packages (from google-api-core<2dev,>=1.21.0->google-api-python-client<2,>=1.12.1->earthengine-api>=0.1.230->geemap) (3.17.3)\nRequirement already satisfied: setuptools>=40.3.0 in /root/venv/lib/python3.7/site-packages (from google-api-core<2dev,>=1.21.0->google-api-python-client<2,>=1.12.1->earthengine-api>=0.1.230->geemap) (57.0.0)\nRequirement already satisfied: pytz in /shared-libs/python3.7/py/lib/python3.7/site-packages (from google-api-core<2dev,>=1.21.0->google-api-python-client<2,>=1.12.1->earthengine-api>=0.1.230->geemap) (2021.1)\nRequirement already satisfied: googleapis-common-protos<2.0dev,>=1.6.0 in /shared-libs/python3.7/py/lib/python3.7/site-packages (from google-api-core<2dev,>=1.21.0->google-api-python-client<2,>=1.12.1->earthengine-api>=0.1.230->geemap) (1.53.0)\nRequirement already satisfied: pyasn1-modules>=0.2.1 in /shared-libs/python3.7/py/lib/python3.7/site-packages (from google-auth>=1.4.1->earthengine-api>=0.1.230->geemap) (0.2.8)\nRequirement already satisfied: cachetools<5.0,>=2.0.0 in /shared-libs/python3.7/py/lib/python3.7/site-packages (from google-auth>=1.4.1->earthengine-api>=0.1.230->geemap) (4.2.2)\nRequirement already satisfied: rsa<5,>=3.1.4 in /shared-libs/python3.7/py/lib/python3.7/site-packages (from google-auth>=1.4.1->earthengine-api>=0.1.230->geemap) (4.7.2)\nRequirement already satisfied: pyparsing<3,>=2.4.2 in /shared-libs/python3.7/py-core/lib/python3.7/site-packages (from httplib2<1dev,>=0.9.2->earthengine-api>=0.1.230->geemap) (2.4.7)\nRequirement already satisfied: traittypes<3,>=0.2.1 in /root/venv/lib/python3.7/site-packages (from ipyleaflet>=0.14.0->geemap) (0.2.1)\nRequirement already satisfied: ipywidgets<8,>=7.6.0 in /root/venv/lib/python3.7/site-packages (from ipyleaflet>=0.14.0->geemap) (7.6.3)\nRequirement already satisfied: nbformat>=4.2.0 in /shared-libs/python3.7/py-core/lib/python3.7/site-packages (from ipywidgets<8,>=7.6.0->ipyleaflet>=0.14.0->geemap) (5.1.3)\nRequirement already satisfied: jupyterlab-widgets>=1.0.0 in /root/venv/lib/python3.7/site-packages (from ipywidgets<8,>=7.6.0->ipyleaflet>=0.14.0->geemap) (1.0.0)\nRequirement already satisfied: ipykernel>=4.5.1 in /shared-libs/python3.7/py-core/lib/python3.7/site-packages (from ipywidgets<8,>=7.6.0->ipyleaflet>=0.14.0->geemap) (5.5.5)\nRequirement already satisfied: widgetsnbextension~=3.5.0 in /root/venv/lib/python3.7/site-packages (from ipywidgets<8,>=7.6.0->ipyleaflet>=0.14.0->geemap) (3.5.1)\nRequirement already satisfied: traitlets>=4.3.1 in /shared-libs/python3.7/py-core/lib/python3.7/site-packages (from ipywidgets<8,>=7.6.0->ipyleaflet>=0.14.0->geemap) (5.0.5)\nRequirement already satisfied: ipython>=4.0.0 in /shared-libs/python3.7/py-core/lib/python3.7/site-packages (from ipywidgets<8,>=7.6.0->ipyleaflet>=0.14.0->geemap) (7.24.1)\nRequirement already satisfied: jupyter-client in /shared-libs/python3.7/py-core/lib/python3.7/site-packages (from ipykernel>=4.5.1->ipywidgets<8,>=7.6.0->ipyleaflet>=0.14.0->geemap) (6.1.12)\nRequirement already satisfied: tornado>=4.2 in /shared-libs/python3.7/py-core/lib/python3.7/site-packages (from ipykernel>=4.5.1->ipywidgets<8,>=7.6.0->ipyleaflet>=0.14.0->geemap) (6.1)\nRequirement already satisfied: pickleshare in /shared-libs/python3.7/py-core/lib/python3.7/site-packages (from ipython>=4.0.0->ipywidgets<8,>=7.6.0->ipyleaflet>=0.14.0->geemap) (0.7.5)\nRequirement already satisfied: backcall in /shared-libs/python3.7/py-core/lib/python3.7/site-packages (from ipython>=4.0.0->ipywidgets<8,>=7.6.0->ipyleaflet>=0.14.0->geemap) (0.2.0)\nRequirement already satisfied: decorator in /shared-libs/python3.7/py-core/lib/python3.7/site-packages (from ipython>=4.0.0->ipywidgets<8,>=7.6.0->ipyleaflet>=0.14.0->geemap) (5.0.9)\nRequirement already satisfied: pexpect>4.3 in /shared-libs/python3.7/py-core/lib/python3.7/site-packages (from ipython>=4.0.0->ipywidgets<8,>=7.6.0->ipyleaflet>=0.14.0->geemap) (4.8.0)\nRequirement already satisfied: pygments in /shared-libs/python3.7/py-core/lib/python3.7/site-packages (from ipython>=4.0.0->ipywidgets<8,>=7.6.0->ipyleaflet>=0.14.0->geemap) (2.9.0)\nRequirement already satisfied: prompt-toolkit!=3.0.0,!=3.0.1,<3.1.0,>=2.0.0 in /shared-libs/python3.7/py-core/lib/python3.7/site-packages (from ipython>=4.0.0->ipywidgets<8,>=7.6.0->ipyleaflet>=0.14.0->geemap) (3.0.18)\nRequirement already satisfied: matplotlib-inline in /shared-libs/python3.7/py-core/lib/python3.7/site-packages (from ipython>=4.0.0->ipywidgets<8,>=7.6.0->ipyleaflet>=0.14.0->geemap) (0.1.2)\nRequirement already satisfied: jedi>=0.16 in /shared-libs/python3.7/py-core/lib/python3.7/site-packages (from ipython>=4.0.0->ipywidgets<8,>=7.6.0->ipyleaflet>=0.14.0->geemap) (0.17.2)\nRequirement already satisfied: parso<0.8.0,>=0.7.0 in /shared-libs/python3.7/py-core/lib/python3.7/site-packages (from jedi>=0.16->ipython>=4.0.0->ipywidgets<8,>=7.6.0->ipyleaflet>=0.14.0->geemap) (0.7.1)\nRequirement already satisfied: MarkupSafe>=2.0 in /shared-libs/python3.7/py-core/lib/python3.7/site-packages (from jinja2>=2.9->folium>=0.11.0->geemap) (2.0.1)\nRequirement already satisfied: ipython-genutils in /shared-libs/python3.7/py-core/lib/python3.7/site-packages (from nbformat>=4.2.0->ipywidgets<8,>=7.6.0->ipyleaflet>=0.14.0->geemap) (0.2.0)\nRequirement already satisfied: jupyter-core in /shared-libs/python3.7/py-core/lib/python3.7/site-packages (from nbformat>=4.2.0->ipywidgets<8,>=7.6.0->ipyleaflet>=0.14.0->geemap) (4.7.1)\nRequirement already satisfied: jsonschema!=2.5.0,>=2.4 in /shared-libs/python3.7/py-core/lib/python3.7/site-packages (from nbformat>=4.2.0->ipywidgets<8,>=7.6.0->ipyleaflet>=0.14.0->geemap) (3.2.0)\nRequirement already satisfied: pyrsistent>=0.14.0 in /shared-libs/python3.7/py-core/lib/python3.7/site-packages (from jsonschema!=2.5.0,>=2.4->nbformat>=4.2.0->ipywidgets<8,>=7.6.0->ipyleaflet>=0.14.0->geemap) (0.17.3)\nRequirement already satisfied: attrs>=17.4.0 in /shared-libs/python3.7/py-core/lib/python3.7/site-packages (from jsonschema!=2.5.0,>=2.4->nbformat>=4.2.0->ipywidgets<8,>=7.6.0->ipyleaflet>=0.14.0->geemap) (21.2.0)\nRequirement already satisfied: importlib-metadata in /shared-libs/python3.7/py-core/lib/python3.7/site-packages (from jsonschema!=2.5.0,>=2.4->nbformat>=4.2.0->ipywidgets<8,>=7.6.0->ipyleaflet>=0.14.0->geemap) (4.5.0)\nRequirement already satisfied: ptyprocess>=0.5 in /shared-libs/python3.7/py-core/lib/python3.7/site-packages (from pexpect>4.3->ipython>=4.0.0->ipywidgets<8,>=7.6.0->ipyleaflet>=0.14.0->geemap) (0.7.0)\nRequirement already satisfied: wcwidth in /shared-libs/python3.7/py-core/lib/python3.7/site-packages (from prompt-toolkit!=3.0.0,!=3.0.1,<3.1.0,>=2.0.0->ipython>=4.0.0->ipywidgets<8,>=7.6.0->ipyleaflet>=0.14.0->geemap) (0.2.5)\nRequirement already satisfied: pyasn1<0.5.0,>=0.4.6 in /shared-libs/python3.7/py/lib/python3.7/site-packages (from pyasn1-modules>=0.2.1->google-auth>=1.4.1->earthengine-api>=0.1.230->geemap) (0.4.8)\nRequirement already satisfied: idna<3,>=2.5 in /shared-libs/python3.7/py/lib/python3.7/site-packages (from requests->folium>=0.11.0->geemap) (2.10)\nRequirement already satisfied: urllib3<1.27,>=1.21.1 in /shared-libs/python3.7/py/lib/python3.7/site-packages (from requests->folium>=0.11.0->geemap) (1.26.5)\nRequirement already satisfied: certifi>=2017.4.17 in /shared-libs/python3.7/py/lib/python3.7/site-packages (from requests->folium>=0.11.0->geemap) (2020.12.5)\nRequirement already satisfied: chardet<5,>=3.0.2 in /shared-libs/python3.7/py/lib/python3.7/site-packages (from requests->folium>=0.11.0->geemap) (3.0.4)\nRequirement already satisfied: notebook>=4.4.1 in /shared-libs/python3.7/py-core/lib/python3.7/site-packages (from widgetsnbextension~=3.5.0->ipywidgets<8,>=7.6.0->ipyleaflet>=0.14.0->geemap) (7.0.0.dev0)\nRequirement already satisfied: argon2-cffi in /shared-libs/python3.7/py-core/lib/python3.7/site-packages (from notebook>=4.4.1->widgetsnbextension~=3.5.0->ipywidgets<8,>=7.6.0->ipyleaflet>=0.14.0->geemap) (20.1.0)\nRequirement already satisfied: prometheus-client in /shared-libs/python3.7/py-core/lib/python3.7/site-packages (from notebook>=4.4.1->widgetsnbextension~=3.5.0->ipywidgets<8,>=7.6.0->ipyleaflet>=0.14.0->geemap) (0.11.0)\nRequirement already satisfied: Send2Trash>=1.5.0 in /shared-libs/python3.7/py-core/lib/python3.7/site-packages (from notebook>=4.4.1->widgetsnbextension~=3.5.0->ipywidgets<8,>=7.6.0->ipyleaflet>=0.14.0->geemap) (1.5.0)\nRequirement already satisfied: pyzmq>=17 in /shared-libs/python3.7/py-core/lib/python3.7/site-packages (from notebook>=4.4.1->widgetsnbextension~=3.5.0->ipywidgets<8,>=7.6.0->ipyleaflet>=0.14.0->geemap) (22.1.0)\nRequirement already satisfied: nbconvert in /shared-libs/python3.7/py-core/lib/python3.7/site-packages (from notebook>=4.4.1->widgetsnbextension~=3.5.0->ipywidgets<8,>=7.6.0->ipyleaflet>=0.14.0->geemap) (6.0.7)\nRequirement already satisfied: terminado>=0.8.3 in /shared-libs/python3.7/py-core/lib/python3.7/site-packages (from notebook>=4.4.1->widgetsnbextension~=3.5.0->ipywidgets<8,>=7.6.0->ipyleaflet>=0.14.0->geemap) (0.10.1)\nRequirement already satisfied: python-dateutil>=2.1 in /shared-libs/python3.7/py-core/lib/python3.7/site-packages (from jupyter-client->ipykernel>=4.5.1->ipywidgets<8,>=7.6.0->ipyleaflet>=0.14.0->geemap) (2.8.1)\nRequirement already satisfied: cffi>=1.0.0 in /shared-libs/python3.7/py-core/lib/python3.7/site-packages (from argon2-cffi->notebook>=4.4.1->widgetsnbextension~=3.5.0->ipywidgets<8,>=7.6.0->ipyleaflet>=0.14.0->geemap) (1.14.5)\nRequirement already satisfied: pycparser in /shared-libs/python3.7/py-core/lib/python3.7/site-packages (from cffi>=1.0.0->argon2-cffi->notebook>=4.4.1->widgetsnbextension~=3.5.0->ipywidgets<8,>=7.6.0->ipyleaflet>=0.14.0->geemap) (2.20)\nRequirement already satisfied: ratelim in /root/venv/lib/python3.7/site-packages (from geocoder->geemap) (0.1.6)\nRequirement already satisfied: google-resumable-media<2.0dev,>=1.3.0 in /shared-libs/python3.7/py/lib/python3.7/site-packages (from google-cloud-storage->earthengine-api>=0.1.230->geemap) (1.3.0)\nRequirement already satisfied: google-cloud-core<2.0dev,>=1.4.1 in /shared-libs/python3.7/py/lib/python3.7/site-packages (from google-cloud-storage->earthengine-api>=0.1.230->geemap) (1.7.0)\nRequirement already satisfied: google-crc32c<2.0dev,>=1.0 in /shared-libs/python3.7/py/lib/python3.7/site-packages (from google-resumable-media<2.0dev,>=1.3.0->google-cloud-storage->earthengine-api>=0.1.230->geemap) (1.1.2)\nRequirement already satisfied: typing-extensions>=3.6.4 in /shared-libs/python3.7/py-core/lib/python3.7/site-packages (from importlib-metadata->jsonschema!=2.5.0,>=2.4->nbformat>=4.2.0->ipywidgets<8,>=7.6.0->ipyleaflet>=0.14.0->geemap) (3.10.0.0)\nRequirement already satisfied: zipp>=0.5 in /shared-libs/python3.7/py-core/lib/python3.7/site-packages (from importlib-metadata->jsonschema!=2.5.0,>=2.4->nbformat>=4.2.0->ipywidgets<8,>=7.6.0->ipyleaflet>=0.14.0->geemap) (3.4.1)\nRequirement already satisfied: cycler>=0.10 in /shared-libs/python3.7/py/lib/python3.7/site-packages (from matplotlib->geemap) (0.10.0)\nRequirement already satisfied: kiwisolver>=1.0.1 in /shared-libs/python3.7/py/lib/python3.7/site-packages (from matplotlib->geemap) (1.3.1)\nRequirement already satisfied: jupyterlab-pygments in /shared-libs/python3.7/py-core/lib/python3.7/site-packages (from nbconvert->notebook>=4.4.1->widgetsnbextension~=3.5.0->ipywidgets<8,>=7.6.0->ipyleaflet>=0.14.0->geemap) (0.1.2)\nRequirement already satisfied: pandocfilters>=1.4.1 in /shared-libs/python3.7/py-core/lib/python3.7/site-packages (from nbconvert->notebook>=4.4.1->widgetsnbextension~=3.5.0->ipywidgets<8,>=7.6.0->ipyleaflet>=0.14.0->geemap) (1.4.3)\nRequirement already satisfied: bleach in /shared-libs/python3.7/py-core/lib/python3.7/site-packages (from nbconvert->notebook>=4.4.1->widgetsnbextension~=3.5.0->ipywidgets<8,>=7.6.0->ipyleaflet>=0.14.0->geemap) (3.3.0)\nRequirement already satisfied: defusedxml in /shared-libs/python3.7/py-core/lib/python3.7/site-packages (from nbconvert->notebook>=4.4.1->widgetsnbextension~=3.5.0->ipywidgets<8,>=7.6.0->ipyleaflet>=0.14.0->geemap) (0.7.1)\nRequirement already satisfied: nbclient<0.6.0,>=0.5.0 in /shared-libs/python3.7/py-core/lib/python3.7/site-packages (from nbconvert->notebook>=4.4.1->widgetsnbextension~=3.5.0->ipywidgets<8,>=7.6.0->ipyleaflet>=0.14.0->geemap) (0.5.3)\nRequirement already satisfied: testpath in /shared-libs/python3.7/py-core/lib/python3.7/site-packages (from nbconvert->notebook>=4.4.1->widgetsnbextension~=3.5.0->ipywidgets<8,>=7.6.0->ipyleaflet>=0.14.0->geemap) (0.5.0)\nRequirement already satisfied: mistune<2,>=0.8.1 in /shared-libs/python3.7/py-core/lib/python3.7/site-packages (from nbconvert->notebook>=4.4.1->widgetsnbextension~=3.5.0->ipywidgets<8,>=7.6.0->ipyleaflet>=0.14.0->geemap) (0.8.4)\nRequirement already satisfied: entrypoints>=0.2.2 in /shared-libs/python3.7/py-core/lib/python3.7/site-packages (from nbconvert->notebook>=4.4.1->widgetsnbextension~=3.5.0->ipywidgets<8,>=7.6.0->ipyleaflet>=0.14.0->geemap) (0.3)\nRequirement already satisfied: nest-asyncio in /shared-libs/python3.7/py-core/lib/python3.7/site-packages (from nbclient<0.6.0,>=0.5.0->nbconvert->notebook>=4.4.1->widgetsnbextension~=3.5.0->ipywidgets<8,>=7.6.0->ipyleaflet>=0.14.0->geemap) (1.5.1)\nRequirement already satisfied: async-generator in /shared-libs/python3.7/py-core/lib/python3.7/site-packages (from nbclient<0.6.0,>=0.5.0->nbconvert->notebook>=4.4.1->widgetsnbextension~=3.5.0->ipywidgets<8,>=7.6.0->ipyleaflet>=0.14.0->geemap) (1.10)\nRequirement already satisfied: webencodings in /shared-libs/python3.7/py-core/lib/python3.7/site-packages (from bleach->nbconvert->notebook>=4.4.1->widgetsnbextension~=3.5.0->ipywidgets<8,>=7.6.0->ipyleaflet>=0.14.0->geemap) (0.5.1)\nRequirement already satisfied: plotly in /shared-libs/python3.7/py/lib/python3.7/site-packages (from sankee->geemap) (4.14.3)\nRequirement already satisfied: retrying>=1.3.3 in /shared-libs/python3.7/py/lib/python3.7/site-packages (from plotly->sankee->geemap) (1.3.3)\nRequirement already satisfied: jupyter-server<2.0.0,>=0.3.0 in /root/venv/lib/python3.7/site-packages (from voila->geemap) (1.9.0)\nRequirement already satisfied: requests-unixsocket in /root/venv/lib/python3.7/site-packages (from jupyter-server<2.0.0,>=0.3.0->voila->geemap) (0.2.0)\nRequirement already satisfied: anyio<4,>=3.1.0 in /root/venv/lib/python3.7/site-packages (from jupyter-server<2.0.0,>=0.3.0->voila->geemap) (3.2.1)\nRequirement already satisfied: websocket-client in /root/venv/lib/python3.7/site-packages (from jupyter-server<2.0.0,>=0.3.0->voila->geemap) (1.1.0)\nRequirement already satisfied: sniffio>=1.1 in /root/venv/lib/python3.7/site-packages (from anyio<4,>=3.1.0->jupyter-server<2.0.0,>=0.3.0->voila->geemap) (1.2.0)\nRequirement already satisfied: whitebox in /root/venv/lib/python3.7/site-packages (from whiteboxgui->geemap) (1.5.1)\n\u001b[33mWARNING: You are using pip version 21.1.2; however, version 21.1.3 is available.\nYou should consider upgrading via the '/root/venv/bin/python -m pip install --upgrade pip' command.\u001b[0m\n",
     "output_type": "stream"
    }
   ]
  },
  {
   "cell_type": "code",
   "metadata": {
    "tags": [],
    "cell_id": "00002-e5c7d408-bb10-4e9e-abe7-ea15ec8bdee5",
    "deepnote_to_be_reexecuted": false,
    "source_hash": "83f0f12e",
    "execution_start": 1625686581270,
    "execution_millis": 1574,
    "deepnote_cell_type": "code"
   },
   "source": "import geopandas as gpd\nimport numpy as np\nimport pandas as pd\nimport geemap\n# geemap.update_package()\nimport ee",
   "execution_count": null,
   "outputs": []
  },
  {
   "cell_type": "code",
   "metadata": {
    "tags": [],
    "cell_id": "00003-073841dd-20fc-438d-8991-835360ce8574",
    "deepnote_to_be_reexecuted": false,
    "source_hash": "28583446",
    "execution_start": 1625689737955,
    "execution_millis": 43090,
    "deepnote_cell_type": "code"
   },
   "source": "ee.Authenticate()\nee.Initialize()",
   "execution_count": null,
   "outputs": [
    {
     "data": {
      "text/plain": "<IPython.core.display.HTML object>",
      "text/html": "<p>To authorize access needed by Earth Engine, open the following\n        URL in a web browser and follow the instructions:</p>\n        <p><a href=https://accounts.google.com/o/oauth2/auth?client_id=517222506229-vsmmajv00ul0bs7p89v5m89qs8eb9359.apps.googleusercontent.com&scope=https%3A%2F%2Fwww.googleapis.com%2Fauth%2Fearthengine+https%3A%2F%2Fwww.googleapis.com%2Fauth%2Fdevstorage.full_control&redirect_uri=urn%3Aietf%3Awg%3Aoauth%3A2.0%3Aoob&response_type=code&code_challenge=98GiNZUGk2jzIQ9pA2a_h22XjiD6GLeQGIr_boQS9A8&code_challenge_method=S256>https://accounts.google.com/o/oauth2/auth?client_id=517222506229-vsmmajv00ul0bs7p89v5m89qs8eb9359.apps.googleusercontent.com&scope=https%3A%2F%2Fwww.googleapis.com%2Fauth%2Fearthengine+https%3A%2F%2Fwww.googleapis.com%2Fauth%2Fdevstorage.full_control&redirect_uri=urn%3Aietf%3Awg%3Aoauth%3A2.0%3Aoob&response_type=code&code_challenge=98GiNZUGk2jzIQ9pA2a_h22XjiD6GLeQGIr_boQS9A8&code_challenge_method=S256</a></p>\n        <p>The authorization workflow will generate a code, which you\n        should paste in the box below</p>\n        "
     },
     "metadata": {},
     "output_type": "display_data"
    },
    {
     "name": "stdout",
     "text": "\nSuccessfully saved authorization token.\n",
     "output_type": "stream"
    }
   ]
  },
  {
   "cell_type": "markdown",
   "source": "## Load in study area",
   "metadata": {
    "tags": [],
    "cell_id": "00004-6f894809-2707-4b11-a084-4e2ba43bcd19",
    "is_collapsed": false,
    "deepnote_cell_type": "text-cell-h2"
   }
  },
  {
   "cell_type": "code",
   "metadata": {
    "tags": [],
    "cell_id": "00005-6e165623-8ac8-4732-93ec-cdf7c922ffd2",
    "deepnote_to_be_reexecuted": false,
    "source_hash": "88f18def",
    "execution_start": 1625689785468,
    "execution_millis": 3,
    "deepnote_cell_type": "code"
   },
   "source": "knp = ee.FeatureCollection('users/jdmwhite/KNP_study_area')",
   "execution_count": null,
   "outputs": []
  },
  {
   "cell_type": "markdown",
   "source": "## Load in variables from Joe",
   "metadata": {
    "tags": [],
    "cell_id": "00006-32df871d-2519-4973-b1c6-f6439853b47f",
    "is_collapsed": false,
    "deepnote_cell_type": "text-cell-h2"
   }
  },
  {
   "cell_type": "markdown",
   "source": "### Set-up date variables",
   "metadata": {
    "tags": [],
    "cell_id": "00008-702ec825-f9ae-415f-bd11-f12a81da36d0",
    "is_collapsed": false,
    "deepnote_cell_type": "text-cell-h3"
   }
  },
  {
   "cell_type": "code",
   "metadata": {
    "tags": [],
    "cell_id": "00009-706b1598-4e4f-44c2-b7f1-c6147c45cb5d",
    "deepnote_to_be_reexecuted": false,
    "source_hash": "4d8a92b4",
    "execution_start": 1625689786556,
    "execution_millis": 0,
    "deepnote_cell_type": "code"
   },
   "source": "startDate = ee.Date('2013-01-01')\nendDate = ee.Date('2013-12-01')",
   "execution_count": null,
   "outputs": []
  },
  {
   "cell_type": "markdown",
   "source": "### Vegetation indices",
   "metadata": {
    "tags": [],
    "cell_id": "00009-86b0f4bc-3f36-4412-b6c2-bda50de50f4a",
    "is_collapsed": false,
    "deepnote_cell_type": "text-cell-h3"
   }
  },
  {
   "cell_type": "code",
   "metadata": {
    "tags": [],
    "cell_id": "00010-8b9a8924-b94c-428b-bfa7-32fbf8f031f9",
    "deepnote_to_be_reexecuted": false,
    "source_hash": "8c95ec69",
    "execution_start": 1625689787186,
    "execution_millis": 1,
    "deepnote_cell_type": "code"
   },
   "source": "# MODIS EVI\nsummerStart = ee.Date('2012-11-01')\nsummerEnd = ee.Date('2013-04-01')\nwinterStart = ee.Date('2013-05-01')\nwinterEnd = ee.Date('2013-10-01')\n\nmodis_evi_summer = ee.ImageCollection(\"MODIS/006/MOD13Q1\").filterDate(summerStart, summerEnd).select('EVI').mean().multiply(0.0001).clip(knp).rename('evi_summer')\nmodis_evi_winter = ee.ImageCollection(\"MODIS/006/MOD13Q1\").filterDate(winterStart, winterEnd).select('EVI').mean().multiply(0.0001).clip(knp).rename('evi_winter')",
   "execution_count": null,
   "outputs": []
  },
  {
   "cell_type": "markdown",
   "source": "### Temperature",
   "metadata": {
    "tags": [],
    "cell_id": "00011-ced3f619-86cb-45e6-9f5e-f42a7a8b7f2e",
    "is_collapsed": false,
    "deepnote_cell_type": "text-cell-h3"
   }
  },
  {
   "cell_type": "code",
   "metadata": {
    "tags": [],
    "cell_id": "00012-db1d31f6-e52c-44b6-b7c7-580f2d92f5e3",
    "deepnote_to_be_reexecuted": false,
    "source_hash": "537ab7e1",
    "execution_start": 1625689787791,
    "execution_millis": 1,
    "deepnote_cell_type": "code"
   },
   "source": "# Temperature from Bioclim\nbio_minT = ee.Image(\"WORLDCLIM/V1/BIO\").select([\"bio06\"]).multiply(0.1).rename('bio_minT').clip(knp)\nbio_maxT = ee.Image(\"WORLDCLIM/V1/BIO\").select([\"bio05\"]).multiply(0.1).rename('bio_maxT').clip(knp)",
   "execution_count": null,
   "outputs": []
  },
  {
   "cell_type": "markdown",
   "source": "### Rainfall",
   "metadata": {
    "tags": [],
    "cell_id": "00013-f207b567-87d7-432e-b2fb-a3ad2a59c81a",
    "is_collapsed": false,
    "deepnote_cell_type": "text-cell-h3"
   }
  },
  {
   "cell_type": "code",
   "metadata": {
    "tags": [],
    "cell_id": "00014-ae5573ab-1a75-4f80-8997-4f45e2a1fac0",
    "deepnote_to_be_reexecuted": false,
    "source_hash": "91b071e",
    "execution_start": 1625689788523,
    "execution_millis": 4,
    "deepnote_cell_type": "code"
   },
   "source": "# Rainfall from Bioclim\nbio_annP = ee.Image(\"WORLDCLIM/V1/BIO\").select([\"bio12\"]).rename('bio_annP').clip(knp)\nbio_Pwq = ee.Image(\"WORLDCLIM/V1/BIO\").select([\"bio16\"]).rename('bio_Pwq').clip(knp)\nbio_Pdq = ee.Image(\"WORLDCLIM/V1/BIO\").select([\"bio17\"]).rename('bio_Pdq').clip(knp)",
   "execution_count": null,
   "outputs": []
  },
  {
   "cell_type": "markdown",
   "source": "### Topography",
   "metadata": {
    "tags": [],
    "cell_id": "00015-62bcde4e-4dd6-4ccd-8291-f3864960d92c",
    "is_collapsed": false,
    "deepnote_cell_type": "text-cell-h3"
   }
  },
  {
   "cell_type": "code",
   "metadata": {
    "tags": [],
    "cell_id": "00016-4160b818-9505-4fec-b4a6-2b2d2e33659c",
    "deepnote_to_be_reexecuted": false,
    "source_hash": "64226f79",
    "execution_start": 1625689789315,
    "execution_millis": 20,
    "deepnote_cell_type": "code"
   },
   "source": "# elevation\nelevation = ee.Image(\"NASA/NASADEM_HGT/001\").select('elevation').clip(knp)\n\n# geomorpho90m\ncti = ee.ImageCollection(\"projects/sat-io/open-datasets/Geomorpho90m/cti\").median().clip(knp).rename('cti')\ntri = ee.ImageCollection(\"projects/sat-io/open-datasets/Geomorpho90m/tri\").median().clip(knp).rename('tri')\nslope = ee.ImageCollection(\"projects/sat-io/open-datasets/Geomorpho90m/slope\").median().clip(knp).rename('slope')\nvrm = ee.ImageCollection(\"projects/sat-io/open-datasets/Geomorpho90m/vrm\").median().clip(knp).rename('vrm')\nroughness = ee.ImageCollection(\"projects/sat-io/open-datasets/Geomorpho90m/roughness\").median().clip(knp).rename('roughness')\ntpi = ee.ImageCollection(\"projects/sat-io/open-datasets/Geomorpho90m/tpi\").median().clip(knp).rename('tpi')\nspi = ee.ImageCollection(\"projects/sat-io/open-datasets/Geomorpho90m/spi\").median().clip(knp).rename('spi')\n\n# microclimate CHILI\nchili = ee.Image('CSP/ERGo/1_0/Global/SRTM_CHILI').rename('CHILI').clip(knp)\n\n# topographic diversity\ntopD = ee.Image('CSP/ERGo/1_0/Global/SRTM_topoDiversity').rename('topD').clip(knp)",
   "execution_count": null,
   "outputs": []
  },
  {
   "cell_type": "markdown",
   "source": "### Soils",
   "metadata": {
    "tags": [],
    "cell_id": "00017-b583f835-648c-4ed1-91b5-e57938bc7940",
    "is_collapsed": false,
    "deepnote_cell_type": "text-cell-h3"
   }
  },
  {
   "cell_type": "code",
   "metadata": {
    "tags": [],
    "cell_id": "00018-9695c971-62f1-460f-b94e-abc1b934aca3",
    "deepnote_to_be_reexecuted": false,
    "source_hash": "e1125ecc",
    "execution_start": 1625689789792,
    "execution_millis": 21,
    "deepnote_cell_type": "code"
   },
   "source": "# HiHydro Layers 250m\nksat = ee.ImageCollection(\"projects/sat-io/open-datasets/HiHydroSoilv2_0/ksat\").first().multiply(0.0001).rename('ksat').clip(knp)\nsatfield = ee.ImageCollection(\"projects/sat-io/open-datasets/HiHydroSoilv2_0/sat-field\").first().multiply(0.0001).rename('satfield').clip(knp)\nN = ee.ImageCollection(\"projects/sat-io/open-datasets/HiHydroSoilv2_0/N\").first().multiply(0.0001).rename('N').clip(knp)\nalpha = ee.ImageCollection(\"projects/sat-io/open-datasets/HiHydroSoilv2_0/alpha\").first().multiply(0.0001).rename('alpha').clip(knp)\ncrit_wilt = ee.ImageCollection(\"projects/sat-io/open-datasets/HiHydroSoilv2_0/crit-wilt\").first().multiply(0.0001).rename('critwilt').clip(knp)\nfield_cirt = ee.ImageCollection(\"projects/sat-io/open-datasets/HiHydroSoilv2_0/field-crit\").first().multiply(0.0001).rename('fieldcrit').clip(knp)\normc = ee.ImageCollection(\"projects/sat-io/open-datasets/HiHydroSoilv2_0/ormc\").first().multiply(0.0001).rename('ormc').clip(knp)\nstc = ee.ImageCollection(\"projects/sat-io/open-datasets/HiHydroSoilv2_0/stc\").first().multiply(0.0001).rename('stc').clip(knp)\nwcavail = ee.ImageCollection(\"projects/sat-io/open-datasets/HiHydroSoilv2_0/wcavail\").first().multiply(0.0001).rename('wcavail').clip(knp)\nwcpf2 = ee.ImageCollection(\"projects/sat-io/open-datasets/HiHydroSoilv2_0/wcpf2\").first().multiply(0.0001).rename('wcpf2').clip(knp)\nwcpf3 = ee.ImageCollection(\"projects/sat-io/open-datasets/HiHydroSoilv2_0/wcpf3\").first().multiply(0.0001).rename('wcpf3').clip(knp)\nwcpf4_2 = ee.ImageCollection(\"projects/sat-io/open-datasets/HiHydroSoilv2_0/wcpf4-2\").first().multiply(0.0001).rename('wcpf4-2').clip(knp)\n# wcres = ee.ImageCollection(\"projects/sat-io/open-datasets/HiHydroSoilv2_0/wcres\").first().multiply(0.0001).rename('wcres').clip(knp)\nwcsat = ee.ImageCollection(\"projects/sat-io/open-datasets/HiHydroSoilv2_0/wcsat\").first().multiply(0.0001).rename('wcsat').clip(knp)\n\n# Hengl Africa Soils 30m\nbedrock_depth = ee.Image(\"projects/sat-io/open-datasets/iSDAsoil_Africa_30m/bedrock_depth\").select('b1').rename('H_bed_depth').clip(knp)\nbulk_density = ee.Image(\"projects/sat-io/open-datasets/iSDAsoil_Africa_30m/bulk_density\").select('b1').rename('H_bulk_dens').clip(knp)\ncarbon_organic = ee.Image(\"projects/sat-io/open-datasets/iSDAsoil_Africa_30m/carbon_organic\").select('b1').rename('H_carb_org').clip(knp)\ncarbon_total = ee.Image(\"projects/sat-io/open-datasets/iSDAsoil_Africa_30m/carbon_total\").select('b1').rename('H_carb_tot').clip(knp)\ncation_exchange_capacity = ee.Image(\"projects/sat-io/open-datasets/iSDAsoil_Africa_30m/cation_exchange_capacity\").select('b1').rename('H_cec').clip(knp)\nclay_content = ee.Image(\"projects/sat-io/open-datasets/iSDAsoil_Africa_30m/clay_content\").select('b1').rename('H_clay').clip(knp)\nfertility_capability_classification = ee.Image(\"projects/sat-io/open-datasets/iSDAsoil_Africa_30m/fcc\").select('b1').rename('H_fcc').clip(knp)\nnitrogen_total = ee.Image(\"projects/sat-io/open-datasets/iSDAsoil_Africa_30m/nitrogen_total\").select('b1').rename('H_N_tot').clip(knp)\nph = ee.Image(\"projects/sat-io/open-datasets/iSDAsoil_Africa_30m/ph\").select('b1').rename('H_ph').clip(knp)\nsand_content = ee.Image(\"projects/sat-io/open-datasets/iSDAsoil_Africa_30m/sand_content\").select('b1').rename('H_sand').clip(knp)\nsilt_content = ee.Image(\"projects/sat-io/open-datasets/iSDAsoil_Africa_30m/silt_content\").select('b1').rename('H_silt').clip(knp)\nstone_content = ee.Image(\"projects/sat-io/open-datasets/iSDAsoil_Africa_30m/stone_content\").select('b1').rename('H_stone').clip(knp)\ntexture_class = ee.Image(\"projects/sat-io/open-datasets/iSDAsoil_Africa_30m/texture_class\").select('b1').rename('H_text_class').clip(knp)",
   "execution_count": null,
   "outputs": []
  },
  {
   "cell_type": "markdown",
   "source": "## Load in Variables from Geethen",
   "metadata": {
    "tags": [],
    "cell_id": "00019-516caac2-ec48-4380-b61a-f5dd90f5cfb0",
    "is_collapsed": false,
    "deepnote_cell_type": "text-cell-h2"
   }
  },
  {
   "cell_type": "markdown",
   "source": "### Water",
   "metadata": {
    "tags": [],
    "cell_id": "00020-304918cd-2304-4bfc-83ad-abc51751591a",
    "is_collapsed": false,
    "deepnote_cell_type": "text-cell-h3"
   }
  },
  {
   "cell_type": "code",
   "metadata": {
    "tags": [],
    "cell_id": "00021-dc3ed4c1-854b-4a3a-a924-c0fbf44f6493",
    "deepnote_to_be_reexecuted": false,
    "source_hash": "ade059de",
    "execution_start": 1625689792070,
    "execution_millis": 4,
    "deepnote_cell_type": "code"
   },
   "source": "# GSW\ngsw = ee.Image(\"JRC/GSW1_3/GlobalSurfaceWater\").clip(knp)\n# dropping max_extent\ngsw = gsw.select(['occurrence', 'change_abs', 'change_norm', 'seasonality', 'recurrence', 'transition'])\n\n# Pickens\ngsd = ee.Image('projects/glad/water/dynamics20/classes').clip(knp)\n\n# OSM\nosm_water = ee.ImageCollection(\"projects/sat-io/open-datasets/OSM_waterLayer\").median().clip(knp).rename('osm_water')",
   "execution_count": null,
   "outputs": []
  },
  {
   "cell_type": "markdown",
   "source": "### Infrastructure",
   "metadata": {
    "tags": [],
    "cell_id": "00022-308b7ded-4e90-4728-85fd-92e1d21bedef",
    "is_collapsed": false,
    "deepnote_cell_type": "text-cell-h3"
   }
  },
  {
   "cell_type": "code",
   "metadata": {
    "tags": [],
    "cell_id": "00023-bf02bc47-173a-4b56-80a7-14a8850a6b07",
    "deepnote_to_be_reexecuted": false,
    "source_hash": "8d771dba",
    "execution_start": 1625689793198,
    "execution_millis": 1,
    "deepnote_cell_type": "code"
   },
   "source": "# GRIP\ngrip4_africa = ee.FeatureCollection(\"projects/sat-io/open-datasets/GRIP4/Africa\").filterBounds(knp).distance().clip(knp).rename('distance_roads')\n\n# Transmission\ntransmission = ee.FeatureCollection(\"projects/sat-io/open-datasets/predictive-global-power-system/distribution-transmission-lines\")\\\n                .filterBounds(knp).distance().clip(knp).rename('distance_trans_lines')\n\n# Settlements\nS2_CNN_collection = ee.ImageCollection('users/ghsl/S2_CNN');\nmosaic = S2_CNN_collection.filterBounds(knp).mosaic().clip(knp);\n\ndef layerMasked (layer):\n  return layer.updateMask(layer.gte(20))\n\nsettlements = layerMasked(mosaic).gt(0).selfMask().reduceToVectors(**{'geometry':knp,'scale':10, 'maxPixels':1e13}).distance()\\\n                .rename('distance_settlements')",
   "execution_count": null,
   "outputs": []
  },
  {
   "cell_type": "markdown",
   "source": "### Soil erosion",
   "metadata": {
    "tags": [],
    "cell_id": "00024-2c0a012f-6707-4d8e-a5e1-43680d45d64f",
    "is_collapsed": false,
    "deepnote_cell_type": "text-cell-h3"
   }
  },
  {
   "cell_type": "code",
   "metadata": {
    "tags": [],
    "cell_id": "00025-7285f520-6913-43a6-bea2-f4a059ae6026",
    "deepnote_to_be_reexecuted": false,
    "source_hash": "659a8cc0",
    "execution_start": 1625689794122,
    "execution_millis": 1,
    "deepnote_cell_type": "code"
   },
   "source": "# bare ground\nbare_frequency = ee.Image('users/geocis/BareSurfaces/BF_1980_2019').clip(knp)",
   "execution_count": null,
   "outputs": []
  },
  {
   "cell_type": "markdown",
   "source": "### Landcover",
   "metadata": {
    "tags": [],
    "cell_id": "00026-2004621b-5e98-43f3-ac7f-81fca51f6e28",
    "is_collapsed": false,
    "deepnote_cell_type": "text-cell-h3"
   }
  },
  {
   "cell_type": "code",
   "metadata": {
    "tags": [],
    "cell_id": "00027-8dd87990-e3f2-4545-8f30-a079b78cd0ba",
    "deepnote_to_be_reexecuted": false,
    "source_hash": "e159d210",
    "execution_start": 1625689794853,
    "execution_millis": 6,
    "deepnote_cell_type": "code"
   },
   "source": "# SA LC 2018\nsa_nlc2018 = ee.Image('projects/sat-io/open-datasets/landcover/SA_NLC_2018').clip(knp).rename('SANLC')\n# dict = {\"names\": [\"Contiguous (indigenous) Forest (combined very high, high, medium)\", \"Contiguous Low Forest & Thicket (combined classes)\", \"Dense Forest & Woodland (35 - 75% cc)\", \"Open Woodland (10 - 35% cc)\", \"Contiguous & Dense Planted Forest (combined classes)\", \"Open & Sparse Planted Forest\", \"Temporary Unplanted Forest\", \"Low Shrubland (other regions)\", \"Low Shrubland (Fynbos)\", \"Low Shrubland (Succulent Karoo)\", \"Low Shrubland (Nama Karoo)\", \"Sparsely Wooded Grassland (5 - 10% cc)\", \"Natural Grassland\", \"Natural Rivers\", \"Natural Estuaries & Lagoons\", \"Natural Ocean, Coastal\", \"Natural Lakes\", \"Natural Pans (flooded @ obsv time)\", \"Artificial Dams (incl. canals)\", \"Artificial Sewage Ponds\", \"Artificial Flooded Mine Pits\", \"Herbaceous Wetlands (currently mapped)\", \"Herbaceous Wetlands (previous mapped extent)\", \"Mangrove Wetlands\", \"Natural Rock Surfaces\", \"Dry Pans\", \"Eroded Lands\", \"Sand Dunes (terrestrial)\", \"Coastal Sand Dunes & Beach Sand\", \"Bare Riverbed Material\", \"Other Bare\", \"Cultivated Commercial Permanent Orchards\", \"Cultivated Commercial Permanent Vines\", \"Cultivated Commercial Sugarcane Pivot Irrigated\", \"Commercial Permanent Pineapples\", \"Cultivated Commercial Sugarcane Non-Pivot (all other)\", \"Cultivated Emerging Farmer Sugarcane Non-Pivot (all other)\", \"Commercial Annuals Pivot Irrigated\", \"Commercial Annuals Non-Pivot Irrigated\", \"Commercial Annuals Crops Rain-Fed / Dryland / Non-Irrigated\", \"Subsistence / Small-Scale Annual Crops\", \"Fallow Land & Old Fields (Trees)\", \"Fallow Land & Old Fields (Bush)\", \"Fallow Land & Old Fields (Grass)\", \"Fallow Land & Old Fields (Bare)\", \"Fallow Land & Old Fields (Low Shrub)\", \"Residential Formal (Tree)\", \"Residential Formal (Bush)\", \"Residential Formal (low veg / grass)\", \"Residential Formal (Bare)\", \"Residential Informal (Tree)\", \"Residential Informal (Bush)\", \"Residential Informal (low veg / grass)\", \"Residential Informal (Bare)\", \"Village Scattered (bare only)\", \"Village Dense (bare only)\", \"Smallholdings (Tree)\", \"Smallholdings (Bush)\", \"Smallholdings (low veg / grass)\", \"Smallholdings (Bare)\", \"Urban Recreational Fields (Tree)\", \"Urban Recreational Fields (Bush)\", \"Urban Recreational Fields (Grass)\", \"Urban Recreational Fields (Bare)\", \"Commercial\", \"Industrial\", \"Roads & Rail (Major Linear)\", \"Mines: Surface Infrastructure\", \"Mines: Extraction Sites: Open Cast & Quarries combined\", \"Mines: Extraction Sites: Salt Mines\", \"Mines: Waste (Tailings) & Resource Dumps\", \"Land-fills\", \"Fallow Land & Old Fields (wetlands)\"], \"colors\": [\"#F2F2F2\", \"#065106\", \"#005F00\", \"#008500\", \"#F74006\", \"#F9764D\", \"#F9906C\", \"#B8ABD1\", \"#8FAB39\", \"#AC92C5\", \"#AC9CDA\", \"#85D285\", \"#D2B485\", \"#00009F\", \"#041FA7\", \"#0639AB\", \"#0D50AC\", \"#125FAC\", \"#1373B4\", \"#1D81B6\", \"#1F8EB8\", \"#06DEDC\", \"#06E0D0\", \"#9F1FEC\", \"#ffffe0\", \"#DCDAC5\", \"#F9E0E0\", \"#F9F9C5\", \"#F9F9A7\", \"#CDD2E0\", \"#ffffe0\", \"#A62C39\", \"#B31F5C\", \"#DB0000\", \"#9F3978\", \"#FF0000\", \"#F64D6C\", \"#381A12\", \"#521F1C\", \"#85402C\", \"#C5735F\", \"#C1436C\", \"#C55E82\", \"#D27592\", \"#E0AAB8\", \"#DB90A9\", \"#ECDB0F\", \"#F6EC13\", \"#F9F81F\", \"#FFFF29\", \"#EC82EC\", \"#F691E0\", \"#F99FCF\", \"#FFC5CF\", \"#ECC500\", \"#FFD91F\", \"#AC7879\", \"#B89192\", \"#C49C9E\", \"#D2B8B8\", \"#BFFF00\", \"#33FF33\", \"#66FF66\", \"#99FF99\", \"#C49F0D\", \"#8F8506\", \"#F9DD03\", \"#FFFF00\", \"#B30606\", \"#C50606\", \"#D21D1A\", \"#F95479\", \"#6CE7DC\"]}\n\n# Corine LC\nLC = ee.Image(ee.ImageCollection(\"COPERNICUS/Landcover/100m/Proba-V-C3/Global\").first().clip(knp)).select('.*coverfraction')\\\n.select('bare-coverfraction', 'urban-coverfraction', 'crops-coverfraction', 'grass-coverfraction', 'water-permanent-coverfraction', 'water-seasonal-coverfraction', 'shrub-coverfraction', 'tree-coverfraction')\n\n# SA Vegmap 2019b\nvegmap =  ee.Image(ee.FeatureCollection(\"users/zandersamuel/SA_misc/SA_veg_functional_V3_26032019\").reduceToImage(**{\\\n    'properties': ['BRGNID_18'],\\\n    'reducer': ee.Reducer.first()\\\n})).rename('vegtype_id')",
   "execution_count": null,
   "outputs": []
  },
  {
   "cell_type": "markdown",
   "source": "### Habitat heterogeneity",
   "metadata": {
    "tags": [],
    "cell_id": "00028-c9cf69a1-23c2-4683-9b37-18975c626ed3",
    "is_collapsed": false,
    "deepnote_cell_type": "text-cell-h3"
   }
  },
  {
   "cell_type": "code",
   "metadata": {
    "tags": [],
    "cell_id": "00029-d4a6d086-9cdd-4a2d-ab25-19c0b9f1bb47",
    "deepnote_to_be_reexecuted": false,
    "source_hash": "a265590e",
    "execution_start": 1625689796156,
    "execution_millis": 2,
    "deepnote_cell_type": "code"
   },
   "source": "# Global habitat heterogeneity\ncov = ee.Image(\"projects/sat-io/open-datasets/global_habitat_heterogeneity/coefficient_of_variation_1km\")\ncontrast = ee.Image(\"projects/sat-io/open-datasets/global_habitat_heterogeneity/contrast_1km\")\ncorr = ee.Image(\"projects/sat-io/open-datasets/global_habitat_heterogeneity/correlation_1km\")\ndissimilarity = ee.Image(\"projects/sat-io/open-datasets/global_habitat_heterogeneity/dissimilarity_1km\")\nentropy = ee.Image(\"projects/sat-io/open-datasets/global_habitat_heterogeneity/entropy_1km\")\nhomogeneity = ee.Image(\"projects/sat-io/open-datasets/global_habitat_heterogeneity/homogeneity_1km\")\nmaximum = ee.Image(\"projects/sat-io/open-datasets/global_habitat_heterogeneity/maximum_1km\")\nmean = ee.Image(\"projects/sat-io/open-datasets/global_habitat_heterogeneity/mean_1km\")\npielou = ee.Image(\"projects/sat-io/open-datasets/global_habitat_heterogeneity/pielou_1km\")\nrange = ee.Image(\"projects/sat-io/open-datasets/global_habitat_heterogeneity/range_1km\")\nshannon = ee.Image(\"projects/sat-io/open-datasets/global_habitat_heterogeneity/shannon_1km\")\nsimpson = ee.Image(\"projects/sat-io/open-datasets/global_habitat_heterogeneity/simpson_1km\")\nsd = ee.Image(\"projects/sat-io/open-datasets/global_habitat_heterogeneity/standard_deviation_1km\")\nuniformity = ee.Image(\"projects/sat-io/open-datasets/global_habitat_heterogeneity/uniformity_1km\")\nvariance = ee.Image(\"projects/sat-io/open-datasets/global_habitat_heterogeneity/variance_1km\")\n\nhab_hetero = ee.Image.cat([cov, contrast, corr, dissimilarity, entropy, homogeneity, maximum, mean, pielou, range, shannon, simpson, sd, uniformity, variance])\\\n                .rename(['cov', 'contrast', 'corr', 'dissimilarity', 'entropy', 'homogeneity', 'maximum', 'mean', 'pielou', 'range', 'shannon', 'simpson', 'sd', 'uniformity', 'variance'])\\\n                .clip(knp)\n\n# print(hab_hetero.bandNames().getInfo())\n\n# Global canopy height\ncanopy_height = ee.ImageCollection('users/potapovpeter/GEDI_V27').filterBounds(knp).mosaic().clip(knp).rename('canopy_height')\n",
   "execution_count": null,
   "outputs": []
  },
  {
   "cell_type": "markdown",
   "source": "### Fire",
   "metadata": {
    "tags": [],
    "cell_id": "00030-cbd07292-99a6-4ba7-866f-419b2141b440",
    "is_collapsed": false,
    "deepnote_cell_type": "text-cell-h3"
   }
  },
  {
   "cell_type": "code",
   "metadata": {
    "tags": [],
    "cell_id": "00031-0a894b1c-1a7d-4966-ab5c-806d011ac022",
    "deepnote_to_be_reexecuted": false,
    "source_hash": "91418fc",
    "execution_start": 1625689798673,
    "execution_millis": 4,
    "deepnote_cell_type": "code"
   },
   "source": "FireCCI = ee.ImageCollection('ESA/CCI/FireCCI/5_1').select(['BurnDate','ConfidenceLevel'])\n\n\n# Set your start and end dates to filter by\nstartDate = ee.Date.fromYMD(2001,1,1)\nendDate = ee.Date.fromYMD(2018,12,31)\nyears = ee.List.sequence(2001, 2018)\n\n# Select appropriate bands, filter by dates, clip by AOI, set year and yrmnth properties\nfire = FireCCI.filterDate(startDate, endDate)\\\n    .map(lambda img : img.clip(knp)\\\n              .set('year', ee.Image(img).date().get('year'))\\\n              .set('yrmnth',ee.Date.parse('YYYY_MM_DD', (img.get('system:index'))).format('YYYY_MM')))\n\n# Remove all fires with less than 50% confidence\nconfMask = fire.map(lambda img: img.select('BurnDate').updateMask(img.select('ConfidenceLevel').gt(50)\\\n                    .set('year', ee.Image(img).date().get('year')))\\\n                    .set('yrmnth', ee.Image(img).get('yrmnth')))\n\n# Count the distinct DOY the occurrences of those fires AND Set the band property to year\nfireCNT = ee.ImageCollection.fromImages(years.map(lambda year : confMask.filterMetadata('year', 'equals', year)\\\n    .select('BurnDate').reduce(ee.Reducer.countDistinct()).set('year', year))).sum().unmask()\n\n# Concatenate the DOY per month into a new image collection\nfireDOY = ee.ImageCollection.fromImages(years.map(lambda year: confMask.filterMetadata('year', 'equals', year)\\\n    .select('BurnDate').reduce(ee.Reducer.firstNonNull()).set('year', year))).mode() \n\nlatest_fire = confMask.qualityMosaic('BurnDate').unmask()",
   "execution_count": null,
   "outputs": []
  },
  {
   "cell_type": "markdown",
   "source": "## Merge covariates as stack/multiband image",
   "metadata": {
    "tags": [],
    "cell_id": "00032-96d827bd-bc8e-42c2-bd9f-f2be88c89359",
    "is_collapsed": false,
    "deepnote_cell_type": "text-cell-h2"
   }
  },
  {
   "cell_type": "code",
   "metadata": {
    "tags": [],
    "cell_id": "00033-4d2a3a7f-0117-422a-9cb0-943ff744f809",
    "deepnote_to_be_reexecuted": false,
    "source_hash": "8026aada",
    "execution_start": 1625689803018,
    "execution_millis": 1343,
    "deepnote_cell_type": "code"
   },
   "source": "# covariates = minT.addBands([wSeasonality, totalPrecipitation ,D2Coast,elevation,chili,GHM,topD, frost, FDs, FDs10])\n\ncovariates = elevation.addBands([modis_evi_summer, modis_evi_winter, bio_minT, bio_maxT, bio_annP, bio_Pwq,\\\nbio_Pdq, cti, tri, slope, vrm, roughness, tpi, spi, chili, topD, ksat, satfield, N, alpha, crit_wilt,\\\nfield_cirt, ormc, stc, wcavail, wcpf2, wcpf3, wcpf4_2, wcsat, bedrock_depth, bulk_density,\\\ncarbon_organic, carbon_total, cation_exchange_capacity, clay_content, fertility_capability_classification,\\\nnitrogen_total, ph, sand_content, silt_content, stone_content, texture_class,\\\n\\\ngsw, gsd, osm_water, grip4_africa, transmission, settlements, bare_frequency, sa_nlc2018, LC, vegmap,\\\n# cov, contrast, corr, dissimilarity, entropy, homogeneity, maximum, mean, pielou, range, shannon, simpson,\\\n# sd, uniformity, variance,\\\nhab_hetero, canopy_height, fireCNT, latest_fire])\n\nprint(covariates.bandNames().getInfo())",
   "execution_count": null,
   "outputs": [
    {
     "name": "stdout",
     "text": "['elevation', 'evi_summer', 'evi_winter', 'bio_minT', 'bio_maxT', 'bio_annP', 'bio_Pwq', 'bio_Pdq', 'cti', 'tri', 'slope', 'vrm', 'roughness', 'tpi', 'spi', 'CHILI', 'topD', 'ksat', 'satfield', 'N', 'alpha', 'critwilt', 'fieldcrit', 'ormc', 'stc', 'wcavail', 'wcpf2', 'wcpf3', 'wcpf4-2', 'wcsat', 'H_bed_depth', 'H_bulk_dens', 'H_carb_org', 'H_carb_tot', 'H_cec', 'H_clay', 'H_fcc', 'H_N_tot', 'H_ph', 'H_sand', 'H_silt', 'H_stone', 'H_text_class', 'occurrence', 'change_abs', 'change_norm', 'seasonality', 'recurrence', 'transition', 'wp', 'osm_water', 'distance_roads', 'distance_trans_lines', 'distance_settlements', 'SF', 'SANLC', 'bare-coverfraction', 'urban-coverfraction', 'crops-coverfraction', 'grass-coverfraction', 'water-permanent-coverfraction', 'water-seasonal-coverfraction', 'shrub-coverfraction', 'tree-coverfraction', 'vegtype_id', 'cov', 'contrast', 'corr', 'dissimilarity', 'entropy', 'homogeneity', 'maximum', 'mean', 'pielou', 'range', 'shannon', 'simpson', 'sd', 'uniformity', 'variance', 'canopy_height', 'BurnDate_count', 'BurnDate']\n",
     "output_type": "stream"
    }
   ]
  },
  {
   "cell_type": "markdown",
   "source": "## Export covariates to GEE asset",
   "metadata": {
    "tags": [],
    "cell_id": "00034-4fd380f2-008c-4337-b45e-d8168f2901f9",
    "is_collapsed": false,
    "deepnote_cell_type": "text-cell-h2"
   }
  },
  {
   "cell_type": "code",
   "metadata": {
    "tags": [],
    "cell_id": "00035-9f9726de-979b-44f1-96a1-13d9ffef4e88",
    "deepnote_to_be_reexecuted": false,
    "source_hash": "e212ae3a",
    "execution_start": 1625689807058,
    "execution_millis": 842,
    "deepnote_cell_type": "code"
   },
   "source": "task = ee.batch.Export.image.toAsset(**{'image':covariates,'description':'covs_1000', \\\n'assetId':'users/jdmwhite/WTWTA_covariates_1000','region':knp.geometry(), 'scale': 1000,\\\n 'maxPixels':1e13})\ntask.start()",
   "execution_count": null,
   "outputs": []
  },
  {
   "cell_type": "code",
   "metadata": {
    "tags": [],
    "cell_id": "00036-0693c249-9317-454f-8b46-23729b791c1e",
    "deepnote_to_be_reexecuted": false,
    "source_hash": "474baba6",
    "execution_start": 1625689910012,
    "execution_millis": 109,
    "deepnote_cell_type": "code"
   },
   "source": "task.status()",
   "execution_count": null,
   "outputs": [
    {
     "output_type": "execute_result",
     "execution_count": 53,
     "data": {
      "text/plain": "{'state': 'COMPLETED',\n 'description': 'covs_1000',\n 'creation_timestamp_ms': 1625689807776,\n 'update_timestamp_ms': 1625689892536,\n 'start_timestamp_ms': 1625689858719,\n 'task_type': 'EXPORT_IMAGE',\n 'destination_uris': ['https://code.earthengine.google.com/?asset=projects/earthengine-legacy/assets/users/jdmwhite/WTWTA_covariates_1000'],\n 'attempt': 1,\n 'id': 'PZBD3P52U5B3QLS4262GWTTF',\n 'name': 'projects/earthengine-legacy/operations/PZBD3P52U5B3QLS4262GWTTF'}"
     },
     "metadata": {}
    }
   ]
  },
  {
   "cell_type": "markdown",
   "source": "### Read extracted covariates",
   "metadata": {
    "tags": [],
    "cell_id": "00037-6fbcf66c-e6c4-46c7-8007-1caba20b1c2b",
    "is_collapsed": false,
    "deepnote_cell_type": "text-cell-h3"
   }
  },
  {
   "cell_type": "code",
   "metadata": {
    "tags": [],
    "cell_id": "00038-04bc7745-6046-47e6-b8cc-43746738cf02",
    "deepnote_to_be_reexecuted": false,
    "source_hash": "d2e9bb3",
    "execution_start": 1625686779572,
    "execution_millis": 143,
    "deepnote_cell_type": "code"
   },
   "source": "covariates = ee.Image('users/jdmwhite/WTWTA_covariates')\nprint(covariates.bandNames().getInfo())",
   "execution_count": null,
   "outputs": [
    {
     "name": "stdout",
     "text": "['elevation', 'evi_summer', 'evi_winter', 'bio_minT', 'bio_maxT', 'bio_annP', 'bio_Pwq', 'bio_Pdq', 'cti', 'tri', 'slope', 'vrm', 'roughness', 'tpi', 'spi', 'CHILI', 'topD', 'ksat', 'satfield', 'N', 'alpha', 'critwilt', 'fieldcrit', 'ormc', 'stc', 'wcavail', 'wcpf2', 'wcpf3', 'wcpf4-2', 'wcres', 'wcsat', 'H_bed_depth', 'H_bulk_dens', 'H_carb_org', 'H_carb_tot', 'H_cec', 'H_clay', 'H_fcc', 'H_N_tot', 'H_ph', 'H_sand', 'H_silt', 'H_stone', 'H_text_class', 'occurrence', 'change_abs', 'change_norm', 'seasonality', 'recurrence', 'transition', 'max_extent', 'wp', 'osm_water', 'distance_roads', 'distance_trans_lines', 'distance_settlements', 'SF', 'SANLC', 'bare-coverfraction', 'urban-coverfraction', 'crops-coverfraction', 'grass-coverfraction', 'moss-coverfraction', 'water-permanent-coverfraction', 'water-seasonal-coverfraction', 'shrub-coverfraction', 'snow-coverfraction', 'tree-coverfraction', 'vegtype_id', 'cov', 'contrast', 'corr', 'dissimilarity', 'entropy', 'homogeneity', 'maximum', 'mean', 'pielou', 'range', 'shannon', 'simpson', 'sd', 'uniformity', 'variance', 'canopy_height', 'BurnDate_count', 'BurnDate']\n",
     "output_type": "stream"
    }
   ]
  },
  {
   "cell_type": "markdown",
   "source": "<a style='text-decoration:none;line-height:16px;display:flex;color:#5B5B62;padding:10px;justify-content:end;' href='https://deepnote.com?utm_source=created-in-deepnote-cell&projectId=232f2193-6834-457f-a7ff-77b7f2e92f86' target=\"_blank\">\n<img alt='Created in deepnote.com' style='display:inline;max-height:16px;margin:0px;margin-right:7.5px;' src='data:image/svg+xml;base64,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' > </img>\nCreated in <span style='font-weight:600;margin-left:4px;'>Deepnote</span></a>",
   "metadata": {
    "tags": [],
    "created_in_deepnote_cell": true,
    "deepnote_cell_type": "markdown"
   }
  }
 ],
 "nbformat": 4,
 "nbformat_minor": 2,
 "metadata": {
  "orig_nbformat": 2,
  "deepnote": {
   "is_reactive": false
  },
  "deepnote_notebook_id": "1aceb8be-c954-4b9a-aff4-58dcf09a842b",
  "deepnote_execution_queue": []
 }
}