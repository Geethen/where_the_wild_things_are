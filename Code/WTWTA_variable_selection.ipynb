{
 "cells": [
  {
   "cell_type": "code",
   "metadata": {
    "tags": [],
    "cell_id": "00001-a7e44c6b-3df7-48e5-a5fc-623d13fef50d",
    "deepnote_to_be_reexecuted": false,
    "source_hash": "6d509841",
    "execution_start": 1627481074022,
    "execution_millis": 27599,
    "deepnote_cell_type": "code"
   },
   "source": "!pip install ee\n!pip install geemap\n!pip install lightgbm",
   "execution_count": null,
   "outputs": [
    {
     "name": "stdout",
     "text": "Requirement already satisfied: ee in /root/venv/lib/python3.7/site-packages (0.2)\nRequirement already satisfied: blessings in /root/venv/lib/python3.7/site-packages (from ee) (1.7)\nRequirement already satisfied: six in /shared-libs/python3.7/py-core/lib/python3.7/site-packages (from blessings->ee) (1.16.0)\n\u001b[33mWARNING: You are using pip version 21.1.3; however, version 21.2.1 is available.\nYou should consider upgrading via the '/root/venv/bin/python -m pip install --upgrade pip' command.\u001b[0m\nCollecting geemap\n  Using cached geemap-0.8.18-py2.py3-none-any.whl (476 kB)\nRequirement already satisfied: folium>=0.11.0 in /shared-libs/python3.7/py/lib/python3.7/site-packages (from geemap) (0.12.1)\nRequirement already satisfied: matplotlib in /shared-libs/python3.7/py/lib/python3.7/site-packages (from geemap) (3.4.2)\nCollecting ffmpeg-python\n  Downloading ffmpeg_python-0.2.0-py3-none-any.whl (25 kB)\nCollecting ipynb-py-convert\n  Downloading ipynb-py-convert-0.4.6.tar.gz (3.9 kB)\nCollecting ipyfilechooser\n  Using cached ipyfilechooser-0.4.4-py3-none-any.whl (8.7 kB)\nCollecting earthengine-api>=0.1.230\n  Downloading earthengine-api-0.1.274.tar.gz (225 kB)\n\u001b[K     |████████████████████████████████| 225 kB 21.4 MB/s \n\u001b[?25hCollecting pyshp>=2.1.3\n  Downloading pyshp-2.1.3.tar.gz (219 kB)\n\u001b[K     |████████████████████████████████| 219 kB 41.7 MB/s \n\u001b[?25hCollecting whiteboxgui\n  Downloading whiteboxgui-0.3.0-py2.py3-none-any.whl (76 kB)\n\u001b[K     |████████████████████████████████| 76 kB 10.1 MB/s \n\u001b[?25hRequirement already satisfied: pillow in /shared-libs/python3.7/py/lib/python3.7/site-packages (from geemap) (8.3.1)\nCollecting bqplot\n  Using cached bqplot-0.12.30-py2.py3-none-any.whl (1.2 MB)\nCollecting ipytree\n  Downloading ipytree-0.2.1-py2.py3-none-any.whl (1.3 MB)\n\u001b[K     |████████████████████████████████| 1.3 MB 25.2 MB/s \n\u001b[?25hCollecting ipyleaflet>=0.14.0\n  Using cached ipyleaflet-0.14.0-py2.py3-none-any.whl (3.3 MB)\nCollecting pycrs\n  Using cached PyCRS-1.0.2.tar.gz (36 kB)\nCollecting voila\n  Downloading voila-0.2.10-py3-none-any.whl (1.6 MB)\n\u001b[K     |████████████████████████████████| 1.6 MB 37.4 MB/s \n\u001b[?25hCollecting colour\n  Using cached colour-0.1.5-py2.py3-none-any.whl (23 kB)\nCollecting geojson\n  Using cached geojson-2.5.0-py2.py3-none-any.whl (14 kB)\nCollecting geeadd>=0.5.1\n  Downloading geeadd-0.5.5-py3-none-any.whl (30 kB)\nCollecting ipyevents\n  Downloading ipyevents-2.0.1-py2.py3-none-any.whl (130 kB)\n\u001b[K     |████████████████████████████████| 130 kB 40.5 MB/s \n\u001b[?25hRequirement already satisfied: numpy in /shared-libs/python3.7/py/lib/python3.7/site-packages (from geemap) (1.19.5)\nRequirement already satisfied: click in /shared-libs/python3.7/py/lib/python3.7/site-packages (from geemap) (7.1.2)\nCollecting geocoder\n  Using cached geocoder-1.38.1-py2.py3-none-any.whl (98 kB)\nCollecting sankee\n  Downloading sankee-0.0.5-py3-none-any.whl (29 kB)\nCollecting mss\n  Using cached mss-6.1.0-py3-none-any.whl (76 kB)\nRequirement already satisfied: pandas in /shared-libs/python3.7/py/lib/python3.7/site-packages (from geemap) (1.2.5)\nCollecting googledrivedownloader\n  Downloading googledrivedownloader-0.4-py2.py3-none-any.whl (3.9 kB)\nCollecting python-box\n  Using cached python_box-5.3.0-py3-none-any.whl (21 kB)\nRequirement already satisfied: future in /shared-libs/python3.7/py/lib/python3.7/site-packages (from earthengine-api>=0.1.230->geemap) (0.18.2)\nCollecting google-cloud-storage\n  Downloading google_cloud_storage-1.41.1-py2.py3-none-any.whl (105 kB)\n\u001b[K     |████████████████████████████████| 105 kB 52.4 MB/s \n\u001b[?25hCollecting google-api-python-client<2,>=1.12.1\n  Downloading google_api_python_client-1.12.8-py2.py3-none-any.whl (61 kB)\n\u001b[K     |████████████████████████████████| 61 kB 57 kB/s \n\u001b[?25hRequirement already satisfied: google-auth>=1.4.1 in /shared-libs/python3.7/py/lib/python3.7/site-packages (from earthengine-api>=0.1.230->geemap) (1.34.0)\nCollecting google-auth-httplib2>=0.0.3\n  Downloading google_auth_httplib2-0.1.0-py2.py3-none-any.whl (9.3 kB)\nCollecting httplib2<1dev,>=0.9.2\n  Downloading httplib2-0.19.1-py3-none-any.whl (95 kB)\n\u001b[K     |████████████████████████████████| 95 kB 6.9 MB/s \n\u001b[?25hCollecting httplib2shim\n  Downloading httplib2shim-0.0.3.tar.gz (17 kB)\nRequirement already satisfied: six in /shared-libs/python3.7/py-core/lib/python3.7/site-packages (from earthengine-api>=0.1.230->geemap) (1.16.0)\nRequirement already satisfied: branca>=0.3.0 in /shared-libs/python3.7/py/lib/python3.7/site-packages (from folium>=0.11.0->geemap) (0.4.2)\nRequirement already satisfied: requests in /shared-libs/python3.7/py/lib/python3.7/site-packages (from folium>=0.11.0->geemap) (2.26.0)\nRequirement already satisfied: jinja2>=2.9 in /shared-libs/python3.7/py-core/lib/python3.7/site-packages (from folium>=0.11.0->geemap) (3.0.1)\nCollecting logzero>=1.5.0\n  Downloading logzero-1.7.0-py2.py3-none-any.whl (16 kB)\nCollecting beautifulsoup4>=4.9.0\n  Downloading beautifulsoup4-4.9.3-py3-none-any.whl (115 kB)\n\u001b[K     |████████████████████████████████| 115 kB 43.0 MB/s \n\u001b[?25hCollecting soupsieve>1.2\n  Downloading soupsieve-2.2.1-py3-none-any.whl (33 kB)\nRequirement already satisfied: google-api-core<2dev,>=1.21.0 in /shared-libs/python3.7/py/lib/python3.7/site-packages (from google-api-python-client<2,>=1.12.1->earthengine-api>=0.1.230->geemap) (1.31.1)\nCollecting uritemplate<4dev,>=3.0.0\n  Downloading uritemplate-3.0.1-py2.py3-none-any.whl (15 kB)\nRequirement already satisfied: googleapis-common-protos<2.0dev,>=1.6.0 in /shared-libs/python3.7/py/lib/python3.7/site-packages (from google-api-core<2dev,>=1.21.0->google-api-python-client<2,>=1.12.1->earthengine-api>=0.1.230->geemap) (1.53.0)\nRequirement already satisfied: protobuf>=3.12.0 in /shared-libs/python3.7/py/lib/python3.7/site-packages (from google-api-core<2dev,>=1.21.0->google-api-python-client<2,>=1.12.1->earthengine-api>=0.1.230->geemap) (3.17.3)\nRequirement already satisfied: packaging>=14.3 in /shared-libs/python3.7/py-core/lib/python3.7/site-packages (from google-api-core<2dev,>=1.21.0->google-api-python-client<2,>=1.12.1->earthengine-api>=0.1.230->geemap) (21.0)\nRequirement already satisfied: setuptools>=40.3.0 in /root/venv/lib/python3.7/site-packages (from google-api-core<2dev,>=1.21.0->google-api-python-client<2,>=1.12.1->earthengine-api>=0.1.230->geemap) (57.1.0)\nRequirement already satisfied: pytz in /shared-libs/python3.7/py/lib/python3.7/site-packages (from google-api-core<2dev,>=1.21.0->google-api-python-client<2,>=1.12.1->earthengine-api>=0.1.230->geemap) (2021.1)\nRequirement already satisfied: pyasn1-modules>=0.2.1 in /shared-libs/python3.7/py/lib/python3.7/site-packages (from google-auth>=1.4.1->earthengine-api>=0.1.230->geemap) (0.2.8)\nRequirement already satisfied: cachetools<5.0,>=2.0.0 in /shared-libs/python3.7/py/lib/python3.7/site-packages (from google-auth>=1.4.1->earthengine-api>=0.1.230->geemap) (4.2.2)\nRequirement already satisfied: rsa<5,>=3.1.4 in /shared-libs/python3.7/py/lib/python3.7/site-packages (from google-auth>=1.4.1->earthengine-api>=0.1.230->geemap) (4.7.2)\nRequirement already satisfied: pyparsing<3,>=2.4.2 in /shared-libs/python3.7/py-core/lib/python3.7/site-packages (from httplib2<1dev,>=0.9.2->earthengine-api>=0.1.230->geemap) (2.4.7)\nCollecting traittypes<3,>=0.2.1\n  Downloading traittypes-0.2.1-py2.py3-none-any.whl (8.6 kB)\nCollecting ipywidgets<8,>=7.6.0\n  Downloading ipywidgets-7.6.3-py2.py3-none-any.whl (121 kB)\n\u001b[K     |████████████████████████████████| 121 kB 49.1 MB/s \n\u001b[?25hRequirement already satisfied: nbformat>=4.2.0 in /shared-libs/python3.7/py-core/lib/python3.7/site-packages (from ipywidgets<8,>=7.6.0->ipyleaflet>=0.14.0->geemap) (5.1.3)\nRequirement already satisfied: ipykernel>=4.5.1 in /shared-libs/python3.7/py-core/lib/python3.7/site-packages (from ipywidgets<8,>=7.6.0->ipyleaflet>=0.14.0->geemap) (6.0.3)\nCollecting jupyterlab-widgets>=1.0.0\n  Downloading jupyterlab_widgets-1.0.0-py3-none-any.whl (243 kB)\n\u001b[K     |████████████████████████████████| 243 kB 45.1 MB/s \n\u001b[?25hCollecting widgetsnbextension~=3.5.0\n  Downloading widgetsnbextension-3.5.1-py2.py3-none-any.whl (2.2 MB)\n\u001b[K     |████████████████████████████████| 2.2 MB 40.6 MB/s \n\u001b[?25hRequirement already satisfied: ipython>=4.0.0 in /shared-libs/python3.7/py-core/lib/python3.7/site-packages (from ipywidgets<8,>=7.6.0->ipyleaflet>=0.14.0->geemap) (7.25.0)\nRequirement already satisfied: traitlets>=4.3.1 in /shared-libs/python3.7/py-core/lib/python3.7/site-packages (from ipywidgets<8,>=7.6.0->ipyleaflet>=0.14.0->geemap) (5.0.5)\nRequirement already satisfied: importlib-metadata<4 in /shared-libs/python3.7/py-core/lib/python3.7/site-packages (from ipykernel>=4.5.1->ipywidgets<8,>=7.6.0->ipyleaflet>=0.14.0->geemap) (3.10.1)\nRequirement already satisfied: debugpy<2.0,>=1.0.0 in /shared-libs/python3.7/py-core/lib/python3.7/site-packages (from ipykernel>=4.5.1->ipywidgets<8,>=7.6.0->ipyleaflet>=0.14.0->geemap) (1.4.1)\nRequirement already satisfied: matplotlib-inline<0.2.0,>=0.1.0 in /shared-libs/python3.7/py-core/lib/python3.7/site-packages (from ipykernel>=4.5.1->ipywidgets<8,>=7.6.0->ipyleaflet>=0.14.0->geemap) (0.1.2)\nRequirement already satisfied: tornado<7.0,>=4.2 in /shared-libs/python3.7/py-core/lib/python3.7/site-packages (from ipykernel>=4.5.1->ipywidgets<8,>=7.6.0->ipyleaflet>=0.14.0->geemap) (6.1)\nRequirement already satisfied: jupyter-client<7.0 in /shared-libs/python3.7/py-core/lib/python3.7/site-packages (from ipykernel>=4.5.1->ipywidgets<8,>=7.6.0->ipyleaflet>=0.14.0->geemap) (6.1.12)\nRequirement already satisfied: zipp>=0.5 in /shared-libs/python3.7/py-core/lib/python3.7/site-packages (from importlib-metadata<4->ipykernel>=4.5.1->ipywidgets<8,>=7.6.0->ipyleaflet>=0.14.0->geemap) (3.5.0)\nRequirement already satisfied: typing-extensions>=3.6.4 in /shared-libs/python3.7/py-core/lib/python3.7/site-packages (from importlib-metadata<4->ipykernel>=4.5.1->ipywidgets<8,>=7.6.0->ipyleaflet>=0.14.0->geemap) (3.10.0.0)\nRequirement already satisfied: pygments in /shared-libs/python3.7/py-core/lib/python3.7/site-packages (from ipython>=4.0.0->ipywidgets<8,>=7.6.0->ipyleaflet>=0.14.0->geemap) (2.9.0)\nRequirement already satisfied: pickleshare in /shared-libs/python3.7/py-core/lib/python3.7/site-packages (from ipython>=4.0.0->ipywidgets<8,>=7.6.0->ipyleaflet>=0.14.0->geemap) (0.7.5)\nRequirement already satisfied: backcall in /shared-libs/python3.7/py-core/lib/python3.7/site-packages (from ipython>=4.0.0->ipywidgets<8,>=7.6.0->ipyleaflet>=0.14.0->geemap) (0.2.0)\nRequirement already satisfied: jedi>=0.16 in /shared-libs/python3.7/py-core/lib/python3.7/site-packages (from ipython>=4.0.0->ipywidgets<8,>=7.6.0->ipyleaflet>=0.14.0->geemap) (0.17.2)\nRequirement already satisfied: prompt-toolkit!=3.0.0,!=3.0.1,<3.1.0,>=2.0.0 in /shared-libs/python3.7/py-core/lib/python3.7/site-packages (from ipython>=4.0.0->ipywidgets<8,>=7.6.0->ipyleaflet>=0.14.0->geemap) (3.0.19)\nRequirement already satisfied: decorator in /shared-libs/python3.7/py-core/lib/python3.7/site-packages (from ipython>=4.0.0->ipywidgets<8,>=7.6.0->ipyleaflet>=0.14.0->geemap) (5.0.9)\nRequirement already satisfied: pexpect>4.3 in /shared-libs/python3.7/py-core/lib/python3.7/site-packages (from ipython>=4.0.0->ipywidgets<8,>=7.6.0->ipyleaflet>=0.14.0->geemap) (4.8.0)\nRequirement already satisfied: parso<0.8.0,>=0.7.0 in /shared-libs/python3.7/py-core/lib/python3.7/site-packages (from jedi>=0.16->ipython>=4.0.0->ipywidgets<8,>=7.6.0->ipyleaflet>=0.14.0->geemap) (0.7.1)\nRequirement already satisfied: MarkupSafe>=2.0 in /shared-libs/python3.7/py-core/lib/python3.7/site-packages (from jinja2>=2.9->folium>=0.11.0->geemap) (2.0.1)\nRequirement already satisfied: python-dateutil>=2.1 in /shared-libs/python3.7/py-core/lib/python3.7/site-packages (from jupyter-client<7.0->ipykernel>=4.5.1->ipywidgets<8,>=7.6.0->ipyleaflet>=0.14.0->geemap) (2.8.2)\nRequirement already satisfied: pyzmq>=13 in /shared-libs/python3.7/py-core/lib/python3.7/site-packages (from jupyter-client<7.0->ipykernel>=4.5.1->ipywidgets<8,>=7.6.0->ipyleaflet>=0.14.0->geemap) (22.1.0)\nRequirement already satisfied: jupyter-core>=4.6.0 in /shared-libs/python3.7/py-core/lib/python3.7/site-packages (from jupyter-client<7.0->ipykernel>=4.5.1->ipywidgets<8,>=7.6.0->ipyleaflet>=0.14.0->geemap) (4.7.1)\nRequirement already satisfied: ipython-genutils in /shared-libs/python3.7/py-core/lib/python3.7/site-packages (from nbformat>=4.2.0->ipywidgets<8,>=7.6.0->ipyleaflet>=0.14.0->geemap) (0.2.0)\nRequirement already satisfied: jsonschema!=2.5.0,>=2.4 in /shared-libs/python3.7/py-core/lib/python3.7/site-packages (from nbformat>=4.2.0->ipywidgets<8,>=7.6.0->ipyleaflet>=0.14.0->geemap) (3.2.0)\nRequirement already satisfied: pyrsistent>=0.14.0 in /shared-libs/python3.7/py-core/lib/python3.7/site-packages (from jsonschema!=2.5.0,>=2.4->nbformat>=4.2.0->ipywidgets<8,>=7.6.0->ipyleaflet>=0.14.0->geemap) (0.18.0)\nRequirement already satisfied: attrs>=17.4.0 in /shared-libs/python3.7/py-core/lib/python3.7/site-packages (from jsonschema!=2.5.0,>=2.4->nbformat>=4.2.0->ipywidgets<8,>=7.6.0->ipyleaflet>=0.14.0->geemap) (21.2.0)\nRequirement already satisfied: ptyprocess>=0.5 in /shared-libs/python3.7/py-core/lib/python3.7/site-packages (from pexpect>4.3->ipython>=4.0.0->ipywidgets<8,>=7.6.0->ipyleaflet>=0.14.0->geemap) (0.7.0)\nRequirement already satisfied: wcwidth in /shared-libs/python3.7/py-core/lib/python3.7/site-packages (from prompt-toolkit!=3.0.0,!=3.0.1,<3.1.0,>=2.0.0->ipython>=4.0.0->ipywidgets<8,>=7.6.0->ipyleaflet>=0.14.0->geemap) (0.2.5)\nRequirement already satisfied: pyasn1<0.5.0,>=0.4.6 in /shared-libs/python3.7/py/lib/python3.7/site-packages (from pyasn1-modules>=0.2.1->google-auth>=1.4.1->earthengine-api>=0.1.230->geemap) (0.4.8)\nRequirement already satisfied: idna<4,>=2.5 in /shared-libs/python3.7/py/lib/python3.7/site-packages (from requests->folium>=0.11.0->geemap) (3.2)\nRequirement already satisfied: certifi>=2017.4.17 in /shared-libs/python3.7/py/lib/python3.7/site-packages (from requests->folium>=0.11.0->geemap) (2021.5.30)\nRequirement already satisfied: urllib3<1.27,>=1.21.1 in /shared-libs/python3.7/py/lib/python3.7/site-packages (from requests->folium>=0.11.0->geemap) (1.26.6)\nRequirement already satisfied: charset-normalizer~=2.0.0 in /shared-libs/python3.7/py/lib/python3.7/site-packages (from requests->folium>=0.11.0->geemap) (2.0.3)\nRequirement already satisfied: notebook>=4.4.1 in /shared-libs/python3.7/py-core/lib/python3.7/site-packages (from widgetsnbextension~=3.5.0->ipywidgets<8,>=7.6.0->ipyleaflet>=0.14.0->geemap) (7.0.0.dev0)\nRequirement already satisfied: Send2Trash>=1.5.0 in /shared-libs/python3.7/py-core/lib/python3.7/site-packages (from notebook>=4.4.1->widgetsnbextension~=3.5.0->ipywidgets<8,>=7.6.0->ipyleaflet>=0.14.0->geemap) (1.7.1)\nRequirement already satisfied: nbconvert in /shared-libs/python3.7/py-core/lib/python3.7/site-packages (from notebook>=4.4.1->widgetsnbextension~=3.5.0->ipywidgets<8,>=7.6.0->ipyleaflet>=0.14.0->geemap) (6.1.0)\nRequirement already satisfied: terminado>=0.8.3 in /shared-libs/python3.7/py-core/lib/python3.7/site-packages (from notebook>=4.4.1->widgetsnbextension~=3.5.0->ipywidgets<8,>=7.6.0->ipyleaflet>=0.14.0->geemap) (0.10.1)\nRequirement already satisfied: argon2-cffi in /shared-libs/python3.7/py-core/lib/python3.7/site-packages (from notebook>=4.4.1->widgetsnbextension~=3.5.0->ipywidgets<8,>=7.6.0->ipyleaflet>=0.14.0->geemap) (20.1.0)\nRequirement already satisfied: prometheus-client in /shared-libs/python3.7/py-core/lib/python3.7/site-packages (from notebook>=4.4.1->widgetsnbextension~=3.5.0->ipywidgets<8,>=7.6.0->ipyleaflet>=0.14.0->geemap) (0.11.0)\nRequirement already satisfied: cffi>=1.0.0 in /shared-libs/python3.7/py-core/lib/python3.7/site-packages (from argon2-cffi->notebook>=4.4.1->widgetsnbextension~=3.5.0->ipywidgets<8,>=7.6.0->ipyleaflet>=0.14.0->geemap) (1.14.6)\nRequirement already satisfied: pycparser in /shared-libs/python3.7/py-core/lib/python3.7/site-packages (from cffi>=1.0.0->argon2-cffi->notebook>=4.4.1->widgetsnbextension~=3.5.0->ipywidgets<8,>=7.6.0->ipyleaflet>=0.14.0->geemap) (2.20)\nCollecting ratelim\n  Downloading ratelim-0.1.6-py2.py3-none-any.whl (4.0 kB)\nRequirement already satisfied: google-resumable-media<3.0dev,>=1.3.0 in /shared-libs/python3.7/py/lib/python3.7/site-packages (from google-cloud-storage->earthengine-api>=0.1.230->geemap) (1.3.1)\nRequirement already satisfied: google-cloud-core<3.0dev,>=1.6.0 in /shared-libs/python3.7/py/lib/python3.7/site-packages (from google-cloud-storage->earthengine-api>=0.1.230->geemap) (1.7.2)\nRequirement already satisfied: google-crc32c<2.0dev,>=1.0 in /shared-libs/python3.7/py/lib/python3.7/site-packages (from google-resumable-media<3.0dev,>=1.3.0->google-cloud-storage->earthengine-api>=0.1.230->geemap) (1.1.2)\nRequirement already satisfied: cycler>=0.10 in /shared-libs/python3.7/py/lib/python3.7/site-packages (from matplotlib->geemap) (0.10.0)\nRequirement already satisfied: kiwisolver>=1.0.1 in /shared-libs/python3.7/py/lib/python3.7/site-packages (from matplotlib->geemap) (1.3.1)\nRequirement already satisfied: bleach in /shared-libs/python3.7/py-core/lib/python3.7/site-packages (from nbconvert->notebook>=4.4.1->widgetsnbextension~=3.5.0->ipywidgets<8,>=7.6.0->ipyleaflet>=0.14.0->geemap) (3.3.1)\nRequirement already satisfied: pandocfilters>=1.4.1 in /shared-libs/python3.7/py-core/lib/python3.7/site-packages (from nbconvert->notebook>=4.4.1->widgetsnbextension~=3.5.0->ipywidgets<8,>=7.6.0->ipyleaflet>=0.14.0->geemap) (1.4.3)\nRequirement already satisfied: mistune<2,>=0.8.1 in /shared-libs/python3.7/py-core/lib/python3.7/site-packages (from nbconvert->notebook>=4.4.1->widgetsnbextension~=3.5.0->ipywidgets<8,>=7.6.0->ipyleaflet>=0.14.0->geemap) (0.8.4)\nRequirement already satisfied: entrypoints>=0.2.2 in /shared-libs/python3.7/py-core/lib/python3.7/site-packages (from nbconvert->notebook>=4.4.1->widgetsnbextension~=3.5.0->ipywidgets<8,>=7.6.0->ipyleaflet>=0.14.0->geemap) (0.3)\nRequirement already satisfied: defusedxml in /shared-libs/python3.7/py-core/lib/python3.7/site-packages (from nbconvert->notebook>=4.4.1->widgetsnbextension~=3.5.0->ipywidgets<8,>=7.6.0->ipyleaflet>=0.14.0->geemap) (0.7.1)\nRequirement already satisfied: nbclient<0.6.0,>=0.5.0 in /shared-libs/python3.7/py-core/lib/python3.7/site-packages (from nbconvert->notebook>=4.4.1->widgetsnbextension~=3.5.0->ipywidgets<8,>=7.6.0->ipyleaflet>=0.14.0->geemap) (0.5.3)\nRequirement already satisfied: jupyterlab-pygments in /shared-libs/python3.7/py-core/lib/python3.7/site-packages (from nbconvert->notebook>=4.4.1->widgetsnbextension~=3.5.0->ipywidgets<8,>=7.6.0->ipyleaflet>=0.14.0->geemap) (0.1.2)\nRequirement already satisfied: testpath in /shared-libs/python3.7/py-core/lib/python3.7/site-packages (from nbconvert->notebook>=4.4.1->widgetsnbextension~=3.5.0->ipywidgets<8,>=7.6.0->ipyleaflet>=0.14.0->geemap) (0.5.0)\nRequirement already satisfied: nest-asyncio in /shared-libs/python3.7/py-core/lib/python3.7/site-packages (from nbclient<0.6.0,>=0.5.0->nbconvert->notebook>=4.4.1->widgetsnbextension~=3.5.0->ipywidgets<8,>=7.6.0->ipyleaflet>=0.14.0->geemap) (1.5.1)\nRequirement already satisfied: async-generator in /shared-libs/python3.7/py-core/lib/python3.7/site-packages (from nbclient<0.6.0,>=0.5.0->nbconvert->notebook>=4.4.1->widgetsnbextension~=3.5.0->ipywidgets<8,>=7.6.0->ipyleaflet>=0.14.0->geemap) (1.10)\nRequirement already satisfied: webencodings in /shared-libs/python3.7/py-core/lib/python3.7/site-packages (from bleach->nbconvert->notebook>=4.4.1->widgetsnbextension~=3.5.0->ipywidgets<8,>=7.6.0->ipyleaflet>=0.14.0->geemap) (0.5.1)\nRequirement already satisfied: plotly in /shared-libs/python3.7/py/lib/python3.7/site-packages (from sankee->geemap) (5.1.0)\nRequirement already satisfied: tenacity>=6.2.0 in /shared-libs/python3.7/py/lib/python3.7/site-packages (from plotly->sankee->geemap) (8.0.1)\nCollecting jupyter-server<2.0.0,>=0.3.0\n  Downloading jupyter_server-1.10.1-py3-none-any.whl (392 kB)\n\u001b[K     |████████████████████████████████| 392 kB 47.3 MB/s \n\u001b[?25hCollecting websocket-client\n  Downloading websocket_client-1.1.0-py2.py3-none-any.whl (68 kB)\n\u001b[K     |████████████████████████████████| 68 kB 12.0 MB/s \n\u001b[?25hCollecting requests-unixsocket\n  Downloading requests_unixsocket-0.2.0-py2.py3-none-any.whl (11 kB)\nCollecting anyio<4,>=3.1.0\n  Downloading anyio-3.3.0-py3-none-any.whl (77 kB)\n\u001b[K     |████████████████████████████████| 77 kB 11.9 MB/s \n\u001b[?25hCollecting sniffio>=1.1\n  Downloading sniffio-1.2.0-py3-none-any.whl (10 kB)\nCollecting whitebox\n  Downloading whitebox-1.5.1-py2.py3-none-any.whl (67 kB)\n\u001b[K     |████████████████████████████████| 67 kB 10.9 MB/s \n\u001b[?25hBuilding wheels for collected packages: earthengine-api, pyshp, httplib2shim, ipynb-py-convert, pycrs\n  Building wheel for earthengine-api (setup.py) ... \u001b[?25ldone\n\u001b[?25h  Created wheel for earthengine-api: filename=earthengine_api-0.1.274-py3-none-any.whl size=258083 sha256=aeb112c271bcab6ceab5b23051711936dac6bd5df6176bf202ca9c0d9adfe079\n  Stored in directory: /root/.cache/pip/wheels/fc/95/be/be9d6c5be90d5a15649cedeb392de1a3a044569233f369b0c7\n  Building wheel for pyshp (setup.py) ... \u001b[?25ldone\n\u001b[?25h  Created wheel for pyshp: filename=pyshp-2.1.3-py3-none-any.whl size=37324 sha256=e7f1422b448452dfb27c6335dd5aea45966685881d1898239e8f4c2b97faecb7\n  Stored in directory: /root/.cache/pip/wheels/43/f8/87/53c8cd41545ba20e536ea29a8fcb5431b5f477ca50d5dffbbe\n  Building wheel for httplib2shim (setup.py) ... \u001b[?25ldone\n\u001b[?25h  Created wheel for httplib2shim: filename=httplib2shim-0.0.3-py2.py3-none-any.whl size=18059 sha256=350b1e60fc147baea377a9775e14b49674e491c35babae6cf0494bdc278231e5\n  Stored in directory: /root/.cache/pip/wheels/b7/3d/b4/033d07bc6a387ce6e16807fe14d4b780d84c78e54dc73a3568\n  Building wheel for ipynb-py-convert (setup.py) ... \u001b[?25ldone\n\u001b[?25h  Created wheel for ipynb-py-convert: filename=ipynb_py_convert-0.4.6-py3-none-any.whl size=4640 sha256=b31293872e097c10974963e50f75a67afb75b01dfe509f2c1e8d837c69cfd395\n  Stored in directory: /root/.cache/pip/wheels/af/31/a9/761b134adbbca3c92d491eff3bad785c0a0c0079695d6f0504\n  Building wheel for pycrs (setup.py) ... \u001b[?25ldone\n\u001b[?25h  Created wheel for pycrs: filename=PyCRS-1.0.2-py3-none-any.whl size=32702 sha256=fc3ff6ec256fddabfb1b18d362d22e5a68ac50b39fbae6ff3d414cb677b6517c\n  Stored in directory: /root/.cache/pip/wheels/3e/ce/32/1ec0aba6b9770681a423e82f0274c57d09ad2c20c2864901f9\nSuccessfully built earthengine-api pyshp httplib2shim ipynb-py-convert pycrs\nInstalling collected packages: httplib2, widgetsnbextension, uritemplate, sniffio, jupyterlab-widgets, google-auth-httplib2, websocket-client, soupsieve, requests-unixsocket, ipywidgets, httplib2shim, google-cloud-storage, google-api-python-client, anyio, whitebox, traittypes, ratelim, logzero, jupyter-server, ipytree, ipyfilechooser, earthengine-api, beautifulsoup4, whiteboxgui, voila, sankee, python-box, pyshp, pycrs, mss, ipynb-py-convert, ipyleaflet, ipyevents, googledrivedownloader, geojson, geocoder, geeadd, ffmpeg-python, colour, bqplot, geemap\nSuccessfully installed anyio-3.3.0 beautifulsoup4-4.9.3 bqplot-0.12.30 colour-0.1.5 earthengine-api-0.1.274 ffmpeg-python-0.2.0 geeadd-0.5.5 geemap-0.8.18 geocoder-1.38.1 geojson-2.5.0 google-api-python-client-1.12.8 google-auth-httplib2-0.1.0 google-cloud-storage-1.41.1 googledrivedownloader-0.4 httplib2-0.19.1 httplib2shim-0.0.3 ipyevents-2.0.1 ipyfilechooser-0.4.4 ipyleaflet-0.14.0 ipynb-py-convert-0.4.6 ipytree-0.2.1 ipywidgets-7.6.3 jupyter-server-1.10.1 jupyterlab-widgets-1.0.0 logzero-1.7.0 mss-6.1.0 pycrs-1.0.2 pyshp-2.1.3 python-box-5.3.0 ratelim-0.1.6 requests-unixsocket-0.2.0 sankee-0.0.5 sniffio-1.2.0 soupsieve-2.2.1 traittypes-0.2.1 uritemplate-3.0.1 voila-0.2.10 websocket-client-1.1.0 whitebox-1.5.1 whiteboxgui-0.3.0 widgetsnbextension-3.5.1\n\u001b[33mWARNING: You are using pip version 21.1.3; however, version 21.2.1 is available.\nYou should consider upgrading via the '/root/venv/bin/python -m pip install --upgrade pip' command.\u001b[0m\nCollecting lightgbm\n  Downloading lightgbm-3.2.1-py3-none-manylinux1_x86_64.whl (2.0 MB)\n\u001b[K     |████████████████████████████████| 2.0 MB 20.5 MB/s \n\u001b[?25hRequirement already satisfied: scipy in /shared-libs/python3.7/py/lib/python3.7/site-packages (from lightgbm) (1.7.0)\nRequirement already satisfied: scikit-learn!=0.22.0 in /shared-libs/python3.7/py/lib/python3.7/site-packages (from lightgbm) (0.24.2)\nRequirement already satisfied: wheel in /root/venv/lib/python3.7/site-packages (from lightgbm) (0.36.2)\nRequirement already satisfied: numpy in /shared-libs/python3.7/py/lib/python3.7/site-packages (from lightgbm) (1.19.5)\nRequirement already satisfied: threadpoolctl>=2.0.0 in /shared-libs/python3.7/py/lib/python3.7/site-packages (from scikit-learn!=0.22.0->lightgbm) (2.2.0)\nRequirement already satisfied: joblib>=0.11 in /shared-libs/python3.7/py/lib/python3.7/site-packages (from scikit-learn!=0.22.0->lightgbm) (1.0.1)\nInstalling collected packages: lightgbm\nSuccessfully installed lightgbm-3.2.1\n\u001b[33mWARNING: You are using pip version 21.1.3; however, version 21.2.1 is available.\nYou should consider upgrading via the '/root/venv/bin/python -m pip install --upgrade pip' command.\u001b[0m\n",
     "output_type": "stream"
    }
   ]
  },
  {
   "cell_type": "code",
   "metadata": {
    "cell_id": "00000-9b7f5763-6428-4560-8b81-3d0040ecfddf",
    "deepnote_to_be_reexecuted": false,
    "source_hash": "f798dd4c",
    "execution_start": 1627481122244,
    "execution_millis": 25091,
    "deepnote_cell_type": "code"
   },
   "source": "import ee\nimport geemap\nee.Authenticate()\nee.Initialize()",
   "execution_count": null,
   "outputs": [
    {
     "data": {
      "text/plain": "<IPython.core.display.HTML object>",
      "text/html": "<p>To authorize access needed by Earth Engine, open the following\n        URL in a web browser and follow the instructions:</p>\n        <p><a href=https://accounts.google.com/o/oauth2/auth?client_id=517222506229-vsmmajv00ul0bs7p89v5m89qs8eb9359.apps.googleusercontent.com&scope=https%3A%2F%2Fwww.googleapis.com%2Fauth%2Fearthengine+https%3A%2F%2Fwww.googleapis.com%2Fauth%2Fdevstorage.full_control&redirect_uri=urn%3Aietf%3Awg%3Aoauth%3A2.0%3Aoob&response_type=code&code_challenge=KNFcmV077UH12MKc5yU7-Zv_TCpBgADjjRct-cP9Kbg&code_challenge_method=S256>https://accounts.google.com/o/oauth2/auth?client_id=517222506229-vsmmajv00ul0bs7p89v5m89qs8eb9359.apps.googleusercontent.com&scope=https%3A%2F%2Fwww.googleapis.com%2Fauth%2Fearthengine+https%3A%2F%2Fwww.googleapis.com%2Fauth%2Fdevstorage.full_control&redirect_uri=urn%3Aietf%3Awg%3Aoauth%3A2.0%3Aoob&response_type=code&code_challenge=KNFcmV077UH12MKc5yU7-Zv_TCpBgADjjRct-cP9Kbg&code_challenge_method=S256</a></p>\n        <p>The authorization workflow will generate a code, which you\n        should paste in the box below</p>\n        "
     },
     "metadata": {},
     "output_type": "display_data"
    },
    {
     "name": "stdout",
     "text": "\nSuccessfully saved authorization token.\n",
     "output_type": "stream"
    }
   ]
  },
  {
   "cell_type": "code",
   "metadata": {
    "cell_id": "00001-ccdf4a4c-ab29-4305-9033-3bdaa7ab3d4b",
    "deepnote_to_be_reexecuted": false,
    "source_hash": "29ffc28f",
    "execution_start": 1627481149052,
    "execution_millis": 620,
    "deepnote_cell_type": "code"
   },
   "source": "Map = geemap.Map()\nMap",
   "execution_count": null,
   "outputs": [
    {
     "output_type": "clearOutput"
    },
    {
     "data": {
      "text/plain": "Map(center=[40, -100], controls=(WidgetControl(options=['position', 'transparent_bg'], widget=HBox(children=(T…",
      "application/vnd.jupyter.widget-view+json": {
       "version_major": 2,
       "version_minor": 0,
       "model_id": "a73ff026cdfc46e7b0ad743de83273d6"
      }
     },
     "metadata": {},
     "output_type": "display_data"
    }
   ]
  },
  {
   "cell_type": "code",
   "metadata": {
    "cell_id": "00002-51021dc1-837d-4229-98db-4abec1bfd123",
    "deepnote_to_be_reexecuted": false,
    "source_hash": "31dcc2f0",
    "execution_start": 1627481152368,
    "execution_millis": 551,
    "deepnote_cell_type": "code"
   },
   "source": "grid = ee.FeatureCollection('users/geethensingh/WTWTA_grid75457')\nprint(grid.size().getInfo())\nMap.addLayer(grid)\n\ngrid_img = grid.reduceToImage(**{'properties': ['fid'], 'reducer': ee.Reducer.first()}).rename('fid')\nMap.addLayer(grid_img)",
   "execution_count": null,
   "outputs": [
    {
     "name": "stdout",
     "text": "6\n",
     "output_type": "stream"
    }
   ]
  },
  {
   "cell_type": "code",
   "metadata": {
    "cell_id": "00003-435b4846-ebb9-4f67-9856-178fb4d91cd3",
    "deepnote_to_be_reexecuted": false,
    "source_hash": "b5d47c07",
    "execution_start": 1627481154245,
    "execution_millis": 199,
    "deepnote_cell_type": "code"
   },
   "source": "label = ee.ImageCollection.fromImages([ee.Image('users/jdmwhite/UD_buf_mean'),ee.Image('users/geethensingh/UD_buf_GPS')]).mean().rename('label')\ncovs = ee.Image('users/jdmwhite/WTWTA_covariates_1000_sel').addBands([grid_img, label])\n# print(covs.bandNames().getInfo())\npts = ee.FeatureCollection('users/jdmwhite/buff_sampled_points').select([])\nprint(pts.first().getInfo())",
   "execution_count": null,
   "outputs": [
    {
     "name": "stdout",
     "text": "{'type': 'Feature', 'geometry': {'type': 'Point', 'coordinates': [31.758101185332148, -24.595835104973677]}, 'id': '00000000000000001d2b', 'properties': {}}\n",
     "output_type": "stream"
    }
   ]
  },
  {
   "cell_type": "code",
   "metadata": {
    "cell_id": "00004-f22965d9-4c9f-4a40-8029-fcaeaef876c0",
    "deepnote_to_be_reexecuted": false,
    "source_hash": "5fae4a9f",
    "execution_start": 1627481155655,
    "execution_millis": 570,
    "deepnote_cell_type": "code"
   },
   "source": "print(pts.size().getInfo())\nextracted_covs = covs.reduceRegions(**{'collection': pts, 'scale': 1000, 'reducer': ee.Reducer.first()})\nprint(extracted_covs.size().getInfo())",
   "execution_count": null,
   "outputs": [
    {
     "name": "stdout",
     "text": "10491\n10491\n",
     "output_type": "stream"
    }
   ]
  },
  {
   "cell_type": "code",
   "metadata": {
    "cell_id": "00005-5a89eb2b-597d-4aa5-9c8a-b9bf7ab09db9",
    "deepnote_to_be_reexecuted": false,
    "source_hash": "8d59d291",
    "execution_start": 1627481157131,
    "execution_millis": 5,
    "deepnote_cell_type": "code"
   },
   "source": "def largefc_to_pandas(featurecollection, step_size = 5000):\n    \"\"\"\n    function to convert a featurecollection with more than 5000 elements to a pandas dataframe\n    \n    featurecollection: earth engine feature collection with more than 5000 elements\n    step_size: Th enumber of elemenst to process at once. Must be less than equal to 5000\n    \n    \"\"\"\n    df = pd.DataFrame()\n    fclist = featurecollection.toList(featurecollection.size())\n    fcsize = featurecollection.size().getInfo()\n    for i in range(0,fcsize,step_size):\n        fc = ee.FeatureCollection(fclist.slice(i,i+step_size))\n        df = df.append(geemap.ee_to_pandas(fc))\n    return df",
   "execution_count": null,
   "outputs": []
  },
  {
   "cell_type": "code",
   "metadata": {
    "cell_id": "00006-1cd24a82-7643-456f-8e50-1a774a0fff62",
    "deepnote_to_be_reexecuted": false,
    "source_hash": "9b82ee11",
    "execution_start": 1627481158599,
    "execution_millis": 4,
    "deepnote_cell_type": "code"
   },
   "source": "import pandas as pd",
   "execution_count": null,
   "outputs": []
  },
  {
   "cell_type": "code",
   "metadata": {
    "cell_id": "00007-99d6e736-019c-4100-84c4-274187c68f6e",
    "deepnote_to_be_reexecuted": false,
    "source_hash": "d13e3c65",
    "execution_start": 1627481160257,
    "execution_millis": 10863,
    "deepnote_cell_type": "code"
   },
   "source": "df  = largefc_to_pandas(extracted_covs)\nprint(f\"There are {len(df)} features\")\nprint(df.info(memory_usage='deep'))\nprint(df.head(5))",
   "execution_count": null,
   "outputs": [
    {
     "name": "stdout",
     "text": "There are 10491 features\n<class 'pandas.core.frame.DataFrame'>\nInt64Index: 10491 entries, 0 to 490\nData columns (total 47 columns):\n #   Column  Non-Null Count  Dtype  \n---  ------  --------------  -----  \n 0   b1      10116 non-null  float64\n 1   b10     10116 non-null  float64\n 2   b11     10116 non-null  float64\n 3   b12     10116 non-null  float64\n 4   b13     10116 non-null  float64\n 5   b14     10116 non-null  float64\n 6   b15     10116 non-null  float64\n 7   b16     10116 non-null  float64\n 8   b17     10116 non-null  float64\n 9   b18     10116 non-null  float64\n 10  b19     10116 non-null  float64\n 11  b2      10116 non-null  float64\n 12  b20     10116 non-null  float64\n 13  b21     10116 non-null  float64\n 14  b22     10027 non-null  float64\n 15  b23     10116 non-null  float64\n 16  b24     10116 non-null  float64\n 17  b25     10116 non-null  float64\n 18  b26     10116 non-null  float64\n 19  b27     10116 non-null  float64\n 20  b28     10116 non-null  float64\n 21  b3      10116 non-null  float64\n 22  b30     373 non-null    float64\n 23  b31     373 non-null    float64\n 24  b32     10116 non-null  float64\n 25  b33     10116 non-null  float64\n 26  b34     10116 non-null  float64\n 27  b35     10116 non-null  float64\n 28  b36     10116 non-null  float64\n 29  b37     10116 non-null  float64\n 30  b38     10116 non-null  float64\n 31  b39     373 non-null    float64\n 32  b4      10116 non-null  float64\n 33  b40     10116 non-null  float64\n 34  b41     373 non-null    float64\n 35  b43     10116 non-null  float64\n 36  b44     10116 non-null  float64\n 37  b45     10116 non-null  float64\n 38  b5      10116 non-null  float64\n 39  b6      10116 non-null  float64\n 40  b7      10116 non-null  float64\n 41  b8      10116 non-null  float64\n 42  b9      10116 non-null  float64\n 43  fid     10491 non-null  int64  \n 44  label   10452 non-null  float64\n 45  b29     3327 non-null   float64\n 46  b42     292 non-null    float64\ndtypes: float64(46), int64(1)\nmemory usage: 3.8 MB\nNone\n      b1  b10       b11       b12  b13  b14  b15    b16      b17   b18  ...  \\\n0  231.0  8.0  1.475312 -0.124680  4.0  1.0  0.0  603.0  0.22157  10.0  ...   \n1  231.0  6.0  1.720793 -0.047865  4.0  3.0  0.0  608.0  0.21878  13.0  ...   \n2  228.0  6.0  0.073485  0.090110  4.0  2.0  0.0  609.0  0.21228  13.0  ...   \n3  229.0  6.0 -0.507698  0.262593  4.0  2.0  0.0  628.0  0.20303  13.0  ...   \n4  230.0  6.0  2.010331 -0.083014  4.0  3.0  2.0  616.0  0.19617  12.0  ...   \n\n    b45      b5   b6        b7    b8    b9  fid     label  b29  b42  \n0  32.0   935.0  0.0  0.864477  21.0  22.0    4  0.028380  NaN  NaN  \n1  30.0   994.0  0.0  1.518045  21.0  24.0    4  0.006698  3.0  4.0  \n2  32.0   886.0  0.0  1.215999  21.0  23.0    4  0.020701  NaN  NaN  \n3  32.0  1751.0  0.0  2.227070  22.0  24.0    4  0.003997  4.0  1.0  \n4  34.0   884.0  0.0  1.258982  21.0  26.0    4  0.007137  2.0  8.0  \n\n[5 rows x 47 columns]\n",
     "output_type": "stream"
    }
   ]
  },
  {
   "cell_type": "code",
   "metadata": {
    "cell_id": "00008-666b782e-97ea-4ca7-b5ec-f2502fcbcf39",
    "deepnote_cell_type": "code"
   },
   "source": "# Variable names\n['CHILI',\"H_bed_depth\",'urban.coverfraction','corr','uniformity','H_fcc','slope','H_carb_org','H_clay','H_text_class','cti','tpi','SANLC','bare.coverfraction','water.seasonal.coverfraction','bio_annP','evi_winter','H_stone','canopy_height','wp','BurnDate_count','SF','grass.coverfraction','tree.coverfraction','elevation','bio_minT','distance_trans_lines','distance_settlements','osm_water','change_abs','change_norm','wcsat','crops.coverfraction','shrub.coverfraction','variance','simpson','stc','N','transition','water.permanent.coverfraction','recurrence','seasonality','distance_roads','spi','bio_Pdq']",
   "execution_count": null,
   "outputs": []
  },
  {
   "cell_type": "code",
   "metadata": {
    "cell_id": "00009-ae89634f-ad96-4e56-9fd3-637806bb3617",
    "deepnote_to_be_reexecuted": false,
    "source_hash": "25d43fa0",
    "execution_start": 1627481171082,
    "execution_millis": 41,
    "deepnote_cell_type": "code"
   },
   "source": "df.columns",
   "execution_count": null,
   "outputs": [
    {
     "output_type": "execute_result",
     "execution_count": 14,
     "data": {
      "text/plain": "Index(['b1', 'b10', 'b11', 'b12', 'b13', 'b14', 'b15', 'b16', 'b17', 'b18',\n       'b19', 'b2', 'b20', 'b21', 'b22', 'b23', 'b24', 'b25', 'b26', 'b27',\n       'b28', 'b3', 'b30', 'b31', 'b32', 'b33', 'b34', 'b35', 'b36', 'b37',\n       'b38', 'b39', 'b4', 'b40', 'b41', 'b43', 'b44', 'b45', 'b5', 'b6', 'b7',\n       'b8', 'b9', 'fid', 'label', 'b29', 'b42'],\n      dtype='object')"
     },
     "metadata": {}
    }
   ]
  },
  {
   "cell_type": "code",
   "metadata": {
    "cell_id": "00010-cd59a496-cdd2-475b-a760-ed2ab75b4b51",
    "deepnote_to_be_reexecuted": false,
    "source_hash": "7b31004",
    "execution_start": 1627481171718,
    "execution_millis": 23,
    "deepnote_cell_type": "code"
   },
   "source": "df = df[df['label'].notna()]\ndf.isna().sum()",
   "execution_count": null,
   "outputs": [
    {
     "output_type": "execute_result",
     "execution_count": 15,
     "data": {
      "text/plain": "b1         336\nb10        336\nb11        336\nb12        336\nb13        336\nb14        336\nb15        336\nb16        336\nb17        336\nb18        336\nb19        336\nb2         336\nb20        336\nb21        336\nb22        425\nb23        336\nb24        336\nb25        336\nb26        336\nb27        336\nb28        336\nb3         336\nb30      10079\nb31      10079\nb32        336\nb33        336\nb34        336\nb35        336\nb36        336\nb37        336\nb38        336\nb39      10079\nb4         336\nb40        336\nb41      10079\nb43        336\nb44        336\nb45        336\nb5         336\nb6         336\nb7         336\nb8         336\nb9         336\nfid          0\nlabel        0\nb29       7125\nb42      10160\ndtype: int64"
     },
     "metadata": {}
    }
   ]
  },
  {
   "cell_type": "code",
   "metadata": {
    "cell_id": "00011-f55a3ae5-08bd-432d-b4a8-051ce3b79a3c",
    "deepnote_to_be_reexecuted": false,
    "source_hash": "cddccb5d",
    "execution_start": 1627481186279,
    "execution_millis": 16,
    "deepnote_cell_type": "code"
   },
   "source": "from sklearn.model_selection import GroupKFold, cross_val_predict\nblocks = df['fid'].values\ngroup_kfold = GroupKFold(n_splits=6)\n\nX = df.drop(['label','fid'],axis=1).fillna(0)\ny = df[['label']]\n\n# Generator for the train/test indices\nblock_kfold = group_kfold.split(X, y, blocks)  \n# Create a nested list of train and test indices for each fold\ntrain_indices, test_indices = [list(traintest) for traintest in zip(*block_kfold)]\nblock_cv = [*zip(train_indices,test_indices)]",
   "execution_count": null,
   "outputs": []
  },
  {
   "cell_type": "code",
   "metadata": {
    "tags": [],
    "cell_id": "00013-3fe1fef8-bbbe-4d6c-abf5-820d40de15e3",
    "deepnote_to_be_reexecuted": false,
    "source_hash": "613282c4",
    "execution_start": 1627481190640,
    "execution_millis": 4189,
    "deepnote_cell_type": "code"
   },
   "source": "!pip install yellowbrick==1.3",
   "execution_count": null,
   "outputs": [
    {
     "name": "stdout",
     "text": "Collecting yellowbrick==1.3\n  Downloading yellowbrick-1.3-py3-none-any.whl (271 kB)\n\u001b[K     |████████████████████████████████| 271 kB 14.5 MB/s \n\u001b[?25hRequirement already satisfied: cycler>=0.10.0 in /shared-libs/python3.7/py/lib/python3.7/site-packages (from yellowbrick==1.3) (0.10.0)\nRequirement already satisfied: scikit-learn>=0.20 in /shared-libs/python3.7/py/lib/python3.7/site-packages (from yellowbrick==1.3) (0.24.2)\nRequirement already satisfied: scipy>=1.0.0 in /shared-libs/python3.7/py/lib/python3.7/site-packages (from yellowbrick==1.3) (1.7.0)\nRequirement already satisfied: numpy<1.20,>=1.16.0 in /shared-libs/python3.7/py/lib/python3.7/site-packages (from yellowbrick==1.3) (1.19.5)\nRequirement already satisfied: matplotlib!=3.0.0,>=2.0.2 in /shared-libs/python3.7/py/lib/python3.7/site-packages (from yellowbrick==1.3) (3.4.2)\nRequirement already satisfied: six in /shared-libs/python3.7/py-core/lib/python3.7/site-packages (from cycler>=0.10.0->yellowbrick==1.3) (1.16.0)\nRequirement already satisfied: pyparsing>=2.2.1 in /shared-libs/python3.7/py-core/lib/python3.7/site-packages (from matplotlib!=3.0.0,>=2.0.2->yellowbrick==1.3) (2.4.7)\nRequirement already satisfied: kiwisolver>=1.0.1 in /shared-libs/python3.7/py/lib/python3.7/site-packages (from matplotlib!=3.0.0,>=2.0.2->yellowbrick==1.3) (1.3.1)\nRequirement already satisfied: python-dateutil>=2.7 in /shared-libs/python3.7/py-core/lib/python3.7/site-packages (from matplotlib!=3.0.0,>=2.0.2->yellowbrick==1.3) (2.8.2)\nRequirement already satisfied: pillow>=6.2.0 in /shared-libs/python3.7/py/lib/python3.7/site-packages (from matplotlib!=3.0.0,>=2.0.2->yellowbrick==1.3) (8.3.1)\nRequirement already satisfied: threadpoolctl>=2.0.0 in /shared-libs/python3.7/py/lib/python3.7/site-packages (from scikit-learn>=0.20->yellowbrick==1.3) (2.2.0)\nRequirement already satisfied: joblib>=0.11 in /shared-libs/python3.7/py/lib/python3.7/site-packages (from scikit-learn>=0.20->yellowbrick==1.3) (1.0.1)\nInstalling collected packages: yellowbrick\nSuccessfully installed yellowbrick-1.3\n\u001b[33mWARNING: You are using pip version 21.1.3; however, version 21.2.1 is available.\nYou should consider upgrading via the '/root/venv/bin/python -m pip install --upgrade pip' command.\u001b[0m\n",
     "output_type": "stream"
    }
   ]
  },
  {
   "cell_type": "code",
   "metadata": {
    "cell_id": "00012-4071e9bf-f603-4800-8a91-adefb49e1770",
    "deepnote_to_be_reexecuted": false,
    "source_hash": "bfadbc86",
    "execution_start": 1627472390337,
    "execution_millis": 3156911,
    "deepnote_cell_type": "code"
   },
   "source": "from sklearn.ensemble import ExtraTreesRegressor, RandomForestRegressor\nimport lightgbm as lgb\nfrom yellowbrick.model_selection import RFECV\n\ny = y.squeeze()\n\nvisualizer = RFECV(lgb.LGBMRegressor(), cv=block_cv, scoring= 'neg_root_mean_squared_error')\n\nvisualizer.fit(X, y)        # Fit the data to the visualizer\nvisualizer.show()           # Finalize and render the figure",
   "execution_count": null,
   "outputs": [
    {
     "name": "stdout",
     "text": "dict_keys(['ax', 'cv', 'estimator', 'groups', 'scoring', 'step', 'boosting_type', 'class_weight', 'colsample_bytree', 'importance_type', 'learning_rate', 'max_depth', 'min_child_samples', 'min_child_weight', 'min_split_gain', 'n_estimators', 'n_jobs', 'num_leaves', 'objective', 'random_state', 'reg_alpha', 'reg_lambda', 'silent', 'subsample', 'subsample_for_bin', 'subsample_freq']) \n\n\ndict_keys(['ax', 'cv', 'estimator', 'groups', 'scoring', 'step', 'boosting_type', 'class_weight', 'colsample_bytree', 'importance_type', 'learning_rate', 'max_depth', 'min_child_samples', 'min_child_weight', 'min_split_gain', 'n_estimators', 'n_jobs', 'num_leaves', 'objective', 'random_state', 'reg_alpha', 'reg_lambda', 'silent', 'subsample', 'subsample_for_bin', 'subsample_freq']) \n\n\ndict_keys(['ax', 'cv', 'estimator', 'groups', 'scoring', 'step', 'boosting_type', 'class_weight', 'colsample_bytree', 'importance_type', 'learning_rate', 'max_depth', 'min_child_samples', 'min_child_weight', 'min_split_gain', 'n_estimators', 'n_jobs', 'num_leaves', 'objective', 'random_state', 'reg_alpha', 'reg_lambda', 'silent', 'subsample', 'subsample_for_bin', 'subsample_freq']) \n\n\nfindfont: Font family ['sans-serif'] not found. Falling back to DejaVu Sans.\nfindfont: Generic family 'sans-serif' not found because none of the following families were found: Arial, Liberation Sans, Bitstream Vera Sans, sans-serif\nfindfont: Font family ['sans-serif'] not found. Falling back to DejaVu Sans.\nfindfont: Generic family 'sans-serif' not found because none of the following families were found: Arial, Liberation Sans, Bitstream Vera Sans, sans-serif\nfindfont: Font family ['sans-serif'] not found. Falling back to DejaVu Sans.\nfindfont: Generic family 'sans-serif' not found because none of the following families were found: Arial, Liberation Sans, Bitstream Vera Sans, sans-serif\n",
     "output_type": "stream"
    },
    {
     "data": {
      "text/plain": "<Figure size 576x396 with 1 Axes>",
      "image/png": "[encoded data removed]"
     },
     "metadata": {
      "image/png": {
       "width": 512,
       "height": 360
      }
     },
     "output_type": "display_data"
    },
    {
     "output_type": "execute_result",
     "execution_count": 19,
     "data": {
      "text/plain": "<AxesSubplot:title={'center':'RFECV for LGBMRegressor'}, xlabel='Number of Features Selected', ylabel='Score'>"
     },
     "metadata": {}
    }
   ]
  },
  {
   "cell_type": "code",
   "metadata": {
    "cell_id": "00013-e48da71d-eba4-4e75-ba8b-e3078fbce73a",
    "deepnote_to_be_reexecuted": false,
    "source_hash": "6a762bcd",
    "execution_start": 1627475566427,
    "execution_millis": 22,
    "deepnote_cell_type": "code"
   },
   "source": "pd.DataFrame(X.columns, index= visualizer.support_).loc[True]",
   "execution_count": null,
   "outputs": [
    {
     "output_type": "execute_result",
     "execution_count": 20,
     "data": {
      "application/vnd.deepnote.dataframe.v2+json": {
       "row_count": 40,
       "column_count": 1,
       "columns": [
        {
         "name": 0,
         "dtype": "object",
         "stats": {
          "unique_count": 40,
          "nan_count": 0,
          "categories": [
           {
            "name": "b1",
            "count": 1
           },
           {
            "name": "b10",
            "count": 1
           },
           {
            "name": "38 others",
            "count": 38
           }
          ]
         }
        },
        {
         "name": "_deepnote_index_column",
         "dtype": "object"
        }
       ],
       "rows_top": [
        {
         "0": "b1",
         "_deepnote_index_column": "True"
        },
        {
         "0": "b10",
         "_deepnote_index_column": "True"
        },
        {
         "0": "b11",
         "_deepnote_index_column": "True"
        },
        {
         "0": "b12",
         "_deepnote_index_column": "True"
        },
        {
         "0": "b13",
         "_deepnote_index_column": "True"
        },
        {
         "0": "b14",
         "_deepnote_index_column": "True"
        },
        {
         "0": "b15",
         "_deepnote_index_column": "True"
        },
        {
         "0": "b16",
         "_deepnote_index_column": "True"
        },
        {
         "0": "b17",
         "_deepnote_index_column": "True"
        },
        {
         "0": "b18",
         "_deepnote_index_column": "True"
        },
        {
         "0": "b19",
         "_deepnote_index_column": "True"
        },
        {
         "0": "b2",
         "_deepnote_index_column": "True"
        },
        {
         "0": "b20",
         "_deepnote_index_column": "True"
        },
        {
         "0": "b21",
         "_deepnote_index_column": "True"
        },
        {
         "0": "b22",
         "_deepnote_index_column": "True"
        },
        {
         "0": "b23",
         "_deepnote_index_column": "True"
        },
        {
         "0": "b24",
         "_deepnote_index_column": "True"
        },
        {
         "0": "b25",
         "_deepnote_index_column": "True"
        },
        {
         "0": "b26",
         "_deepnote_index_column": "True"
        },
        {
         "0": "b27",
         "_deepnote_index_column": "True"
        },
        {
         "0": "b28",
         "_deepnote_index_column": "True"
        },
        {
         "0": "b3",
         "_deepnote_index_column": "True"
        },
        {
         "0": "b32",
         "_deepnote_index_column": "True"
        },
        {
         "0": "b33",
         "_deepnote_index_column": "True"
        },
        {
         "0": "b34",
         "_deepnote_index_column": "True"
        },
        {
         "0": "b35",
         "_deepnote_index_column": "True"
        },
        {
         "0": "b36",
         "_deepnote_index_column": "True"
        },
        {
         "0": "b37",
         "_deepnote_index_column": "True"
        },
        {
         "0": "b38",
         "_deepnote_index_column": "True"
        },
        {
         "0": "b4",
         "_deepnote_index_column": "True"
        },
        {
         "0": "b43",
         "_deepnote_index_column": "True"
        },
        {
         "0": "b44",
         "_deepnote_index_column": "True"
        },
        {
         "0": "b45",
         "_deepnote_index_column": "True"
        },
        {
         "0": "b5",
         "_deepnote_index_column": "True"
        },
        {
         "0": "b6",
         "_deepnote_index_column": "True"
        },
        {
         "0": "b7",
         "_deepnote_index_column": "True"
        },
        {
         "0": "b8",
         "_deepnote_index_column": "True"
        },
        {
         "0": "b9",
         "_deepnote_index_column": "True"
        },
        {
         "0": "b29",
         "_deepnote_index_column": "True"
        },
        {
         "0": "b42",
         "_deepnote_index_column": "True"
        }
       ],
       "rows_bottom": null
      },
      "text/plain": "        0\nTrue   b1\nTrue  b10\nTrue  b11\nTrue  b12\nTrue  b13\nTrue  b14\nTrue  b15\nTrue  b16\nTrue  b17\nTrue  b18\nTrue  b19\nTrue   b2\nTrue  b20\nTrue  b21\nTrue  b22\nTrue  b23\nTrue  b24\nTrue  b25\nTrue  b26\nTrue  b27\nTrue  b28\nTrue   b3\nTrue  b32\nTrue  b33\nTrue  b34\nTrue  b35\nTrue  b36\nTrue  b37\nTrue  b38\nTrue   b4\nTrue  b43\nTrue  b44\nTrue  b45\nTrue   b5\nTrue   b6\nTrue   b7\nTrue   b8\nTrue   b9\nTrue  b29\nTrue  b42",
      "text/html": "<div>\n<style scoped>\n    .dataframe tbody tr th:only-of-type {\n        vertical-align: middle;\n    }\n\n    .dataframe tbody tr th {\n        vertical-align: top;\n    }\n\n    .dataframe thead th {\n        text-align: right;\n    }\n</style>\n<table border=\"1\" class=\"dataframe\">\n  <thead>\n    <tr style=\"text-align: right;\">\n      <th></th>\n      <th>0</th>\n    </tr>\n  </thead>\n  <tbody>\n    <tr>\n      <th>True</th>\n      <td>b1</td>\n    </tr>\n    <tr>\n      <th>True</th>\n      <td>b10</td>\n    </tr>\n    <tr>\n      <th>True</th>\n      <td>b11</td>\n    </tr>\n    <tr>\n      <th>True</th>\n      <td>b12</td>\n    </tr>\n    <tr>\n      <th>True</th>\n      <td>b13</td>\n    </tr>\n    <tr>\n      <th>True</th>\n      <td>b14</td>\n    </tr>\n    <tr>\n      <th>True</th>\n      <td>b15</td>\n    </tr>\n    <tr>\n      <th>True</th>\n      <td>b16</td>\n    </tr>\n    <tr>\n      <th>True</th>\n      <td>b17</td>\n    </tr>\n    <tr>\n      <th>True</th>\n      <td>b18</td>\n    </tr>\n    <tr>\n      <th>True</th>\n      <td>b19</td>\n    </tr>\n    <tr>\n      <th>True</th>\n      <td>b2</td>\n    </tr>\n    <tr>\n      <th>True</th>\n      <td>b20</td>\n    </tr>\n    <tr>\n      <th>True</th>\n      <td>b21</td>\n    </tr>\n    <tr>\n      <th>True</th>\n      <td>b22</td>\n    </tr>\n    <tr>\n      <th>True</th>\n      <td>b23</td>\n    </tr>\n    <tr>\n      <th>True</th>\n      <td>b24</td>\n    </tr>\n    <tr>\n      <th>True</th>\n      <td>b25</td>\n    </tr>\n    <tr>\n      <th>True</th>\n      <td>b26</td>\n    </tr>\n    <tr>\n      <th>True</th>\n      <td>b27</td>\n    </tr>\n    <tr>\n      <th>True</th>\n      <td>b28</td>\n    </tr>\n    <tr>\n      <th>True</th>\n      <td>b3</td>\n    </tr>\n    <tr>\n      <th>True</th>\n      <td>b32</td>\n    </tr>\n    <tr>\n      <th>True</th>\n      <td>b33</td>\n    </tr>\n    <tr>\n      <th>True</th>\n      <td>b34</td>\n    </tr>\n    <tr>\n      <th>True</th>\n      <td>b35</td>\n    </tr>\n    <tr>\n      <th>True</th>\n      <td>b36</td>\n    </tr>\n    <tr>\n      <th>True</th>\n      <td>b37</td>\n    </tr>\n    <tr>\n      <th>True</th>\n      <td>b38</td>\n    </tr>\n    <tr>\n      <th>True</th>\n      <td>b4</td>\n    </tr>\n    <tr>\n      <th>True</th>\n      <td>b43</td>\n    </tr>\n    <tr>\n      <th>True</th>\n      <td>b44</td>\n    </tr>\n    <tr>\n      <th>True</th>\n      <td>b45</td>\n    </tr>\n    <tr>\n      <th>True</th>\n      <td>b5</td>\n    </tr>\n    <tr>\n      <th>True</th>\n      <td>b6</td>\n    </tr>\n    <tr>\n      <th>True</th>\n      <td>b7</td>\n    </tr>\n    <tr>\n      <th>True</th>\n      <td>b8</td>\n    </tr>\n    <tr>\n      <th>True</th>\n      <td>b9</td>\n    </tr>\n    <tr>\n      <th>True</th>\n      <td>b29</td>\n    </tr>\n    <tr>\n      <th>True</th>\n      <td>b42</td>\n    </tr>\n  </tbody>\n</table>\n</div>"
     },
     "metadata": {}
    }
   ]
  },
  {
   "cell_type": "code",
   "metadata": {
    "scrolled": true,
    "cell_id": "00014-35e54a99-54f9-4deb-b23f-b2c4233f60b3",
    "deepnote_to_be_reexecuted": false,
    "source_hash": "374a79ec",
    "execution_start": 1627475576963,
    "execution_millis": 7,
    "deepnote_cell_type": "code"
   },
   "source": "len(visualizer.estimator_.feature_importances_)",
   "execution_count": null,
   "outputs": [
    {
     "output_type": "execute_result",
     "execution_count": 21,
     "data": {
      "text/plain": "40"
     },
     "metadata": {}
    }
   ]
  },
  {
   "cell_type": "code",
   "metadata": {
    "cell_id": "00015-87c92b8e-e3c2-460c-a9e1-31082af6e7c6",
    "deepnote_to_be_reexecuted": false,
    "source_hash": "a0d2085f",
    "execution_start": 1627481304777,
    "execution_millis": 4711,
    "deepnote_cell_type": "code"
   },
   "source": "from sklearn.ensemble import ExtraTreesRegressor, RandomForestRegressor\nimport lightgbm as lgb\nfrom yellowbrick.model_selection import RFECV\n\ny = y.squeeze()\n\nvisualizer_rf = RFECV(RandomForestRegressor(), cv=block_cv, scoring= 'neg_root_mean_squared_error')\n\nvisualizer_rf.fit(X, y)        # Fit the data to the visualizer\nvisualizer_rf.show()           # Finalize and render the figure",
   "execution_count": null,
   "outputs": [
    {
     "name": "stdout",
     "text": "dict_keys(['ax', 'cv', 'estimator', 'groups', 'scoring', 'step', 'bootstrap', 'ccp_alpha', 'criterion', 'max_depth', 'max_features', 'max_leaf_nodes', 'max_samples', 'min_impurity_decrease', 'min_impurity_split', 'min_samples_leaf', 'min_samples_split', 'min_weight_fraction_leaf', 'n_estimators', 'n_jobs', 'oob_score', 'random_state', 'verbose', 'warm_start']) \n\n\ndict_keys(['ax', 'cv', 'estimator', 'groups', 'scoring', 'step', 'bootstrap', 'ccp_alpha', 'criterion', 'max_depth', 'max_features', 'max_leaf_nodes', 'max_samples', 'min_impurity_decrease', 'min_impurity_split', 'min_samples_leaf', 'min_samples_split', 'min_weight_fraction_leaf', 'n_estimators', 'n_jobs', 'oob_score', 'random_state', 'verbose', 'warm_start']) \n\n\ndict_keys(['ax', 'cv', 'estimator', 'groups', 'scoring', 'step', 'bootstrap', 'ccp_alpha', 'criterion', 'max_depth', 'max_features', 'max_leaf_nodes', 'max_samples', 'min_impurity_decrease', 'min_impurity_split', 'min_samples_leaf', 'min_samples_split', 'min_weight_fraction_leaf', 'n_estimators', 'n_jobs', 'oob_score', 'random_state', 'verbose', 'warm_start']) \n\n\n",
     "output_type": "stream"
    },
    {
     "output_type": "error",
     "ename": "KernelInterrupted",
     "evalue": "Execution interrupted by the Jupyter kernel.",
     "traceback": [
      "\u001b[0;31m---------------------------------------------------------------------------\u001b[0m",
      "\u001b[0;31mKernelInterrupted\u001b[0m: Execution interrupted by the Jupyter kernel."
     ]
    }
   ]
  },
  {
   "cell_type": "code",
   "metadata": {
    "tags": [],
    "cell_id": "00018-932b366d-652c-4979-971d-fde4bdc4eddd",
    "deepnote_cell_type": "code"
   },
   "source": "pd.DataFrame(X.columns, index= visualizer_rf.support_).loc[True]",
   "execution_count": null,
   "outputs": []
  },
  {
   "cell_type": "markdown",
   "source": "<a style='text-decoration:none;line-height:16px;display:flex;color:#5B5B62;padding:10px;justify-content:end;' href='https://deepnote.com?utm_source=created-in-deepnote-cell&projectId=232f2193-6834-457f-a7ff-77b7f2e92f86' target=\"_blank\">\n<img alt='Created in deepnote.com' style='display:inline;max-height:16px;margin:0px;margin-right:7.5px;' src='data:image/svg+xml;base64,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' > </img>\nCreated in <span style='font-weight:600;margin-left:4px;'>Deepnote</span></a>",
   "metadata": {
    "tags": [],
    "created_in_deepnote_cell": true,
    "deepnote_cell_type": "markdown"
   }
  }
 ],
 "nbformat": 4,
 "nbformat_minor": 5,
 "metadata": {
  "kernelspec": {
   "display_name": "tfgpu",
   "language": "python",
   "name": "tfgpu"
  },
  "language_info": {
   "codemirror_mode": {
    "name": "ipython",
    "version": 3
   },
   "file_extension": ".py",
   "mimetype": "text/x-python",
   "name": "python",
   "nbconvert_exporter": "python",
   "pygments_lexer": "ipython3",
   "version": "3.6.7"
  },
  "deepnote_notebook_id": "d0f3d0d6-0b28-46cd-a375-7a6f60f025ec",
  "deepnote": {},
  "deepnote_execution_queue": []
 }
}