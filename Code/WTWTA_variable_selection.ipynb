{
 "cells": [
  {
   "cell_type": "code",
   "execution_count": 1,
   "id": "6fb890c4",
   "metadata": {},
   "outputs": [],
   "source": [
    "import ee\n",
    "import geemap\n",
    "# ee.Authenticate()\n",
    "ee.Initialize()"
   ]
  },
  {
   "cell_type": "code",
   "execution_count": 2,
   "id": "97f0219d",
   "metadata": {},
   "outputs": [
    {
     "data": {
      "application/vnd.jupyter.widget-view+json": {
       "model_id": "5e2cc8210cde47388880e4ecc655be77",
       "version_major": 2,
       "version_minor": 0
      },
      "text/plain": [
       "Map(center=[40, -100], controls=(WidgetControl(options=['position'], widget=HBox(children=(ToggleButton(value=…"
      ]
     },
     "metadata": {},
     "output_type": "display_data"
    }
   ],
   "source": [
    "Map = geemap.Map()\n",
    "Map"
   ]
  },
  {
   "cell_type": "code",
   "execution_count": 3,
   "id": "46d3304a",
   "metadata": {},
   "outputs": [
    {
     "name": "stdout",
     "output_type": "stream",
     "text": [
      "6\n"
     ]
    }
   ],
   "source": [
    "grid = ee.FeatureCollection('users/geethensingh/WTWTA_grid75457')\n",
    "print(grid.size().getInfo())\n",
    "Map.addLayer(grid)\n",
    "\n",
    "grid_img = grid.reduceToImage(**{'properties': ['fid'], 'reducer': ee.Reducer.first()}).rename('fid')\n",
    "Map.addLayer(grid_img)"
   ]
  },
  {
   "cell_type": "code",
   "execution_count": 4,
   "id": "add485b0",
   "metadata": {},
   "outputs": [
    {
     "name": "stdout",
     "output_type": "stream",
     "text": [
      "{'type': 'Feature', 'geometry': {'type': 'Point', 'coordinates': [31.758101185332148, -24.595835104973677]}, 'id': '00000000000000001d2b', 'properties': {}}\n"
     ]
    }
   ],
   "source": [
    "label = ee.ImageCollection.fromImages([ee.Image('users/jdmwhite/UD_buf_mean'),ee.Image('users/geethensingh/UD_buf_GPS')]).mean().rename('label')\n",
    "covs = ee.Image('users/jdmwhite/WTWTA_covariates_1000_sel').addBands([grid_img, label])\n",
    "# print(covs.bandNames().getInfo())\n",
    "pts = ee.FeatureCollection('users/jdmwhite/buff_sampled_points').select([])\n",
    "print(pts.first().getInfo())"
   ]
  },
  {
   "cell_type": "code",
   "execution_count": 5,
   "id": "f36b536f",
   "metadata": {},
   "outputs": [
    {
     "name": "stdout",
     "output_type": "stream",
     "text": [
      "10491\n",
      "10491\n"
     ]
    }
   ],
   "source": [
    "print(pts.size().getInfo())\n",
    "extracted_covs = covs.reduceRegions(**{'collection': pts, 'scale': 1000, 'reducer': ee.Reducer.first()})\n",
    "print(extracted_covs.size().getInfo())"
   ]
  },
  {
   "cell_type": "code",
   "execution_count": 6,
   "id": "f641d78a",
   "metadata": {},
   "outputs": [],
   "source": [
    "def largefc_to_pandas(featurecollection, step_size = 5000):\n",
    "    \"\"\"\n",
    "    function to convert a featurecollection with more than 5000 elements to a pandas dataframe\n",
    "    \n",
    "    featurecollection: earth engine feature collection with more than 5000 elements\n",
    "    step_size: Th enumber of elemenst to process at once. Must be less than equal to 5000\n",
    "    \n",
    "    \"\"\"\n",
    "    df = pd.DataFrame()\n",
    "    fclist = featurecollection.toList(featurecollection.size())\n",
    "    fcsize = featurecollection.size().getInfo()\n",
    "    for i in range(0,fcsize,step_size):\n",
    "        fc = ee.FeatureCollection(fclist.slice(i,i+step_size))\n",
    "        df = df.append(geemap.ee_to_pandas(fc))\n",
    "    return df"
   ]
  },
  {
   "cell_type": "code",
   "execution_count": 7,
   "id": "8d5092e9",
   "metadata": {},
   "outputs": [],
   "source": [
    "import pandas as pd"
   ]
  },
  {
   "cell_type": "code",
   "execution_count": 8,
   "id": "f3f269ba",
   "metadata": {},
   "outputs": [
    {
     "name": "stdout",
     "output_type": "stream",
     "text": [
      "There are 10491 features\n",
      "<class 'pandas.core.frame.DataFrame'>\n",
      "Int64Index: 10491 entries, 0 to 490\n",
      "Data columns (total 47 columns):\n",
      " #   Column  Non-Null Count  Dtype  \n",
      "---  ------  --------------  -----  \n",
      " 0   b1      10116 non-null  float64\n",
      " 1   b10     10116 non-null  float64\n",
      " 2   b11     10116 non-null  float64\n",
      " 3   b12     10116 non-null  float64\n",
      " 4   b13     10116 non-null  float64\n",
      " 5   b14     10116 non-null  float64\n",
      " 6   b15     10116 non-null  float64\n",
      " 7   b16     10116 non-null  float64\n",
      " 8   b17     10116 non-null  float64\n",
      " 9   b18     10116 non-null  float64\n",
      " 10  b19     10116 non-null  float64\n",
      " 11  b2      10116 non-null  float64\n",
      " 12  b20     10116 non-null  float64\n",
      " 13  b21     10116 non-null  float64\n",
      " 14  b22     10027 non-null  float64\n",
      " 15  b23     10116 non-null  float64\n",
      " 16  b24     10116 non-null  float64\n",
      " 17  b25     10116 non-null  float64\n",
      " 18  b26     10116 non-null  float64\n",
      " 19  b27     10116 non-null  float64\n",
      " 20  b28     10116 non-null  float64\n",
      " 21  b3      10116 non-null  float64\n",
      " 22  b30     373 non-null    float64\n",
      " 23  b31     373 non-null    float64\n",
      " 24  b32     10116 non-null  float64\n",
      " 25  b33     10116 non-null  float64\n",
      " 26  b34     10116 non-null  float64\n",
      " 27  b35     10116 non-null  float64\n",
      " 28  b36     10116 non-null  float64\n",
      " 29  b37     10116 non-null  float64\n",
      " 30  b38     10116 non-null  float64\n",
      " 31  b39     373 non-null    float64\n",
      " 32  b4      10116 non-null  float64\n",
      " 33  b40     10116 non-null  float64\n",
      " 34  b41     373 non-null    float64\n",
      " 35  b43     10116 non-null  float64\n",
      " 36  b44     10116 non-null  float64\n",
      " 37  b45     10116 non-null  float64\n",
      " 38  b5      10116 non-null  float64\n",
      " 39  b6      10116 non-null  float64\n",
      " 40  b7      10116 non-null  float64\n",
      " 41  b8      10116 non-null  float64\n",
      " 42  b9      10116 non-null  float64\n",
      " 43  fid     10491 non-null  int64  \n",
      " 44  label   10452 non-null  float64\n",
      " 45  b29     3327 non-null   float64\n",
      " 46  b42     292 non-null    float64\n",
      "dtypes: float64(46), int64(1)\n",
      "memory usage: 3.8 MB\n",
      "None\n",
      "      b1  b10       b11       b12  b13  b14  b15    b16      b17   b18  ...  \\\n",
      "0  231.0  8.0  1.475312 -0.124680  4.0  1.0  0.0  603.0  0.22157  10.0  ...   \n",
      "1  231.0  6.0  1.720793 -0.047865  4.0  3.0  0.0  608.0  0.21878  13.0  ...   \n",
      "2  228.0  6.0  0.073485  0.090110  4.0  2.0  0.0  609.0  0.21228  13.0  ...   \n",
      "3  229.0  6.0 -0.507698  0.262593  4.0  2.0  0.0  628.0  0.20303  13.0  ...   \n",
      "4  230.0  6.0  2.010331 -0.083014  4.0  3.0  2.0  616.0  0.19617  12.0  ...   \n",
      "\n",
      "    b45      b5   b6        b7    b8    b9  fid     label  b29  b42  \n",
      "0  32.0   935.0  0.0  0.864477  21.0  22.0    4  0.028380  NaN  NaN  \n",
      "1  30.0   994.0  0.0  1.518045  21.0  24.0    4  0.006698  3.0  4.0  \n",
      "2  32.0   886.0  0.0  1.215999  21.0  23.0    4  0.020701  NaN  NaN  \n",
      "3  32.0  1751.0  0.0  2.227070  22.0  24.0    4  0.003997  4.0  1.0  \n",
      "4  34.0   884.0  0.0  1.258982  21.0  26.0    4  0.007137  2.0  8.0  \n",
      "\n",
      "[5 rows x 47 columns]\n"
     ]
    }
   ],
   "source": [
    "df  = largefc_to_pandas(extracted_covs)\n",
    "print(f\"There are {len(df)} features\")\n",
    "print(df.info(memory_usage='deep'))\n",
    "print(df.head(5))"
   ]
  },
  {
   "cell_type": "code",
   "execution_count": null,
   "id": "0200abc0",
   "metadata": {},
   "outputs": [],
   "source": [
    "# Variable names\n",
    "['CHILI',\"H_bed_depth\",'urban.coverfraction','corr','uniformity','H_fcc','slope','H_carb_org','H_clay','H_text_class','cti','tpi','SANLC','bare.coverfraction','water.seasonal.coverfraction','bio_annP','evi_winter','H_stone','canopy_height','wp','BurnDate_count','SF','grass.coverfraction','tree.coverfraction','elevation','bio_minT','distance_trans_lines','distance_settlements','osm_water','change_abs','change_norm','wcsat','crops.coverfraction','shrub.coverfraction','variance','simpson','stc','N','transition','water.permanent.coverfraction','recurrence','seasonality','distance_roads','spi','bio_Pdq']"
   ]
  },
  {
   "cell_type": "code",
   "execution_count": 9,
   "id": "250697e4",
   "metadata": {},
   "outputs": [
    {
     "data": {
      "text/plain": [
       "Index(['b1', 'b10', 'b11', 'b12', 'b13', 'b14', 'b15', 'b16', 'b17', 'b18',\n",
       "       'b19', 'b2', 'b20', 'b21', 'b22', 'b23', 'b24', 'b25', 'b26', 'b27',\n",
       "       'b28', 'b3', 'b30', 'b31', 'b32', 'b33', 'b34', 'b35', 'b36', 'b37',\n",
       "       'b38', 'b39', 'b4', 'b40', 'b41', 'b43', 'b44', 'b45', 'b5', 'b6', 'b7',\n",
       "       'b8', 'b9', 'fid', 'label', 'b29', 'b42'],\n",
       "      dtype='object')"
      ]
     },
     "execution_count": 9,
     "metadata": {},
     "output_type": "execute_result"
    }
   ],
   "source": [
    "df.columns"
   ]
  },
  {
   "cell_type": "code",
   "execution_count": 10,
   "id": "ced32f99",
   "metadata": {},
   "outputs": [
    {
     "data": {
      "text/plain": [
       "b1         336\n",
       "b10        336\n",
       "b11        336\n",
       "b12        336\n",
       "b13        336\n",
       "b14        336\n",
       "b15        336\n",
       "b16        336\n",
       "b17        336\n",
       "b18        336\n",
       "b19        336\n",
       "b2         336\n",
       "b20        336\n",
       "b21        336\n",
       "b22        425\n",
       "b23        336\n",
       "b24        336\n",
       "b25        336\n",
       "b26        336\n",
       "b27        336\n",
       "b28        336\n",
       "b3         336\n",
       "b30      10079\n",
       "b31      10079\n",
       "b32        336\n",
       "b33        336\n",
       "b34        336\n",
       "b35        336\n",
       "b36        336\n",
       "b37        336\n",
       "b38        336\n",
       "b39      10079\n",
       "b4         336\n",
       "b40        336\n",
       "b41      10079\n",
       "b43        336\n",
       "b44        336\n",
       "b45        336\n",
       "b5         336\n",
       "b6         336\n",
       "b7         336\n",
       "b8         336\n",
       "b9         336\n",
       "fid          0\n",
       "label        0\n",
       "b29       7125\n",
       "b42      10160\n",
       "dtype: int64"
      ]
     },
     "execution_count": 10,
     "metadata": {},
     "output_type": "execute_result"
    }
   ],
   "source": [
    "\n",
    "df = df[df['label'].notna()]\n",
    "df.isna().sum()"
   ]
  },
  {
   "cell_type": "code",
   "execution_count": 11,
   "id": "a4fb288c",
   "metadata": {},
   "outputs": [],
   "source": [
    "from sklearn.model_selection import GroupKFold, cross_val_predict\n",
    "blocks = df['fid'].values\n",
    "group_kfold = GroupKFold(n_splits=6)\n",
    "\n",
    "X = df.drop(['label','fid'],axis=1).fillna(0)\n",
    "y = df[['label']]\n",
    "\n",
    "# Generator for the train/test indices\n",
    "block_kfold = group_kfold.split(X, y, blocks)  \n",
    "# Create a nested list of train and test indices for each fold\n",
    "train_indices, test_indices = [list(traintest) for traintest in zip(*block_kfold)]\n",
    "block_cv = [*zip(train_indices,test_indices)]"
   ]
  },
  {
   "cell_type": "code",
   "execution_count": 15,
   "id": "a46d090c",
   "metadata": {},
   "outputs": [
    {
     "data": {
      "image/png": "[encoded data removed]",
      "text/plain": [
       "<Figure size 576x396 with 1 Axes>"
      ]
     },
     "metadata": {},
     "output_type": "display_data"
    },
    {
     "data": {
      "text/plain": [
       "<AxesSubplot:title={'center':'RFECV for LGBMRegressor'}, xlabel='Number of Features Selected', ylabel='Score'>"
      ]
     },
     "execution_count": 15,
     "metadata": {},
     "output_type": "execute_result"
    }
   ],
   "source": [
    "from sklearn.ensemble import ExtraTreesRegressor, RandomForestRegressor\n",
    "import lightgbm as lgb\n",
    "from yellowbrick.model_selection import RFECV\n",
    "\n",
    "y = y.squeeze()\n",
    "\n",
    "visualizer = RFECV(lgb.LGBMRegressor(), cv=block_cv, scoring= 'neg_root_mean_squared_error')\n",
    "\n",
    "visualizer.fit(X, y)        # Fit the data to the visualizer\n",
    "visualizer.show()           # Finalize and render the figure"
   ]
  },
  {
   "cell_type": "code",
   "execution_count": 42,
   "id": "aea97f0c",
   "metadata": {},
   "outputs": [
    {
     "data": {
      "text/html": [
       "<div>\n",
       "<style scoped>\n",
       "    .dataframe tbody tr th:only-of-type {\n",
       "        vertical-align: middle;\n",
       "    }\n",
       "\n",
       "    .dataframe tbody tr th {\n",
       "        vertical-align: top;\n",
       "    }\n",
       "\n",
       "    .dataframe thead th {\n",
       "        text-align: right;\n",
       "    }\n",
       "</style>\n",
       "<table border=\"1\" class=\"dataframe\">\n",
       "  <thead>\n",
       "    <tr style=\"text-align: right;\">\n",
       "      <th></th>\n",
       "      <th>0</th>\n",
       "    </tr>\n",
       "  </thead>\n",
       "  <tbody>\n",
       "    <tr>\n",
       "      <th>True</th>\n",
       "      <td>b1</td>\n",
       "    </tr>\n",
       "    <tr>\n",
       "      <th>True</th>\n",
       "      <td>b10</td>\n",
       "    </tr>\n",
       "    <tr>\n",
       "      <th>True</th>\n",
       "      <td>b11</td>\n",
       "    </tr>\n",
       "    <tr>\n",
       "      <th>True</th>\n",
       "      <td>b12</td>\n",
       "    </tr>\n",
       "    <tr>\n",
       "      <th>True</th>\n",
       "      <td>b13</td>\n",
       "    </tr>\n",
       "    <tr>\n",
       "      <th>True</th>\n",
       "      <td>b14</td>\n",
       "    </tr>\n",
       "    <tr>\n",
       "      <th>True</th>\n",
       "      <td>b15</td>\n",
       "    </tr>\n",
       "    <tr>\n",
       "      <th>True</th>\n",
       "      <td>b16</td>\n",
       "    </tr>\n",
       "    <tr>\n",
       "      <th>True</th>\n",
       "      <td>b17</td>\n",
       "    </tr>\n",
       "    <tr>\n",
       "      <th>True</th>\n",
       "      <td>b18</td>\n",
       "    </tr>\n",
       "    <tr>\n",
       "      <th>True</th>\n",
       "      <td>b19</td>\n",
       "    </tr>\n",
       "    <tr>\n",
       "      <th>True</th>\n",
       "      <td>b2</td>\n",
       "    </tr>\n",
       "    <tr>\n",
       "      <th>True</th>\n",
       "      <td>b20</td>\n",
       "    </tr>\n",
       "    <tr>\n",
       "      <th>True</th>\n",
       "      <td>b21</td>\n",
       "    </tr>\n",
       "    <tr>\n",
       "      <th>True</th>\n",
       "      <td>b22</td>\n",
       "    </tr>\n",
       "    <tr>\n",
       "      <th>True</th>\n",
       "      <td>b23</td>\n",
       "    </tr>\n",
       "    <tr>\n",
       "      <th>True</th>\n",
       "      <td>b24</td>\n",
       "    </tr>\n",
       "    <tr>\n",
       "      <th>True</th>\n",
       "      <td>b25</td>\n",
       "    </tr>\n",
       "    <tr>\n",
       "      <th>True</th>\n",
       "      <td>b26</td>\n",
       "    </tr>\n",
       "    <tr>\n",
       "      <th>True</th>\n",
       "      <td>b27</td>\n",
       "    </tr>\n",
       "    <tr>\n",
       "      <th>True</th>\n",
       "      <td>b28</td>\n",
       "    </tr>\n",
       "    <tr>\n",
       "      <th>True</th>\n",
       "      <td>b3</td>\n",
       "    </tr>\n",
       "    <tr>\n",
       "      <th>True</th>\n",
       "      <td>b32</td>\n",
       "    </tr>\n",
       "    <tr>\n",
       "      <th>True</th>\n",
       "      <td>b33</td>\n",
       "    </tr>\n",
       "    <tr>\n",
       "      <th>True</th>\n",
       "      <td>b34</td>\n",
       "    </tr>\n",
       "    <tr>\n",
       "      <th>True</th>\n",
       "      <td>b35</td>\n",
       "    </tr>\n",
       "    <tr>\n",
       "      <th>True</th>\n",
       "      <td>b36</td>\n",
       "    </tr>\n",
       "    <tr>\n",
       "      <th>True</th>\n",
       "      <td>b37</td>\n",
       "    </tr>\n",
       "    <tr>\n",
       "      <th>True</th>\n",
       "      <td>b38</td>\n",
       "    </tr>\n",
       "    <tr>\n",
       "      <th>True</th>\n",
       "      <td>b4</td>\n",
       "    </tr>\n",
       "    <tr>\n",
       "      <th>True</th>\n",
       "      <td>b43</td>\n",
       "    </tr>\n",
       "    <tr>\n",
       "      <th>True</th>\n",
       "      <td>b44</td>\n",
       "    </tr>\n",
       "    <tr>\n",
       "      <th>True</th>\n",
       "      <td>b45</td>\n",
       "    </tr>\n",
       "    <tr>\n",
       "      <th>True</th>\n",
       "      <td>b5</td>\n",
       "    </tr>\n",
       "    <tr>\n",
       "      <th>True</th>\n",
       "      <td>b6</td>\n",
       "    </tr>\n",
       "    <tr>\n",
       "      <th>True</th>\n",
       "      <td>b7</td>\n",
       "    </tr>\n",
       "    <tr>\n",
       "      <th>True</th>\n",
       "      <td>b8</td>\n",
       "    </tr>\n",
       "    <tr>\n",
       "      <th>True</th>\n",
       "      <td>b9</td>\n",
       "    </tr>\n",
       "    <tr>\n",
       "      <th>True</th>\n",
       "      <td>b29</td>\n",
       "    </tr>\n",
       "    <tr>\n",
       "      <th>True</th>\n",
       "      <td>b42</td>\n",
       "    </tr>\n",
       "  </tbody>\n",
       "</table>\n",
       "</div>"
      ],
      "text/plain": [
       "        0\n",
       "True   b1\n",
       "True  b10\n",
       "True  b11\n",
       "True  b12\n",
       "True  b13\n",
       "True  b14\n",
       "True  b15\n",
       "True  b16\n",
       "True  b17\n",
       "True  b18\n",
       "True  b19\n",
       "True   b2\n",
       "True  b20\n",
       "True  b21\n",
       "True  b22\n",
       "True  b23\n",
       "True  b24\n",
       "True  b25\n",
       "True  b26\n",
       "True  b27\n",
       "True  b28\n",
       "True   b3\n",
       "True  b32\n",
       "True  b33\n",
       "True  b34\n",
       "True  b35\n",
       "True  b36\n",
       "True  b37\n",
       "True  b38\n",
       "True   b4\n",
       "True  b43\n",
       "True  b44\n",
       "True  b45\n",
       "True   b5\n",
       "True   b6\n",
       "True   b7\n",
       "True   b8\n",
       "True   b9\n",
       "True  b29\n",
       "True  b42"
      ]
     },
     "execution_count": 42,
     "metadata": {},
     "output_type": "execute_result"
    }
   ],
   "source": [
    "pd.DataFrame(X.columns, index= visualizer.support_).loc[True]"
   ]
  },
  {
   "cell_type": "code",
   "execution_count": 23,
   "id": "6db8d66e",
   "metadata": {
    "scrolled": true
   },
   "outputs": [
    {
     "data": {
      "text/plain": [
       "40"
      ]
     },
     "execution_count": 23,
     "metadata": {},
     "output_type": "execute_result"
    }
   ],
   "source": [
    "len(visualizer.estimator_.feature_importances_)"
   ]
  },
  {
   "cell_type": "code",
   "execution_count": null,
   "id": "171bbaca",
   "metadata": {},
   "outputs": [],
   "source": [
    "from sklearn.ensemble import ExtraTreesRegressor, RandomForestRegressor\n",
    "import lightgbm as lgb\n",
    "from yellowbrick.model_selection import RFECV\n",
    "\n",
    "y = y.squeeze()\n",
    "\n",
    "visualizer = RFECV(RandomForestRegressor(), cv=block_cv, scoring= 'neg_root_mean_squared_error')\n",
    "\n",
    "visualizer.fit(X, y)        # Fit the data to the visualizer\n",
    "visualizer.show()           # Finalize and render the figure"
   ]
  }
 ],
 "metadata": {
  "kernelspec": {
   "display_name": "tfgpu",
   "language": "python",
   "name": "tfgpu"
  },
  "language_info": {
   "codemirror_mode": {
    "name": "ipython",
    "version": 3
   },
   "file_extension": ".py",
   "mimetype": "text/x-python",
   "name": "python",
   "nbconvert_exporter": "python",
   "pygments_lexer": "ipython3",
   "version": "3.6.7"
  }
 },
 "nbformat": 4,
 "nbformat_minor": 5
}
