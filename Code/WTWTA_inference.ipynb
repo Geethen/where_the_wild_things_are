{
 "cells": [
  {
   "cell_type": "markdown",
   "id": "fbe8cc1c",
   "metadata": {},
   "source": [
    "# Notebook to classify a GEE image using trained sklearn model. \n",
    "\n",
    "### This is achieved by downloading an earth engine image in patches, running inference on the patch and then mosaicing all image patches together "
   ]
  },
  {
   "cell_type": "markdown",
   "id": "63eaa2c8",
   "metadata": {},
   "source": [
    "# Import packages"
   ]
  },
  {
   "cell_type": "code",
   "execution_count": 1,
   "id": "0047691f",
   "metadata": {},
   "outputs": [],
   "source": [
    "import geemap\n",
    "import ee\n",
    "ee.Initialize()\n",
    "import numpy as np\n",
    "import pandas as pd\n",
    "import json\n",
    "import os\n",
    "import glob\n",
    "import earthpy as et\n",
    "import matplotlib.pyplot as plt\n",
    "from pycaret.regression import load_model,plot_model\n",
    "import rasterio as rio\n",
    "from rasterio.merge import merge\n",
    "from rasterio.plot import reshape_as_raster, reshape_as_image"
   ]
  },
  {
   "cell_type": "code",
   "execution_count": 2,
   "id": "2523f43c",
   "metadata": {},
   "outputs": [
    {
     "data": {
      "application/vnd.jupyter.widget-view+json": {
       "model_id": "590b42235f7b4baf8ed0ad89b08dacc7",
       "version_major": 2,
       "version_minor": 0
      },
      "text/plain": [
       "Map(center=[40, -100], controls=(WidgetControl(options=['position'], widget=HBox(children=(ToggleButton(value=…"
      ]
     },
     "metadata": {},
     "output_type": "display_data"
    }
   ],
   "source": [
    "Map = geemap.Map()\n",
    "Map"
   ]
  },
  {
   "cell_type": "markdown",
   "id": "9e3596c2",
   "metadata": {},
   "source": [
    "# Import data"
   ]
  },
  {
   "cell_type": "code",
   "execution_count": 3,
   "id": "3f4d3ed4",
   "metadata": {},
   "outputs": [],
   "source": [
    "# Import AOI\n",
    "aoi = ee.FeatureCollection('users/jdmwhite/KNP_study_area')\n",
    "Map.addLayer(aoi)"
   ]
  },
  {
   "cell_type": "code",
   "execution_count": 4,
   "id": "0f0011b9",
   "metadata": {},
   "outputs": [],
   "source": [
    "# Import covariate to be classified\n",
    "covariates = ee.Image('users/jdmwhite/WTWTA_covariates_1000_sel')"
   ]
  },
  {
   "cell_type": "code",
   "execution_count": 5,
   "id": "d10bc45e",
   "metadata": {},
   "outputs": [
    {
     "name": "stdout",
     "output_type": "stream",
     "text": [
      "Transformation Pipeline and Model Successfully Loaded\n"
     ]
    }
   ],
   "source": [
    "#  Load model\n",
    "model = load_model(r\"D:\\My_projects\\Rhinos_KNP\\Final ET Model 04_Aug_2021\")"
   ]
  },
  {
   "cell_type": "markdown",
   "id": "f58ee35d",
   "metadata": {},
   "source": [
    "# Generate patch size grid"
   ]
  },
  {
   "cell_type": "code",
   "execution_count": 6,
   "id": "f32e9009",
   "metadata": {},
   "outputs": [],
   "source": [
    "# Generate a random image of integers in Albers projection at the specified cell size.\n",
    "seed = 123\n",
    "spatial_res = 1000 #in metres\n",
    "num_pixels = 8\n",
    "cellSize = num_pixels*spatial_res\n",
    "\n",
    "proj = ee.Projection(\"EPSG:3857\").atScale(cellSize)\n",
    "cells = ee.Image.random(seed).multiply(1e6).int().clip(aoi).reproject(proj)\n",
    "Map.addLayer(cells.randomVisualizer())"
   ]
  },
  {
   "cell_type": "code",
   "execution_count": 7,
   "id": "7984f053",
   "metadata": {},
   "outputs": [],
   "source": [
    "# Convert to feature collection to allow for looping\n",
    "\n",
    "grid = cells.reduceToVectors(**{ 'geometry': aoi})\n",
    "Map.addLayer(grid)"
   ]
  },
  {
   "cell_type": "markdown",
   "id": "399ffcd7",
   "metadata": {},
   "source": [
    "# Classify patches"
   ]
  },
  {
   "cell_type": "code",
   "execution_count": 13,
   "id": "035cb504",
   "metadata": {},
   "outputs": [
    {
     "name": "stdout",
     "output_type": "stream",
     "text": [
      "Generating URL ...\n",
      "Downloading data from https://earthengine.googleapis.com/v1alpha/projects/earthengine-legacy/thumbnails/c273f0f9f89e0ffe870f278ad7081d93-d77fe7b5dceb182bb3b4315fd9a72321:getPixels\n",
      "Please wait ...\n",
      "Data downloaded to D:\\My_projects\\Rhinos_KNP\\data\\692842.tif\n"
     ]
    },
    {
     "data": {
      "image/png": "[encoded data removed]",
      "text/plain": [
       "<Figure size 360x360 with 1 Axes>"
      ]
     },
     "metadata": {
      "needs_background": "light"
     },
     "output_type": "display_data"
    },
    {
     "name": "stdout",
     "output_type": "stream",
     "text": [
      "Generating URL ...\n",
      "Downloading data from https://earthengine.googleapis.com/v1alpha/projects/earthengine-legacy/thumbnails/63f0e9828647484be3be0eb2a2eab826-1f013d8b4533eabd353a11f5cd7921b0:getPixels\n",
      "Please wait ...\n",
      "Data downloaded to D:\\My_projects\\Rhinos_KNP\\data\\782412.tif\n"
     ]
    },
    {
     "data": {
      "image/png": "[encoded data removed]",
      "text/plain": [
       "<Figure size 360x360 with 1 Axes>"
      ]
     },
     "metadata": {
      "needs_background": "light"
     },
     "output_type": "display_data"
    },
    {
     "name": "stdout",
     "output_type": "stream",
     "text": [
      "Generating URL ...\n"
     ]
    },
    {
     "ename": "KeyboardInterrupt",
     "evalue": "",
     "output_type": "error",
     "traceback": [
      "\u001b[1;31m---------------------------------------------------------------------------\u001b[0m",
      "\u001b[1;31mTypeError\u001b[0m                                 Traceback (most recent call last)",
      "\u001b[1;32mC:\\ProgramData\\Anaconda3\\envs\\tfgpu\\lib\\site-packages\\urllib3\\connectionpool.py\u001b[0m in \u001b[0;36m_make_request\u001b[1;34m(self, conn, method, url, timeout, chunked, **httplib_request_kw)\u001b[0m\n\u001b[0;32m    376\u001b[0m             \u001b[1;32mtry\u001b[0m\u001b[1;33m:\u001b[0m  \u001b[1;31m# Python 2.7, use buffering of HTTP responses\u001b[0m\u001b[1;33m\u001b[0m\u001b[1;33m\u001b[0m\u001b[0m\n\u001b[1;32m--> 377\u001b[1;33m                 \u001b[0mhttplib_response\u001b[0m \u001b[1;33m=\u001b[0m \u001b[0mconn\u001b[0m\u001b[1;33m.\u001b[0m\u001b[0mgetresponse\u001b[0m\u001b[1;33m(\u001b[0m\u001b[0mbuffering\u001b[0m\u001b[1;33m=\u001b[0m\u001b[1;32mTrue\u001b[0m\u001b[1;33m)\u001b[0m\u001b[1;33m\u001b[0m\u001b[1;33m\u001b[0m\u001b[0m\n\u001b[0m\u001b[0;32m    378\u001b[0m             \u001b[1;32mexcept\u001b[0m \u001b[0mTypeError\u001b[0m\u001b[1;33m:\u001b[0m  \u001b[1;31m# Python 3\u001b[0m\u001b[1;33m\u001b[0m\u001b[1;33m\u001b[0m\u001b[0m\n",
      "\u001b[1;31mTypeError\u001b[0m: getresponse() got an unexpected keyword argument 'buffering'",
      "\nDuring handling of the above exception, another exception occurred:\n",
      "\u001b[1;31mKeyboardInterrupt\u001b[0m                         Traceback (most recent call last)",
      "\u001b[1;32m<ipython-input-13-a8940e8dd9c3>\u001b[0m in \u001b[0;36m<module>\u001b[1;34m\u001b[0m\n\u001b[0;32m     40\u001b[0m             \u001b[0mdst\u001b[0m\u001b[1;33m.\u001b[0m\u001b[0mwrite\u001b[0m\u001b[1;33m(\u001b[0m\u001b[0mclass_prediction\u001b[0m\u001b[1;33m,\u001b[0m \u001b[1;36m1\u001b[0m\u001b[1;33m)\u001b[0m\u001b[1;33m\u001b[0m\u001b[1;33m\u001b[0m\u001b[0m\n\u001b[0;32m     41\u001b[0m \u001b[1;33m\u001b[0m\u001b[0m\n\u001b[1;32m---> 42\u001b[1;33m \u001b[0mpatch_classify\u001b[0m\u001b[1;33m(\u001b[0m\u001b[0mmodel\u001b[0m\u001b[1;33m,\u001b[0m \u001b[0mcovariates\u001b[0m\u001b[1;33m,\u001b[0m \u001b[1;34m\"D:\\My_projects\\Rhinos_KNP\\data\"\u001b[0m\u001b[1;33m,\u001b[0m \u001b[0mgrid\u001b[0m\u001b[1;33m)\u001b[0m\u001b[1;33m\u001b[0m\u001b[1;33m\u001b[0m\u001b[0m\n\u001b[0m",
      "\u001b[1;32m<ipython-input-13-a8940e8dd9c3>\u001b[0m in \u001b[0;36mpatch_classify\u001b[1;34m(model, covariates, save_path, ee_grid)\u001b[0m\n\u001b[0;32m     17\u001b[0m         \u001b[0mclipped\u001b[0m \u001b[1;33m=\u001b[0m \u001b[0mcovariates\u001b[0m\u001b[1;33m.\u001b[0m\u001b[0mclip\u001b[0m\u001b[1;33m(\u001b[0m\u001b[0mft\u001b[0m\u001b[1;33m)\u001b[0m\u001b[1;33m\u001b[0m\u001b[1;33m\u001b[0m\u001b[0m\n\u001b[0;32m     18\u001b[0m         \u001b[1;31m# Download patch as tif ()\u001b[0m\u001b[1;33m\u001b[0m\u001b[1;33m\u001b[0m\u001b[1;33m\u001b[0m\u001b[0m\n\u001b[1;32m---> 19\u001b[1;33m         \u001b[0mgeemap\u001b[0m\u001b[1;33m.\u001b[0m\u001b[0mee_export_image\u001b[0m\u001b[1;33m(\u001b[0m\u001b[0mclipped\u001b[0m\u001b[1;33m,\u001b[0m \u001b[0mfilename\u001b[0m\u001b[1;33m=\u001b[0m \u001b[0mos\u001b[0m\u001b[1;33m.\u001b[0m\u001b[0mpath\u001b[0m\u001b[1;33m.\u001b[0m\u001b[0mjoin\u001b[0m\u001b[1;33m(\u001b[0m\u001b[0mout_dir\u001b[0m\u001b[1;33m,\u001b[0m \u001b[1;34mf\"{cell_id}.tif\"\u001b[0m\u001b[1;33m)\u001b[0m\u001b[1;33m,\u001b[0m \u001b[0mscale\u001b[0m\u001b[1;33m=\u001b[0m\u001b[1;36m1000\u001b[0m\u001b[1;33m,\u001b[0m \u001b[0mregion\u001b[0m\u001b[1;33m=\u001b[0m \u001b[0mee\u001b[0m\u001b[1;33m.\u001b[0m\u001b[0mFeature\u001b[0m\u001b[1;33m(\u001b[0m\u001b[0mft\u001b[0m\u001b[1;33m)\u001b[0m\u001b[1;33m.\u001b[0m\u001b[0mgeometry\u001b[0m\u001b[1;33m(\u001b[0m\u001b[1;33m)\u001b[0m\u001b[1;33m,\u001b[0m \u001b[0mfile_per_band\u001b[0m\u001b[1;33m=\u001b[0m\u001b[1;32mFalse\u001b[0m\u001b[1;33m)\u001b[0m\u001b[1;33m\u001b[0m\u001b[1;33m\u001b[0m\u001b[0m\n\u001b[0m\u001b[0;32m     20\u001b[0m         \u001b[1;31m# Read patch\u001b[0m\u001b[1;33m\u001b[0m\u001b[1;33m\u001b[0m\u001b[1;33m\u001b[0m\u001b[0m\n\u001b[0;32m     21\u001b[0m         \u001b[1;32mwith\u001b[0m \u001b[0mrio\u001b[0m\u001b[1;33m.\u001b[0m\u001b[0mopen\u001b[0m\u001b[1;33m(\u001b[0m\u001b[0mos\u001b[0m\u001b[1;33m.\u001b[0m\u001b[0mpath\u001b[0m\u001b[1;33m.\u001b[0m\u001b[0mjoin\u001b[0m\u001b[1;33m(\u001b[0m\u001b[0mout_dir\u001b[0m\u001b[1;33m,\u001b[0m \u001b[1;34mf\"{cell_id}.tif\"\u001b[0m\u001b[1;33m)\u001b[0m\u001b[1;33m)\u001b[0m \u001b[1;32mas\u001b[0m \u001b[0msrc\u001b[0m\u001b[1;33m:\u001b[0m\u001b[1;33m\u001b[0m\u001b[1;33m\u001b[0m\u001b[0m\n",
      "\u001b[1;32m~\\AppData\\Roaming\\Python\\Python36\\site-packages\\geemap\\common.py\u001b[0m in \u001b[0;36mee_export_image\u001b[1;34m(ee_object, filename, scale, crs, region, file_per_band)\u001b[0m\n\u001b[0;32m   1584\u001b[0m             \u001b[0mparams\u001b[0m\u001b[1;33m[\u001b[0m\u001b[1;34m\"crs\"\u001b[0m\u001b[1;33m]\u001b[0m \u001b[1;33m=\u001b[0m \u001b[0mcrs\u001b[0m\u001b[1;33m\u001b[0m\u001b[1;33m\u001b[0m\u001b[0m\n\u001b[0;32m   1585\u001b[0m \u001b[1;33m\u001b[0m\u001b[0m\n\u001b[1;32m-> 1586\u001b[1;33m         \u001b[0murl\u001b[0m \u001b[1;33m=\u001b[0m \u001b[0mee_object\u001b[0m\u001b[1;33m.\u001b[0m\u001b[0mgetDownloadURL\u001b[0m\u001b[1;33m(\u001b[0m\u001b[0mparams\u001b[0m\u001b[1;33m)\u001b[0m\u001b[1;33m\u001b[0m\u001b[1;33m\u001b[0m\u001b[0m\n\u001b[0m\u001b[0;32m   1587\u001b[0m         \u001b[0mprint\u001b[0m\u001b[1;33m(\u001b[0m\u001b[1;34m\"Downloading data from {}\\nPlease wait ...\"\u001b[0m\u001b[1;33m.\u001b[0m\u001b[0mformat\u001b[0m\u001b[1;33m(\u001b[0m\u001b[0murl\u001b[0m\u001b[1;33m)\u001b[0m\u001b[1;33m)\u001b[0m\u001b[1;33m\u001b[0m\u001b[1;33m\u001b[0m\u001b[0m\n\u001b[0;32m   1588\u001b[0m         \u001b[0mr\u001b[0m \u001b[1;33m=\u001b[0m \u001b[0mrequests\u001b[0m\u001b[1;33m.\u001b[0m\u001b[0mget\u001b[0m\u001b[1;33m(\u001b[0m\u001b[0murl\u001b[0m\u001b[1;33m,\u001b[0m \u001b[0mstream\u001b[0m\u001b[1;33m=\u001b[0m\u001b[1;32mTrue\u001b[0m\u001b[1;33m)\u001b[0m\u001b[1;33m\u001b[0m\u001b[1;33m\u001b[0m\u001b[0m\n",
      "\u001b[1;32mC:\\ProgramData\\Anaconda3\\envs\\tfgpu\\lib\\site-packages\\ee\\image.py\u001b[0m in \u001b[0;36mgetDownloadURL\u001b[1;34m(self, params)\u001b[0m\n\u001b[0;32m    450\u001b[0m     \u001b[0mrequest\u001b[0m \u001b[1;33m=\u001b[0m \u001b[0mparams\u001b[0m \u001b[1;32mor\u001b[0m \u001b[1;33m{\u001b[0m\u001b[1;33m}\u001b[0m\u001b[1;33m\u001b[0m\u001b[1;33m\u001b[0m\u001b[0m\n\u001b[0;32m    451\u001b[0m     \u001b[0mrequest\u001b[0m\u001b[1;33m[\u001b[0m\u001b[1;34m'image'\u001b[0m\u001b[1;33m]\u001b[0m \u001b[1;33m=\u001b[0m \u001b[0mself\u001b[0m\u001b[1;33m\u001b[0m\u001b[1;33m\u001b[0m\u001b[0m\n\u001b[1;32m--> 452\u001b[1;33m     \u001b[1;32mreturn\u001b[0m \u001b[0mdata\u001b[0m\u001b[1;33m.\u001b[0m\u001b[0mmakeDownloadUrl\u001b[0m\u001b[1;33m(\u001b[0m\u001b[0mdata\u001b[0m\u001b[1;33m.\u001b[0m\u001b[0mgetDownloadId\u001b[0m\u001b[1;33m(\u001b[0m\u001b[0mrequest\u001b[0m\u001b[1;33m)\u001b[0m\u001b[1;33m)\u001b[0m\u001b[1;33m\u001b[0m\u001b[1;33m\u001b[0m\u001b[0m\n\u001b[0m\u001b[0;32m    453\u001b[0m \u001b[1;33m\u001b[0m\u001b[0m\n\u001b[0;32m    454\u001b[0m   \u001b[1;32mdef\u001b[0m \u001b[0mgetThumbId\u001b[0m\u001b[1;33m(\u001b[0m\u001b[0mself\u001b[0m\u001b[1;33m,\u001b[0m \u001b[0mparams\u001b[0m\u001b[1;33m)\u001b[0m\u001b[1;33m:\u001b[0m\u001b[1;33m\u001b[0m\u001b[1;33m\u001b[0m\u001b[0m\n",
      "\u001b[1;32mC:\\ProgramData\\Anaconda3\\envs\\tfgpu\\lib\\site-packages\\ee\\data.py\u001b[0m in \u001b[0;36mgetDownloadId\u001b[1;34m(params)\u001b[0m\n\u001b[0;32m    892\u001b[0m   result = _execute_cloud_call(\n\u001b[0;32m    893\u001b[0m       _get_cloud_api_resource().projects().thumbnails().create(\n\u001b[1;32m--> 894\u001b[1;33m           parent=_get_projects_path(), fields='name', body=request))\n\u001b[0m\u001b[0;32m    895\u001b[0m   \u001b[1;32mreturn\u001b[0m \u001b[1;33m{\u001b[0m\u001b[1;34m'docid'\u001b[0m\u001b[1;33m:\u001b[0m \u001b[0mresult\u001b[0m\u001b[1;33m[\u001b[0m\u001b[1;34m'name'\u001b[0m\u001b[1;33m]\u001b[0m\u001b[1;33m,\u001b[0m \u001b[1;34m'token'\u001b[0m\u001b[1;33m:\u001b[0m \u001b[1;34m''\u001b[0m\u001b[1;33m}\u001b[0m\u001b[1;33m\u001b[0m\u001b[1;33m\u001b[0m\u001b[0m\n\u001b[0;32m    896\u001b[0m \u001b[1;33m\u001b[0m\u001b[0m\n",
      "\u001b[1;32mC:\\ProgramData\\Anaconda3\\envs\\tfgpu\\lib\\site-packages\\ee\\data.py\u001b[0m in \u001b[0;36m_execute_cloud_call\u001b[1;34m(call, num_retries)\u001b[0m\n\u001b[0;32m    332\u001b[0m   \"\"\"\n\u001b[0;32m    333\u001b[0m   \u001b[1;32mtry\u001b[0m\u001b[1;33m:\u001b[0m\u001b[1;33m\u001b[0m\u001b[1;33m\u001b[0m\u001b[0m\n\u001b[1;32m--> 334\u001b[1;33m     \u001b[1;32mreturn\u001b[0m \u001b[0mcall\u001b[0m\u001b[1;33m.\u001b[0m\u001b[0mexecute\u001b[0m\u001b[1;33m(\u001b[0m\u001b[0mnum_retries\u001b[0m\u001b[1;33m=\u001b[0m\u001b[0mnum_retries\u001b[0m\u001b[1;33m)\u001b[0m\u001b[1;33m\u001b[0m\u001b[1;33m\u001b[0m\u001b[0m\n\u001b[0m\u001b[0;32m    335\u001b[0m   \u001b[1;32mexcept\u001b[0m \u001b[0mgoogleapiclient\u001b[0m\u001b[1;33m.\u001b[0m\u001b[0merrors\u001b[0m\u001b[1;33m.\u001b[0m\u001b[0mHttpError\u001b[0m \u001b[1;32mas\u001b[0m \u001b[0me\u001b[0m\u001b[1;33m:\u001b[0m\u001b[1;33m\u001b[0m\u001b[1;33m\u001b[0m\u001b[0m\n\u001b[0;32m    336\u001b[0m     \u001b[1;32mraise\u001b[0m \u001b[0m_translate_cloud_exception\u001b[0m\u001b[1;33m(\u001b[0m\u001b[0me\u001b[0m\u001b[1;33m)\u001b[0m\u001b[1;33m\u001b[0m\u001b[1;33m\u001b[0m\u001b[0m\n",
      "\u001b[1;32mC:\\ProgramData\\Anaconda3\\envs\\tfgpu\\lib\\site-packages\\googleapiclient\\_helpers.py\u001b[0m in \u001b[0;36mpositional_wrapper\u001b[1;34m(*args, **kwargs)\u001b[0m\n\u001b[0;32m    132\u001b[0m                 \u001b[1;32melif\u001b[0m \u001b[0mpositional_parameters_enforcement\u001b[0m \u001b[1;33m==\u001b[0m \u001b[0mPOSITIONAL_WARNING\u001b[0m\u001b[1;33m:\u001b[0m\u001b[1;33m\u001b[0m\u001b[1;33m\u001b[0m\u001b[0m\n\u001b[0;32m    133\u001b[0m                     \u001b[0mlogger\u001b[0m\u001b[1;33m.\u001b[0m\u001b[0mwarning\u001b[0m\u001b[1;33m(\u001b[0m\u001b[0mmessage\u001b[0m\u001b[1;33m)\u001b[0m\u001b[1;33m\u001b[0m\u001b[1;33m\u001b[0m\u001b[0m\n\u001b[1;32m--> 134\u001b[1;33m             \u001b[1;32mreturn\u001b[0m \u001b[0mwrapped\u001b[0m\u001b[1;33m(\u001b[0m\u001b[1;33m*\u001b[0m\u001b[0margs\u001b[0m\u001b[1;33m,\u001b[0m \u001b[1;33m**\u001b[0m\u001b[0mkwargs\u001b[0m\u001b[1;33m)\u001b[0m\u001b[1;33m\u001b[0m\u001b[1;33m\u001b[0m\u001b[0m\n\u001b[0m\u001b[0;32m    135\u001b[0m \u001b[1;33m\u001b[0m\u001b[0m\n\u001b[0;32m    136\u001b[0m         \u001b[1;32mreturn\u001b[0m \u001b[0mpositional_wrapper\u001b[0m\u001b[1;33m\u001b[0m\u001b[1;33m\u001b[0m\u001b[0m\n",
      "\u001b[1;32mC:\\ProgramData\\Anaconda3\\envs\\tfgpu\\lib\\site-packages\\googleapiclient\\http.py\u001b[0m in \u001b[0;36mexecute\u001b[1;34m(self, http, num_retries)\u001b[0m\n\u001b[0;32m    907\u001b[0m             \u001b[0mmethod\u001b[0m\u001b[1;33m=\u001b[0m\u001b[0mstr\u001b[0m\u001b[1;33m(\u001b[0m\u001b[0mself\u001b[0m\u001b[1;33m.\u001b[0m\u001b[0mmethod\u001b[0m\u001b[1;33m)\u001b[0m\u001b[1;33m,\u001b[0m\u001b[1;33m\u001b[0m\u001b[1;33m\u001b[0m\u001b[0m\n\u001b[0;32m    908\u001b[0m             \u001b[0mbody\u001b[0m\u001b[1;33m=\u001b[0m\u001b[0mself\u001b[0m\u001b[1;33m.\u001b[0m\u001b[0mbody\u001b[0m\u001b[1;33m,\u001b[0m\u001b[1;33m\u001b[0m\u001b[1;33m\u001b[0m\u001b[0m\n\u001b[1;32m--> 909\u001b[1;33m             \u001b[0mheaders\u001b[0m\u001b[1;33m=\u001b[0m\u001b[0mself\u001b[0m\u001b[1;33m.\u001b[0m\u001b[0mheaders\u001b[0m\u001b[1;33m,\u001b[0m\u001b[1;33m\u001b[0m\u001b[1;33m\u001b[0m\u001b[0m\n\u001b[0m\u001b[0;32m    910\u001b[0m         )\n\u001b[0;32m    911\u001b[0m \u001b[1;33m\u001b[0m\u001b[0m\n",
      "\u001b[1;32mC:\\ProgramData\\Anaconda3\\envs\\tfgpu\\lib\\site-packages\\googleapiclient\\http.py\u001b[0m in \u001b[0;36m_retry_request\u001b[1;34m(http, num_retries, req_type, sleep, rand, uri, method, *args, **kwargs)\u001b[0m\n\u001b[0;32m    175\u001b[0m         \u001b[1;32mtry\u001b[0m\u001b[1;33m:\u001b[0m\u001b[1;33m\u001b[0m\u001b[1;33m\u001b[0m\u001b[0m\n\u001b[0;32m    176\u001b[0m             \u001b[0mexception\u001b[0m \u001b[1;33m=\u001b[0m \u001b[1;32mNone\u001b[0m\u001b[1;33m\u001b[0m\u001b[1;33m\u001b[0m\u001b[0m\n\u001b[1;32m--> 177\u001b[1;33m             \u001b[0mresp\u001b[0m\u001b[1;33m,\u001b[0m \u001b[0mcontent\u001b[0m \u001b[1;33m=\u001b[0m \u001b[0mhttp\u001b[0m\u001b[1;33m.\u001b[0m\u001b[0mrequest\u001b[0m\u001b[1;33m(\u001b[0m\u001b[0muri\u001b[0m\u001b[1;33m,\u001b[0m \u001b[0mmethod\u001b[0m\u001b[1;33m,\u001b[0m \u001b[1;33m*\u001b[0m\u001b[0margs\u001b[0m\u001b[1;33m,\u001b[0m \u001b[1;33m**\u001b[0m\u001b[0mkwargs\u001b[0m\u001b[1;33m)\u001b[0m\u001b[1;33m\u001b[0m\u001b[1;33m\u001b[0m\u001b[0m\n\u001b[0m\u001b[0;32m    178\u001b[0m         \u001b[1;31m# Retry on SSL errors and socket timeout errors.\u001b[0m\u001b[1;33m\u001b[0m\u001b[1;33m\u001b[0m\u001b[1;33m\u001b[0m\u001b[0m\n\u001b[0;32m    179\u001b[0m         \u001b[1;32mexcept\u001b[0m \u001b[0m_ssl_SSLError\u001b[0m \u001b[1;32mas\u001b[0m \u001b[0mssl_error\u001b[0m\u001b[1;33m:\u001b[0m\u001b[1;33m\u001b[0m\u001b[1;33m\u001b[0m\u001b[0m\n",
      "\u001b[1;32mC:\\ProgramData\\Anaconda3\\envs\\tfgpu\\lib\\site-packages\\google_auth_httplib2.py\u001b[0m in \u001b[0;36mrequest\u001b[1;34m(self, uri, method, body, headers, **kwargs)\u001b[0m\n\u001b[0;32m    196\u001b[0m         \u001b[1;31m# Make the request.\u001b[0m\u001b[1;33m\u001b[0m\u001b[1;33m\u001b[0m\u001b[1;33m\u001b[0m\u001b[0m\n\u001b[0;32m    197\u001b[0m         response, content = self.http.request(\n\u001b[1;32m--> 198\u001b[1;33m             uri, method, body=body, headers=request_headers, **kwargs)\n\u001b[0m\u001b[0;32m    199\u001b[0m \u001b[1;33m\u001b[0m\u001b[0m\n\u001b[0;32m    200\u001b[0m         \u001b[1;31m# If the response indicated that the credentials needed to be\u001b[0m\u001b[1;33m\u001b[0m\u001b[1;33m\u001b[0m\u001b[1;33m\u001b[0m\u001b[0m\n",
      "\u001b[1;32m~\\AppData\\Roaming\\Python\\Python36\\site-packages\\httplib2\\__init__.py\u001b[0m in \u001b[0;36mrequest\u001b[1;34m(self, uri, method, body, headers, redirections, connection_type)\u001b[0m\n\u001b[0;32m   1992\u001b[0m                         \u001b[0mheaders\u001b[0m\u001b[1;33m,\u001b[0m\u001b[1;33m\u001b[0m\u001b[1;33m\u001b[0m\u001b[0m\n\u001b[0;32m   1993\u001b[0m                         \u001b[0mredirections\u001b[0m\u001b[1;33m,\u001b[0m\u001b[1;33m\u001b[0m\u001b[1;33m\u001b[0m\u001b[0m\n\u001b[1;32m-> 1994\u001b[1;33m                         \u001b[0mcachekey\u001b[0m\u001b[1;33m,\u001b[0m\u001b[1;33m\u001b[0m\u001b[1;33m\u001b[0m\u001b[0m\n\u001b[0m\u001b[0;32m   1995\u001b[0m                     )\n\u001b[0;32m   1996\u001b[0m         \u001b[1;32mexcept\u001b[0m \u001b[0mException\u001b[0m \u001b[1;32mas\u001b[0m \u001b[0me\u001b[0m\u001b[1;33m:\u001b[0m\u001b[1;33m\u001b[0m\u001b[1;33m\u001b[0m\u001b[0m\n",
      "\u001b[1;32m~\\AppData\\Roaming\\Python\\Python36\\site-packages\\httplib2\\__init__.py\u001b[0m in \u001b[0;36m_request\u001b[1;34m(self, conn, host, absolute_uri, request_uri, method, body, headers, redirections, cachekey)\u001b[0m\n\u001b[0;32m   1649\u001b[0m \u001b[1;33m\u001b[0m\u001b[0m\n\u001b[0;32m   1650\u001b[0m         (response, content) = self._conn_request(\n\u001b[1;32m-> 1651\u001b[1;33m             \u001b[0mconn\u001b[0m\u001b[1;33m,\u001b[0m \u001b[0mrequest_uri\u001b[0m\u001b[1;33m,\u001b[0m \u001b[0mmethod\u001b[0m\u001b[1;33m,\u001b[0m \u001b[0mbody\u001b[0m\u001b[1;33m,\u001b[0m \u001b[0mheaders\u001b[0m\u001b[1;33m\u001b[0m\u001b[1;33m\u001b[0m\u001b[0m\n\u001b[0m\u001b[0;32m   1652\u001b[0m         )\n\u001b[0;32m   1653\u001b[0m \u001b[1;33m\u001b[0m\u001b[0m\n",
      "\u001b[1;32mC:\\ProgramData\\Anaconda3\\envs\\tfgpu\\lib\\site-packages\\httplib2shim\\__init__.py\u001b[0m in \u001b[0;36m_conn_request\u001b[1;34m(self, conn, request_uri, method, body, headers)\u001b[0m\n\u001b[0;32m    146\u001b[0m                 \u001b[0mretries\u001b[0m\u001b[1;33m=\u001b[0m\u001b[0murllib3\u001b[0m\u001b[1;33m.\u001b[0m\u001b[0mRetry\u001b[0m\u001b[1;33m(\u001b[0m\u001b[0mtotal\u001b[0m\u001b[1;33m=\u001b[0m\u001b[1;32mFalse\u001b[0m\u001b[1;33m,\u001b[0m \u001b[0mredirect\u001b[0m\u001b[1;33m=\u001b[0m\u001b[1;36m0\u001b[0m\u001b[1;33m)\u001b[0m\u001b[1;33m,\u001b[0m\u001b[1;33m\u001b[0m\u001b[1;33m\u001b[0m\u001b[0m\n\u001b[0;32m    147\u001b[0m                 \u001b[0mtimeout\u001b[0m\u001b[1;33m=\u001b[0m\u001b[0murllib3\u001b[0m\u001b[1;33m.\u001b[0m\u001b[0mTimeout\u001b[0m\u001b[1;33m(\u001b[0m\u001b[0mtotal\u001b[0m\u001b[1;33m=\u001b[0m\u001b[0mself\u001b[0m\u001b[1;33m.\u001b[0m\u001b[0mtimeout\u001b[0m\u001b[1;33m)\u001b[0m\u001b[1;33m,\u001b[0m\u001b[1;33m\u001b[0m\u001b[1;33m\u001b[0m\u001b[0m\n\u001b[1;32m--> 148\u001b[1;33m                 decode_content=decode)\n\u001b[0m\u001b[0;32m    149\u001b[0m \u001b[1;33m\u001b[0m\u001b[0m\n\u001b[0;32m    150\u001b[0m             \u001b[0mresponse\u001b[0m \u001b[1;33m=\u001b[0m \u001b[0m_map_response\u001b[0m\u001b[1;33m(\u001b[0m\u001b[0murllib3_response\u001b[0m\u001b[1;33m,\u001b[0m \u001b[0mdecode\u001b[0m\u001b[1;33m=\u001b[0m\u001b[0mdecode\u001b[0m\u001b[1;33m)\u001b[0m\u001b[1;33m\u001b[0m\u001b[1;33m\u001b[0m\u001b[0m\n",
      "\u001b[1;32mC:\\ProgramData\\Anaconda3\\envs\\tfgpu\\lib\\site-packages\\urllib3\\request.py\u001b[0m in \u001b[0;36mrequest\u001b[1;34m(self, method, url, fields, headers, **urlopen_kw)\u001b[0m\n\u001b[0;32m     70\u001b[0m             return self.request_encode_body(method, url, fields=fields,\n\u001b[0;32m     71\u001b[0m                                             \u001b[0mheaders\u001b[0m\u001b[1;33m=\u001b[0m\u001b[0mheaders\u001b[0m\u001b[1;33m,\u001b[0m\u001b[1;33m\u001b[0m\u001b[1;33m\u001b[0m\u001b[0m\n\u001b[1;32m---> 72\u001b[1;33m                                             **urlopen_kw)\n\u001b[0m\u001b[0;32m     73\u001b[0m \u001b[1;33m\u001b[0m\u001b[0m\n\u001b[0;32m     74\u001b[0m     def request_encode_url(self, method, url, fields=None, headers=None,\n",
      "\u001b[1;32mC:\\ProgramData\\Anaconda3\\envs\\tfgpu\\lib\\site-packages\\urllib3\\request.py\u001b[0m in \u001b[0;36mrequest_encode_body\u001b[1;34m(self, method, url, fields, headers, encode_multipart, multipart_boundary, **urlopen_kw)\u001b[0m\n\u001b[0;32m    148\u001b[0m         \u001b[0mextra_kw\u001b[0m\u001b[1;33m.\u001b[0m\u001b[0mupdate\u001b[0m\u001b[1;33m(\u001b[0m\u001b[0murlopen_kw\u001b[0m\u001b[1;33m)\u001b[0m\u001b[1;33m\u001b[0m\u001b[1;33m\u001b[0m\u001b[0m\n\u001b[0;32m    149\u001b[0m \u001b[1;33m\u001b[0m\u001b[0m\n\u001b[1;32m--> 150\u001b[1;33m         \u001b[1;32mreturn\u001b[0m \u001b[0mself\u001b[0m\u001b[1;33m.\u001b[0m\u001b[0murlopen\u001b[0m\u001b[1;33m(\u001b[0m\u001b[0mmethod\u001b[0m\u001b[1;33m,\u001b[0m \u001b[0murl\u001b[0m\u001b[1;33m,\u001b[0m \u001b[1;33m**\u001b[0m\u001b[0mextra_kw\u001b[0m\u001b[1;33m)\u001b[0m\u001b[1;33m\u001b[0m\u001b[1;33m\u001b[0m\u001b[0m\n\u001b[0m",
      "\u001b[1;32mC:\\ProgramData\\Anaconda3\\envs\\tfgpu\\lib\\site-packages\\urllib3\\poolmanager.py\u001b[0m in \u001b[0;36murlopen\u001b[1;34m(self, method, url, redirect, **kw)\u001b[0m\n\u001b[0;32m    322\u001b[0m             \u001b[0mresponse\u001b[0m \u001b[1;33m=\u001b[0m \u001b[0mconn\u001b[0m\u001b[1;33m.\u001b[0m\u001b[0murlopen\u001b[0m\u001b[1;33m(\u001b[0m\u001b[0mmethod\u001b[0m\u001b[1;33m,\u001b[0m \u001b[0murl\u001b[0m\u001b[1;33m,\u001b[0m \u001b[1;33m**\u001b[0m\u001b[0mkw\u001b[0m\u001b[1;33m)\u001b[0m\u001b[1;33m\u001b[0m\u001b[1;33m\u001b[0m\u001b[0m\n\u001b[0;32m    323\u001b[0m         \u001b[1;32melse\u001b[0m\u001b[1;33m:\u001b[0m\u001b[1;33m\u001b[0m\u001b[1;33m\u001b[0m\u001b[0m\n\u001b[1;32m--> 324\u001b[1;33m             \u001b[0mresponse\u001b[0m \u001b[1;33m=\u001b[0m \u001b[0mconn\u001b[0m\u001b[1;33m.\u001b[0m\u001b[0murlopen\u001b[0m\u001b[1;33m(\u001b[0m\u001b[0mmethod\u001b[0m\u001b[1;33m,\u001b[0m \u001b[0mu\u001b[0m\u001b[1;33m.\u001b[0m\u001b[0mrequest_uri\u001b[0m\u001b[1;33m,\u001b[0m \u001b[1;33m**\u001b[0m\u001b[0mkw\u001b[0m\u001b[1;33m)\u001b[0m\u001b[1;33m\u001b[0m\u001b[1;33m\u001b[0m\u001b[0m\n\u001b[0m\u001b[0;32m    325\u001b[0m \u001b[1;33m\u001b[0m\u001b[0m\n\u001b[0;32m    326\u001b[0m         \u001b[0mredirect_location\u001b[0m \u001b[1;33m=\u001b[0m \u001b[0mredirect\u001b[0m \u001b[1;32mand\u001b[0m \u001b[0mresponse\u001b[0m\u001b[1;33m.\u001b[0m\u001b[0mget_redirect_location\u001b[0m\u001b[1;33m(\u001b[0m\u001b[1;33m)\u001b[0m\u001b[1;33m\u001b[0m\u001b[1;33m\u001b[0m\u001b[0m\n",
      "\u001b[1;32mC:\\ProgramData\\Anaconda3\\envs\\tfgpu\\lib\\site-packages\\urllib3\\connectionpool.py\u001b[0m in \u001b[0;36murlopen\u001b[1;34m(self, method, url, body, headers, retries, redirect, assert_same_host, timeout, pool_timeout, release_conn, chunked, body_pos, **response_kw)\u001b[0m\n\u001b[0;32m    598\u001b[0m                                                   \u001b[0mtimeout\u001b[0m\u001b[1;33m=\u001b[0m\u001b[0mtimeout_obj\u001b[0m\u001b[1;33m,\u001b[0m\u001b[1;33m\u001b[0m\u001b[1;33m\u001b[0m\u001b[0m\n\u001b[0;32m    599\u001b[0m                                                   \u001b[0mbody\u001b[0m\u001b[1;33m=\u001b[0m\u001b[0mbody\u001b[0m\u001b[1;33m,\u001b[0m \u001b[0mheaders\u001b[0m\u001b[1;33m=\u001b[0m\u001b[0mheaders\u001b[0m\u001b[1;33m,\u001b[0m\u001b[1;33m\u001b[0m\u001b[1;33m\u001b[0m\u001b[0m\n\u001b[1;32m--> 600\u001b[1;33m                                                   chunked=chunked)\n\u001b[0m\u001b[0;32m    601\u001b[0m \u001b[1;33m\u001b[0m\u001b[0m\n\u001b[0;32m    602\u001b[0m             \u001b[1;31m# If we're going to release the connection in ``finally:``, then\u001b[0m\u001b[1;33m\u001b[0m\u001b[1;33m\u001b[0m\u001b[1;33m\u001b[0m\u001b[0m\n",
      "\u001b[1;32mC:\\ProgramData\\Anaconda3\\envs\\tfgpu\\lib\\site-packages\\urllib3\\connectionpool.py\u001b[0m in \u001b[0;36m_make_request\u001b[1;34m(self, conn, method, url, timeout, chunked, **httplib_request_kw)\u001b[0m\n\u001b[0;32m    378\u001b[0m             \u001b[1;32mexcept\u001b[0m \u001b[0mTypeError\u001b[0m\u001b[1;33m:\u001b[0m  \u001b[1;31m# Python 3\u001b[0m\u001b[1;33m\u001b[0m\u001b[1;33m\u001b[0m\u001b[0m\n\u001b[0;32m    379\u001b[0m                 \u001b[1;32mtry\u001b[0m\u001b[1;33m:\u001b[0m\u001b[1;33m\u001b[0m\u001b[1;33m\u001b[0m\u001b[0m\n\u001b[1;32m--> 380\u001b[1;33m                     \u001b[0mhttplib_response\u001b[0m \u001b[1;33m=\u001b[0m \u001b[0mconn\u001b[0m\u001b[1;33m.\u001b[0m\u001b[0mgetresponse\u001b[0m\u001b[1;33m(\u001b[0m\u001b[1;33m)\u001b[0m\u001b[1;33m\u001b[0m\u001b[1;33m\u001b[0m\u001b[0m\n\u001b[0m\u001b[0;32m    381\u001b[0m                 \u001b[1;32mexcept\u001b[0m \u001b[0mException\u001b[0m \u001b[1;32mas\u001b[0m \u001b[0me\u001b[0m\u001b[1;33m:\u001b[0m\u001b[1;33m\u001b[0m\u001b[1;33m\u001b[0m\u001b[0m\n\u001b[0;32m    382\u001b[0m                     \u001b[1;31m# Remove the TypeError from the exception chain in Python 3;\u001b[0m\u001b[1;33m\u001b[0m\u001b[1;33m\u001b[0m\u001b[1;33m\u001b[0m\u001b[0m\n",
      "\u001b[1;32mC:\\ProgramData\\Anaconda3\\envs\\tfgpu\\lib\\http\\client.py\u001b[0m in \u001b[0;36mgetresponse\u001b[1;34m(self)\u001b[0m\n\u001b[0;32m   1329\u001b[0m         \u001b[1;32mtry\u001b[0m\u001b[1;33m:\u001b[0m\u001b[1;33m\u001b[0m\u001b[1;33m\u001b[0m\u001b[0m\n\u001b[0;32m   1330\u001b[0m             \u001b[1;32mtry\u001b[0m\u001b[1;33m:\u001b[0m\u001b[1;33m\u001b[0m\u001b[1;33m\u001b[0m\u001b[0m\n\u001b[1;32m-> 1331\u001b[1;33m                 \u001b[0mresponse\u001b[0m\u001b[1;33m.\u001b[0m\u001b[0mbegin\u001b[0m\u001b[1;33m(\u001b[0m\u001b[1;33m)\u001b[0m\u001b[1;33m\u001b[0m\u001b[1;33m\u001b[0m\u001b[0m\n\u001b[0m\u001b[0;32m   1332\u001b[0m             \u001b[1;32mexcept\u001b[0m \u001b[0mConnectionError\u001b[0m\u001b[1;33m:\u001b[0m\u001b[1;33m\u001b[0m\u001b[1;33m\u001b[0m\u001b[0m\n\u001b[0;32m   1333\u001b[0m                 \u001b[0mself\u001b[0m\u001b[1;33m.\u001b[0m\u001b[0mclose\u001b[0m\u001b[1;33m(\u001b[0m\u001b[1;33m)\u001b[0m\u001b[1;33m\u001b[0m\u001b[1;33m\u001b[0m\u001b[0m\n",
      "\u001b[1;32mC:\\ProgramData\\Anaconda3\\envs\\tfgpu\\lib\\http\\client.py\u001b[0m in \u001b[0;36mbegin\u001b[1;34m(self)\u001b[0m\n\u001b[0;32m    295\u001b[0m         \u001b[1;31m# read until we get a non-100 response\u001b[0m\u001b[1;33m\u001b[0m\u001b[1;33m\u001b[0m\u001b[1;33m\u001b[0m\u001b[0m\n\u001b[0;32m    296\u001b[0m         \u001b[1;32mwhile\u001b[0m \u001b[1;32mTrue\u001b[0m\u001b[1;33m:\u001b[0m\u001b[1;33m\u001b[0m\u001b[1;33m\u001b[0m\u001b[0m\n\u001b[1;32m--> 297\u001b[1;33m             \u001b[0mversion\u001b[0m\u001b[1;33m,\u001b[0m \u001b[0mstatus\u001b[0m\u001b[1;33m,\u001b[0m \u001b[0mreason\u001b[0m \u001b[1;33m=\u001b[0m \u001b[0mself\u001b[0m\u001b[1;33m.\u001b[0m\u001b[0m_read_status\u001b[0m\u001b[1;33m(\u001b[0m\u001b[1;33m)\u001b[0m\u001b[1;33m\u001b[0m\u001b[1;33m\u001b[0m\u001b[0m\n\u001b[0m\u001b[0;32m    298\u001b[0m             \u001b[1;32mif\u001b[0m \u001b[0mstatus\u001b[0m \u001b[1;33m!=\u001b[0m \u001b[0mCONTINUE\u001b[0m\u001b[1;33m:\u001b[0m\u001b[1;33m\u001b[0m\u001b[1;33m\u001b[0m\u001b[0m\n\u001b[0;32m    299\u001b[0m                 \u001b[1;32mbreak\u001b[0m\u001b[1;33m\u001b[0m\u001b[1;33m\u001b[0m\u001b[0m\n",
      "\u001b[1;32mC:\\ProgramData\\Anaconda3\\envs\\tfgpu\\lib\\http\\client.py\u001b[0m in \u001b[0;36m_read_status\u001b[1;34m(self)\u001b[0m\n\u001b[0;32m    256\u001b[0m \u001b[1;33m\u001b[0m\u001b[0m\n\u001b[0;32m    257\u001b[0m     \u001b[1;32mdef\u001b[0m \u001b[0m_read_status\u001b[0m\u001b[1;33m(\u001b[0m\u001b[0mself\u001b[0m\u001b[1;33m)\u001b[0m\u001b[1;33m:\u001b[0m\u001b[1;33m\u001b[0m\u001b[1;33m\u001b[0m\u001b[0m\n\u001b[1;32m--> 258\u001b[1;33m         \u001b[0mline\u001b[0m \u001b[1;33m=\u001b[0m \u001b[0mstr\u001b[0m\u001b[1;33m(\u001b[0m\u001b[0mself\u001b[0m\u001b[1;33m.\u001b[0m\u001b[0mfp\u001b[0m\u001b[1;33m.\u001b[0m\u001b[0mreadline\u001b[0m\u001b[1;33m(\u001b[0m\u001b[0m_MAXLINE\u001b[0m \u001b[1;33m+\u001b[0m \u001b[1;36m1\u001b[0m\u001b[1;33m)\u001b[0m\u001b[1;33m,\u001b[0m \u001b[1;34m\"iso-8859-1\"\u001b[0m\u001b[1;33m)\u001b[0m\u001b[1;33m\u001b[0m\u001b[1;33m\u001b[0m\u001b[0m\n\u001b[0m\u001b[0;32m    259\u001b[0m         \u001b[1;32mif\u001b[0m \u001b[0mlen\u001b[0m\u001b[1;33m(\u001b[0m\u001b[0mline\u001b[0m\u001b[1;33m)\u001b[0m \u001b[1;33m>\u001b[0m \u001b[0m_MAXLINE\u001b[0m\u001b[1;33m:\u001b[0m\u001b[1;33m\u001b[0m\u001b[1;33m\u001b[0m\u001b[0m\n\u001b[0;32m    260\u001b[0m             \u001b[1;32mraise\u001b[0m \u001b[0mLineTooLong\u001b[0m\u001b[1;33m(\u001b[0m\u001b[1;34m\"status line\"\u001b[0m\u001b[1;33m)\u001b[0m\u001b[1;33m\u001b[0m\u001b[1;33m\u001b[0m\u001b[0m\n",
      "\u001b[1;32mC:\\ProgramData\\Anaconda3\\envs\\tfgpu\\lib\\socket.py\u001b[0m in \u001b[0;36mreadinto\u001b[1;34m(self, b)\u001b[0m\n\u001b[0;32m    584\u001b[0m         \u001b[1;32mwhile\u001b[0m \u001b[1;32mTrue\u001b[0m\u001b[1;33m:\u001b[0m\u001b[1;33m\u001b[0m\u001b[1;33m\u001b[0m\u001b[0m\n\u001b[0;32m    585\u001b[0m             \u001b[1;32mtry\u001b[0m\u001b[1;33m:\u001b[0m\u001b[1;33m\u001b[0m\u001b[1;33m\u001b[0m\u001b[0m\n\u001b[1;32m--> 586\u001b[1;33m                 \u001b[1;32mreturn\u001b[0m \u001b[0mself\u001b[0m\u001b[1;33m.\u001b[0m\u001b[0m_sock\u001b[0m\u001b[1;33m.\u001b[0m\u001b[0mrecv_into\u001b[0m\u001b[1;33m(\u001b[0m\u001b[0mb\u001b[0m\u001b[1;33m)\u001b[0m\u001b[1;33m\u001b[0m\u001b[1;33m\u001b[0m\u001b[0m\n\u001b[0m\u001b[0;32m    587\u001b[0m             \u001b[1;32mexcept\u001b[0m \u001b[0mtimeout\u001b[0m\u001b[1;33m:\u001b[0m\u001b[1;33m\u001b[0m\u001b[1;33m\u001b[0m\u001b[0m\n\u001b[0;32m    588\u001b[0m                 \u001b[0mself\u001b[0m\u001b[1;33m.\u001b[0m\u001b[0m_timeout_occurred\u001b[0m \u001b[1;33m=\u001b[0m \u001b[1;32mTrue\u001b[0m\u001b[1;33m\u001b[0m\u001b[1;33m\u001b[0m\u001b[0m\n",
      "\u001b[1;32mC:\\ProgramData\\Anaconda3\\envs\\tfgpu\\lib\\ssl.py\u001b[0m in \u001b[0;36mrecv_into\u001b[1;34m(self, buffer, nbytes, flags)\u001b[0m\n\u001b[0;32m   1010\u001b[0m                   \u001b[1;34m\"non-zero flags not allowed in calls to recv_into() on %s\"\u001b[0m \u001b[1;33m%\u001b[0m\u001b[1;33m\u001b[0m\u001b[1;33m\u001b[0m\u001b[0m\n\u001b[0;32m   1011\u001b[0m                   self.__class__)\n\u001b[1;32m-> 1012\u001b[1;33m             \u001b[1;32mreturn\u001b[0m \u001b[0mself\u001b[0m\u001b[1;33m.\u001b[0m\u001b[0mread\u001b[0m\u001b[1;33m(\u001b[0m\u001b[0mnbytes\u001b[0m\u001b[1;33m,\u001b[0m \u001b[0mbuffer\u001b[0m\u001b[1;33m)\u001b[0m\u001b[1;33m\u001b[0m\u001b[1;33m\u001b[0m\u001b[0m\n\u001b[0m\u001b[0;32m   1013\u001b[0m         \u001b[1;32melse\u001b[0m\u001b[1;33m:\u001b[0m\u001b[1;33m\u001b[0m\u001b[1;33m\u001b[0m\u001b[0m\n\u001b[0;32m   1014\u001b[0m             \u001b[1;32mreturn\u001b[0m \u001b[0msocket\u001b[0m\u001b[1;33m.\u001b[0m\u001b[0mrecv_into\u001b[0m\u001b[1;33m(\u001b[0m\u001b[0mself\u001b[0m\u001b[1;33m,\u001b[0m \u001b[0mbuffer\u001b[0m\u001b[1;33m,\u001b[0m \u001b[0mnbytes\u001b[0m\u001b[1;33m,\u001b[0m \u001b[0mflags\u001b[0m\u001b[1;33m)\u001b[0m\u001b[1;33m\u001b[0m\u001b[1;33m\u001b[0m\u001b[0m\n",
      "\u001b[1;32mC:\\ProgramData\\Anaconda3\\envs\\tfgpu\\lib\\ssl.py\u001b[0m in \u001b[0;36mread\u001b[1;34m(self, len, buffer)\u001b[0m\n\u001b[0;32m    872\u001b[0m             \u001b[1;32mraise\u001b[0m \u001b[0mValueError\u001b[0m\u001b[1;33m(\u001b[0m\u001b[1;34m\"Read on closed or unwrapped SSL socket.\"\u001b[0m\u001b[1;33m)\u001b[0m\u001b[1;33m\u001b[0m\u001b[1;33m\u001b[0m\u001b[0m\n\u001b[0;32m    873\u001b[0m         \u001b[1;32mtry\u001b[0m\u001b[1;33m:\u001b[0m\u001b[1;33m\u001b[0m\u001b[1;33m\u001b[0m\u001b[0m\n\u001b[1;32m--> 874\u001b[1;33m             \u001b[1;32mreturn\u001b[0m \u001b[0mself\u001b[0m\u001b[1;33m.\u001b[0m\u001b[0m_sslobj\u001b[0m\u001b[1;33m.\u001b[0m\u001b[0mread\u001b[0m\u001b[1;33m(\u001b[0m\u001b[0mlen\u001b[0m\u001b[1;33m,\u001b[0m \u001b[0mbuffer\u001b[0m\u001b[1;33m)\u001b[0m\u001b[1;33m\u001b[0m\u001b[1;33m\u001b[0m\u001b[0m\n\u001b[0m\u001b[0;32m    875\u001b[0m         \u001b[1;32mexcept\u001b[0m \u001b[0mSSLError\u001b[0m \u001b[1;32mas\u001b[0m \u001b[0mx\u001b[0m\u001b[1;33m:\u001b[0m\u001b[1;33m\u001b[0m\u001b[1;33m\u001b[0m\u001b[0m\n\u001b[0;32m    876\u001b[0m             \u001b[1;32mif\u001b[0m \u001b[0mx\u001b[0m\u001b[1;33m.\u001b[0m\u001b[0margs\u001b[0m\u001b[1;33m[\u001b[0m\u001b[1;36m0\u001b[0m\u001b[1;33m]\u001b[0m \u001b[1;33m==\u001b[0m \u001b[0mSSL_ERROR_EOF\u001b[0m \u001b[1;32mand\u001b[0m \u001b[0mself\u001b[0m\u001b[1;33m.\u001b[0m\u001b[0msuppress_ragged_eofs\u001b[0m\u001b[1;33m:\u001b[0m\u001b[1;33m\u001b[0m\u001b[1;33m\u001b[0m\u001b[0m\n",
      "\u001b[1;32mC:\\ProgramData\\Anaconda3\\envs\\tfgpu\\lib\\ssl.py\u001b[0m in \u001b[0;36mread\u001b[1;34m(self, len, buffer)\u001b[0m\n\u001b[0;32m    629\u001b[0m         \"\"\"\n\u001b[0;32m    630\u001b[0m         \u001b[1;32mif\u001b[0m \u001b[0mbuffer\u001b[0m \u001b[1;32mis\u001b[0m \u001b[1;32mnot\u001b[0m \u001b[1;32mNone\u001b[0m\u001b[1;33m:\u001b[0m\u001b[1;33m\u001b[0m\u001b[1;33m\u001b[0m\u001b[0m\n\u001b[1;32m--> 631\u001b[1;33m             \u001b[0mv\u001b[0m \u001b[1;33m=\u001b[0m \u001b[0mself\u001b[0m\u001b[1;33m.\u001b[0m\u001b[0m_sslobj\u001b[0m\u001b[1;33m.\u001b[0m\u001b[0mread\u001b[0m\u001b[1;33m(\u001b[0m\u001b[0mlen\u001b[0m\u001b[1;33m,\u001b[0m \u001b[0mbuffer\u001b[0m\u001b[1;33m)\u001b[0m\u001b[1;33m\u001b[0m\u001b[1;33m\u001b[0m\u001b[0m\n\u001b[0m\u001b[0;32m    632\u001b[0m         \u001b[1;32melse\u001b[0m\u001b[1;33m:\u001b[0m\u001b[1;33m\u001b[0m\u001b[1;33m\u001b[0m\u001b[0m\n\u001b[0;32m    633\u001b[0m             \u001b[0mv\u001b[0m \u001b[1;33m=\u001b[0m \u001b[0mself\u001b[0m\u001b[1;33m.\u001b[0m\u001b[0m_sslobj\u001b[0m\u001b[1;33m.\u001b[0m\u001b[0mread\u001b[0m\u001b[1;33m(\u001b[0m\u001b[0mlen\u001b[0m\u001b[1;33m)\u001b[0m\u001b[1;33m\u001b[0m\u001b[1;33m\u001b[0m\u001b[0m\n",
      "\u001b[1;31mKeyboardInterrupt\u001b[0m: "
     ]
    }
   ],
   "source": [
    "def patch_classify (model, covariates, save_path, ee_grid):\n",
    "    \"\"\"\n",
    "    Classify patches of imagery from google earth engine using a scikit-learn model\n",
    "    \n",
    "    model(scikit-learn model): A trained scikit learn model\n",
    "    covariates(ee.Image): The image to run inference on\n",
    "    save_path(string): directory to store predict patches\n",
    "    ee_fc_grid(ee.FeatureCollection):A feature collection with blocks the size of the required patch size\n",
    "    \"\"\"\n",
    "    out_dir = str(save_path)\n",
    "    bandnames = covariates.bandNames().getInfo()\n",
    "    # Get grid id's\n",
    "    fid = ee_grid.aggregate_array('label').getInfo()\n",
    "    \n",
    "    for cell_id in fid:\n",
    "        ft = ee.Feature(ee_grid.filter(ee.Filter.eq('label', cell_id)).first())\n",
    "        clipped = covariates.clip(ft)\n",
    "        # Download patch as tif ()\n",
    "        geemap.ee_export_image(clipped, filename= os.path.join(out_dir, f\"{cell_id}.tif\"), scale=1000, region= ee.Feature(ft).geometry(), file_per_band=False)\n",
    "        # Read patch\n",
    "        with rio.open(os.path.join(out_dir, f\"{cell_id}.tif\")) as src:\n",
    "            i_arr = src.read()\n",
    "            i_arr = reshape_as_image(i_arr)\n",
    "            i_meta = src.profile\n",
    "        # enhance and show the image\n",
    "        vmin, vmax = np.nanpercentile(i_arr, (5,95))  # 5-95% contrast stretch\n",
    "        # show the enhanced image\n",
    "        plt.figure(figsize=[5,5])\n",
    "        plt.imshow(i_arr[0], cmap='gray', vmin=vmin, vmax=vmax)\n",
    "        plt.show()\n",
    "        # Take our full image and reshape into long 2d array (nrow * ncol, nband) for classification\n",
    "        new_arr = i_arr.reshape(i_arr.shape[0]*i_arr.shape[1], i_arr.shape[-1])#reshape 3d array to 2d array that matches the training data table from earlier\n",
    "        # classify image\n",
    "        class_prediction = model.predict(pd.DataFrame(new_arr, columns = bandnames).fillna(0))\n",
    "        # Reshape our classification map back into a 2D matrix so we can visualize it\n",
    "        class_prediction = class_prediction.reshape(i_arr[:, :, 0].shape).astype(np.float32)\n",
    "        # save output as a Gtif\n",
    "        i_meta.update(count=1)\n",
    "        with rio.open(os.path.join(out_dir, f\"pred{cell_id}.tif\"), 'w', **i_meta) as dst:\n",
    "            dst.write(class_prediction, 1)\n",
    "\n",
    "patch_classify(model, covariates, \"D:\\My_projects\\Rhinos_KNP\\data\", grid)"
   ]
  },
  {
   "cell_type": "markdown",
   "id": "e78d8f06",
   "metadata": {},
   "source": [
    "# Mosaic output tifs"
   ]
  },
  {
   "cell_type": "code",
   "execution_count": 63,
   "id": "c23a8abb",
   "metadata": {},
   "outputs": [
    {
     "name": "stdout",
     "output_type": "stream",
     "text": [
      "D:\\My_projects\\Rhinos_KNP\\data/**/pred*.tif\n"
     ]
    }
   ],
   "source": [
    "dirpath = r\"D:\\My_projects\\Rhinos_KNP\\data\"\n",
    "\n",
    "out_fp = r\"D:\\My_projects\\Rhinos_KNP\\data\\class_Mosaic.tif\"\n",
    "\n",
    "# Make a search criteria to select the processed files\n",
    "search_criteria = r\"D:\\My_projects\\Rhinos_KNP\\data/**/pred*.tif\"\n",
    "\n",
    "q = os.path.join(dirpath, search_criteria)\n",
    "\n",
    "print(q)"
   ]
  },
  {
   "cell_type": "code",
   "execution_count": 64,
   "id": "002e3604",
   "metadata": {},
   "outputs": [
    {
     "data": {
      "text/plain": [
       "['D:\\\\My_projects\\\\Rhinos_KNP\\\\data\\\\pred105170.tif',\n",
       " 'D:\\\\My_projects\\\\Rhinos_KNP\\\\data\\\\pred10920.tif',\n",
       " 'D:\\\\My_projects\\\\Rhinos_KNP\\\\data\\\\pred110549.tif',\n",
       " 'D:\\\\My_projects\\\\Rhinos_KNP\\\\data\\\\pred112736.tif',\n",
       " 'D:\\\\My_projects\\\\Rhinos_KNP\\\\data\\\\pred113784.tif',\n",
       " 'D:\\\\My_projects\\\\Rhinos_KNP\\\\data\\\\pred11707.tif',\n",
       " 'D:\\\\My_projects\\\\Rhinos_KNP\\\\data\\\\pred11770.tif',\n",
       " 'D:\\\\My_projects\\\\Rhinos_KNP\\\\data\\\\pred125614.tif',\n",
       " 'D:\\\\My_projects\\\\Rhinos_KNP\\\\data\\\\pred13290.tif',\n",
       " 'D:\\\\My_projects\\\\Rhinos_KNP\\\\data\\\\pred133328.tif',\n",
       " 'D:\\\\My_projects\\\\Rhinos_KNP\\\\data\\\\pred13683.tif',\n",
       " 'D:\\\\My_projects\\\\Rhinos_KNP\\\\data\\\\pred143280.tif',\n",
       " 'D:\\\\My_projects\\\\Rhinos_KNP\\\\data\\\\pred154975.tif',\n",
       " 'D:\\\\My_projects\\\\Rhinos_KNP\\\\data\\\\pred156110.tif',\n",
       " 'D:\\\\My_projects\\\\Rhinos_KNP\\\\data\\\\pred161168.tif',\n",
       " 'D:\\\\My_projects\\\\Rhinos_KNP\\\\data\\\\pred163104.tif',\n",
       " 'D:\\\\My_projects\\\\Rhinos_KNP\\\\data\\\\pred171297.tif',\n",
       " 'D:\\\\My_projects\\\\Rhinos_KNP\\\\data\\\\pred176141.tif',\n",
       " 'D:\\\\My_projects\\\\Rhinos_KNP\\\\data\\\\pred176759.tif',\n",
       " 'D:\\\\My_projects\\\\Rhinos_KNP\\\\data\\\\pred188386.tif',\n",
       " 'D:\\\\My_projects\\\\Rhinos_KNP\\\\data\\\\pred188918.tif',\n",
       " 'D:\\\\My_projects\\\\Rhinos_KNP\\\\data\\\\pred193345.tif',\n",
       " 'D:\\\\My_projects\\\\Rhinos_KNP\\\\data\\\\pred194389.tif',\n",
       " 'D:\\\\My_projects\\\\Rhinos_KNP\\\\data\\\\pred199397.tif',\n",
       " 'D:\\\\My_projects\\\\Rhinos_KNP\\\\data\\\\pred200132.tif',\n",
       " 'D:\\\\My_projects\\\\Rhinos_KNP\\\\data\\\\pred20210.tif',\n",
       " 'D:\\\\My_projects\\\\Rhinos_KNP\\\\data\\\\pred218558.tif',\n",
       " 'D:\\\\My_projects\\\\Rhinos_KNP\\\\data\\\\pred22488.tif',\n",
       " 'D:\\\\My_projects\\\\Rhinos_KNP\\\\data\\\\pred227905.tif',\n",
       " 'D:\\\\My_projects\\\\Rhinos_KNP\\\\data\\\\pred231928.tif',\n",
       " 'D:\\\\My_projects\\\\Rhinos_KNP\\\\data\\\\pred2364.tif',\n",
       " 'D:\\\\My_projects\\\\Rhinos_KNP\\\\data\\\\pred237249.tif',\n",
       " 'D:\\\\My_projects\\\\Rhinos_KNP\\\\data\\\\pred237420.tif',\n",
       " 'D:\\\\My_projects\\\\Rhinos_KNP\\\\data\\\\pred23805.tif',\n",
       " 'D:\\\\My_projects\\\\Rhinos_KNP\\\\data\\\\pred24272.tif',\n",
       " 'D:\\\\My_projects\\\\Rhinos_KNP\\\\data\\\\pred246902.tif',\n",
       " 'D:\\\\My_projects\\\\Rhinos_KNP\\\\data\\\\pred248628.tif',\n",
       " 'D:\\\\My_projects\\\\Rhinos_KNP\\\\data\\\\pred249597.tif',\n",
       " 'D:\\\\My_projects\\\\Rhinos_KNP\\\\data\\\\pred251044.tif',\n",
       " 'D:\\\\My_projects\\\\Rhinos_KNP\\\\data\\\\pred252396.tif',\n",
       " 'D:\\\\My_projects\\\\Rhinos_KNP\\\\data\\\\pred268536.tif',\n",
       " 'D:\\\\My_projects\\\\Rhinos_KNP\\\\data\\\\pred276322.tif',\n",
       " 'D:\\\\My_projects\\\\Rhinos_KNP\\\\data\\\\pred276878.tif',\n",
       " 'D:\\\\My_projects\\\\Rhinos_KNP\\\\data\\\\pred277068.tif',\n",
       " 'D:\\\\My_projects\\\\Rhinos_KNP\\\\data\\\\pred280639.tif',\n",
       " 'D:\\\\My_projects\\\\Rhinos_KNP\\\\data\\\\pred282501.tif',\n",
       " 'D:\\\\My_projects\\\\Rhinos_KNP\\\\data\\\\pred283917.tif',\n",
       " 'D:\\\\My_projects\\\\Rhinos_KNP\\\\data\\\\pred286157.tif',\n",
       " 'D:\\\\My_projects\\\\Rhinos_KNP\\\\data\\\\pred293089.tif',\n",
       " 'D:\\\\My_projects\\\\Rhinos_KNP\\\\data\\\\pred295937.tif',\n",
       " 'D:\\\\My_projects\\\\Rhinos_KNP\\\\data\\\\pred300338.tif',\n",
       " 'D:\\\\My_projects\\\\Rhinos_KNP\\\\data\\\\pred308165.tif',\n",
       " 'D:\\\\My_projects\\\\Rhinos_KNP\\\\data\\\\pred309856.tif',\n",
       " 'D:\\\\My_projects\\\\Rhinos_KNP\\\\data\\\\pred311818.tif',\n",
       " 'D:\\\\My_projects\\\\Rhinos_KNP\\\\data\\\\pred312307.tif',\n",
       " 'D:\\\\My_projects\\\\Rhinos_KNP\\\\data\\\\pred31690.tif',\n",
       " 'D:\\\\My_projects\\\\Rhinos_KNP\\\\data\\\\pred332271.tif',\n",
       " 'D:\\\\My_projects\\\\Rhinos_KNP\\\\data\\\\pred335323.tif',\n",
       " 'D:\\\\My_projects\\\\Rhinos_KNP\\\\data\\\\pred33881.tif',\n",
       " 'D:\\\\My_projects\\\\Rhinos_KNP\\\\data\\\\pred342600.tif',\n",
       " 'D:\\\\My_projects\\\\Rhinos_KNP\\\\data\\\\pred348316.tif',\n",
       " 'D:\\\\My_projects\\\\Rhinos_KNP\\\\data\\\\pred352473.tif',\n",
       " 'D:\\\\My_projects\\\\Rhinos_KNP\\\\data\\\\pred353114.tif',\n",
       " 'D:\\\\My_projects\\\\Rhinos_KNP\\\\data\\\\pred366939.tif',\n",
       " 'D:\\\\My_projects\\\\Rhinos_KNP\\\\data\\\\pred368299.tif',\n",
       " 'D:\\\\My_projects\\\\Rhinos_KNP\\\\data\\\\pred376557.tif',\n",
       " 'D:\\\\My_projects\\\\Rhinos_KNP\\\\data\\\\pred386355.tif',\n",
       " 'D:\\\\My_projects\\\\Rhinos_KNP\\\\data\\\\pred387325.tif',\n",
       " 'D:\\\\My_projects\\\\Rhinos_KNP\\\\data\\\\pred400262.tif',\n",
       " 'D:\\\\My_projects\\\\Rhinos_KNP\\\\data\\\\pred400604.tif',\n",
       " 'D:\\\\My_projects\\\\Rhinos_KNP\\\\data\\\\pred403085.tif',\n",
       " 'D:\\\\My_projects\\\\Rhinos_KNP\\\\data\\\\pred409152.tif',\n",
       " 'D:\\\\My_projects\\\\Rhinos_KNP\\\\data\\\\pred410969.tif',\n",
       " 'D:\\\\My_projects\\\\Rhinos_KNP\\\\data\\\\pred41487.tif',\n",
       " 'D:\\\\My_projects\\\\Rhinos_KNP\\\\data\\\\pred415541.tif',\n",
       " 'D:\\\\My_projects\\\\Rhinos_KNP\\\\data\\\\pred428436.tif',\n",
       " 'D:\\\\My_projects\\\\Rhinos_KNP\\\\data\\\\pred428765.tif',\n",
       " 'D:\\\\My_projects\\\\Rhinos_KNP\\\\data\\\\pred435527.tif',\n",
       " 'D:\\\\My_projects\\\\Rhinos_KNP\\\\data\\\\pred435811.tif',\n",
       " 'D:\\\\My_projects\\\\Rhinos_KNP\\\\data\\\\pred436258.tif',\n",
       " 'D:\\\\My_projects\\\\Rhinos_KNP\\\\data\\\\pred438254.tif',\n",
       " 'D:\\\\My_projects\\\\Rhinos_KNP\\\\data\\\\pred450363.tif',\n",
       " 'D:\\\\My_projects\\\\Rhinos_KNP\\\\data\\\\pred475685.tif',\n",
       " 'D:\\\\My_projects\\\\Rhinos_KNP\\\\data\\\\pred48382.tif',\n",
       " 'D:\\\\My_projects\\\\Rhinos_KNP\\\\data\\\\pred493736.tif',\n",
       " 'D:\\\\My_projects\\\\Rhinos_KNP\\\\data\\\\pred50025.tif',\n",
       " 'D:\\\\My_projects\\\\Rhinos_KNP\\\\data\\\\pred503448.tif',\n",
       " 'D:\\\\My_projects\\\\Rhinos_KNP\\\\data\\\\pred505538.tif',\n",
       " 'D:\\\\My_projects\\\\Rhinos_KNP\\\\data\\\\pred508057.tif',\n",
       " 'D:\\\\My_projects\\\\Rhinos_KNP\\\\data\\\\pred511490.tif',\n",
       " 'D:\\\\My_projects\\\\Rhinos_KNP\\\\data\\\\pred51625.tif',\n",
       " 'D:\\\\My_projects\\\\Rhinos_KNP\\\\data\\\\pred519814.tif',\n",
       " 'D:\\\\My_projects\\\\Rhinos_KNP\\\\data\\\\pred526303.tif',\n",
       " 'D:\\\\My_projects\\\\Rhinos_KNP\\\\data\\\\pred527369.tif',\n",
       " 'D:\\\\My_projects\\\\Rhinos_KNP\\\\data\\\\pred532126.tif',\n",
       " 'D:\\\\My_projects\\\\Rhinos_KNP\\\\data\\\\pred533675.tif',\n",
       " 'D:\\\\My_projects\\\\Rhinos_KNP\\\\data\\\\pred539030.tif',\n",
       " 'D:\\\\My_projects\\\\Rhinos_KNP\\\\data\\\\pred541332.tif',\n",
       " 'D:\\\\My_projects\\\\Rhinos_KNP\\\\data\\\\pred542546.tif',\n",
       " 'D:\\\\My_projects\\\\Rhinos_KNP\\\\data\\\\pred551735.tif',\n",
       " 'D:\\\\My_projects\\\\Rhinos_KNP\\\\data\\\\pred555123.tif',\n",
       " 'D:\\\\My_projects\\\\Rhinos_KNP\\\\data\\\\pred574062.tif',\n",
       " 'D:\\\\My_projects\\\\Rhinos_KNP\\\\data\\\\pred575145.tif',\n",
       " 'D:\\\\My_projects\\\\Rhinos_KNP\\\\data\\\\pred589156.tif',\n",
       " 'D:\\\\My_projects\\\\Rhinos_KNP\\\\data\\\\pred596415.tif',\n",
       " 'D:\\\\My_projects\\\\Rhinos_KNP\\\\data\\\\pred597146.tif',\n",
       " 'D:\\\\My_projects\\\\Rhinos_KNP\\\\data\\\\pred609147.tif',\n",
       " 'D:\\\\My_projects\\\\Rhinos_KNP\\\\data\\\\pred611253.tif',\n",
       " 'D:\\\\My_projects\\\\Rhinos_KNP\\\\data\\\\pred630046.tif',\n",
       " 'D:\\\\My_projects\\\\Rhinos_KNP\\\\data\\\\pred632550.tif',\n",
       " 'D:\\\\My_projects\\\\Rhinos_KNP\\\\data\\\\pred646882.tif',\n",
       " 'D:\\\\My_projects\\\\Rhinos_KNP\\\\data\\\\pred648176.tif',\n",
       " 'D:\\\\My_projects\\\\Rhinos_KNP\\\\data\\\\pred658341.tif',\n",
       " 'D:\\\\My_projects\\\\Rhinos_KNP\\\\data\\\\pred665943.tif',\n",
       " 'D:\\\\My_projects\\\\Rhinos_KNP\\\\data\\\\pred666043.tif',\n",
       " 'D:\\\\My_projects\\\\Rhinos_KNP\\\\data\\\\pred666613.tif',\n",
       " 'D:\\\\My_projects\\\\Rhinos_KNP\\\\data\\\\pred666705.tif',\n",
       " 'D:\\\\My_projects\\\\Rhinos_KNP\\\\data\\\\pred677054.tif',\n",
       " 'D:\\\\My_projects\\\\Rhinos_KNP\\\\data\\\\pred681790.tif',\n",
       " 'D:\\\\My_projects\\\\Rhinos_KNP\\\\data\\\\pred682928.tif',\n",
       " 'D:\\\\My_projects\\\\Rhinos_KNP\\\\data\\\\pred686474.tif',\n",
       " 'D:\\\\My_projects\\\\Rhinos_KNP\\\\data\\\\pred689469.tif',\n",
       " 'D:\\\\My_projects\\\\Rhinos_KNP\\\\data\\\\pred692285.tif',\n",
       " 'D:\\\\My_projects\\\\Rhinos_KNP\\\\data\\\\pred692842.tif',\n",
       " 'D:\\\\My_projects\\\\Rhinos_KNP\\\\data\\\\pred697379.tif',\n",
       " 'D:\\\\My_projects\\\\Rhinos_KNP\\\\data\\\\pred699108.tif',\n",
       " 'D:\\\\My_projects\\\\Rhinos_KNP\\\\data\\\\pred705686.tif',\n",
       " 'D:\\\\My_projects\\\\Rhinos_KNP\\\\data\\\\pred709501.tif',\n",
       " 'D:\\\\My_projects\\\\Rhinos_KNP\\\\data\\\\pred713958.tif',\n",
       " 'D:\\\\My_projects\\\\Rhinos_KNP\\\\data\\\\pred719836.tif',\n",
       " 'D:\\\\My_projects\\\\Rhinos_KNP\\\\data\\\\pred732938.tif',\n",
       " 'D:\\\\My_projects\\\\Rhinos_KNP\\\\data\\\\pred733087.tif',\n",
       " 'D:\\\\My_projects\\\\Rhinos_KNP\\\\data\\\\pred741459.tif',\n",
       " 'D:\\\\My_projects\\\\Rhinos_KNP\\\\data\\\\pred749594.tif',\n",
       " 'D:\\\\My_projects\\\\Rhinos_KNP\\\\data\\\\pred762714.tif',\n",
       " 'D:\\\\My_projects\\\\Rhinos_KNP\\\\data\\\\pred779943.tif',\n",
       " 'D:\\\\My_projects\\\\Rhinos_KNP\\\\data\\\\pred780252.tif',\n",
       " 'D:\\\\My_projects\\\\Rhinos_KNP\\\\data\\\\pred781440.tif',\n",
       " 'D:\\\\My_projects\\\\Rhinos_KNP\\\\data\\\\pred782412.tif',\n",
       " 'D:\\\\My_projects\\\\Rhinos_KNP\\\\data\\\\pred787401.tif',\n",
       " 'D:\\\\My_projects\\\\Rhinos_KNP\\\\data\\\\pred788640.tif',\n",
       " 'D:\\\\My_projects\\\\Rhinos_KNP\\\\data\\\\pred788884.tif',\n",
       " 'D:\\\\My_projects\\\\Rhinos_KNP\\\\data\\\\pred790360.tif',\n",
       " 'D:\\\\My_projects\\\\Rhinos_KNP\\\\data\\\\pred79477.tif',\n",
       " 'D:\\\\My_projects\\\\Rhinos_KNP\\\\data\\\\pred79610.tif',\n",
       " 'D:\\\\My_projects\\\\Rhinos_KNP\\\\data\\\\pred816019.tif',\n",
       " 'D:\\\\My_projects\\\\Rhinos_KNP\\\\data\\\\pred816495.tif',\n",
       " 'D:\\\\My_projects\\\\Rhinos_KNP\\\\data\\\\pred817495.tif',\n",
       " 'D:\\\\My_projects\\\\Rhinos_KNP\\\\data\\\\pred817797.tif',\n",
       " 'D:\\\\My_projects\\\\Rhinos_KNP\\\\data\\\\pred818376.tif',\n",
       " 'D:\\\\My_projects\\\\Rhinos_KNP\\\\data\\\\pred822504.tif',\n",
       " 'D:\\\\My_projects\\\\Rhinos_KNP\\\\data\\\\pred832254.tif',\n",
       " 'D:\\\\My_projects\\\\Rhinos_KNP\\\\data\\\\pred832302.tif',\n",
       " 'D:\\\\My_projects\\\\Rhinos_KNP\\\\data\\\\pred846776.tif',\n",
       " 'D:\\\\My_projects\\\\Rhinos_KNP\\\\data\\\\pred860930.tif',\n",
       " 'D:\\\\My_projects\\\\Rhinos_KNP\\\\data\\\\pred865942.tif',\n",
       " 'D:\\\\My_projects\\\\Rhinos_KNP\\\\data\\\\pred868962.tif',\n",
       " 'D:\\\\My_projects\\\\Rhinos_KNP\\\\data\\\\pred875967.tif',\n",
       " 'D:\\\\My_projects\\\\Rhinos_KNP\\\\data\\\\pred876776.tif',\n",
       " 'D:\\\\My_projects\\\\Rhinos_KNP\\\\data\\\\pred899023.tif',\n",
       " 'D:\\\\My_projects\\\\Rhinos_KNP\\\\data\\\\pred913323.tif',\n",
       " 'D:\\\\My_projects\\\\Rhinos_KNP\\\\data\\\\pred914606.tif',\n",
       " 'D:\\\\My_projects\\\\Rhinos_KNP\\\\data\\\\pred921177.tif',\n",
       " 'D:\\\\My_projects\\\\Rhinos_KNP\\\\data\\\\pred927493.tif',\n",
       " 'D:\\\\My_projects\\\\Rhinos_KNP\\\\data\\\\pred932702.tif',\n",
       " 'D:\\\\My_projects\\\\Rhinos_KNP\\\\data\\\\pred934478.tif',\n",
       " 'D:\\\\My_projects\\\\Rhinos_KNP\\\\data\\\\pred942913.tif',\n",
       " 'D:\\\\My_projects\\\\Rhinos_KNP\\\\data\\\\pred948590.tif',\n",
       " 'D:\\\\My_projects\\\\Rhinos_KNP\\\\data\\\\pred953034.tif',\n",
       " 'D:\\\\My_projects\\\\Rhinos_KNP\\\\data\\\\pred953631.tif',\n",
       " 'D:\\\\My_projects\\\\Rhinos_KNP\\\\data\\\\pred958785.tif',\n",
       " 'D:\\\\My_projects\\\\Rhinos_KNP\\\\data\\\\pred964201.tif',\n",
       " 'D:\\\\My_projects\\\\Rhinos_KNP\\\\data\\\\pred96653.tif',\n",
       " 'D:\\\\My_projects\\\\Rhinos_KNP\\\\data\\\\pred976163.tif',\n",
       " 'D:\\\\My_projects\\\\Rhinos_KNP\\\\data\\\\pred991742.tif',\n",
       " 'D:\\\\My_projects\\\\Rhinos_KNP\\\\data\\\\pred997033.tif']"
      ]
     },
     "execution_count": 64,
     "metadata": {},
     "output_type": "execute_result"
    }
   ],
   "source": [
    "fps = glob.glob(q, recursive=True)\n",
    "fps"
   ]
  },
  {
   "cell_type": "code",
   "execution_count": 65,
   "id": "29f78e85",
   "metadata": {},
   "outputs": [],
   "source": [
    "src_files_to_mosaic = []\n",
    "for fp in fps:\n",
    "    src = rasterio.open(fp)\n",
    "    src_files_to_mosaic.append(src)"
   ]
  },
  {
   "cell_type": "code",
   "execution_count": 66,
   "id": "ebf29f76",
   "metadata": {},
   "outputs": [],
   "source": [
    "# Merge function returns a single mosaic array and the transformation info\n",
    "mosaic, out_trans = merge(src_files_to_mosaic)"
   ]
  },
  {
   "cell_type": "code",
   "execution_count": 67,
   "id": "80dafb9a",
   "metadata": {},
   "outputs": [
    {
     "name": "stdout",
     "output_type": "stream",
     "text": [
      "+proj=longlat +datum=WGS84 +no_defs\n"
     ]
    }
   ],
   "source": [
    "# Convert to project string using earthpy\n",
    "proj4 = et.epsg['4326']#'32634'\n",
    "print(proj4)"
   ]
  },
  {
   "cell_type": "code",
   "execution_count": 68,
   "id": "80401f3c",
   "metadata": {},
   "outputs": [],
   "source": [
    "out_meta = src.meta.copy()\n",
    "# Update the metadata\n",
    "out_meta.update({\"driver\": \"GTiff\",\n",
    "                  \"height\": mosaic.shape[1],\n",
    "                  \"width\": mosaic.shape[2],\n",
    "                  \"transform\": out_trans,\n",
    "                 \"crs\": str(proj4)})"
   ]
  },
  {
   "cell_type": "code",
   "execution_count": 69,
   "id": "2cd12824",
   "metadata": {},
   "outputs": [],
   "source": [
    "with rasterio.open(out_fp, \"w\", **out_meta) as dest:\n",
    "     dest.write(mosaic)"
   ]
  },
  {
   "cell_type": "markdown",
   "id": "833f0650",
   "metadata": {},
   "source": [
    "# Upload mosaic to GEE"
   ]
  },
  {
   "cell_type": "code",
   "execution_count": 55,
   "id": "06d46ae7",
   "metadata": {},
   "outputs": [
    {
     "name": "stdout",
     "output_type": "stream",
     "text": [
      "Building cache. Hang on . . .\n",
      "Done\n",
      "Processed: 1 of 1\n"
     ]
    },
    {
     "name": "stderr",
     "output_type": "stream",
     "text": [
      "File type 'ArcGISProjectFile' not found or no open command associated with it.\n",
      "Python was not found; run without arguments to install from the Microsoft Store, or disable this shortcut from Settings > Manage App Execution Aliases.\n",
      "File type 'ArcGISProjectFile' not found or no open command associated with it.\n",
      "Error processing line 1 of c:\\programdata\\anaconda3\\envs\\tfgpu\\lib\\site-packages\\ArcGISPro.pth:\n",
      "\n",
      "  Traceback (most recent call last):\n",
      "    File \"c:\\programdata\\anaconda3\\envs\\tfgpu\\lib\\site.py\", line 168, in addpackage\n",
      "      exec(line)\n",
      "    File \"<string>\", line 1, in <module>\n",
      "    File \"c:\\programdata\\anaconda3\\envs\\tfgpu\\lib\\site-packages\\arcpy_init.py\", line 61, in set_pro_paths\n",
      "      install_dir = pro_install_dir()\n",
      "    File \"c:\\programdata\\anaconda3\\envs\\tfgpu\\lib\\site-packages\\arcpy_init.py\", line 49, in pro_install_dir\n",
      "      aprx_ftype = subprocess.check_output([\"ftype\", \"ArcGISProjectFile\"], shell=True)\n",
      "    File \"c:\\programdata\\anaconda3\\envs\\tfgpu\\lib\\subprocess.py\", line 336, in check_output\n",
      "      **kwargs).stdout\n",
      "    File \"c:\\programdata\\anaconda3\\envs\\tfgpu\\lib\\subprocess.py\", line 418, in run\n",
      "      output=stdout, stderr=stderr)\n",
      "  subprocess.CalledProcessError: Command '['ftype', 'ArcGISProjectFile']' returned non-zero exit status 2.\n",
      "\n",
      "Remainder of file ignored\n",
      "Error processing line 1 of c:\\programdata\\anaconda3\\envs\\tfgpu\\lib\\site-packages\\ArcGISPro.pth:\n",
      "\n",
      "  Traceback (most recent call last):\n",
      "    File \"c:\\programdata\\anaconda3\\envs\\tfgpu\\lib\\site.py\", line 168, in addpackage\n",
      "      exec(line)\n",
      "    File \"<string>\", line 1, in <module>\n",
      "    File \"c:\\programdata\\anaconda3\\envs\\tfgpu\\lib\\site-packages\\arcpy_init.py\", line 61, in set_pro_paths\n",
      "      install_dir = pro_install_dir()\n",
      "    File \"c:\\programdata\\anaconda3\\envs\\tfgpu\\lib\\site-packages\\arcpy_init.py\", line 49, in pro_install_dir\n",
      "      aprx_ftype = subprocess.check_output([\"ftype\", \"ArcGISProjectFile\"], shell=True)\n",
      "    File \"c:\\programdata\\anaconda3\\envs\\tfgpu\\lib\\subprocess.py\", line 336, in check_output\n",
      "      **kwargs).stdout\n",
      "    File \"c:\\programdata\\anaconda3\\envs\\tfgpu\\lib\\subprocess.py\", line 418, in run\n",
      "      output=stdout, stderr=stderr)\n",
      "  subprocess.CalledProcessError: Command '['ftype', 'ArcGISProjectFile']' returned non-zero exit status 2.\n",
      "\n",
      "Remainder of file ignored\n"
     ]
    }
   ],
   "source": [
    "# Create metadata file\n",
    "!geeup getmeta --input \"D:\\My_projects\\Rhinos_KNP\" --metadata \"D:\\My_projects\\Rhinos_KNP\\metadata.csv\""
   ]
  },
  {
   "cell_type": "code",
   "execution_count": 59,
   "id": "122fc68f",
   "metadata": {},
   "outputs": [
    {
     "name": "stdout",
     "output_type": "stream",
     "text": [
      "Building cache. Hang on . . .\n",
      "Done\n"
     ]
    },
    {
     "name": "stderr",
     "output_type": "stream",
     "text": [
      "File type 'ArcGISProjectFile' not found or no open command associated with it.\n",
      "Python was not found; run without arguments to install from the Microsoft Store, or disable this shortcut from Settings > Manage App Execution Aliases.\n",
      "File type 'ArcGISProjectFile' not found or no open command associated with it.\n",
      "Error processing line 1 of c:\\programdata\\anaconda3\\envs\\tfgpu\\lib\\site-packages\\ArcGISPro.pth:\n",
      "\n",
      "  Traceback (most recent call last):\n",
      "    File \"c:\\programdata\\anaconda3\\envs\\tfgpu\\lib\\site.py\", line 168, in addpackage\n",
      "      exec(line)\n",
      "    File \"<string>\", line 1, in <module>\n",
      "    File \"c:\\programdata\\anaconda3\\envs\\tfgpu\\lib\\site-packages\\arcpy_init.py\", line 61, in set_pro_paths\n",
      "      install_dir = pro_install_dir()\n",
      "    File \"c:\\programdata\\anaconda3\\envs\\tfgpu\\lib\\site-packages\\arcpy_init.py\", line 49, in pro_install_dir\n",
      "      aprx_ftype = subprocess.check_output([\"ftype\", \"ArcGISProjectFile\"], shell=True)\n",
      "    File \"c:\\programdata\\anaconda3\\envs\\tfgpu\\lib\\subprocess.py\", line 336, in check_output\n",
      "      **kwargs).stdout\n",
      "    File \"c:\\programdata\\anaconda3\\envs\\tfgpu\\lib\\subprocess.py\", line 418, in run\n",
      "      output=stdout, stderr=stderr)\n",
      "  subprocess.CalledProcessError: Command '['ftype', 'ArcGISProjectFile']' returned non-zero exit status 2.\n",
      "\n",
      "Remainder of file ignored\n",
      "Error processing line 1 of c:\\programdata\\anaconda3\\envs\\tfgpu\\lib\\site-packages\\ArcGISPro.pth:\n",
      "\n",
      "  Traceback (most recent call last):\n",
      "    File \"c:\\programdata\\anaconda3\\envs\\tfgpu\\lib\\site.py\", line 168, in addpackage\n",
      "      exec(line)\n",
      "    File \"<string>\", line 1, in <module>\n",
      "    File \"c:\\programdata\\anaconda3\\envs\\tfgpu\\lib\\site-packages\\arcpy_init.py\", line 61, in set_pro_paths\n",
      "      install_dir = pro_install_dir()\n",
      "    File \"c:\\programdata\\anaconda3\\envs\\tfgpu\\lib\\site-packages\\arcpy_init.py\", line 49, in pro_install_dir\n",
      "      aprx_ftype = subprocess.check_output([\"ftype\", \"ArcGISProjectFile\"], shell=True)\n",
      "    File \"c:\\programdata\\anaconda3\\envs\\tfgpu\\lib\\subprocess.py\", line 336, in check_output\n",
      "      **kwargs).stdout\n",
      "    File \"c:\\programdata\\anaconda3\\envs\\tfgpu\\lib\\subprocess.py\", line 418, in run\n",
      "      output=stdout, stderr=stderr)\n",
      "  subprocess.CalledProcessError: Command '['ftype', 'ArcGISProjectFile']' returned non-zero exit status 2.\n",
      "\n",
      "Remainder of file ignored\n",
      "Traceback (most recent call last):\n",
      "  File \"c:\\programdata\\anaconda3\\envs\\tfgpu\\lib\\runpy.py\", line 193, in _run_module_as_main\n",
      "    \"__main__\", mod_spec)\n",
      "  File \"c:\\programdata\\anaconda3\\envs\\tfgpu\\lib\\runpy.py\", line 85, in _run_code\n",
      "    exec(code, run_globals)\n",
      "  File \"C:\\ProgramData\\Anaconda3\\envs\\tfgpu\\Scripts\\geeup.exe\\__main__.py\", line 7, in <module>\n",
      "  File \"c:\\programdata\\anaconda3\\envs\\tfgpu\\lib\\site-packages\\geeup\\geeup.py\", line 648, in main\n",
      "    func(args)\n",
      "  File \"c:\\programdata\\anaconda3\\envs\\tfgpu\\lib\\site-packages\\geeup\\geeup.py\", line 345, in upload_from_parser\n",
      "    pyramiding=args.pyramids,\n",
      "  File \"c:\\programdata\\anaconda3\\envs\\tfgpu\\lib\\site-packages\\geeup\\batch_uploader.py\", line 104, in upload\n",
      "    google_session = __get_google_auth_session(user, password, method)\n",
      "  File \"c:\\programdata\\anaconda3\\envs\\tfgpu\\lib\\site-packages\\geeup\\batch_uploader.py\", line 392, in __get_google_auth_session\n",
      "    executable_path=os.path.join(lp, \"geckodriver.exe\"), options=options\n",
      "  File \"c:\\programdata\\anaconda3\\envs\\tfgpu\\lib\\site-packages\\selenium\\webdriver\\firefox\\webdriver.py\", line 174, in __init__\n",
      "    keep_alive=True)\n",
      "  File \"c:\\programdata\\anaconda3\\envs\\tfgpu\\lib\\site-packages\\selenium\\webdriver\\remote\\webdriver.py\", line 157, in __init__\n",
      "    self.start_session(capabilities, browser_profile)\n",
      "  File \"c:\\programdata\\anaconda3\\envs\\tfgpu\\lib\\site-packages\\selenium\\webdriver\\remote\\webdriver.py\", line 252, in start_session\n",
      "    response = self.execute(Command.NEW_SESSION, parameters)\n",
      "  File \"c:\\programdata\\anaconda3\\envs\\tfgpu\\lib\\site-packages\\selenium\\webdriver\\remote\\webdriver.py\", line 321, in execute\n",
      "    self.error_handler.check_response(response)\n",
      "  File \"c:\\programdata\\anaconda3\\envs\\tfgpu\\lib\\site-packages\\selenium\\webdriver\\remote\\errorhandler.py\", line 242, in check_response\n",
      "    raise exception_class(message, screen, stacktrace)\n",
      "selenium.common.exceptions.SessionNotCreatedException: Message: Expected browser binary location, but unable to find binary in default location, no 'moz:firefoxOptions.binary' capability provided, and no binary flag set on the command line\n",
      "\n"
     ]
    }
   ],
   "source": [
    "# Upload image to GEE\n",
    "!geeup upload --source \"D:\\My_projects\\Rhinos_KNP\" --dest \"users/geethensingh/WTWTA_static_HS\" --metadata \"D:\\My_projects\\Rhinos_KNP\\metadata.csv\" -u \"geethen.singh@gmail.com\""
   ]
  }
 ],
 "metadata": {
  "kernelspec": {
   "display_name": "tfgpu",
   "language": "python",
   "name": "tfgpu"
  },
  "language_info": {
   "codemirror_mode": {
    "name": "ipython",
    "version": 3
   },
   "file_extension": ".py",
   "mimetype": "text/x-python",
   "name": "python",
   "nbconvert_exporter": "python",
   "pygments_lexer": "ipython3",
   "version": "3.6.7"
  }
 },
 "nbformat": 4,
 "nbformat_minor": 5
}
