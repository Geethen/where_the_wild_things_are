{
  "nbformat": 4,
  "nbformat_minor": 0,
  "metadata": {
    "colab": {
      "name": "Static_workflow.ipynb",
      "provenance": [],
      "collapsed_sections": [],
      "authorship_tag": "ABX9TyNBgY0pJ0gdqSjLsNFcfxMg",
      "include_colab_link": true
    },
    "kernelspec": {
      "name": "python3",
      "display_name": "Python 3"
    },
    "language_info": {
      "name": "python"
    }
  },
  "cells": [
    {
      "cell_type": "markdown",
      "metadata": {
        "id": "view-in-github",
        "colab_type": "text"
      },
      "source": [
        "<a href=\"https://colab.research.google.com/github/Geethen/where_the_wild_things_are/blob/main/Static_workflow.ipynb\" target=\"_parent\"><img src=\"https://colab.research.google.com/assets/colab-badge.svg\" alt=\"Open In Colab\"/></a>"
      ]
    },
    {
      "cell_type": "markdown",
      "metadata": {
        "id": "INGj-6Llqwa8"
      },
      "source": [
        "## Step 1: Brainstorming Variables"
      ]
    },
    {
      "cell_type": "markdown",
      "metadata": {
        "id": "InUIM956qwdx"
      },
      "source": [
        "\n",
        "\n",
        "# Dynamic\n",
        "* Rainfall: \n",
        "  * CHIRPS (0.05 arc degrees ~ 5 km; daily)\n",
        "* Temperature: \n",
        "  * MODIS (land surface temp; day/night; 1 km; daily)\n",
        "  * ERA5 (dewpoint, soil temp, air temp @ 2m; 0.1 arc ~ 10 km; hourly/daily/monthly)\n",
        "* Spectral:\n",
        "  * Vegetation Indices: EVI (Landsat)\n",
        "\n",
        "# Static\n",
        "* Spectral:\n",
        "  * Vegetation Indices: EVI (Landsat)\n",
        "* Temperature: \n",
        "  * Bioclim (30 arc sec ~ 1km) \n",
        "  * Terraclim (2.5 arc min ~ 5km)\n",
        "* Rainfall:\n",
        "  * Bioclim\n",
        "  * Terraclim\n",
        "* Topography:\n",
        "  * SRTM Topographic Diversity\n",
        "  * Geomorpho90m - geomorphometric layers\n",
        "* Microclimate:\n",
        "  * SRTM CHiLI\n",
        "* Elevation: \n",
        "  * NASA DEM\n",
        "* Soils:\n",
        "  * SOILGRIDS250m\n",
        "  * HiHydroSoil v2.0\n",
        "  * Tomislav Hengl (soil properties & nutrients)\n",
        "  * Venter\n",
        "  * Terraclim (soil moisture)\n",
        "* Waterpoints\n",
        "  * Global Surface Water/P-something (30 m)\n",
        "  * OSM Water Layer Surface (90 m)\n",
        "  * Bernard - KNP artificial waterpoints\n",
        "* Distance to Roads\n",
        "  * Joe has layer\n",
        "  * GRIPS\n",
        "* Distance to Electrical Transmission Lines\n",
        "  * Global Power\n",
        "* Distance to Settlement\n",
        "  * Human Settlement Layer\n",
        "* Soil erosion\n",
        "  * Bare ground\n",
        "* Land Cover\n",
        "  * SA landcover 2018\n",
        "  * CORINE - Fractional Cover\n",
        "  * SA Veg Map 2019\n",
        "* Habitat Heterogeneity \n",
        "  * Global Habitat Heterogeneity\n",
        "  * GEDI/Landsat tree height --> derive variables\n",
        "* Fire\n",
        "  * MODIS burned area --> derive: time since fire, FRI"
      ]
    }
  ]
}