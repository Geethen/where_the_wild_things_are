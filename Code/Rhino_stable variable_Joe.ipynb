{
 "cells": [
  {
   "cell_type": "markdown",
   "source": "### Set-up workspace",
   "metadata": {
    "cell_id": "00000-31f3126c-58fe-421f-9beb-5d7823e4b048",
    "deepnote_cell_type": "markdown"
   }
  },
  {
   "cell_type": "code",
   "metadata": {
    "tags": [],
    "cell_id": "00001-fa11a1e2-eaa2-4e52-94cf-32e7772fbbe5",
    "deepnote_to_be_reexecuted": false,
    "source_hash": "e867825b",
    "execution_start": 1624528275655,
    "execution_millis": 25431,
    "deepnote_cell_type": "code"
   },
   "source": "!pip install geopandas\n!pip install geemap",
   "outputs": [
    {
     "name": "stdout",
     "text": "Collecting geopandas\n  Downloading geopandas-0.9.0-py2.py3-none-any.whl (994 kB)\n\u001b[K     |████████████████████████████████| 994 kB 14.8 MB/s \n\u001b[?25hCollecting shapely>=1.6\n  Downloading Shapely-1.7.1-cp37-cp37m-manylinux1_x86_64.whl (1.0 MB)\n\u001b[K     |████████████████████████████████| 1.0 MB 43.0 MB/s \n\u001b[?25hRequirement already satisfied: fiona>=1.8 in /shared-libs/python3.7/py/lib/python3.7/site-packages (from geopandas) (1.8.20)\nRequirement already satisfied: pandas>=0.24.0 in /shared-libs/python3.7/py/lib/python3.7/site-packages (from geopandas) (1.2.4)\nCollecting pyproj>=2.2.0\n  Downloading pyproj-3.1.0-cp37-cp37m-manylinux2010_x86_64.whl (6.6 MB)\n\u001b[K     |████████████████████████████████| 6.6 MB 40.2 MB/s \n\u001b[?25hRequirement already satisfied: cligj>=0.5 in /shared-libs/python3.7/py/lib/python3.7/site-packages (from fiona>=1.8->geopandas) (0.7.2)\nRequirement already satisfied: attrs>=17 in /shared-libs/python3.7/py-core/lib/python3.7/site-packages (from fiona>=1.8->geopandas) (21.2.0)\nRequirement already satisfied: six>=1.7 in /shared-libs/python3.7/py-core/lib/python3.7/site-packages (from fiona>=1.8->geopandas) (1.16.0)\nRequirement already satisfied: click>=4.0 in /shared-libs/python3.7/py/lib/python3.7/site-packages (from fiona>=1.8->geopandas) (7.1.2)\nRequirement already satisfied: munch in /shared-libs/python3.7/py/lib/python3.7/site-packages (from fiona>=1.8->geopandas) (2.5.0)\nRequirement already satisfied: setuptools in /root/venv/lib/python3.7/site-packages (from fiona>=1.8->geopandas) (57.0.0)\nRequirement already satisfied: certifi in /shared-libs/python3.7/py/lib/python3.7/site-packages (from fiona>=1.8->geopandas) (2020.12.5)\nRequirement already satisfied: click-plugins>=1.0 in /shared-libs/python3.7/py/lib/python3.7/site-packages (from fiona>=1.8->geopandas) (1.1.1)\nRequirement already satisfied: numpy>=1.16.5 in /shared-libs/python3.7/py/lib/python3.7/site-packages (from pandas>=0.24.0->geopandas) (1.19.5)\nRequirement already satisfied: python-dateutil>=2.7.3 in /shared-libs/python3.7/py-core/lib/python3.7/site-packages (from pandas>=0.24.0->geopandas) (2.8.1)\nRequirement already satisfied: pytz>=2017.3 in /shared-libs/python3.7/py/lib/python3.7/site-packages (from pandas>=0.24.0->geopandas) (2021.1)\nInstalling collected packages: shapely, pyproj, geopandas\nSuccessfully installed geopandas-0.9.0 pyproj-3.1.0 shapely-1.7.1\nCollecting geemap\n  Downloading geemap-0.8.17-py2.py3-none-any.whl (464 kB)\n\u001b[K     |████████████████████████████████| 464 kB 15.4 MB/s \n\u001b[?25hCollecting ipytree\n  Downloading ipytree-0.2.1-py2.py3-none-any.whl (1.3 MB)\n\u001b[K     |████████████████████████████████| 1.3 MB 39.9 MB/s \n\u001b[?25hRequirement already satisfied: pillow in /shared-libs/python3.7/py/lib/python3.7/site-packages (from geemap) (8.2.0)\nCollecting voila\n  Downloading voila-0.2.10-py3-none-any.whl (1.6 MB)\n\u001b[K     |████████████████████████████████| 1.6 MB 38.1 MB/s \n\u001b[?25hCollecting mss\n  Downloading mss-6.1.0-py3-none-any.whl (76 kB)\n\u001b[K     |████████████████████████████████| 76 kB 9.2 MB/s \n\u001b[?25hCollecting pycrs\n  Downloading PyCRS-1.0.2.tar.gz (36 kB)\nCollecting pyshp>=2.1.3\n  Downloading pyshp-2.1.3.tar.gz (219 kB)\n\u001b[K     |████████████████████████████████| 219 kB 21.4 MB/s \n\u001b[?25hRequirement already satisfied: pandas in /shared-libs/python3.7/py/lib/python3.7/site-packages (from geemap) (1.2.4)\nRequirement already satisfied: folium>=0.11.0 in /shared-libs/python3.7/py/lib/python3.7/site-packages (from geemap) (0.12.1)\nRequirement already satisfied: click in /shared-libs/python3.7/py/lib/python3.7/site-packages (from geemap) (7.1.2)\nCollecting googledrivedownloader\n  Downloading googledrivedownloader-0.4-py2.py3-none-any.whl (3.9 kB)\nCollecting colour\n  Downloading colour-0.1.5-py2.py3-none-any.whl (23 kB)\nCollecting ipyleaflet>=0.14.0\n  Downloading ipyleaflet-0.14.0-py2.py3-none-any.whl (3.3 MB)\n\u001b[K     |████████████████████████████████| 3.3 MB 41.9 MB/s \n\u001b[?25hRequirement already satisfied: numpy in /shared-libs/python3.7/py/lib/python3.7/site-packages (from geemap) (1.19.5)\nCollecting earthengine-api>=0.1.230\n  Downloading earthengine-api-0.1.270.tar.gz (147 kB)\n\u001b[K     |████████████████████████████████| 147 kB 51.4 MB/s \n\u001b[?25hCollecting ipyfilechooser\n  Downloading ipyfilechooser-0.4.4-py3-none-any.whl (8.7 kB)\nCollecting ipyevents\n  Downloading ipyevents-0.8.2-py2.py3-none-any.whl (133 kB)\n\u001b[K     |████████████████████████████████| 133 kB 51.2 MB/s \n\u001b[?25hCollecting ffmpeg-python\n  Downloading ffmpeg_python-0.2.0-py3-none-any.whl (25 kB)\nRequirement already satisfied: matplotlib in /shared-libs/python3.7/py/lib/python3.7/site-packages (from geemap) (3.4.2)\nCollecting ipynb-py-convert\n  Downloading ipynb-py-convert-0.4.6.tar.gz (3.9 kB)\nCollecting geeadd>=0.5.1\n  Downloading geeadd-0.5.5-py3-none-any.whl (30 kB)\nCollecting whiteboxgui\n  Downloading whiteboxgui-0.3.0-py2.py3-none-any.whl (76 kB)\n\u001b[K     |████████████████████████████████| 76 kB 7.4 MB/s \n\u001b[?25hCollecting bqplot\n  Downloading bqplot-0.12.29-py2.py3-none-any.whl (1.2 MB)\n\u001b[K     |████████████████████████████████| 1.2 MB 40.6 MB/s \n\u001b[?25hCollecting python-box\n  Downloading python_box-5.3.0-py3-none-any.whl (21 kB)\nCollecting sankee\n  Downloading sankee-0.0.5-py3-none-any.whl (29 kB)\nCollecting geocoder\n  Downloading geocoder-1.38.1-py2.py3-none-any.whl (98 kB)\n\u001b[K     |████████████████████████████████| 98 kB 15.4 MB/s \n\u001b[?25hRequirement already satisfied: future in /shared-libs/python3.7/py/lib/python3.7/site-packages (from earthengine-api>=0.1.230->geemap) (0.18.2)\nCollecting google-cloud-storage\n  Downloading google_cloud_storage-1.39.0-py2.py3-none-any.whl (103 kB)\n\u001b[K     |████████████████████████████████| 103 kB 47.7 MB/s \n\u001b[?25hCollecting google-api-python-client<2,>=1.12.1\n  Downloading google_api_python_client-1.12.8-py2.py3-none-any.whl (61 kB)\n\u001b[K     |████████████████████████████████| 61 kB 59 kB/s \n\u001b[?25hRequirement already satisfied: google-auth>=1.4.1 in /shared-libs/python3.7/py/lib/python3.7/site-packages (from earthengine-api>=0.1.230->geemap) (1.31.0)\nCollecting google-auth-httplib2>=0.0.3\n  Downloading google_auth_httplib2-0.1.0-py2.py3-none-any.whl (9.3 kB)\nCollecting httplib2<1dev,>=0.9.2\n  Downloading httplib2-0.19.1-py3-none-any.whl (95 kB)\n\u001b[K     |████████████████████████████████| 95 kB 8.9 MB/s \n\u001b[?25hCollecting httplib2shim\n  Downloading httplib2shim-0.0.3.tar.gz (17 kB)\nRequirement already satisfied: six in /shared-libs/python3.7/py-core/lib/python3.7/site-packages (from earthengine-api>=0.1.230->geemap) (1.16.0)\nRequirement already satisfied: requests in /shared-libs/python3.7/py/lib/python3.7/site-packages (from folium>=0.11.0->geemap) (2.25.1)\nRequirement already satisfied: jinja2>=2.9 in /shared-libs/python3.7/py-core/lib/python3.7/site-packages (from folium>=0.11.0->geemap) (3.0.1)\nRequirement already satisfied: branca>=0.3.0 in /shared-libs/python3.7/py/lib/python3.7/site-packages (from folium>=0.11.0->geemap) (0.4.2)\nCollecting beautifulsoup4>=4.9.0\n  Downloading beautifulsoup4-4.9.3-py3-none-any.whl (115 kB)\n\u001b[K     |████████████████████████████████| 115 kB 47.5 MB/s \n\u001b[?25hCollecting logzero>=1.5.0\n  Downloading logzero-1.7.0-py2.py3-none-any.whl (16 kB)\nCollecting soupsieve>1.2\n  Downloading soupsieve-2.2.1-py3-none-any.whl (33 kB)\nRequirement already satisfied: google-api-core<2dev,>=1.21.0 in /shared-libs/python3.7/py/lib/python3.7/site-packages (from google-api-python-client<2,>=1.12.1->earthengine-api>=0.1.230->geemap) (1.30.0)\nCollecting uritemplate<4dev,>=3.0.0\n  Downloading uritemplate-3.0.1-py2.py3-none-any.whl (15 kB)\nRequirement already satisfied: setuptools>=40.3.0 in /root/venv/lib/python3.7/site-packages (from google-api-core<2dev,>=1.21.0->google-api-python-client<2,>=1.12.1->earthengine-api>=0.1.230->geemap) (57.0.0)\nRequirement already satisfied: protobuf>=3.12.0 in /shared-libs/python3.7/py/lib/python3.7/site-packages (from google-api-core<2dev,>=1.21.0->google-api-python-client<2,>=1.12.1->earthengine-api>=0.1.230->geemap) (3.17.3)\nRequirement already satisfied: pytz in /shared-libs/python3.7/py/lib/python3.7/site-packages (from google-api-core<2dev,>=1.21.0->google-api-python-client<2,>=1.12.1->earthengine-api>=0.1.230->geemap) (2021.1)\nRequirement already satisfied: packaging>=14.3 in /shared-libs/python3.7/py-core/lib/python3.7/site-packages (from google-api-core<2dev,>=1.21.0->google-api-python-client<2,>=1.12.1->earthengine-api>=0.1.230->geemap) (20.9)\nRequirement already satisfied: googleapis-common-protos<2.0dev,>=1.6.0 in /shared-libs/python3.7/py/lib/python3.7/site-packages (from google-api-core<2dev,>=1.21.0->google-api-python-client<2,>=1.12.1->earthengine-api>=0.1.230->geemap) (1.53.0)\nRequirement already satisfied: pyasn1-modules>=0.2.1 in /shared-libs/python3.7/py/lib/python3.7/site-packages (from google-auth>=1.4.1->earthengine-api>=0.1.230->geemap) (0.2.8)\nRequirement already satisfied: cachetools<5.0,>=2.0.0 in /shared-libs/python3.7/py/lib/python3.7/site-packages (from google-auth>=1.4.1->earthengine-api>=0.1.230->geemap) (4.2.2)\nRequirement already satisfied: rsa<5,>=3.1.4 in /shared-libs/python3.7/py/lib/python3.7/site-packages (from google-auth>=1.4.1->earthengine-api>=0.1.230->geemap) (4.7.2)\nRequirement already satisfied: pyparsing<3,>=2.4.2 in /shared-libs/python3.7/py-core/lib/python3.7/site-packages (from httplib2<1dev,>=0.9.2->earthengine-api>=0.1.230->geemap) (2.4.7)\nCollecting traittypes<3,>=0.2.1\n  Downloading traittypes-0.2.1-py2.py3-none-any.whl (8.6 kB)\nCollecting ipywidgets<8,>=7.6.0\n  Downloading ipywidgets-7.6.3-py2.py3-none-any.whl (121 kB)\n\u001b[K     |████████████████████████████████| 121 kB 50.9 MB/s \n\u001b[?25hRequirement already satisfied: traitlets>=4.3.1 in /shared-libs/python3.7/py-core/lib/python3.7/site-packages (from ipywidgets<8,>=7.6.0->ipyleaflet>=0.14.0->geemap) (5.0.5)\nCollecting widgetsnbextension~=3.5.0\n  Downloading widgetsnbextension-3.5.1-py2.py3-none-any.whl (2.2 MB)\n\u001b[K     |████████████████████████████████| 2.2 MB 36.0 MB/s \n\u001b[?25hRequirement already satisfied: nbformat>=4.2.0 in /shared-libs/python3.7/py-core/lib/python3.7/site-packages (from ipywidgets<8,>=7.6.0->ipyleaflet>=0.14.0->geemap) (5.1.3)\nRequirement already satisfied: ipykernel>=4.5.1 in /shared-libs/python3.7/py-core/lib/python3.7/site-packages (from ipywidgets<8,>=7.6.0->ipyleaflet>=0.14.0->geemap) (5.5.5)\nRequirement already satisfied: ipython>=4.0.0 in /shared-libs/python3.7/py-core/lib/python3.7/site-packages (from ipywidgets<8,>=7.6.0->ipyleaflet>=0.14.0->geemap) (7.24.1)\nCollecting jupyterlab-widgets>=1.0.0\n  Downloading jupyterlab_widgets-1.0.0-py3-none-any.whl (243 kB)\n\u001b[K     |████████████████████████████████| 243 kB 48.0 MB/s \n\u001b[?25hRequirement already satisfied: tornado>=4.2 in /shared-libs/python3.7/py-core/lib/python3.7/site-packages (from ipykernel>=4.5.1->ipywidgets<8,>=7.6.0->ipyleaflet>=0.14.0->geemap) (6.1)\nRequirement already satisfied: jupyter-client in /shared-libs/python3.7/py-core/lib/python3.7/site-packages (from ipykernel>=4.5.1->ipywidgets<8,>=7.6.0->ipyleaflet>=0.14.0->geemap) (6.1.12)\nRequirement already satisfied: jedi>=0.16 in /shared-libs/python3.7/py-core/lib/python3.7/site-packages (from ipython>=4.0.0->ipywidgets<8,>=7.6.0->ipyleaflet>=0.14.0->geemap) (0.17.2)\nRequirement already satisfied: pygments in /shared-libs/python3.7/py-core/lib/python3.7/site-packages (from ipython>=4.0.0->ipywidgets<8,>=7.6.0->ipyleaflet>=0.14.0->geemap) (2.9.0)\nRequirement already satisfied: prompt-toolkit!=3.0.0,!=3.0.1,<3.1.0,>=2.0.0 in /shared-libs/python3.7/py-core/lib/python3.7/site-packages (from ipython>=4.0.0->ipywidgets<8,>=7.6.0->ipyleaflet>=0.14.0->geemap) (3.0.18)\nRequirement already satisfied: pexpect>4.3 in /shared-libs/python3.7/py-core/lib/python3.7/site-packages (from ipython>=4.0.0->ipywidgets<8,>=7.6.0->ipyleaflet>=0.14.0->geemap) (4.8.0)\nRequirement already satisfied: decorator in /shared-libs/python3.7/py-core/lib/python3.7/site-packages (from ipython>=4.0.0->ipywidgets<8,>=7.6.0->ipyleaflet>=0.14.0->geemap) (5.0.9)\nRequirement already satisfied: pickleshare in /shared-libs/python3.7/py-core/lib/python3.7/site-packages (from ipython>=4.0.0->ipywidgets<8,>=7.6.0->ipyleaflet>=0.14.0->geemap) (0.7.5)\nRequirement already satisfied: backcall in /shared-libs/python3.7/py-core/lib/python3.7/site-packages (from ipython>=4.0.0->ipywidgets<8,>=7.6.0->ipyleaflet>=0.14.0->geemap) (0.2.0)\nRequirement already satisfied: matplotlib-inline in /shared-libs/python3.7/py-core/lib/python3.7/site-packages (from ipython>=4.0.0->ipywidgets<8,>=7.6.0->ipyleaflet>=0.14.0->geemap) (0.1.2)\nRequirement already satisfied: parso<0.8.0,>=0.7.0 in /shared-libs/python3.7/py-core/lib/python3.7/site-packages (from jedi>=0.16->ipython>=4.0.0->ipywidgets<8,>=7.6.0->ipyleaflet>=0.14.0->geemap) (0.7.1)\nRequirement already satisfied: MarkupSafe>=2.0 in /shared-libs/python3.7/py-core/lib/python3.7/site-packages (from jinja2>=2.9->folium>=0.11.0->geemap) (2.0.1)\nRequirement already satisfied: jsonschema!=2.5.0,>=2.4 in /shared-libs/python3.7/py-core/lib/python3.7/site-packages (from nbformat>=4.2.0->ipywidgets<8,>=7.6.0->ipyleaflet>=0.14.0->geemap) (3.2.0)\nRequirement already satisfied: jupyter-core in /shared-libs/python3.7/py-core/lib/python3.7/site-packages (from nbformat>=4.2.0->ipywidgets<8,>=7.6.0->ipyleaflet>=0.14.0->geemap) (4.7.1)\nRequirement already satisfied: ipython-genutils in /shared-libs/python3.7/py-core/lib/python3.7/site-packages (from nbformat>=4.2.0->ipywidgets<8,>=7.6.0->ipyleaflet>=0.14.0->geemap) (0.2.0)\nRequirement already satisfied: importlib-metadata in /shared-libs/python3.7/py-core/lib/python3.7/site-packages (from jsonschema!=2.5.0,>=2.4->nbformat>=4.2.0->ipywidgets<8,>=7.6.0->ipyleaflet>=0.14.0->geemap) (4.5.0)\nRequirement already satisfied: attrs>=17.4.0 in /shared-libs/python3.7/py-core/lib/python3.7/site-packages (from jsonschema!=2.5.0,>=2.4->nbformat>=4.2.0->ipywidgets<8,>=7.6.0->ipyleaflet>=0.14.0->geemap) (21.2.0)\nRequirement already satisfied: pyrsistent>=0.14.0 in /shared-libs/python3.7/py-core/lib/python3.7/site-packages (from jsonschema!=2.5.0,>=2.4->nbformat>=4.2.0->ipywidgets<8,>=7.6.0->ipyleaflet>=0.14.0->geemap) (0.17.3)\nRequirement already satisfied: ptyprocess>=0.5 in /shared-libs/python3.7/py-core/lib/python3.7/site-packages (from pexpect>4.3->ipython>=4.0.0->ipywidgets<8,>=7.6.0->ipyleaflet>=0.14.0->geemap) (0.7.0)\nRequirement already satisfied: wcwidth in /shared-libs/python3.7/py-core/lib/python3.7/site-packages (from prompt-toolkit!=3.0.0,!=3.0.1,<3.1.0,>=2.0.0->ipython>=4.0.0->ipywidgets<8,>=7.6.0->ipyleaflet>=0.14.0->geemap) (0.2.5)\nRequirement already satisfied: pyasn1<0.5.0,>=0.4.6 in /shared-libs/python3.7/py/lib/python3.7/site-packages (from pyasn1-modules>=0.2.1->google-auth>=1.4.1->earthengine-api>=0.1.230->geemap) (0.4.8)\nRequirement already satisfied: certifi>=2017.4.17 in /shared-libs/python3.7/py/lib/python3.7/site-packages (from requests->folium>=0.11.0->geemap) (2020.12.5)\nRequirement already satisfied: idna<3,>=2.5 in /shared-libs/python3.7/py/lib/python3.7/site-packages (from requests->folium>=0.11.0->geemap) (2.10)\nRequirement already satisfied: urllib3<1.27,>=1.21.1 in /shared-libs/python3.7/py/lib/python3.7/site-packages (from requests->folium>=0.11.0->geemap) (1.26.5)\nRequirement already satisfied: chardet<5,>=3.0.2 in /shared-libs/python3.7/py/lib/python3.7/site-packages (from requests->folium>=0.11.0->geemap) (3.0.4)\nRequirement already satisfied: notebook>=4.4.1 in /shared-libs/python3.7/py-core/lib/python3.7/site-packages (from widgetsnbextension~=3.5.0->ipywidgets<8,>=7.6.0->ipyleaflet>=0.14.0->geemap) (7.0.0.dev0)\nRequirement already satisfied: pyzmq>=17 in /shared-libs/python3.7/py-core/lib/python3.7/site-packages (from notebook>=4.4.1->widgetsnbextension~=3.5.0->ipywidgets<8,>=7.6.0->ipyleaflet>=0.14.0->geemap) (22.1.0)\nRequirement already satisfied: Send2Trash>=1.5.0 in /shared-libs/python3.7/py-core/lib/python3.7/site-packages (from notebook>=4.4.1->widgetsnbextension~=3.5.0->ipywidgets<8,>=7.6.0->ipyleaflet>=0.14.0->geemap) (1.5.0)\nRequirement already satisfied: nbconvert in /shared-libs/python3.7/py-core/lib/python3.7/site-packages (from notebook>=4.4.1->widgetsnbextension~=3.5.0->ipywidgets<8,>=7.6.0->ipyleaflet>=0.14.0->geemap) (6.0.7)\nRequirement already satisfied: terminado>=0.8.3 in /shared-libs/python3.7/py-core/lib/python3.7/site-packages (from notebook>=4.4.1->widgetsnbextension~=3.5.0->ipywidgets<8,>=7.6.0->ipyleaflet>=0.14.0->geemap) (0.10.1)\nRequirement already satisfied: argon2-cffi in /shared-libs/python3.7/py-core/lib/python3.7/site-packages (from notebook>=4.4.1->widgetsnbextension~=3.5.0->ipywidgets<8,>=7.6.0->ipyleaflet>=0.14.0->geemap) (20.1.0)\nRequirement already satisfied: prometheus-client in /shared-libs/python3.7/py-core/lib/python3.7/site-packages (from notebook>=4.4.1->widgetsnbextension~=3.5.0->ipywidgets<8,>=7.6.0->ipyleaflet>=0.14.0->geemap) (0.11.0)\nRequirement already satisfied: python-dateutil>=2.1 in /shared-libs/python3.7/py-core/lib/python3.7/site-packages (from jupyter-client->ipykernel>=4.5.1->ipywidgets<8,>=7.6.0->ipyleaflet>=0.14.0->geemap) (2.8.1)\nRequirement already satisfied: cffi>=1.0.0 in /shared-libs/python3.7/py-core/lib/python3.7/site-packages (from argon2-cffi->notebook>=4.4.1->widgetsnbextension~=3.5.0->ipywidgets<8,>=7.6.0->ipyleaflet>=0.14.0->geemap) (1.14.5)\nRequirement already satisfied: pycparser in /shared-libs/python3.7/py-core/lib/python3.7/site-packages (from cffi>=1.0.0->argon2-cffi->notebook>=4.4.1->widgetsnbextension~=3.5.0->ipywidgets<8,>=7.6.0->ipyleaflet>=0.14.0->geemap) (2.20)\nCollecting ratelim\n  Downloading ratelim-0.1.6-py2.py3-none-any.whl (4.0 kB)\nRequirement already satisfied: google-cloud-core<2.0dev,>=1.4.1 in /shared-libs/python3.7/py/lib/python3.7/site-packages (from google-cloud-storage->earthengine-api>=0.1.230->geemap) (1.7.0)\nRequirement already satisfied: google-resumable-media<2.0dev,>=1.3.0 in /shared-libs/python3.7/py/lib/python3.7/site-packages (from google-cloud-storage->earthengine-api>=0.1.230->geemap) (1.3.0)\nRequirement already satisfied: google-crc32c<2.0dev,>=1.0 in /shared-libs/python3.7/py/lib/python3.7/site-packages (from google-resumable-media<2.0dev,>=1.3.0->google-cloud-storage->earthengine-api>=0.1.230->geemap) (1.1.2)\nRequirement already satisfied: zipp>=0.5 in /shared-libs/python3.7/py-core/lib/python3.7/site-packages (from importlib-metadata->jsonschema!=2.5.0,>=2.4->nbformat>=4.2.0->ipywidgets<8,>=7.6.0->ipyleaflet>=0.14.0->geemap) (3.4.1)\nRequirement already satisfied: typing-extensions>=3.6.4 in /shared-libs/python3.7/py-core/lib/python3.7/site-packages (from importlib-metadata->jsonschema!=2.5.0,>=2.4->nbformat>=4.2.0->ipywidgets<8,>=7.6.0->ipyleaflet>=0.14.0->geemap) (3.10.0.0)\nRequirement already satisfied: kiwisolver>=1.0.1 in /shared-libs/python3.7/py/lib/python3.7/site-packages (from matplotlib->geemap) (1.3.1)\nRequirement already satisfied: cycler>=0.10 in /shared-libs/python3.7/py/lib/python3.7/site-packages (from matplotlib->geemap) (0.10.0)\nRequirement already satisfied: defusedxml in /shared-libs/python3.7/py-core/lib/python3.7/site-packages (from nbconvert->notebook>=4.4.1->widgetsnbextension~=3.5.0->ipywidgets<8,>=7.6.0->ipyleaflet>=0.14.0->geemap) (0.7.1)\nRequirement already satisfied: mistune<2,>=0.8.1 in /shared-libs/python3.7/py-core/lib/python3.7/site-packages (from nbconvert->notebook>=4.4.1->widgetsnbextension~=3.5.0->ipywidgets<8,>=7.6.0->ipyleaflet>=0.14.0->geemap) (0.8.4)\nRequirement already satisfied: nbclient<0.6.0,>=0.5.0 in /shared-libs/python3.7/py-core/lib/python3.7/site-packages (from nbconvert->notebook>=4.4.1->widgetsnbextension~=3.5.0->ipywidgets<8,>=7.6.0->ipyleaflet>=0.14.0->geemap) (0.5.3)\nRequirement already satisfied: pandocfilters>=1.4.1 in /shared-libs/python3.7/py-core/lib/python3.7/site-packages (from nbconvert->notebook>=4.4.1->widgetsnbextension~=3.5.0->ipywidgets<8,>=7.6.0->ipyleaflet>=0.14.0->geemap) (1.4.3)\nRequirement already satisfied: bleach in /shared-libs/python3.7/py-core/lib/python3.7/site-packages (from nbconvert->notebook>=4.4.1->widgetsnbextension~=3.5.0->ipywidgets<8,>=7.6.0->ipyleaflet>=0.14.0->geemap) (3.3.0)\nRequirement already satisfied: testpath in /shared-libs/python3.7/py-core/lib/python3.7/site-packages (from nbconvert->notebook>=4.4.1->widgetsnbextension~=3.5.0->ipywidgets<8,>=7.6.0->ipyleaflet>=0.14.0->geemap) (0.5.0)\nRequirement already satisfied: entrypoints>=0.2.2 in /shared-libs/python3.7/py-core/lib/python3.7/site-packages (from nbconvert->notebook>=4.4.1->widgetsnbextension~=3.5.0->ipywidgets<8,>=7.6.0->ipyleaflet>=0.14.0->geemap) (0.3)\nRequirement already satisfied: jupyterlab-pygments in /shared-libs/python3.7/py-core/lib/python3.7/site-packages (from nbconvert->notebook>=4.4.1->widgetsnbextension~=3.5.0->ipywidgets<8,>=7.6.0->ipyleaflet>=0.14.0->geemap) (0.1.2)\nRequirement already satisfied: nest-asyncio in /shared-libs/python3.7/py-core/lib/python3.7/site-packages (from nbclient<0.6.0,>=0.5.0->nbconvert->notebook>=4.4.1->widgetsnbextension~=3.5.0->ipywidgets<8,>=7.6.0->ipyleaflet>=0.14.0->geemap) (1.5.1)\nRequirement already satisfied: async-generator in /shared-libs/python3.7/py-core/lib/python3.7/site-packages (from nbclient<0.6.0,>=0.5.0->nbconvert->notebook>=4.4.1->widgetsnbextension~=3.5.0->ipywidgets<8,>=7.6.0->ipyleaflet>=0.14.0->geemap) (1.10)\nRequirement already satisfied: webencodings in /shared-libs/python3.7/py-core/lib/python3.7/site-packages (from bleach->nbconvert->notebook>=4.4.1->widgetsnbextension~=3.5.0->ipywidgets<8,>=7.6.0->ipyleaflet>=0.14.0->geemap) (0.5.1)\nRequirement already satisfied: plotly in /shared-libs/python3.7/py/lib/python3.7/site-packages (from sankee->geemap) (4.14.3)\nRequirement already satisfied: retrying>=1.3.3 in /shared-libs/python3.7/py/lib/python3.7/site-packages (from plotly->sankee->geemap) (1.3.3)\nCollecting jupyter-server<2.0.0,>=0.3.0\n  Downloading jupyter_server-1.8.0-py3-none-any.whl (382 kB)\n\u001b[K     |████████████████████████████████| 382 kB 48.9 MB/s \n\u001b[?25hCollecting websocket-client\n  Downloading websocket_client-1.1.0-py2.py3-none-any.whl (68 kB)\n\u001b[K     |████████████████████████████████| 68 kB 14.1 MB/s \n\u001b[?25hCollecting anyio<4,>=3.1.0\n  Downloading anyio-3.2.1-py3-none-any.whl (75 kB)\n\u001b[K     |████████████████████████████████| 75 kB 9.4 MB/s \n\u001b[?25hCollecting sniffio>=1.1\n  Downloading sniffio-1.2.0-py3-none-any.whl (10 kB)\nCollecting whitebox\n  Downloading whitebox-1.5.1-py2.py3-none-any.whl (67 kB)\n\u001b[K     |████████████████████████████████| 67 kB 13.0 MB/s \n\u001b[?25hBuilding wheels for collected packages: earthengine-api, pyshp, httplib2shim, ipynb-py-convert, pycrs\n  Building wheel for earthengine-api (setup.py) ... \u001b[?25ldone\n\u001b[?25h  Created wheel for earthengine-api: filename=earthengine_api-0.1.270-py3-none-any.whl size=175874 sha256=daaa6c6a0848f3dbd7b386ac33668370bf13d7d0f27be45d842ea5681683bcbb\n  Stored in directory: /root/.cache/pip/wheels/d5/bc/1c/2bc6cb95f1e5e3f7dc7f7eda54f3c6e4c6c810af846394dfef\n  Building wheel for pyshp (setup.py) ... \u001b[?25ldone\n\u001b[?25h  Created wheel for pyshp: filename=pyshp-2.1.3-py3-none-any.whl size=37324 sha256=7882b752f3c359ea9a7623fb9461b0254858dee4835a7cda74918be6e4e2e416\n  Stored in directory: /root/.cache/pip/wheels/43/f8/87/53c8cd41545ba20e536ea29a8fcb5431b5f477ca50d5dffbbe\n  Building wheel for httplib2shim (setup.py) ... \u001b[?25ldone\n\u001b[?25h  Created wheel for httplib2shim: filename=httplib2shim-0.0.3-py2.py3-none-any.whl size=18059 sha256=2f53ed77e7161195ea23f199ea38d5b28507e3dd71234cd1e0ba9844a7f64a28\n  Stored in directory: /root/.cache/pip/wheels/b7/3d/b4/033d07bc6a387ce6e16807fe14d4b780d84c78e54dc73a3568\n  Building wheel for ipynb-py-convert (setup.py) ... \u001b[?25ldone\n\u001b[?25h  Created wheel for ipynb-py-convert: filename=ipynb_py_convert-0.4.6-py3-none-any.whl size=4640 sha256=dec98e360eef026620bf9bcc16e8515ed492592120a90c9265b120efadf65ca8\n  Stored in directory: /root/.cache/pip/wheels/af/31/a9/761b134adbbca3c92d491eff3bad785c0a0c0079695d6f0504\n  Building wheel for pycrs (setup.py) ... \u001b[?25ldone\n\u001b[?25h  Created wheel for pycrs: filename=PyCRS-1.0.2-py3-none-any.whl size=32702 sha256=90bbaf89cea69b2b26115985fdd97cc223cc5d103c0e805a8b0ca7490d0aad0f\n  Stored in directory: /root/.cache/pip/wheels/3e/ce/32/1ec0aba6b9770681a423e82f0274c57d09ad2c20c2864901f9\nSuccessfully built earthengine-api pyshp httplib2shim ipynb-py-convert pycrs\nInstalling collected packages: httplib2, widgetsnbextension, uritemplate, sniffio, jupyterlab-widgets, google-auth-httplib2, websocket-client, soupsieve, ipywidgets, httplib2shim, google-cloud-storage, google-api-python-client, anyio, whitebox, traittypes, ratelim, logzero, jupyter-server, ipytree, ipyfilechooser, earthengine-api, beautifulsoup4, whiteboxgui, voila, sankee, python-box, pyshp, pycrs, mss, ipynb-py-convert, ipyleaflet, ipyevents, googledrivedownloader, geocoder, geeadd, ffmpeg-python, colour, bqplot, geemap\nSuccessfully installed anyio-3.2.1 beautifulsoup4-4.9.3 bqplot-0.12.29 colour-0.1.5 earthengine-api-0.1.270 ffmpeg-python-0.2.0 geeadd-0.5.5 geemap-0.8.17 geocoder-1.38.1 google-api-python-client-1.12.8 google-auth-httplib2-0.1.0 google-cloud-storage-1.39.0 googledrivedownloader-0.4 httplib2-0.19.1 httplib2shim-0.0.3 ipyevents-0.8.2 ipyfilechooser-0.4.4 ipyleaflet-0.14.0 ipynb-py-convert-0.4.6 ipytree-0.2.1 ipywidgets-7.6.3 jupyter-server-1.8.0 jupyterlab-widgets-1.0.0 logzero-1.7.0 mss-6.1.0 pycrs-1.0.2 pyshp-2.1.3 python-box-5.3.0 ratelim-0.1.6 sankee-0.0.5 sniffio-1.2.0 soupsieve-2.2.1 traittypes-0.2.1 uritemplate-3.0.1 voila-0.2.10 websocket-client-1.1.0 whitebox-1.5.1 whiteboxgui-0.3.0 widgetsnbextension-3.5.1\n",
     "output_type": "stream"
    }
   ],
   "execution_count": null
  },
  {
   "cell_type": "code",
   "metadata": {
    "cell_id": "00001-ed421114-5d3b-49a7-b33c-88f0c9656ce8",
    "deepnote_to_be_reexecuted": false,
    "source_hash": "83f0f12e",
    "execution_start": 1624528307042,
    "execution_millis": 1742,
    "deepnote_cell_type": "code"
   },
   "source": "import geopandas as gpd\nimport numpy as np\nimport pandas as pd\nimport geemap\n# geemap.update_package()\nimport ee",
   "outputs": [],
   "execution_count": null
  },
  {
   "cell_type": "code",
   "metadata": {
    "scrolled": true,
    "cell_id": "00002-f9059283-c5e8-447c-b186-24545d3bbaba",
    "deepnote_to_be_reexecuted": false,
    "source_hash": "28583446",
    "execution_start": 1624528318548,
    "execution_millis": 20199,
    "deepnote_cell_type": "code"
   },
   "source": "ee.Authenticate()\nee.Initialize()",
   "outputs": [
    {
     "data": {
      "text/plain": "<IPython.core.display.HTML object>",
      "text/html": "<p>To authorize access needed by Earth Engine, open the following\n        URL in a web browser and follow the instructions:</p>\n        <p><a href=https://accounts.google.com/o/oauth2/auth?client_id=517222506229-vsmmajv00ul0bs7p89v5m89qs8eb9359.apps.googleusercontent.com&scope=https%3A%2F%2Fwww.googleapis.com%2Fauth%2Fearthengine+https%3A%2F%2Fwww.googleapis.com%2Fauth%2Fdevstorage.full_control&redirect_uri=urn%3Aietf%3Awg%3Aoauth%3A2.0%3Aoob&response_type=code&code_challenge=4MgREtBs9R8IaHz48X312K6mjMZWXJpMPSoEZ0uxKF0&code_challenge_method=S256>https://accounts.google.com/o/oauth2/auth?client_id=517222506229-vsmmajv00ul0bs7p89v5m89qs8eb9359.apps.googleusercontent.com&scope=https%3A%2F%2Fwww.googleapis.com%2Fauth%2Fearthengine+https%3A%2F%2Fwww.googleapis.com%2Fauth%2Fdevstorage.full_control&redirect_uri=urn%3Aietf%3Awg%3Aoauth%3A2.0%3Aoob&response_type=code&code_challenge=4MgREtBs9R8IaHz48X312K6mjMZWXJpMPSoEZ0uxKF0&code_challenge_method=S256</a></p>\n        <p>The authorization workflow will generate a code, which you\n        should paste in the box below</p>\n        "
     },
     "metadata": {},
     "output_type": "display_data"
    },
    {
     "name": "stdout",
     "text": "\nSuccessfully saved authorization token.\n",
     "output_type": "stream"
    }
   ],
   "execution_count": null
  },
  {
   "cell_type": "code",
   "metadata": {
    "cell_id": "00003-d4cff4d7-5135-41c3-a5d1-c3e2fcff2fb5",
    "deepnote_to_be_reexecuted": false,
    "source_hash": "b294b83d",
    "execution_start": 1624528342826,
    "execution_millis": 0,
    "deepnote_cell_type": "code"
   },
   "source": "#function to plot dictionaries in python with dropdowns\nimport uuid\nfrom IPython.display import display_javascript, display_html, display\nimport json\n\nclass RenderJSON(object):\n    def __init__(self, json_data):\n        if isinstance(json_data, dict):\n            self.json_str = json.dumps(json_data)\n        else:\n            self.json_str = json\n        self.uuid = str(uuid.uuid4())\n        \n    def _ipython_display_(self):\n        display_html('<div id=\"{}\" style=\"height: 600px; width:100%;\"></div>'.format(self.uuid),\n            raw=True\n        )\n        display_javascript(\"\"\"\n        require([\"https://rawgit.com/caldwell/renderjson/master/renderjson.js\"], function() {\n          document.getElementById('%s').appendChild(renderjson(%s))\n        });\n        \"\"\" % (self.uuid, self.json_str), raw=True)",
   "outputs": [],
   "execution_count": null
  },
  {
   "cell_type": "markdown",
   "source": "### Add map",
   "metadata": {
    "cell_id": "00004-8b9c9657-8b27-4433-a93b-f76b0d509c2c",
    "deepnote_cell_type": "markdown"
   }
  },
  {
   "cell_type": "code",
   "metadata": {
    "scrolled": false,
    "cell_id": "00005-06eb5294-5fc7-4509-a332-7ebd3fc7f3c7",
    "deepnote_to_be_reexecuted": false,
    "source_hash": "6ef19af4",
    "execution_start": 1624528346747,
    "execution_millis": 620,
    "deepnote_cell_type": "code"
   },
   "source": "Map = geemap.Map()\nMap.addLayerControl()\nMap",
   "outputs": [
    {
     "output_type": "clearOutput"
    },
    {
     "data": {
      "text/plain": "Map(center=[40, -100], controls=(WidgetControl(options=['position', 'transparent_bg'], widget=HBox(children=(T…",
      "application/vnd.jupyter.widget-view+json": {
       "version_major": 2,
       "version_minor": 0,
       "model_id": "602ed9b8cc2e41f0be78e8e4c905f3bb"
      }
     },
     "metadata": {},
     "output_type": "display_data"
    }
   ],
   "execution_count": null
  },
  {
   "cell_type": "markdown",
   "source": "### Load in study area",
   "metadata": {
    "cell_id": "00006-6bab9650-0f30-4977-9940-f353facb5474",
    "deepnote_cell_type": "markdown"
   }
  },
  {
   "cell_type": "code",
   "metadata": {
    "cell_id": "00007-6eb308ff-5960-4b5e-b5ce-425e6721bb7a",
    "deepnote_to_be_reexecuted": false,
    "source_hash": "a7189e90",
    "execution_start": 1624528356112,
    "execution_millis": 508,
    "deepnote_cell_type": "code"
   },
   "source": "knp = ee.FeatureCollection('users/jdmwhite/KNP_study_area')\nMap.centerObject(knp)\nMap.addLayer(knp, {}, 'knp')",
   "outputs": [],
   "execution_count": null
  },
  {
   "cell_type": "markdown",
   "source": "### Load in variables",
   "metadata": {
    "cell_id": "00008-9d0897c6-fc53-412f-a2ed-7e8539f4ebec",
    "deepnote_cell_type": "markdown"
   }
  },
  {
   "cell_type": "markdown",
   "source": "#### Set-up date variables",
   "metadata": {
    "cell_id": "00009-72ea640a-a094-44c0-b267-b725a9ea26f8",
    "deepnote_cell_type": "markdown"
   }
  },
  {
   "cell_type": "code",
   "metadata": {
    "cell_id": "00010-6fd10426-e4a1-4335-a233-c0459c62e29e",
    "deepnote_cell_type": "code"
   },
   "source": "startDate = ee.Date('2013-01-01')\nendDate = ee.Date('2013-12-01')",
   "outputs": [],
   "execution_count": null
  },
  {
   "cell_type": "code",
   "metadata": {
    "cell_id": "00011-1a945031-a499-4a9e-9640-bc18b12a2f52",
    "deepnote_cell_type": "code"
   },
   "source": "# L7 EVI\n\n# Cloud mask\ndef cloudMaskL457(image):\n  qa = image.select('pixel_qa') ##substitiu a band FMASK\n  cloud1 = qa.bitwiseAnd(1<<5).eq(0)\n  cloud2 = qa.bitwiseAnd(1<<7).eq(0)\n  cloud3 = qa.bitwiseAnd(1<<3).eq(0)\n\n  mask2 = image.mask().reduce(ee.Reducer.min());\n  return image.updateMask(cloud1).updateMask(cloud2).updateMask(cloud3).updateMask(mask2).divide(10000).copyProperties(image, [\"system:time_start\"])\n\n# Compute the EVI using an expression.\ndef evi_calc(image):\n    evi = image.expression('2.5 * ((NIR - RED) / (NIR + 6 * RED - 7.5 * BLUE + 1))', {\n        'NIR': image.select('B5'),\n        'RED': image.select('B4'),\n        'BLUE': image.select('B2')\n    }).rename('evi')\n    return image.addBands(evi)\n\nl7 = ee.ImageCollection('LANDSAT/LE07/C01/T1_SR').filterDate(startDate, endDate).map(cloudMaskL457).filterBounds(knp);\nl7_evi = l7.map(evi_calc)\n\n#Get information about the bands as a list.\nbandNames = l7_evi.first().bandNames()\nprint('Band names: '+str(bandNames.getInfo())) # ee.List of band names\n\nvisParams = {\n  'bands': ['B3', 'B2', 'B1'],\n  'min': 0,\n  'max': 0.3,\n  'gamma': 1.4,\n};\n# Map.addLayer(l7_evi.median().clip(knp), visParams, 'l7 rgb');\n# Map.addLayer(l7_evi.select('evi').mean().clip(knp), {'min': -1, 'max':1, 'palette': ['red','yellow','green']}, 'l7 evi');\n\nevi_l7 = l7_evi.select('evi').mean()",
   "outputs": [
    {
     "name": "stdout",
     "output_type": "stream",
     "text": "Band names: ['B1', 'B2', 'B3', 'B4', 'B5', 'B6', 'B7', 'sr_atmos_opacity', 'sr_cloud_qa', 'pixel_qa', 'radsat_qa', 'evi']\n"
    }
   ],
   "execution_count": null
  },
  {
   "cell_type": "code",
   "metadata": {
    "cell_id": "00012-c5209d3d-7da3-4619-90c4-0461a1b38e28",
    "deepnote_cell_type": "code"
   },
   "source": "# MODIS EVI\nsummerStart = ee.Date('2012-11-01')\nsummerEnd = ee.Date('2013-04-01')\nwinterStart = ee.Date('2013-05-01')\nwinterEnd = ee.Date('2013-10-01')\n\nmodis_evi_summer = ee.ImageCollection(\"MODIS/006/MOD13Q1\").filterDate(summerStart, summerEnd).select('EVI').mean().multiply(0.0001).clip(knp)\nmodis_evi_winter = ee.ImageCollection(\"MODIS/006/MOD13Q1\").filterDate(winterStart, winterEnd).select('EVI').mean().multiply(0.0001).clip(knp)\n\n# Map.addLayer(modis_evi_summer, {'min': 0, 'max':1, 'palette': ['yellow','green']}, 'modis evi summer')\n# Map.addLayer(modis_evi_winter, {'min': 0, 'max':1, 'palette': ['yellow','green']}, 'modis evi winter')",
   "outputs": [],
   "execution_count": null
  },
  {
   "cell_type": "markdown",
   "source": "#### Temperature",
   "metadata": {
    "cell_id": "00013-a7fe3896-2361-40ea-b504-fe0b322454bc",
    "deepnote_cell_type": "markdown"
   }
  },
  {
   "cell_type": "code",
   "metadata": {
    "cell_id": "00014-f753c395-063b-4189-98e3-4938f996f306",
    "deepnote_cell_type": "code"
   },
   "source": "# Temperature from Bioclim\nbio_minT = ee.Image(\"WORLDCLIM/V1/BIO\").select([\"bio06\"]).multiply(0.1).rename('bio_minT').clip(knp)\nbio_maxT = ee.Image(\"WORLDCLIM/V1/BIO\").select([\"bio05\"]).multiply(0.1).rename('bio_maxT').clip(knp)\n# Map.addLayer(bio_minT,{'min':5,'max':10, 'palette':['440154', '481567', '482677', '453781', '404788', '39568C', '33638D', '2D708E', '287D8E', '238A8D', '1F968B', '20A387', '29AF7F', '3CBB75', '55C667', '73D055', '95D840', 'B8DE29', 'DCE319', 'FDE725']},'bio_minT')",
   "outputs": [],
   "execution_count": null
  },
  {
   "cell_type": "code",
   "metadata": {
    "cell_id": "00015-f25cfeaf-a815-447e-822f-4214c8d62d95",
    "deepnote_cell_type": "code"
   },
   "source": "# Temperature from TerraClim\nter_minT = ee.ImageCollection(\"IDAHO_EPSCOR/TERRACLIMATE\").select(['tmmn']).filterDate(startDate,endDate).min().multiply(0.1).rename('ter_minT').clip(knp)\nter_maxT = ee.ImageCollection(\"IDAHO_EPSCOR/TERRACLIMATE\").select(['tmmx']).filterDate(startDate,endDate).max().multiply(0.1).rename('ter_maxT').clip(knp)\n# Map.addLayer(ter_minT,{'min':5,'max':10, 'palette':['440154', '481567', '482677', '453781', '404788', '39568C', '33638D', '2D708E', '287D8E', '238A8D', '1F968B', '20A387', '29AF7F', '3CBB75', '55C667', '73D055', '95D840', 'B8DE29', 'DCE319', 'FDE725']},'ter_minT')\n\n# Note, unless we want to pull out the coldest month value from terraClim, it is probably easiest to use bioclim temps",
   "outputs": [],
   "execution_count": null
  },
  {
   "cell_type": "markdown",
   "source": "#### Rainfall",
   "metadata": {
    "cell_id": "00016-ea14ee89-5858-495f-ab7f-3ca1983d357f",
    "deepnote_cell_type": "markdown"
   }
  },
  {
   "cell_type": "code",
   "metadata": {
    "cell_id": "00017-23aa8df7-3a84-4f30-9ad9-336ced891a59",
    "deepnote_cell_type": "code"
   },
   "source": "# Rainfall from Bioclim\nbio_annP = ee.Image(\"WORLDCLIM/V1/BIO\").select([\"bio12\"]).rename('bio_annP').clip(knp)\nbio_Pwq = ee.Image(\"WORLDCLIM/V1/BIO\").select([\"bio16\"]).rename('bio_Pwq').clip(knp)\nbio_Pdq = ee.Image(\"WORLDCLIM/V1/BIO\").select([\"bio17\"]).rename('bio_Pdq').clip(knp)\n# Map.addLayer(bio_annP,{'min':300,'max':1000, 'palette':['white','blue']},'bio_annP')",
   "outputs": [],
   "execution_count": null
  },
  {
   "cell_type": "code",
   "metadata": {
    "cell_id": "00018-02e3878f-3476-43bf-a328-6e2e574c1c0d",
    "deepnote_cell_type": "code"
   },
   "source": "# Rainfall from TerraClim\nter_annP = ee.ImageCollection(\"IDAHO_EPSCOR/TERRACLIMATE\").select(['pr']).filterDate(startDate,endDate).sum().rename('ter_annP').clip(knp)\n# Map.addLayer(ter_annP,{'min':300,'max':1000, 'palette':['white','blue']},'ter_annP')\n\n# Bioclim has more detail, but seems to have very similar pattern... again probably use bioclim here",
   "outputs": [],
   "execution_count": null
  },
  {
   "cell_type": "markdown",
   "source": "#### Topography",
   "metadata": {
    "cell_id": "00019-b56b2ea5-4c8f-4a4f-9bb0-f345193fee41",
    "deepnote_cell_type": "markdown"
   }
  },
  {
   "cell_type": "code",
   "metadata": {
    "cell_id": "00020-63d1c2fc-7a1b-4526-a1b7-725b77b6ae82",
    "deepnote_cell_type": "code"
   },
   "source": "# elevation\nelevation = ee.Image(\"NASA/NASADEM_HGT/001\").select('elevation').clip(knp)\n# Map.addLayer(elevation,{'min':0,'max':1000},'elevation')",
   "outputs": [],
   "execution_count": null
  },
  {
   "cell_type": "code",
   "metadata": {
    "cell_id": "00021-240d0a57-5e83-43ca-a6ce-43fa78368f1d",
    "deepnote_cell_type": "code"
   },
   "source": "# geomorpho90m\ncti = ee.ImageCollection(\"projects/sat-io/open-datasets/Geomorpho90m/cti\").median().clip(knp)\ntri = ee.ImageCollection(\"projects/sat-io/open-datasets/Geomorpho90m/tri\").median().clip(knp)\nslope = ee.ImageCollection(\"projects/sat-io/open-datasets/Geomorpho90m/slope\").median().clip(knp)\nvrm = ee.ImageCollection(\"projects/sat-io/open-datasets/Geomorpho90m/vrm\").median().clip(knp)\nroughness = ee.ImageCollection(\"projects/sat-io/open-datasets/Geomorpho90m/roughness\").median().clip(knp)\ntpi = ee.ImageCollection(\"projects/sat-io/open-datasets/Geomorpho90m/tpi\").median().clip(knp)\nspi = ee.ImageCollection(\"projects/sat-io/open-datasets/Geomorpho90m/spi\").median().clip(knp)\n# Map.addLayer(roughness, {}, 'cti')\n\n# See other available vars: https://www.nature.com/articles/s41597-020-0479-6/tables/2",
   "outputs": [],
   "execution_count": null
  },
  {
   "cell_type": "code",
   "metadata": {
    "cell_id": "00022-dc483de6-6702-4943-986e-064ed5ffa134",
    "deepnote_cell_type": "code"
   },
   "source": "# microclimate CHILI\nchili = ee.Image('CSP/ERGo/1_0/Global/SRTM_CHILI').rename('CHILI').clip(knp)\n# Map.addLayer(chili,{},'CHILI')",
   "outputs": [],
   "execution_count": null
  },
  {
   "cell_type": "code",
   "metadata": {
    "cell_id": "00023-ce1a118a-f271-4d4b-99cc-5bc07a858788",
    "deepnote_cell_type": "code"
   },
   "source": "# topographic diversity\ntopD = ee.Image('CSP/ERGo/1_0/Global/SRTM_topoDiversity').rename('topD').clip(knp)\n# Map.addLayer(topD,{},'topographic diversity')",
   "outputs": [],
   "execution_count": null
  },
  {
   "cell_type": "markdown",
   "source": "#### Soils",
   "metadata": {
    "cell_id": "00024-91eb315a-a032-45bc-8ef5-bbd972e1b330",
    "deepnote_cell_type": "markdown"
   }
  },
  {
   "cell_type": "code",
   "metadata": {
    "cell_id": "00025-5bc2e5fd-d5c8-4787-81a9-63fc0351fdc3",
    "deepnote_cell_type": "code"
   },
   "source": "# Soil Grids 250m\nbdod_mean = ee.Image(\"projects/soilgrids-isric/bdod_mean\").select('bdod_0-5cm_mean').clip(knp)\ncec = ee.Image(\"projects/soilgrids-isric/cec_mean\").select('cec_0-5cm_mean').clip(knp)\nfvo = ee.Image(\"projects/soilgrids-isric/cfvo_mean\").select('cfvo_0-5cm_mean').clip(knp)\nclay = ee.Image(\"projects/soilgrids-isric/clay_mean\").select('clay_0-5cm_mean').clip(knp)\nsand = ee.Image(\"projects/soilgrids-isric/sand_mean\").select('sand_0-5cm_mean').clip(knp)\nsilt = ee.Image(\"projects/soilgrids-isric/silt_mean\").select('silt_0-5cm_mean').clip(knp)\nnitrogen = ee.Image(\"projects/soilgrids-isric/nitrogen_mean\").select('nitrogen_0-5cm_mean').clip(knp)\nphh20 = ee.Image(\"projects/soilgrids-isric/phh20_mean\").select('phh20_0-5cm_mean').clip(knp)\nsoc = ee.Image(\"projects/soilgrids-isric/soc_mean\").select('soc_0-5cm_mean').clip(knp)\nocd = ee.Image(\"projects/soilgrids-isric/ocd_mean\").select('ocd_0-5cm_mean').clip(knp)\nocs = ee.Image(\"projects/soilgrids-isric/ocs_mean\").select('ocs_0-5cm_mean').clip(knp)\n# Map.addLayer(nitrogen,{'min':1000,'max':2000, 'palette':['white','red']},'nitrogen')",
   "outputs": [],
   "execution_count": null
  },
  {
   "cell_type": "code",
   "metadata": {
    "cell_id": "00026-fbb0e85c-fe7d-4b91-b004-bb790a2bc1b4",
    "deepnote_cell_type": "code"
   },
   "source": "# HiHydro Layers 250m\nksat = ee.ImageCollection(\"projects/sat-io/open-datasets/HiHydroSoilv2_0/ksat\").first().multiply(0.0001).rename('ksat').clip(knp)\nsatfield = ee.ImageCollection(\"projects/sat-io/open-datasets/HiHydroSoilv2_0/sat-field\").first().multiply(0.0001).rename('satfield').clip(knp)\nN = ee.ImageCollection(\"projects/sat-io/open-datasets/HiHydroSoilv2_0/N\").first().multiply(0.0001).rename('N').clip(knp)\nalpha = ee.ImageCollection(\"projects/sat-io/open-datasets/HiHydroSoilv2_0/alpha\").first().multiply(0.0001).rename('alpha').clip(knp)\ncrit_wilt = ee.ImageCollection(\"projects/sat-io/open-datasets/HiHydroSoilv2_0/crit-wilt\").first().multiply(0.0001).rename('critwilt').clip(knp)\nfield_cirt = ee.ImageCollection(\"projects/sat-io/open-datasets/HiHydroSoilv2_0/field-crit\").first().multiply(0.0001).rename('fieldcrit').clip(knp)\normc = ee.ImageCollection(\"projects/sat-io/open-datasets/HiHydroSoilv2_0/ormc\").first().multiply(0.0001).rename('ormc').clip(knp)\nstc = ee.ImageCollection(\"projects/sat-io/open-datasets/HiHydroSoilv2_0/stc\").first().multiply(0.0001).rename('stc').clip(knp)\nwcavail = ee.ImageCollection(\"projects/sat-io/open-datasets/HiHydroSoilv2_0/wcavail\").first().multiply(0.0001).rename('wcavail').clip(knp)\nwcpf2 = ee.ImageCollection(\"projects/sat-io/open-datasets/HiHydroSoilv2_0/wcpf2\").first().multiply(0.0001).rename('wcpf2').clip(knp)\nwcpf3 = ee.ImageCollection(\"projects/sat-io/open-datasets/HiHydroSoilv2_0/wcpf3\").first().multiply(0.0001).rename('wcpf3').clip(knp)\nwcpf4_2 = ee.ImageCollection(\"projects/sat-io/open-datasets/HiHydroSoilv2_0/wcpf4-2\").first().multiply(0.0001).rename('wcpf4-2').clip(knp)\nwcres = ee.ImageCollection(\"projects/sat-io/open-datasets/HiHydroSoilv2_0/wcres\").first().multiply(0.0001).rename('wcres').clip(knp)\nwcsat = ee.ImageCollection(\"projects/sat-io/open-datasets/HiHydroSoilv2_0/wcsat\").first().multiply(0.0001).rename('wcsat').clip(knp)\n# Map.addLayer(ksat, {}, 'ksat')",
   "outputs": [],
   "execution_count": null
  },
  {
   "cell_type": "code",
   "metadata": {
    "cell_id": "00027-a2dd8e23-51b1-4156-b209-6a9252ae1e84",
    "deepnote_cell_type": "code"
   },
   "source": "# Venter SOC 30m\nsoc_vent = ee.Image('projects/sat-io/open-datasets/NINA/SOC30_SA_mean/SOC_mean_30m_3').divide(100).rename('soc_vent').clip(knp)\n# Map.addLayer(soc_vent, {'min': 0, 'max': 16}, 'soc_vent')",
   "outputs": [],
   "execution_count": null
  },
  {
   "cell_type": "code",
   "metadata": {
    "cell_id": "00028-05a36254-06e5-4097-a4cd-bf6ace03f46d",
    "deepnote_cell_type": "code"
   },
   "source": "# Hengl Africa Soils 30m\nbedrock_depth = ee.Image(\"projects/sat-io/open-datasets/iSDAsoil_Africa_30m/bedrock_depth\").select('b1').rename('H_bed_depth').clip(knp)\nbulk_density = ee.Image(\"projects/sat-io/open-datasets/iSDAsoil_Africa_30m/bulk_density\").select('b1').rename('H_bulk_dens').clip(knp)\ncarbon_organic = ee.Image(\"projects/sat-io/open-datasets/iSDAsoil_Africa_30m/carbon_organic\").select('b1').rename('H_carb_org').clip(knp)\ncarbon_total = ee.Image(\"projects/sat-io/open-datasets/iSDAsoil_Africa_30m/carbon_total\").select('b1').rename('H_carb_tot').clip(knp)\ncation_exchange_capacity = ee.Image(\"projects/sat-io/open-datasets/iSDAsoil_Africa_30m/cation_exchange_capacity\").select('b1').rename('H_cec').clip(knp)\nclay_content = ee.Image(\"projects/sat-io/open-datasets/iSDAsoil_Africa_30m/clay_content\").select('b1').rename('H_clay').clip(knp)\nfertility_capability_classification = ee.Image(\"projects/sat-io/open-datasets/iSDAsoil_Africa_30m/fcc\").select('b1').rename('H_fcc').clip(knp)\nnitrogen_total = ee.Image(\"projects/sat-io/open-datasets/iSDAsoil_Africa_30m/nitrogen_total\").select('b1').rename('H_N_tot').clip(knp)\nph = ee.Image(\"projects/sat-io/open-datasets/iSDAsoil_Africa_30m/ph\").select('b1').rename('H_ph').clip(knp)\nsand_content = ee.Image(\"projects/sat-io/open-datasets/iSDAsoil_Africa_30m/sand_content\").select('b1').rename('H_sand').clip(knp)\nsilt_content = ee.Image(\"projects/sat-io/open-datasets/iSDAsoil_Africa_30m/silt_content\").select('b1').rename('H_silt').clip(knp)\nstone_content = ee.Image(\"projects/sat-io/open-datasets/iSDAsoil_Africa_30m/stone_content\").select('b1').rename('H_stone').clip(knp)\ntexture_class = ee.Image(\"projects/sat-io/open-datasets/iSDAsoil_Africa_30m/texture_class\").select('b1').rename('H_text_class').clip(knp)\n\n# Map.addLayer(bedrock_depth, {}, 'bedrock_depth')",
   "outputs": [],
   "execution_count": null
  },
  {
   "cell_type": "code",
   "metadata": {
    "cell_id": "00029-785ddb0f-17dc-4e7a-a9dd-5460583c5e35",
    "deepnote_cell_type": "code"
   },
   "source": "# TerraClim soil moisture content\nter_smc = ee.ImageCollection(\"IDAHO_EPSCOR/TERRACLIMATE\").select(['soil']).filterDate(startDate,endDate).mean().multiply(0.1).rename('ter_smc').clip(knp)\n\nMap.addLayer(ter_smc, {}, 'smc')",
   "outputs": [],
   "execution_count": null
  },
  {
   "cell_type": "markdown",
   "source": "<a style='text-decoration:none;line-height:16px;display:flex;color:#5B5B62;padding:10px;justify-content:end;' href='https://deepnote.com?utm_source=created-in-deepnote-cell&projectId=35d01260-f96c-43fd-ad32-af4e4f71b35c' target=\"_blank\">\n<img alt='Created in deepnote.com' style='display:inline;max-height:16px;margin:0px;margin-right:7.5px;' src='data:image/svg+xml;base64,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' > </img>\nCreated in <span style='font-weight:600;margin-left:4px;'>Deepnote</span></a>",
   "metadata": {
    "tags": [],
    "created_in_deepnote_cell": true,
    "deepnote_cell_type": "markdown"
   }
  }
 ],
 "nbformat": 4,
 "nbformat_minor": 4,
 "metadata": {
  "kernelspec": {
   "display_name": "gee",
   "language": "python",
   "name": "gee"
  },
  "language_info": {
   "codemirror_mode": {
    "name": "ipython",
    "version": 3
   },
   "file_extension": ".py",
   "mimetype": "text/x-python",
   "name": "python",
   "nbconvert_exporter": "python",
   "pygments_lexer": "ipython3",
   "version": "3.7.4"
  },
  "deepnote_notebook_id": "262d94f9-1aff-47e1-a254-f43e2061b16f",
  "deepnote": {},
  "deepnote_execution_queue": []
 }
}